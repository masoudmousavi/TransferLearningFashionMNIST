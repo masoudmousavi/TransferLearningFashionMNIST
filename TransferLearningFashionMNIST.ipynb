{
  "nbformat": 4,
  "nbformat_minor": 0,
  "metadata": {
    "colab": {
      "name": "ci3_fashion_mnist_ahmadi_mousavi.ipynb",
      "provenance": [],
      "collapsed_sections": []
    },
    "kernelspec": {
      "name": "python3",
      "display_name": "Python 3"
    },
    "language_info": {
      "name": "python"
    },
    "accelerator": "GPU",
    "widgets": {
      "application/vnd.jupyter.widget-state+json": {
        "6e434df155cb41d09e631ca5b766edba": {
          "model_module": "@jupyter-widgets/controls",
          "model_name": "VBoxModel",
          "model_module_version": "1.5.0",
          "state": {
            "_dom_classes": [],
            "_model_module": "@jupyter-widgets/controls",
            "_model_module_version": "1.5.0",
            "_model_name": "VBoxModel",
            "_view_count": null,
            "_view_module": "@jupyter-widgets/controls",
            "_view_module_version": "1.5.0",
            "_view_name": "VBoxView",
            "box_style": "",
            "children": [
              "IPY_MODEL_012b09e9a4aa4f48a33d45593752b04e",
              "IPY_MODEL_8e603959cde043608eb8cecf060d2d41"
            ],
            "layout": "IPY_MODEL_d67dfcdd166b4ecfa9250065c656c858"
          }
        },
        "012b09e9a4aa4f48a33d45593752b04e": {
          "model_module": "@jupyter-widgets/controls",
          "model_name": "LabelModel",
          "model_module_version": "1.5.0",
          "state": {
            "_dom_classes": [],
            "_model_module": "@jupyter-widgets/controls",
            "_model_module_version": "1.5.0",
            "_model_name": "LabelModel",
            "_view_count": null,
            "_view_module": "@jupyter-widgets/controls",
            "_view_module_version": "1.5.0",
            "_view_name": "LabelView",
            "description": "",
            "description_tooltip": null,
            "layout": "IPY_MODEL_70b717e6439c408b960bc3c220ae4916",
            "placeholder": "​",
            "style": "IPY_MODEL_5dcb09f7894f493ab4650ac165355353",
            "value": "262.724 MB of 262.724 MB uploaded (0.000 MB deduped)\r"
          }
        },
        "8e603959cde043608eb8cecf060d2d41": {
          "model_module": "@jupyter-widgets/controls",
          "model_name": "FloatProgressModel",
          "model_module_version": "1.5.0",
          "state": {
            "_dom_classes": [],
            "_model_module": "@jupyter-widgets/controls",
            "_model_module_version": "1.5.0",
            "_model_name": "FloatProgressModel",
            "_view_count": null,
            "_view_module": "@jupyter-widgets/controls",
            "_view_module_version": "1.5.0",
            "_view_name": "ProgressView",
            "bar_style": "",
            "description": "",
            "description_tooltip": null,
            "layout": "IPY_MODEL_d5f4ea337e84434eb495671423211bcb",
            "max": 1,
            "min": 0,
            "orientation": "horizontal",
            "style": "IPY_MODEL_9b2d7bce2a38499287a7b99630ac84cd",
            "value": 1
          }
        },
        "d67dfcdd166b4ecfa9250065c656c858": {
          "model_module": "@jupyter-widgets/base",
          "model_name": "LayoutModel",
          "model_module_version": "1.2.0",
          "state": {
            "_model_module": "@jupyter-widgets/base",
            "_model_module_version": "1.2.0",
            "_model_name": "LayoutModel",
            "_view_count": null,
            "_view_module": "@jupyter-widgets/base",
            "_view_module_version": "1.2.0",
            "_view_name": "LayoutView",
            "align_content": null,
            "align_items": null,
            "align_self": null,
            "border": null,
            "bottom": null,
            "display": null,
            "flex": null,
            "flex_flow": null,
            "grid_area": null,
            "grid_auto_columns": null,
            "grid_auto_flow": null,
            "grid_auto_rows": null,
            "grid_column": null,
            "grid_gap": null,
            "grid_row": null,
            "grid_template_areas": null,
            "grid_template_columns": null,
            "grid_template_rows": null,
            "height": null,
            "justify_content": null,
            "justify_items": null,
            "left": null,
            "margin": null,
            "max_height": null,
            "max_width": null,
            "min_height": null,
            "min_width": null,
            "object_fit": null,
            "object_position": null,
            "order": null,
            "overflow": null,
            "overflow_x": null,
            "overflow_y": null,
            "padding": null,
            "right": null,
            "top": null,
            "visibility": null,
            "width": null
          }
        },
        "70b717e6439c408b960bc3c220ae4916": {
          "model_module": "@jupyter-widgets/base",
          "model_name": "LayoutModel",
          "model_module_version": "1.2.0",
          "state": {
            "_model_module": "@jupyter-widgets/base",
            "_model_module_version": "1.2.0",
            "_model_name": "LayoutModel",
            "_view_count": null,
            "_view_module": "@jupyter-widgets/base",
            "_view_module_version": "1.2.0",
            "_view_name": "LayoutView",
            "align_content": null,
            "align_items": null,
            "align_self": null,
            "border": null,
            "bottom": null,
            "display": null,
            "flex": null,
            "flex_flow": null,
            "grid_area": null,
            "grid_auto_columns": null,
            "grid_auto_flow": null,
            "grid_auto_rows": null,
            "grid_column": null,
            "grid_gap": null,
            "grid_row": null,
            "grid_template_areas": null,
            "grid_template_columns": null,
            "grid_template_rows": null,
            "height": null,
            "justify_content": null,
            "justify_items": null,
            "left": null,
            "margin": null,
            "max_height": null,
            "max_width": null,
            "min_height": null,
            "min_width": null,
            "object_fit": null,
            "object_position": null,
            "order": null,
            "overflow": null,
            "overflow_x": null,
            "overflow_y": null,
            "padding": null,
            "right": null,
            "top": null,
            "visibility": null,
            "width": null
          }
        },
        "5dcb09f7894f493ab4650ac165355353": {
          "model_module": "@jupyter-widgets/controls",
          "model_name": "DescriptionStyleModel",
          "model_module_version": "1.5.0",
          "state": {
            "_model_module": "@jupyter-widgets/controls",
            "_model_module_version": "1.5.0",
            "_model_name": "DescriptionStyleModel",
            "_view_count": null,
            "_view_module": "@jupyter-widgets/base",
            "_view_module_version": "1.2.0",
            "_view_name": "StyleView",
            "description_width": ""
          }
        },
        "d5f4ea337e84434eb495671423211bcb": {
          "model_module": "@jupyter-widgets/base",
          "model_name": "LayoutModel",
          "model_module_version": "1.2.0",
          "state": {
            "_model_module": "@jupyter-widgets/base",
            "_model_module_version": "1.2.0",
            "_model_name": "LayoutModel",
            "_view_count": null,
            "_view_module": "@jupyter-widgets/base",
            "_view_module_version": "1.2.0",
            "_view_name": "LayoutView",
            "align_content": null,
            "align_items": null,
            "align_self": null,
            "border": null,
            "bottom": null,
            "display": null,
            "flex": null,
            "flex_flow": null,
            "grid_area": null,
            "grid_auto_columns": null,
            "grid_auto_flow": null,
            "grid_auto_rows": null,
            "grid_column": null,
            "grid_gap": null,
            "grid_row": null,
            "grid_template_areas": null,
            "grid_template_columns": null,
            "grid_template_rows": null,
            "height": null,
            "justify_content": null,
            "justify_items": null,
            "left": null,
            "margin": null,
            "max_height": null,
            "max_width": null,
            "min_height": null,
            "min_width": null,
            "object_fit": null,
            "object_position": null,
            "order": null,
            "overflow": null,
            "overflow_x": null,
            "overflow_y": null,
            "padding": null,
            "right": null,
            "top": null,
            "visibility": null,
            "width": null
          }
        },
        "9b2d7bce2a38499287a7b99630ac84cd": {
          "model_module": "@jupyter-widgets/controls",
          "model_name": "ProgressStyleModel",
          "model_module_version": "1.5.0",
          "state": {
            "_model_module": "@jupyter-widgets/controls",
            "_model_module_version": "1.5.0",
            "_model_name": "ProgressStyleModel",
            "_view_count": null,
            "_view_module": "@jupyter-widgets/base",
            "_view_module_version": "1.2.0",
            "_view_name": "StyleView",
            "bar_color": null,
            "description_width": ""
          }
        },
        "18a6493ff79b4522bf115c8eada83a66": {
          "model_module": "@jupyter-widgets/controls",
          "model_name": "VBoxModel",
          "model_module_version": "1.5.0",
          "state": {
            "_dom_classes": [],
            "_model_module": "@jupyter-widgets/controls",
            "_model_module_version": "1.5.0",
            "_model_name": "VBoxModel",
            "_view_count": null,
            "_view_module": "@jupyter-widgets/controls",
            "_view_module_version": "1.5.0",
            "_view_name": "VBoxView",
            "box_style": "",
            "children": [
              "IPY_MODEL_9b0c0c05d7eb40588a49e9dc01855874",
              "IPY_MODEL_b828532010f5445bad1d8b653b2131f4"
            ],
            "layout": "IPY_MODEL_5a0e9cb6aa6148049084cbba1bc51457"
          }
        },
        "9b0c0c05d7eb40588a49e9dc01855874": {
          "model_module": "@jupyter-widgets/controls",
          "model_name": "LabelModel",
          "model_module_version": "1.5.0",
          "state": {
            "_dom_classes": [],
            "_model_module": "@jupyter-widgets/controls",
            "_model_module_version": "1.5.0",
            "_model_name": "LabelModel",
            "_view_count": null,
            "_view_module": "@jupyter-widgets/controls",
            "_view_module_version": "1.5.0",
            "_view_name": "LabelView",
            "description": "",
            "description_tooltip": null,
            "layout": "IPY_MODEL_65fb59d3d2fd4986846a5951f35c0f88",
            "placeholder": "​",
            "style": "IPY_MODEL_a2690ddec14b441da4e963d6ef98a7d3",
            "value": "262.722 MB of 262.722 MB uploaded (0.000 MB deduped)\r"
          }
        },
        "b828532010f5445bad1d8b653b2131f4": {
          "model_module": "@jupyter-widgets/controls",
          "model_name": "FloatProgressModel",
          "model_module_version": "1.5.0",
          "state": {
            "_dom_classes": [],
            "_model_module": "@jupyter-widgets/controls",
            "_model_module_version": "1.5.0",
            "_model_name": "FloatProgressModel",
            "_view_count": null,
            "_view_module": "@jupyter-widgets/controls",
            "_view_module_version": "1.5.0",
            "_view_name": "ProgressView",
            "bar_style": "",
            "description": "",
            "description_tooltip": null,
            "layout": "IPY_MODEL_64667668011b450c9004cc386d4ddb94",
            "max": 1,
            "min": 0,
            "orientation": "horizontal",
            "style": "IPY_MODEL_f03a0a8791d84508827fee72ca1fe862",
            "value": 1
          }
        },
        "5a0e9cb6aa6148049084cbba1bc51457": {
          "model_module": "@jupyter-widgets/base",
          "model_name": "LayoutModel",
          "model_module_version": "1.2.0",
          "state": {
            "_model_module": "@jupyter-widgets/base",
            "_model_module_version": "1.2.0",
            "_model_name": "LayoutModel",
            "_view_count": null,
            "_view_module": "@jupyter-widgets/base",
            "_view_module_version": "1.2.0",
            "_view_name": "LayoutView",
            "align_content": null,
            "align_items": null,
            "align_self": null,
            "border": null,
            "bottom": null,
            "display": null,
            "flex": null,
            "flex_flow": null,
            "grid_area": null,
            "grid_auto_columns": null,
            "grid_auto_flow": null,
            "grid_auto_rows": null,
            "grid_column": null,
            "grid_gap": null,
            "grid_row": null,
            "grid_template_areas": null,
            "grid_template_columns": null,
            "grid_template_rows": null,
            "height": null,
            "justify_content": null,
            "justify_items": null,
            "left": null,
            "margin": null,
            "max_height": null,
            "max_width": null,
            "min_height": null,
            "min_width": null,
            "object_fit": null,
            "object_position": null,
            "order": null,
            "overflow": null,
            "overflow_x": null,
            "overflow_y": null,
            "padding": null,
            "right": null,
            "top": null,
            "visibility": null,
            "width": null
          }
        },
        "65fb59d3d2fd4986846a5951f35c0f88": {
          "model_module": "@jupyter-widgets/base",
          "model_name": "LayoutModel",
          "model_module_version": "1.2.0",
          "state": {
            "_model_module": "@jupyter-widgets/base",
            "_model_module_version": "1.2.0",
            "_model_name": "LayoutModel",
            "_view_count": null,
            "_view_module": "@jupyter-widgets/base",
            "_view_module_version": "1.2.0",
            "_view_name": "LayoutView",
            "align_content": null,
            "align_items": null,
            "align_self": null,
            "border": null,
            "bottom": null,
            "display": null,
            "flex": null,
            "flex_flow": null,
            "grid_area": null,
            "grid_auto_columns": null,
            "grid_auto_flow": null,
            "grid_auto_rows": null,
            "grid_column": null,
            "grid_gap": null,
            "grid_row": null,
            "grid_template_areas": null,
            "grid_template_columns": null,
            "grid_template_rows": null,
            "height": null,
            "justify_content": null,
            "justify_items": null,
            "left": null,
            "margin": null,
            "max_height": null,
            "max_width": null,
            "min_height": null,
            "min_width": null,
            "object_fit": null,
            "object_position": null,
            "order": null,
            "overflow": null,
            "overflow_x": null,
            "overflow_y": null,
            "padding": null,
            "right": null,
            "top": null,
            "visibility": null,
            "width": null
          }
        },
        "a2690ddec14b441da4e963d6ef98a7d3": {
          "model_module": "@jupyter-widgets/controls",
          "model_name": "DescriptionStyleModel",
          "model_module_version": "1.5.0",
          "state": {
            "_model_module": "@jupyter-widgets/controls",
            "_model_module_version": "1.5.0",
            "_model_name": "DescriptionStyleModel",
            "_view_count": null,
            "_view_module": "@jupyter-widgets/base",
            "_view_module_version": "1.2.0",
            "_view_name": "StyleView",
            "description_width": ""
          }
        },
        "64667668011b450c9004cc386d4ddb94": {
          "model_module": "@jupyter-widgets/base",
          "model_name": "LayoutModel",
          "model_module_version": "1.2.0",
          "state": {
            "_model_module": "@jupyter-widgets/base",
            "_model_module_version": "1.2.0",
            "_model_name": "LayoutModel",
            "_view_count": null,
            "_view_module": "@jupyter-widgets/base",
            "_view_module_version": "1.2.0",
            "_view_name": "LayoutView",
            "align_content": null,
            "align_items": null,
            "align_self": null,
            "border": null,
            "bottom": null,
            "display": null,
            "flex": null,
            "flex_flow": null,
            "grid_area": null,
            "grid_auto_columns": null,
            "grid_auto_flow": null,
            "grid_auto_rows": null,
            "grid_column": null,
            "grid_gap": null,
            "grid_row": null,
            "grid_template_areas": null,
            "grid_template_columns": null,
            "grid_template_rows": null,
            "height": null,
            "justify_content": null,
            "justify_items": null,
            "left": null,
            "margin": null,
            "max_height": null,
            "max_width": null,
            "min_height": null,
            "min_width": null,
            "object_fit": null,
            "object_position": null,
            "order": null,
            "overflow": null,
            "overflow_x": null,
            "overflow_y": null,
            "padding": null,
            "right": null,
            "top": null,
            "visibility": null,
            "width": null
          }
        },
        "f03a0a8791d84508827fee72ca1fe862": {
          "model_module": "@jupyter-widgets/controls",
          "model_name": "ProgressStyleModel",
          "model_module_version": "1.5.0",
          "state": {
            "_model_module": "@jupyter-widgets/controls",
            "_model_module_version": "1.5.0",
            "_model_name": "ProgressStyleModel",
            "_view_count": null,
            "_view_module": "@jupyter-widgets/base",
            "_view_module_version": "1.2.0",
            "_view_name": "StyleView",
            "bar_color": null,
            "description_width": ""
          }
        },
        "383e245d1ea243babe57449dd1c082f5": {
          "model_module": "@jupyter-widgets/controls",
          "model_name": "VBoxModel",
          "model_module_version": "1.5.0",
          "state": {
            "_dom_classes": [],
            "_model_module": "@jupyter-widgets/controls",
            "_model_module_version": "1.5.0",
            "_model_name": "VBoxModel",
            "_view_count": null,
            "_view_module": "@jupyter-widgets/controls",
            "_view_module_version": "1.5.0",
            "_view_name": "VBoxView",
            "box_style": "",
            "children": [
              "IPY_MODEL_22959757d2f74bc6922de943da833bac",
              "IPY_MODEL_c0d4e993794046a0be82d9ffa42f7f77"
            ],
            "layout": "IPY_MODEL_e2b7a28f841c41d5851d4e055a969901"
          }
        },
        "22959757d2f74bc6922de943da833bac": {
          "model_module": "@jupyter-widgets/controls",
          "model_name": "LabelModel",
          "model_module_version": "1.5.0",
          "state": {
            "_dom_classes": [],
            "_model_module": "@jupyter-widgets/controls",
            "_model_module_version": "1.5.0",
            "_model_name": "LabelModel",
            "_view_count": null,
            "_view_module": "@jupyter-widgets/controls",
            "_view_module_version": "1.5.0",
            "_view_name": "LabelView",
            "description": "",
            "description_tooltip": null,
            "layout": "IPY_MODEL_efd88b07174e46b3991bb5f621d3ed5f",
            "placeholder": "​",
            "style": "IPY_MODEL_f379df71656a43cba83984d1a65ae182",
            "value": "262.719 MB of 262.719 MB uploaded (0.000 MB deduped)\r"
          }
        },
        "c0d4e993794046a0be82d9ffa42f7f77": {
          "model_module": "@jupyter-widgets/controls",
          "model_name": "FloatProgressModel",
          "model_module_version": "1.5.0",
          "state": {
            "_dom_classes": [],
            "_model_module": "@jupyter-widgets/controls",
            "_model_module_version": "1.5.0",
            "_model_name": "FloatProgressModel",
            "_view_count": null,
            "_view_module": "@jupyter-widgets/controls",
            "_view_module_version": "1.5.0",
            "_view_name": "ProgressView",
            "bar_style": "",
            "description": "",
            "description_tooltip": null,
            "layout": "IPY_MODEL_1dda3fa7dd904ac78069291127ceb75d",
            "max": 1,
            "min": 0,
            "orientation": "horizontal",
            "style": "IPY_MODEL_30cd1c1562d848e7b536e2f1a819dcb5",
            "value": 1
          }
        },
        "e2b7a28f841c41d5851d4e055a969901": {
          "model_module": "@jupyter-widgets/base",
          "model_name": "LayoutModel",
          "model_module_version": "1.2.0",
          "state": {
            "_model_module": "@jupyter-widgets/base",
            "_model_module_version": "1.2.0",
            "_model_name": "LayoutModel",
            "_view_count": null,
            "_view_module": "@jupyter-widgets/base",
            "_view_module_version": "1.2.0",
            "_view_name": "LayoutView",
            "align_content": null,
            "align_items": null,
            "align_self": null,
            "border": null,
            "bottom": null,
            "display": null,
            "flex": null,
            "flex_flow": null,
            "grid_area": null,
            "grid_auto_columns": null,
            "grid_auto_flow": null,
            "grid_auto_rows": null,
            "grid_column": null,
            "grid_gap": null,
            "grid_row": null,
            "grid_template_areas": null,
            "grid_template_columns": null,
            "grid_template_rows": null,
            "height": null,
            "justify_content": null,
            "justify_items": null,
            "left": null,
            "margin": null,
            "max_height": null,
            "max_width": null,
            "min_height": null,
            "min_width": null,
            "object_fit": null,
            "object_position": null,
            "order": null,
            "overflow": null,
            "overflow_x": null,
            "overflow_y": null,
            "padding": null,
            "right": null,
            "top": null,
            "visibility": null,
            "width": null
          }
        },
        "efd88b07174e46b3991bb5f621d3ed5f": {
          "model_module": "@jupyter-widgets/base",
          "model_name": "LayoutModel",
          "model_module_version": "1.2.0",
          "state": {
            "_model_module": "@jupyter-widgets/base",
            "_model_module_version": "1.2.0",
            "_model_name": "LayoutModel",
            "_view_count": null,
            "_view_module": "@jupyter-widgets/base",
            "_view_module_version": "1.2.0",
            "_view_name": "LayoutView",
            "align_content": null,
            "align_items": null,
            "align_self": null,
            "border": null,
            "bottom": null,
            "display": null,
            "flex": null,
            "flex_flow": null,
            "grid_area": null,
            "grid_auto_columns": null,
            "grid_auto_flow": null,
            "grid_auto_rows": null,
            "grid_column": null,
            "grid_gap": null,
            "grid_row": null,
            "grid_template_areas": null,
            "grid_template_columns": null,
            "grid_template_rows": null,
            "height": null,
            "justify_content": null,
            "justify_items": null,
            "left": null,
            "margin": null,
            "max_height": null,
            "max_width": null,
            "min_height": null,
            "min_width": null,
            "object_fit": null,
            "object_position": null,
            "order": null,
            "overflow": null,
            "overflow_x": null,
            "overflow_y": null,
            "padding": null,
            "right": null,
            "top": null,
            "visibility": null,
            "width": null
          }
        },
        "f379df71656a43cba83984d1a65ae182": {
          "model_module": "@jupyter-widgets/controls",
          "model_name": "DescriptionStyleModel",
          "model_module_version": "1.5.0",
          "state": {
            "_model_module": "@jupyter-widgets/controls",
            "_model_module_version": "1.5.0",
            "_model_name": "DescriptionStyleModel",
            "_view_count": null,
            "_view_module": "@jupyter-widgets/base",
            "_view_module_version": "1.2.0",
            "_view_name": "StyleView",
            "description_width": ""
          }
        },
        "1dda3fa7dd904ac78069291127ceb75d": {
          "model_module": "@jupyter-widgets/base",
          "model_name": "LayoutModel",
          "model_module_version": "1.2.0",
          "state": {
            "_model_module": "@jupyter-widgets/base",
            "_model_module_version": "1.2.0",
            "_model_name": "LayoutModel",
            "_view_count": null,
            "_view_module": "@jupyter-widgets/base",
            "_view_module_version": "1.2.0",
            "_view_name": "LayoutView",
            "align_content": null,
            "align_items": null,
            "align_self": null,
            "border": null,
            "bottom": null,
            "display": null,
            "flex": null,
            "flex_flow": null,
            "grid_area": null,
            "grid_auto_columns": null,
            "grid_auto_flow": null,
            "grid_auto_rows": null,
            "grid_column": null,
            "grid_gap": null,
            "grid_row": null,
            "grid_template_areas": null,
            "grid_template_columns": null,
            "grid_template_rows": null,
            "height": null,
            "justify_content": null,
            "justify_items": null,
            "left": null,
            "margin": null,
            "max_height": null,
            "max_width": null,
            "min_height": null,
            "min_width": null,
            "object_fit": null,
            "object_position": null,
            "order": null,
            "overflow": null,
            "overflow_x": null,
            "overflow_y": null,
            "padding": null,
            "right": null,
            "top": null,
            "visibility": null,
            "width": null
          }
        },
        "30cd1c1562d848e7b536e2f1a819dcb5": {
          "model_module": "@jupyter-widgets/controls",
          "model_name": "ProgressStyleModel",
          "model_module_version": "1.5.0",
          "state": {
            "_model_module": "@jupyter-widgets/controls",
            "_model_module_version": "1.5.0",
            "_model_name": "ProgressStyleModel",
            "_view_count": null,
            "_view_module": "@jupyter-widgets/base",
            "_view_module_version": "1.2.0",
            "_view_name": "StyleView",
            "bar_color": null,
            "description_width": ""
          }
        },
        "5c4500f284b54c66880745b74648c706": {
          "model_module": "@jupyter-widgets/controls",
          "model_name": "VBoxModel",
          "model_module_version": "1.5.0",
          "state": {
            "_dom_classes": [],
            "_model_module": "@jupyter-widgets/controls",
            "_model_module_version": "1.5.0",
            "_model_name": "VBoxModel",
            "_view_count": null,
            "_view_module": "@jupyter-widgets/controls",
            "_view_module_version": "1.5.0",
            "_view_name": "VBoxView",
            "box_style": "",
            "children": [
              "IPY_MODEL_44e415be566c4166acdbdad433376b3e",
              "IPY_MODEL_91661d8983ce4536aa312f7aad2178c6"
            ],
            "layout": "IPY_MODEL_e3ec21ef2a2b4cd59d3b7b15247265d9"
          }
        },
        "44e415be566c4166acdbdad433376b3e": {
          "model_module": "@jupyter-widgets/controls",
          "model_name": "LabelModel",
          "model_module_version": "1.5.0",
          "state": {
            "_dom_classes": [],
            "_model_module": "@jupyter-widgets/controls",
            "_model_module_version": "1.5.0",
            "_model_name": "LabelModel",
            "_view_count": null,
            "_view_module": "@jupyter-widgets/controls",
            "_view_module_version": "1.5.0",
            "_view_name": "LabelView",
            "description": "",
            "description_tooltip": null,
            "layout": "IPY_MODEL_1fff88697966452498a800566a353fc1",
            "placeholder": "​",
            "style": "IPY_MODEL_580a49e32fa9456e802f267b03ff4b56",
            "value": "262.723 MB of 262.723 MB uploaded (0.000 MB deduped)\r"
          }
        },
        "91661d8983ce4536aa312f7aad2178c6": {
          "model_module": "@jupyter-widgets/controls",
          "model_name": "FloatProgressModel",
          "model_module_version": "1.5.0",
          "state": {
            "_dom_classes": [],
            "_model_module": "@jupyter-widgets/controls",
            "_model_module_version": "1.5.0",
            "_model_name": "FloatProgressModel",
            "_view_count": null,
            "_view_module": "@jupyter-widgets/controls",
            "_view_module_version": "1.5.0",
            "_view_name": "ProgressView",
            "bar_style": "",
            "description": "",
            "description_tooltip": null,
            "layout": "IPY_MODEL_cc4fab4beaf04b4dbe740e3beca603d1",
            "max": 1,
            "min": 0,
            "orientation": "horizontal",
            "style": "IPY_MODEL_34ab0ab6cd434c4c81d8604ca0c68a5f",
            "value": 1
          }
        },
        "e3ec21ef2a2b4cd59d3b7b15247265d9": {
          "model_module": "@jupyter-widgets/base",
          "model_name": "LayoutModel",
          "model_module_version": "1.2.0",
          "state": {
            "_model_module": "@jupyter-widgets/base",
            "_model_module_version": "1.2.0",
            "_model_name": "LayoutModel",
            "_view_count": null,
            "_view_module": "@jupyter-widgets/base",
            "_view_module_version": "1.2.0",
            "_view_name": "LayoutView",
            "align_content": null,
            "align_items": null,
            "align_self": null,
            "border": null,
            "bottom": null,
            "display": null,
            "flex": null,
            "flex_flow": null,
            "grid_area": null,
            "grid_auto_columns": null,
            "grid_auto_flow": null,
            "grid_auto_rows": null,
            "grid_column": null,
            "grid_gap": null,
            "grid_row": null,
            "grid_template_areas": null,
            "grid_template_columns": null,
            "grid_template_rows": null,
            "height": null,
            "justify_content": null,
            "justify_items": null,
            "left": null,
            "margin": null,
            "max_height": null,
            "max_width": null,
            "min_height": null,
            "min_width": null,
            "object_fit": null,
            "object_position": null,
            "order": null,
            "overflow": null,
            "overflow_x": null,
            "overflow_y": null,
            "padding": null,
            "right": null,
            "top": null,
            "visibility": null,
            "width": null
          }
        },
        "1fff88697966452498a800566a353fc1": {
          "model_module": "@jupyter-widgets/base",
          "model_name": "LayoutModel",
          "model_module_version": "1.2.0",
          "state": {
            "_model_module": "@jupyter-widgets/base",
            "_model_module_version": "1.2.0",
            "_model_name": "LayoutModel",
            "_view_count": null,
            "_view_module": "@jupyter-widgets/base",
            "_view_module_version": "1.2.0",
            "_view_name": "LayoutView",
            "align_content": null,
            "align_items": null,
            "align_self": null,
            "border": null,
            "bottom": null,
            "display": null,
            "flex": null,
            "flex_flow": null,
            "grid_area": null,
            "grid_auto_columns": null,
            "grid_auto_flow": null,
            "grid_auto_rows": null,
            "grid_column": null,
            "grid_gap": null,
            "grid_row": null,
            "grid_template_areas": null,
            "grid_template_columns": null,
            "grid_template_rows": null,
            "height": null,
            "justify_content": null,
            "justify_items": null,
            "left": null,
            "margin": null,
            "max_height": null,
            "max_width": null,
            "min_height": null,
            "min_width": null,
            "object_fit": null,
            "object_position": null,
            "order": null,
            "overflow": null,
            "overflow_x": null,
            "overflow_y": null,
            "padding": null,
            "right": null,
            "top": null,
            "visibility": null,
            "width": null
          }
        },
        "580a49e32fa9456e802f267b03ff4b56": {
          "model_module": "@jupyter-widgets/controls",
          "model_name": "DescriptionStyleModel",
          "model_module_version": "1.5.0",
          "state": {
            "_model_module": "@jupyter-widgets/controls",
            "_model_module_version": "1.5.0",
            "_model_name": "DescriptionStyleModel",
            "_view_count": null,
            "_view_module": "@jupyter-widgets/base",
            "_view_module_version": "1.2.0",
            "_view_name": "StyleView",
            "description_width": ""
          }
        },
        "cc4fab4beaf04b4dbe740e3beca603d1": {
          "model_module": "@jupyter-widgets/base",
          "model_name": "LayoutModel",
          "model_module_version": "1.2.0",
          "state": {
            "_model_module": "@jupyter-widgets/base",
            "_model_module_version": "1.2.0",
            "_model_name": "LayoutModel",
            "_view_count": null,
            "_view_module": "@jupyter-widgets/base",
            "_view_module_version": "1.2.0",
            "_view_name": "LayoutView",
            "align_content": null,
            "align_items": null,
            "align_self": null,
            "border": null,
            "bottom": null,
            "display": null,
            "flex": null,
            "flex_flow": null,
            "grid_area": null,
            "grid_auto_columns": null,
            "grid_auto_flow": null,
            "grid_auto_rows": null,
            "grid_column": null,
            "grid_gap": null,
            "grid_row": null,
            "grid_template_areas": null,
            "grid_template_columns": null,
            "grid_template_rows": null,
            "height": null,
            "justify_content": null,
            "justify_items": null,
            "left": null,
            "margin": null,
            "max_height": null,
            "max_width": null,
            "min_height": null,
            "min_width": null,
            "object_fit": null,
            "object_position": null,
            "order": null,
            "overflow": null,
            "overflow_x": null,
            "overflow_y": null,
            "padding": null,
            "right": null,
            "top": null,
            "visibility": null,
            "width": null
          }
        },
        "34ab0ab6cd434c4c81d8604ca0c68a5f": {
          "model_module": "@jupyter-widgets/controls",
          "model_name": "ProgressStyleModel",
          "model_module_version": "1.5.0",
          "state": {
            "_model_module": "@jupyter-widgets/controls",
            "_model_module_version": "1.5.0",
            "_model_name": "ProgressStyleModel",
            "_view_count": null,
            "_view_module": "@jupyter-widgets/base",
            "_view_module_version": "1.2.0",
            "_view_name": "StyleView",
            "bar_color": null,
            "description_width": ""
          }
        },
        "743b02da41514953810e751c8cccea91": {
          "model_module": "@jupyter-widgets/controls",
          "model_name": "VBoxModel",
          "model_module_version": "1.5.0",
          "state": {
            "_dom_classes": [],
            "_model_module": "@jupyter-widgets/controls",
            "_model_module_version": "1.5.0",
            "_model_name": "VBoxModel",
            "_view_count": null,
            "_view_module": "@jupyter-widgets/controls",
            "_view_module_version": "1.5.0",
            "_view_name": "VBoxView",
            "box_style": "",
            "children": [
              "IPY_MODEL_9f15d79ccc294af98fbe218513ced6ba",
              "IPY_MODEL_91dc90e1322b4b199640aa70b21e9465"
            ],
            "layout": "IPY_MODEL_97c377122f6341838f1113c75d5f532e"
          }
        },
        "9f15d79ccc294af98fbe218513ced6ba": {
          "model_module": "@jupyter-widgets/controls",
          "model_name": "LabelModel",
          "model_module_version": "1.5.0",
          "state": {
            "_dom_classes": [],
            "_model_module": "@jupyter-widgets/controls",
            "_model_module_version": "1.5.0",
            "_model_name": "LabelModel",
            "_view_count": null,
            "_view_module": "@jupyter-widgets/controls",
            "_view_module_version": "1.5.0",
            "_view_name": "LabelView",
            "description": "",
            "description_tooltip": null,
            "layout": "IPY_MODEL_5f46a297c6254b9bac7437f4ccff9ab7",
            "placeholder": "​",
            "style": "IPY_MODEL_d60d832929a9473bae61caa08221f4d0",
            "value": "262.716 MB of 262.716 MB uploaded (0.000 MB deduped)\r"
          }
        },
        "91dc90e1322b4b199640aa70b21e9465": {
          "model_module": "@jupyter-widgets/controls",
          "model_name": "FloatProgressModel",
          "model_module_version": "1.5.0",
          "state": {
            "_dom_classes": [],
            "_model_module": "@jupyter-widgets/controls",
            "_model_module_version": "1.5.0",
            "_model_name": "FloatProgressModel",
            "_view_count": null,
            "_view_module": "@jupyter-widgets/controls",
            "_view_module_version": "1.5.0",
            "_view_name": "ProgressView",
            "bar_style": "",
            "description": "",
            "description_tooltip": null,
            "layout": "IPY_MODEL_3aa98e1eea18426bb50c6ed7940f623d",
            "max": 1,
            "min": 0,
            "orientation": "horizontal",
            "style": "IPY_MODEL_a07d0d93596041929d578a6092dd0c8c",
            "value": 1
          }
        },
        "97c377122f6341838f1113c75d5f532e": {
          "model_module": "@jupyter-widgets/base",
          "model_name": "LayoutModel",
          "model_module_version": "1.2.0",
          "state": {
            "_model_module": "@jupyter-widgets/base",
            "_model_module_version": "1.2.0",
            "_model_name": "LayoutModel",
            "_view_count": null,
            "_view_module": "@jupyter-widgets/base",
            "_view_module_version": "1.2.0",
            "_view_name": "LayoutView",
            "align_content": null,
            "align_items": null,
            "align_self": null,
            "border": null,
            "bottom": null,
            "display": null,
            "flex": null,
            "flex_flow": null,
            "grid_area": null,
            "grid_auto_columns": null,
            "grid_auto_flow": null,
            "grid_auto_rows": null,
            "grid_column": null,
            "grid_gap": null,
            "grid_row": null,
            "grid_template_areas": null,
            "grid_template_columns": null,
            "grid_template_rows": null,
            "height": null,
            "justify_content": null,
            "justify_items": null,
            "left": null,
            "margin": null,
            "max_height": null,
            "max_width": null,
            "min_height": null,
            "min_width": null,
            "object_fit": null,
            "object_position": null,
            "order": null,
            "overflow": null,
            "overflow_x": null,
            "overflow_y": null,
            "padding": null,
            "right": null,
            "top": null,
            "visibility": null,
            "width": null
          }
        },
        "5f46a297c6254b9bac7437f4ccff9ab7": {
          "model_module": "@jupyter-widgets/base",
          "model_name": "LayoutModel",
          "model_module_version": "1.2.0",
          "state": {
            "_model_module": "@jupyter-widgets/base",
            "_model_module_version": "1.2.0",
            "_model_name": "LayoutModel",
            "_view_count": null,
            "_view_module": "@jupyter-widgets/base",
            "_view_module_version": "1.2.0",
            "_view_name": "LayoutView",
            "align_content": null,
            "align_items": null,
            "align_self": null,
            "border": null,
            "bottom": null,
            "display": null,
            "flex": null,
            "flex_flow": null,
            "grid_area": null,
            "grid_auto_columns": null,
            "grid_auto_flow": null,
            "grid_auto_rows": null,
            "grid_column": null,
            "grid_gap": null,
            "grid_row": null,
            "grid_template_areas": null,
            "grid_template_columns": null,
            "grid_template_rows": null,
            "height": null,
            "justify_content": null,
            "justify_items": null,
            "left": null,
            "margin": null,
            "max_height": null,
            "max_width": null,
            "min_height": null,
            "min_width": null,
            "object_fit": null,
            "object_position": null,
            "order": null,
            "overflow": null,
            "overflow_x": null,
            "overflow_y": null,
            "padding": null,
            "right": null,
            "top": null,
            "visibility": null,
            "width": null
          }
        },
        "d60d832929a9473bae61caa08221f4d0": {
          "model_module": "@jupyter-widgets/controls",
          "model_name": "DescriptionStyleModel",
          "model_module_version": "1.5.0",
          "state": {
            "_model_module": "@jupyter-widgets/controls",
            "_model_module_version": "1.5.0",
            "_model_name": "DescriptionStyleModel",
            "_view_count": null,
            "_view_module": "@jupyter-widgets/base",
            "_view_module_version": "1.2.0",
            "_view_name": "StyleView",
            "description_width": ""
          }
        },
        "3aa98e1eea18426bb50c6ed7940f623d": {
          "model_module": "@jupyter-widgets/base",
          "model_name": "LayoutModel",
          "model_module_version": "1.2.0",
          "state": {
            "_model_module": "@jupyter-widgets/base",
            "_model_module_version": "1.2.0",
            "_model_name": "LayoutModel",
            "_view_count": null,
            "_view_module": "@jupyter-widgets/base",
            "_view_module_version": "1.2.0",
            "_view_name": "LayoutView",
            "align_content": null,
            "align_items": null,
            "align_self": null,
            "border": null,
            "bottom": null,
            "display": null,
            "flex": null,
            "flex_flow": null,
            "grid_area": null,
            "grid_auto_columns": null,
            "grid_auto_flow": null,
            "grid_auto_rows": null,
            "grid_column": null,
            "grid_gap": null,
            "grid_row": null,
            "grid_template_areas": null,
            "grid_template_columns": null,
            "grid_template_rows": null,
            "height": null,
            "justify_content": null,
            "justify_items": null,
            "left": null,
            "margin": null,
            "max_height": null,
            "max_width": null,
            "min_height": null,
            "min_width": null,
            "object_fit": null,
            "object_position": null,
            "order": null,
            "overflow": null,
            "overflow_x": null,
            "overflow_y": null,
            "padding": null,
            "right": null,
            "top": null,
            "visibility": null,
            "width": null
          }
        },
        "a07d0d93596041929d578a6092dd0c8c": {
          "model_module": "@jupyter-widgets/controls",
          "model_name": "ProgressStyleModel",
          "model_module_version": "1.5.0",
          "state": {
            "_model_module": "@jupyter-widgets/controls",
            "_model_module_version": "1.5.0",
            "_model_name": "ProgressStyleModel",
            "_view_count": null,
            "_view_module": "@jupyter-widgets/base",
            "_view_module_version": "1.2.0",
            "_view_name": "StyleView",
            "bar_color": null,
            "description_width": ""
          }
        },
        "72724192c0304d6a8f3eb20ac19de877": {
          "model_module": "@jupyter-widgets/controls",
          "model_name": "VBoxModel",
          "model_module_version": "1.5.0",
          "state": {
            "_dom_classes": [],
            "_model_module": "@jupyter-widgets/controls",
            "_model_module_version": "1.5.0",
            "_model_name": "VBoxModel",
            "_view_count": null,
            "_view_module": "@jupyter-widgets/controls",
            "_view_module_version": "1.5.0",
            "_view_name": "VBoxView",
            "box_style": "",
            "children": [
              "IPY_MODEL_150e4b50d6c748dabaad2481ade65541",
              "IPY_MODEL_962ef5e59dbe474c97d5ca91e235e776"
            ],
            "layout": "IPY_MODEL_307e3b802b124e7f81b7ae9005c09aed"
          }
        },
        "150e4b50d6c748dabaad2481ade65541": {
          "model_module": "@jupyter-widgets/controls",
          "model_name": "LabelModel",
          "model_module_version": "1.5.0",
          "state": {
            "_dom_classes": [],
            "_model_module": "@jupyter-widgets/controls",
            "_model_module_version": "1.5.0",
            "_model_name": "LabelModel",
            "_view_count": null,
            "_view_module": "@jupyter-widgets/controls",
            "_view_module_version": "1.5.0",
            "_view_name": "LabelView",
            "description": "",
            "description_tooltip": null,
            "layout": "IPY_MODEL_9555e2120f3c433481ae166906949bc8",
            "placeholder": "​",
            "style": "IPY_MODEL_a5ccdbad0db544b0818c2a9521e854e8",
            "value": "95.746 MB of 95.746 MB uploaded (0.000 MB deduped)\r"
          }
        },
        "962ef5e59dbe474c97d5ca91e235e776": {
          "model_module": "@jupyter-widgets/controls",
          "model_name": "FloatProgressModel",
          "model_module_version": "1.5.0",
          "state": {
            "_dom_classes": [],
            "_model_module": "@jupyter-widgets/controls",
            "_model_module_version": "1.5.0",
            "_model_name": "FloatProgressModel",
            "_view_count": null,
            "_view_module": "@jupyter-widgets/controls",
            "_view_module_version": "1.5.0",
            "_view_name": "ProgressView",
            "bar_style": "",
            "description": "",
            "description_tooltip": null,
            "layout": "IPY_MODEL_4e51e8eb7c624e9e810c5731969a4e6b",
            "max": 1,
            "min": 0,
            "orientation": "horizontal",
            "style": "IPY_MODEL_6fef3f8b33564bc8892cb32a1672cf2b",
            "value": 1
          }
        },
        "307e3b802b124e7f81b7ae9005c09aed": {
          "model_module": "@jupyter-widgets/base",
          "model_name": "LayoutModel",
          "model_module_version": "1.2.0",
          "state": {
            "_model_module": "@jupyter-widgets/base",
            "_model_module_version": "1.2.0",
            "_model_name": "LayoutModel",
            "_view_count": null,
            "_view_module": "@jupyter-widgets/base",
            "_view_module_version": "1.2.0",
            "_view_name": "LayoutView",
            "align_content": null,
            "align_items": null,
            "align_self": null,
            "border": null,
            "bottom": null,
            "display": null,
            "flex": null,
            "flex_flow": null,
            "grid_area": null,
            "grid_auto_columns": null,
            "grid_auto_flow": null,
            "grid_auto_rows": null,
            "grid_column": null,
            "grid_gap": null,
            "grid_row": null,
            "grid_template_areas": null,
            "grid_template_columns": null,
            "grid_template_rows": null,
            "height": null,
            "justify_content": null,
            "justify_items": null,
            "left": null,
            "margin": null,
            "max_height": null,
            "max_width": null,
            "min_height": null,
            "min_width": null,
            "object_fit": null,
            "object_position": null,
            "order": null,
            "overflow": null,
            "overflow_x": null,
            "overflow_y": null,
            "padding": null,
            "right": null,
            "top": null,
            "visibility": null,
            "width": null
          }
        },
        "9555e2120f3c433481ae166906949bc8": {
          "model_module": "@jupyter-widgets/base",
          "model_name": "LayoutModel",
          "model_module_version": "1.2.0",
          "state": {
            "_model_module": "@jupyter-widgets/base",
            "_model_module_version": "1.2.0",
            "_model_name": "LayoutModel",
            "_view_count": null,
            "_view_module": "@jupyter-widgets/base",
            "_view_module_version": "1.2.0",
            "_view_name": "LayoutView",
            "align_content": null,
            "align_items": null,
            "align_self": null,
            "border": null,
            "bottom": null,
            "display": null,
            "flex": null,
            "flex_flow": null,
            "grid_area": null,
            "grid_auto_columns": null,
            "grid_auto_flow": null,
            "grid_auto_rows": null,
            "grid_column": null,
            "grid_gap": null,
            "grid_row": null,
            "grid_template_areas": null,
            "grid_template_columns": null,
            "grid_template_rows": null,
            "height": null,
            "justify_content": null,
            "justify_items": null,
            "left": null,
            "margin": null,
            "max_height": null,
            "max_width": null,
            "min_height": null,
            "min_width": null,
            "object_fit": null,
            "object_position": null,
            "order": null,
            "overflow": null,
            "overflow_x": null,
            "overflow_y": null,
            "padding": null,
            "right": null,
            "top": null,
            "visibility": null,
            "width": null
          }
        },
        "a5ccdbad0db544b0818c2a9521e854e8": {
          "model_module": "@jupyter-widgets/controls",
          "model_name": "DescriptionStyleModel",
          "model_module_version": "1.5.0",
          "state": {
            "_model_module": "@jupyter-widgets/controls",
            "_model_module_version": "1.5.0",
            "_model_name": "DescriptionStyleModel",
            "_view_count": null,
            "_view_module": "@jupyter-widgets/base",
            "_view_module_version": "1.2.0",
            "_view_name": "StyleView",
            "description_width": ""
          }
        },
        "4e51e8eb7c624e9e810c5731969a4e6b": {
          "model_module": "@jupyter-widgets/base",
          "model_name": "LayoutModel",
          "model_module_version": "1.2.0",
          "state": {
            "_model_module": "@jupyter-widgets/base",
            "_model_module_version": "1.2.0",
            "_model_name": "LayoutModel",
            "_view_count": null,
            "_view_module": "@jupyter-widgets/base",
            "_view_module_version": "1.2.0",
            "_view_name": "LayoutView",
            "align_content": null,
            "align_items": null,
            "align_self": null,
            "border": null,
            "bottom": null,
            "display": null,
            "flex": null,
            "flex_flow": null,
            "grid_area": null,
            "grid_auto_columns": null,
            "grid_auto_flow": null,
            "grid_auto_rows": null,
            "grid_column": null,
            "grid_gap": null,
            "grid_row": null,
            "grid_template_areas": null,
            "grid_template_columns": null,
            "grid_template_rows": null,
            "height": null,
            "justify_content": null,
            "justify_items": null,
            "left": null,
            "margin": null,
            "max_height": null,
            "max_width": null,
            "min_height": null,
            "min_width": null,
            "object_fit": null,
            "object_position": null,
            "order": null,
            "overflow": null,
            "overflow_x": null,
            "overflow_y": null,
            "padding": null,
            "right": null,
            "top": null,
            "visibility": null,
            "width": null
          }
        },
        "6fef3f8b33564bc8892cb32a1672cf2b": {
          "model_module": "@jupyter-widgets/controls",
          "model_name": "ProgressStyleModel",
          "model_module_version": "1.5.0",
          "state": {
            "_model_module": "@jupyter-widgets/controls",
            "_model_module_version": "1.5.0",
            "_model_name": "ProgressStyleModel",
            "_view_count": null,
            "_view_module": "@jupyter-widgets/base",
            "_view_module_version": "1.2.0",
            "_view_name": "StyleView",
            "bar_color": null,
            "description_width": ""
          }
        },
        "734c2e6bcc06423891721dd52d62c2a0": {
          "model_module": "@jupyter-widgets/controls",
          "model_name": "VBoxModel",
          "model_module_version": "1.5.0",
          "state": {
            "_dom_classes": [],
            "_model_module": "@jupyter-widgets/controls",
            "_model_module_version": "1.5.0",
            "_model_name": "VBoxModel",
            "_view_count": null,
            "_view_module": "@jupyter-widgets/controls",
            "_view_module_version": "1.5.0",
            "_view_name": "VBoxView",
            "box_style": "",
            "children": [
              "IPY_MODEL_0d72947edd18450595b02d9ad9353b1a",
              "IPY_MODEL_a328c02b0a584d3683053a73440ed675"
            ],
            "layout": "IPY_MODEL_30630319a5e840c384d5abf3d161a0b5"
          }
        },
        "0d72947edd18450595b02d9ad9353b1a": {
          "model_module": "@jupyter-widgets/controls",
          "model_name": "LabelModel",
          "model_module_version": "1.5.0",
          "state": {
            "_dom_classes": [],
            "_model_module": "@jupyter-widgets/controls",
            "_model_module_version": "1.5.0",
            "_model_name": "LabelModel",
            "_view_count": null,
            "_view_module": "@jupyter-widgets/controls",
            "_view_module_version": "1.5.0",
            "_view_name": "LabelView",
            "description": "",
            "description_tooltip": null,
            "layout": "IPY_MODEL_6aad1ff9fed340e4bf53b0e63f106b54",
            "placeholder": "​",
            "style": "IPY_MODEL_31cb53086ed9400ca8df08facd142399",
            "value": "95.745 MB of 95.745 MB uploaded (0.000 MB deduped)\r"
          }
        },
        "a328c02b0a584d3683053a73440ed675": {
          "model_module": "@jupyter-widgets/controls",
          "model_name": "FloatProgressModel",
          "model_module_version": "1.5.0",
          "state": {
            "_dom_classes": [],
            "_model_module": "@jupyter-widgets/controls",
            "_model_module_version": "1.5.0",
            "_model_name": "FloatProgressModel",
            "_view_count": null,
            "_view_module": "@jupyter-widgets/controls",
            "_view_module_version": "1.5.0",
            "_view_name": "ProgressView",
            "bar_style": "",
            "description": "",
            "description_tooltip": null,
            "layout": "IPY_MODEL_04f44992f3894b07b94e392fff2481d6",
            "max": 1,
            "min": 0,
            "orientation": "horizontal",
            "style": "IPY_MODEL_df3cf0155ab24d739fb281c4c4722b38",
            "value": 1
          }
        },
        "30630319a5e840c384d5abf3d161a0b5": {
          "model_module": "@jupyter-widgets/base",
          "model_name": "LayoutModel",
          "model_module_version": "1.2.0",
          "state": {
            "_model_module": "@jupyter-widgets/base",
            "_model_module_version": "1.2.0",
            "_model_name": "LayoutModel",
            "_view_count": null,
            "_view_module": "@jupyter-widgets/base",
            "_view_module_version": "1.2.0",
            "_view_name": "LayoutView",
            "align_content": null,
            "align_items": null,
            "align_self": null,
            "border": null,
            "bottom": null,
            "display": null,
            "flex": null,
            "flex_flow": null,
            "grid_area": null,
            "grid_auto_columns": null,
            "grid_auto_flow": null,
            "grid_auto_rows": null,
            "grid_column": null,
            "grid_gap": null,
            "grid_row": null,
            "grid_template_areas": null,
            "grid_template_columns": null,
            "grid_template_rows": null,
            "height": null,
            "justify_content": null,
            "justify_items": null,
            "left": null,
            "margin": null,
            "max_height": null,
            "max_width": null,
            "min_height": null,
            "min_width": null,
            "object_fit": null,
            "object_position": null,
            "order": null,
            "overflow": null,
            "overflow_x": null,
            "overflow_y": null,
            "padding": null,
            "right": null,
            "top": null,
            "visibility": null,
            "width": null
          }
        },
        "6aad1ff9fed340e4bf53b0e63f106b54": {
          "model_module": "@jupyter-widgets/base",
          "model_name": "LayoutModel",
          "model_module_version": "1.2.0",
          "state": {
            "_model_module": "@jupyter-widgets/base",
            "_model_module_version": "1.2.0",
            "_model_name": "LayoutModel",
            "_view_count": null,
            "_view_module": "@jupyter-widgets/base",
            "_view_module_version": "1.2.0",
            "_view_name": "LayoutView",
            "align_content": null,
            "align_items": null,
            "align_self": null,
            "border": null,
            "bottom": null,
            "display": null,
            "flex": null,
            "flex_flow": null,
            "grid_area": null,
            "grid_auto_columns": null,
            "grid_auto_flow": null,
            "grid_auto_rows": null,
            "grid_column": null,
            "grid_gap": null,
            "grid_row": null,
            "grid_template_areas": null,
            "grid_template_columns": null,
            "grid_template_rows": null,
            "height": null,
            "justify_content": null,
            "justify_items": null,
            "left": null,
            "margin": null,
            "max_height": null,
            "max_width": null,
            "min_height": null,
            "min_width": null,
            "object_fit": null,
            "object_position": null,
            "order": null,
            "overflow": null,
            "overflow_x": null,
            "overflow_y": null,
            "padding": null,
            "right": null,
            "top": null,
            "visibility": null,
            "width": null
          }
        },
        "31cb53086ed9400ca8df08facd142399": {
          "model_module": "@jupyter-widgets/controls",
          "model_name": "DescriptionStyleModel",
          "model_module_version": "1.5.0",
          "state": {
            "_model_module": "@jupyter-widgets/controls",
            "_model_module_version": "1.5.0",
            "_model_name": "DescriptionStyleModel",
            "_view_count": null,
            "_view_module": "@jupyter-widgets/base",
            "_view_module_version": "1.2.0",
            "_view_name": "StyleView",
            "description_width": ""
          }
        },
        "04f44992f3894b07b94e392fff2481d6": {
          "model_module": "@jupyter-widgets/base",
          "model_name": "LayoutModel",
          "model_module_version": "1.2.0",
          "state": {
            "_model_module": "@jupyter-widgets/base",
            "_model_module_version": "1.2.0",
            "_model_name": "LayoutModel",
            "_view_count": null,
            "_view_module": "@jupyter-widgets/base",
            "_view_module_version": "1.2.0",
            "_view_name": "LayoutView",
            "align_content": null,
            "align_items": null,
            "align_self": null,
            "border": null,
            "bottom": null,
            "display": null,
            "flex": null,
            "flex_flow": null,
            "grid_area": null,
            "grid_auto_columns": null,
            "grid_auto_flow": null,
            "grid_auto_rows": null,
            "grid_column": null,
            "grid_gap": null,
            "grid_row": null,
            "grid_template_areas": null,
            "grid_template_columns": null,
            "grid_template_rows": null,
            "height": null,
            "justify_content": null,
            "justify_items": null,
            "left": null,
            "margin": null,
            "max_height": null,
            "max_width": null,
            "min_height": null,
            "min_width": null,
            "object_fit": null,
            "object_position": null,
            "order": null,
            "overflow": null,
            "overflow_x": null,
            "overflow_y": null,
            "padding": null,
            "right": null,
            "top": null,
            "visibility": null,
            "width": null
          }
        },
        "df3cf0155ab24d739fb281c4c4722b38": {
          "model_module": "@jupyter-widgets/controls",
          "model_name": "ProgressStyleModel",
          "model_module_version": "1.5.0",
          "state": {
            "_model_module": "@jupyter-widgets/controls",
            "_model_module_version": "1.5.0",
            "_model_name": "ProgressStyleModel",
            "_view_count": null,
            "_view_module": "@jupyter-widgets/base",
            "_view_module_version": "1.2.0",
            "_view_name": "StyleView",
            "bar_color": null,
            "description_width": ""
          }
        },
        "4549b0e63acf4e66a9357e6b8cb93f3c": {
          "model_module": "@jupyter-widgets/controls",
          "model_name": "VBoxModel",
          "model_module_version": "1.5.0",
          "state": {
            "_dom_classes": [],
            "_model_module": "@jupyter-widgets/controls",
            "_model_module_version": "1.5.0",
            "_model_name": "VBoxModel",
            "_view_count": null,
            "_view_module": "@jupyter-widgets/controls",
            "_view_module_version": "1.5.0",
            "_view_name": "VBoxView",
            "box_style": "",
            "children": [
              "IPY_MODEL_07c1406a2fbf42fe93400f3135da3ee5",
              "IPY_MODEL_79f3886b7548472183dd026e150cedeb"
            ],
            "layout": "IPY_MODEL_284e1c5cfba34b4ba8f27f6bb072e486"
          }
        },
        "07c1406a2fbf42fe93400f3135da3ee5": {
          "model_module": "@jupyter-widgets/controls",
          "model_name": "LabelModel",
          "model_module_version": "1.5.0",
          "state": {
            "_dom_classes": [],
            "_model_module": "@jupyter-widgets/controls",
            "_model_module_version": "1.5.0",
            "_model_name": "LabelModel",
            "_view_count": null,
            "_view_module": "@jupyter-widgets/controls",
            "_view_module_version": "1.5.0",
            "_view_name": "LabelView",
            "description": "",
            "description_tooltip": null,
            "layout": "IPY_MODEL_41472bbf139049d284aa9f6490e1c791",
            "placeholder": "​",
            "style": "IPY_MODEL_19f014c6b2c940a2a47044e97fd8679a",
            "value": "95.745 MB of 95.745 MB uploaded (0.000 MB deduped)\r"
          }
        },
        "79f3886b7548472183dd026e150cedeb": {
          "model_module": "@jupyter-widgets/controls",
          "model_name": "FloatProgressModel",
          "model_module_version": "1.5.0",
          "state": {
            "_dom_classes": [],
            "_model_module": "@jupyter-widgets/controls",
            "_model_module_version": "1.5.0",
            "_model_name": "FloatProgressModel",
            "_view_count": null,
            "_view_module": "@jupyter-widgets/controls",
            "_view_module_version": "1.5.0",
            "_view_name": "ProgressView",
            "bar_style": "",
            "description": "",
            "description_tooltip": null,
            "layout": "IPY_MODEL_b0dd5be2c09843cfbe3985e381255750",
            "max": 1,
            "min": 0,
            "orientation": "horizontal",
            "style": "IPY_MODEL_c062764df61149ef87de4526d9a097ed",
            "value": 1
          }
        },
        "284e1c5cfba34b4ba8f27f6bb072e486": {
          "model_module": "@jupyter-widgets/base",
          "model_name": "LayoutModel",
          "model_module_version": "1.2.0",
          "state": {
            "_model_module": "@jupyter-widgets/base",
            "_model_module_version": "1.2.0",
            "_model_name": "LayoutModel",
            "_view_count": null,
            "_view_module": "@jupyter-widgets/base",
            "_view_module_version": "1.2.0",
            "_view_name": "LayoutView",
            "align_content": null,
            "align_items": null,
            "align_self": null,
            "border": null,
            "bottom": null,
            "display": null,
            "flex": null,
            "flex_flow": null,
            "grid_area": null,
            "grid_auto_columns": null,
            "grid_auto_flow": null,
            "grid_auto_rows": null,
            "grid_column": null,
            "grid_gap": null,
            "grid_row": null,
            "grid_template_areas": null,
            "grid_template_columns": null,
            "grid_template_rows": null,
            "height": null,
            "justify_content": null,
            "justify_items": null,
            "left": null,
            "margin": null,
            "max_height": null,
            "max_width": null,
            "min_height": null,
            "min_width": null,
            "object_fit": null,
            "object_position": null,
            "order": null,
            "overflow": null,
            "overflow_x": null,
            "overflow_y": null,
            "padding": null,
            "right": null,
            "top": null,
            "visibility": null,
            "width": null
          }
        },
        "41472bbf139049d284aa9f6490e1c791": {
          "model_module": "@jupyter-widgets/base",
          "model_name": "LayoutModel",
          "model_module_version": "1.2.0",
          "state": {
            "_model_module": "@jupyter-widgets/base",
            "_model_module_version": "1.2.0",
            "_model_name": "LayoutModel",
            "_view_count": null,
            "_view_module": "@jupyter-widgets/base",
            "_view_module_version": "1.2.0",
            "_view_name": "LayoutView",
            "align_content": null,
            "align_items": null,
            "align_self": null,
            "border": null,
            "bottom": null,
            "display": null,
            "flex": null,
            "flex_flow": null,
            "grid_area": null,
            "grid_auto_columns": null,
            "grid_auto_flow": null,
            "grid_auto_rows": null,
            "grid_column": null,
            "grid_gap": null,
            "grid_row": null,
            "grid_template_areas": null,
            "grid_template_columns": null,
            "grid_template_rows": null,
            "height": null,
            "justify_content": null,
            "justify_items": null,
            "left": null,
            "margin": null,
            "max_height": null,
            "max_width": null,
            "min_height": null,
            "min_width": null,
            "object_fit": null,
            "object_position": null,
            "order": null,
            "overflow": null,
            "overflow_x": null,
            "overflow_y": null,
            "padding": null,
            "right": null,
            "top": null,
            "visibility": null,
            "width": null
          }
        },
        "19f014c6b2c940a2a47044e97fd8679a": {
          "model_module": "@jupyter-widgets/controls",
          "model_name": "DescriptionStyleModel",
          "model_module_version": "1.5.0",
          "state": {
            "_model_module": "@jupyter-widgets/controls",
            "_model_module_version": "1.5.0",
            "_model_name": "DescriptionStyleModel",
            "_view_count": null,
            "_view_module": "@jupyter-widgets/base",
            "_view_module_version": "1.2.0",
            "_view_name": "StyleView",
            "description_width": ""
          }
        },
        "b0dd5be2c09843cfbe3985e381255750": {
          "model_module": "@jupyter-widgets/base",
          "model_name": "LayoutModel",
          "model_module_version": "1.2.0",
          "state": {
            "_model_module": "@jupyter-widgets/base",
            "_model_module_version": "1.2.0",
            "_model_name": "LayoutModel",
            "_view_count": null,
            "_view_module": "@jupyter-widgets/base",
            "_view_module_version": "1.2.0",
            "_view_name": "LayoutView",
            "align_content": null,
            "align_items": null,
            "align_self": null,
            "border": null,
            "bottom": null,
            "display": null,
            "flex": null,
            "flex_flow": null,
            "grid_area": null,
            "grid_auto_columns": null,
            "grid_auto_flow": null,
            "grid_auto_rows": null,
            "grid_column": null,
            "grid_gap": null,
            "grid_row": null,
            "grid_template_areas": null,
            "grid_template_columns": null,
            "grid_template_rows": null,
            "height": null,
            "justify_content": null,
            "justify_items": null,
            "left": null,
            "margin": null,
            "max_height": null,
            "max_width": null,
            "min_height": null,
            "min_width": null,
            "object_fit": null,
            "object_position": null,
            "order": null,
            "overflow": null,
            "overflow_x": null,
            "overflow_y": null,
            "padding": null,
            "right": null,
            "top": null,
            "visibility": null,
            "width": null
          }
        },
        "c062764df61149ef87de4526d9a097ed": {
          "model_module": "@jupyter-widgets/controls",
          "model_name": "ProgressStyleModel",
          "model_module_version": "1.5.0",
          "state": {
            "_model_module": "@jupyter-widgets/controls",
            "_model_module_version": "1.5.0",
            "_model_name": "ProgressStyleModel",
            "_view_count": null,
            "_view_module": "@jupyter-widgets/base",
            "_view_module_version": "1.2.0",
            "_view_name": "StyleView",
            "bar_color": null,
            "description_width": ""
          }
        },
        "5eae3126682a4e758da43fda0df47726": {
          "model_module": "@jupyter-widgets/controls",
          "model_name": "VBoxModel",
          "model_module_version": "1.5.0",
          "state": {
            "_dom_classes": [],
            "_model_module": "@jupyter-widgets/controls",
            "_model_module_version": "1.5.0",
            "_model_name": "VBoxModel",
            "_view_count": null,
            "_view_module": "@jupyter-widgets/controls",
            "_view_module_version": "1.5.0",
            "_view_name": "VBoxView",
            "box_style": "",
            "children": [
              "IPY_MODEL_b75408d3a8e44d6dacbaca44ad387372",
              "IPY_MODEL_a59216d410e744bdad65f269f9db23a1"
            ],
            "layout": "IPY_MODEL_32fc508c1e19425999a43fefcb280d99"
          }
        },
        "b75408d3a8e44d6dacbaca44ad387372": {
          "model_module": "@jupyter-widgets/controls",
          "model_name": "LabelModel",
          "model_module_version": "1.5.0",
          "state": {
            "_dom_classes": [],
            "_model_module": "@jupyter-widgets/controls",
            "_model_module_version": "1.5.0",
            "_model_name": "LabelModel",
            "_view_count": null,
            "_view_module": "@jupyter-widgets/controls",
            "_view_module_version": "1.5.0",
            "_view_name": "LabelView",
            "description": "",
            "description_tooltip": null,
            "layout": "IPY_MODEL_4cc09660246843b0a31c50b6dadde351",
            "placeholder": "​",
            "style": "IPY_MODEL_c54a44514eab40f7ad2872aa723d8e2b",
            "value": "95.745 MB of 95.745 MB uploaded (0.000 MB deduped)\r"
          }
        },
        "a59216d410e744bdad65f269f9db23a1": {
          "model_module": "@jupyter-widgets/controls",
          "model_name": "FloatProgressModel",
          "model_module_version": "1.5.0",
          "state": {
            "_dom_classes": [],
            "_model_module": "@jupyter-widgets/controls",
            "_model_module_version": "1.5.0",
            "_model_name": "FloatProgressModel",
            "_view_count": null,
            "_view_module": "@jupyter-widgets/controls",
            "_view_module_version": "1.5.0",
            "_view_name": "ProgressView",
            "bar_style": "",
            "description": "",
            "description_tooltip": null,
            "layout": "IPY_MODEL_a38161c68659471a9a74e24db8fa8855",
            "max": 1,
            "min": 0,
            "orientation": "horizontal",
            "style": "IPY_MODEL_a3dae0be82b742ebb57986d483f4689a",
            "value": 1
          }
        },
        "32fc508c1e19425999a43fefcb280d99": {
          "model_module": "@jupyter-widgets/base",
          "model_name": "LayoutModel",
          "model_module_version": "1.2.0",
          "state": {
            "_model_module": "@jupyter-widgets/base",
            "_model_module_version": "1.2.0",
            "_model_name": "LayoutModel",
            "_view_count": null,
            "_view_module": "@jupyter-widgets/base",
            "_view_module_version": "1.2.0",
            "_view_name": "LayoutView",
            "align_content": null,
            "align_items": null,
            "align_self": null,
            "border": null,
            "bottom": null,
            "display": null,
            "flex": null,
            "flex_flow": null,
            "grid_area": null,
            "grid_auto_columns": null,
            "grid_auto_flow": null,
            "grid_auto_rows": null,
            "grid_column": null,
            "grid_gap": null,
            "grid_row": null,
            "grid_template_areas": null,
            "grid_template_columns": null,
            "grid_template_rows": null,
            "height": null,
            "justify_content": null,
            "justify_items": null,
            "left": null,
            "margin": null,
            "max_height": null,
            "max_width": null,
            "min_height": null,
            "min_width": null,
            "object_fit": null,
            "object_position": null,
            "order": null,
            "overflow": null,
            "overflow_x": null,
            "overflow_y": null,
            "padding": null,
            "right": null,
            "top": null,
            "visibility": null,
            "width": null
          }
        },
        "4cc09660246843b0a31c50b6dadde351": {
          "model_module": "@jupyter-widgets/base",
          "model_name": "LayoutModel",
          "model_module_version": "1.2.0",
          "state": {
            "_model_module": "@jupyter-widgets/base",
            "_model_module_version": "1.2.0",
            "_model_name": "LayoutModel",
            "_view_count": null,
            "_view_module": "@jupyter-widgets/base",
            "_view_module_version": "1.2.0",
            "_view_name": "LayoutView",
            "align_content": null,
            "align_items": null,
            "align_self": null,
            "border": null,
            "bottom": null,
            "display": null,
            "flex": null,
            "flex_flow": null,
            "grid_area": null,
            "grid_auto_columns": null,
            "grid_auto_flow": null,
            "grid_auto_rows": null,
            "grid_column": null,
            "grid_gap": null,
            "grid_row": null,
            "grid_template_areas": null,
            "grid_template_columns": null,
            "grid_template_rows": null,
            "height": null,
            "justify_content": null,
            "justify_items": null,
            "left": null,
            "margin": null,
            "max_height": null,
            "max_width": null,
            "min_height": null,
            "min_width": null,
            "object_fit": null,
            "object_position": null,
            "order": null,
            "overflow": null,
            "overflow_x": null,
            "overflow_y": null,
            "padding": null,
            "right": null,
            "top": null,
            "visibility": null,
            "width": null
          }
        },
        "c54a44514eab40f7ad2872aa723d8e2b": {
          "model_module": "@jupyter-widgets/controls",
          "model_name": "DescriptionStyleModel",
          "model_module_version": "1.5.0",
          "state": {
            "_model_module": "@jupyter-widgets/controls",
            "_model_module_version": "1.5.0",
            "_model_name": "DescriptionStyleModel",
            "_view_count": null,
            "_view_module": "@jupyter-widgets/base",
            "_view_module_version": "1.2.0",
            "_view_name": "StyleView",
            "description_width": ""
          }
        },
        "a38161c68659471a9a74e24db8fa8855": {
          "model_module": "@jupyter-widgets/base",
          "model_name": "LayoutModel",
          "model_module_version": "1.2.0",
          "state": {
            "_model_module": "@jupyter-widgets/base",
            "_model_module_version": "1.2.0",
            "_model_name": "LayoutModel",
            "_view_count": null,
            "_view_module": "@jupyter-widgets/base",
            "_view_module_version": "1.2.0",
            "_view_name": "LayoutView",
            "align_content": null,
            "align_items": null,
            "align_self": null,
            "border": null,
            "bottom": null,
            "display": null,
            "flex": null,
            "flex_flow": null,
            "grid_area": null,
            "grid_auto_columns": null,
            "grid_auto_flow": null,
            "grid_auto_rows": null,
            "grid_column": null,
            "grid_gap": null,
            "grid_row": null,
            "grid_template_areas": null,
            "grid_template_columns": null,
            "grid_template_rows": null,
            "height": null,
            "justify_content": null,
            "justify_items": null,
            "left": null,
            "margin": null,
            "max_height": null,
            "max_width": null,
            "min_height": null,
            "min_width": null,
            "object_fit": null,
            "object_position": null,
            "order": null,
            "overflow": null,
            "overflow_x": null,
            "overflow_y": null,
            "padding": null,
            "right": null,
            "top": null,
            "visibility": null,
            "width": null
          }
        },
        "a3dae0be82b742ebb57986d483f4689a": {
          "model_module": "@jupyter-widgets/controls",
          "model_name": "ProgressStyleModel",
          "model_module_version": "1.5.0",
          "state": {
            "_model_module": "@jupyter-widgets/controls",
            "_model_module_version": "1.5.0",
            "_model_name": "ProgressStyleModel",
            "_view_count": null,
            "_view_module": "@jupyter-widgets/base",
            "_view_module_version": "1.2.0",
            "_view_name": "StyleView",
            "bar_color": null,
            "description_width": ""
          }
        },
        "310655106aad44e5bfc56b69cd26a1d6": {
          "model_module": "@jupyter-widgets/controls",
          "model_name": "VBoxModel",
          "model_module_version": "1.5.0",
          "state": {
            "_dom_classes": [],
            "_model_module": "@jupyter-widgets/controls",
            "_model_module_version": "1.5.0",
            "_model_name": "VBoxModel",
            "_view_count": null,
            "_view_module": "@jupyter-widgets/controls",
            "_view_module_version": "1.5.0",
            "_view_name": "VBoxView",
            "box_style": "",
            "children": [
              "IPY_MODEL_afe0edc4614144c7b7cb9dec75429555",
              "IPY_MODEL_e0072b6f5d5a40b7bdfec7e54dfb2a56"
            ],
            "layout": "IPY_MODEL_cd01898fe44743348eadfbe568d051c9"
          }
        },
        "afe0edc4614144c7b7cb9dec75429555": {
          "model_module": "@jupyter-widgets/controls",
          "model_name": "LabelModel",
          "model_module_version": "1.5.0",
          "state": {
            "_dom_classes": [],
            "_model_module": "@jupyter-widgets/controls",
            "_model_module_version": "1.5.0",
            "_model_name": "LabelModel",
            "_view_count": null,
            "_view_module": "@jupyter-widgets/controls",
            "_view_module_version": "1.5.0",
            "_view_name": "LabelView",
            "description": "",
            "description_tooltip": null,
            "layout": "IPY_MODEL_d6b6482894764b57bce48ed13f76a321",
            "placeholder": "​",
            "style": "IPY_MODEL_865d26e40b114e2897df89381cba37dc",
            "value": "95.745 MB of 95.745 MB uploaded (0.000 MB deduped)\r"
          }
        },
        "e0072b6f5d5a40b7bdfec7e54dfb2a56": {
          "model_module": "@jupyter-widgets/controls",
          "model_name": "FloatProgressModel",
          "model_module_version": "1.5.0",
          "state": {
            "_dom_classes": [],
            "_model_module": "@jupyter-widgets/controls",
            "_model_module_version": "1.5.0",
            "_model_name": "FloatProgressModel",
            "_view_count": null,
            "_view_module": "@jupyter-widgets/controls",
            "_view_module_version": "1.5.0",
            "_view_name": "ProgressView",
            "bar_style": "",
            "description": "",
            "description_tooltip": null,
            "layout": "IPY_MODEL_4eabd908ce4c4711b0ea206683a8d2f8",
            "max": 1,
            "min": 0,
            "orientation": "horizontal",
            "style": "IPY_MODEL_6b2b49d56304499fb2e4c918b5ba2c6a",
            "value": 1
          }
        },
        "cd01898fe44743348eadfbe568d051c9": {
          "model_module": "@jupyter-widgets/base",
          "model_name": "LayoutModel",
          "model_module_version": "1.2.0",
          "state": {
            "_model_module": "@jupyter-widgets/base",
            "_model_module_version": "1.2.0",
            "_model_name": "LayoutModel",
            "_view_count": null,
            "_view_module": "@jupyter-widgets/base",
            "_view_module_version": "1.2.0",
            "_view_name": "LayoutView",
            "align_content": null,
            "align_items": null,
            "align_self": null,
            "border": null,
            "bottom": null,
            "display": null,
            "flex": null,
            "flex_flow": null,
            "grid_area": null,
            "grid_auto_columns": null,
            "grid_auto_flow": null,
            "grid_auto_rows": null,
            "grid_column": null,
            "grid_gap": null,
            "grid_row": null,
            "grid_template_areas": null,
            "grid_template_columns": null,
            "grid_template_rows": null,
            "height": null,
            "justify_content": null,
            "justify_items": null,
            "left": null,
            "margin": null,
            "max_height": null,
            "max_width": null,
            "min_height": null,
            "min_width": null,
            "object_fit": null,
            "object_position": null,
            "order": null,
            "overflow": null,
            "overflow_x": null,
            "overflow_y": null,
            "padding": null,
            "right": null,
            "top": null,
            "visibility": null,
            "width": null
          }
        },
        "d6b6482894764b57bce48ed13f76a321": {
          "model_module": "@jupyter-widgets/base",
          "model_name": "LayoutModel",
          "model_module_version": "1.2.0",
          "state": {
            "_model_module": "@jupyter-widgets/base",
            "_model_module_version": "1.2.0",
            "_model_name": "LayoutModel",
            "_view_count": null,
            "_view_module": "@jupyter-widgets/base",
            "_view_module_version": "1.2.0",
            "_view_name": "LayoutView",
            "align_content": null,
            "align_items": null,
            "align_self": null,
            "border": null,
            "bottom": null,
            "display": null,
            "flex": null,
            "flex_flow": null,
            "grid_area": null,
            "grid_auto_columns": null,
            "grid_auto_flow": null,
            "grid_auto_rows": null,
            "grid_column": null,
            "grid_gap": null,
            "grid_row": null,
            "grid_template_areas": null,
            "grid_template_columns": null,
            "grid_template_rows": null,
            "height": null,
            "justify_content": null,
            "justify_items": null,
            "left": null,
            "margin": null,
            "max_height": null,
            "max_width": null,
            "min_height": null,
            "min_width": null,
            "object_fit": null,
            "object_position": null,
            "order": null,
            "overflow": null,
            "overflow_x": null,
            "overflow_y": null,
            "padding": null,
            "right": null,
            "top": null,
            "visibility": null,
            "width": null
          }
        },
        "865d26e40b114e2897df89381cba37dc": {
          "model_module": "@jupyter-widgets/controls",
          "model_name": "DescriptionStyleModel",
          "model_module_version": "1.5.0",
          "state": {
            "_model_module": "@jupyter-widgets/controls",
            "_model_module_version": "1.5.0",
            "_model_name": "DescriptionStyleModel",
            "_view_count": null,
            "_view_module": "@jupyter-widgets/base",
            "_view_module_version": "1.2.0",
            "_view_name": "StyleView",
            "description_width": ""
          }
        },
        "4eabd908ce4c4711b0ea206683a8d2f8": {
          "model_module": "@jupyter-widgets/base",
          "model_name": "LayoutModel",
          "model_module_version": "1.2.0",
          "state": {
            "_model_module": "@jupyter-widgets/base",
            "_model_module_version": "1.2.0",
            "_model_name": "LayoutModel",
            "_view_count": null,
            "_view_module": "@jupyter-widgets/base",
            "_view_module_version": "1.2.0",
            "_view_name": "LayoutView",
            "align_content": null,
            "align_items": null,
            "align_self": null,
            "border": null,
            "bottom": null,
            "display": null,
            "flex": null,
            "flex_flow": null,
            "grid_area": null,
            "grid_auto_columns": null,
            "grid_auto_flow": null,
            "grid_auto_rows": null,
            "grid_column": null,
            "grid_gap": null,
            "grid_row": null,
            "grid_template_areas": null,
            "grid_template_columns": null,
            "grid_template_rows": null,
            "height": null,
            "justify_content": null,
            "justify_items": null,
            "left": null,
            "margin": null,
            "max_height": null,
            "max_width": null,
            "min_height": null,
            "min_width": null,
            "object_fit": null,
            "object_position": null,
            "order": null,
            "overflow": null,
            "overflow_x": null,
            "overflow_y": null,
            "padding": null,
            "right": null,
            "top": null,
            "visibility": null,
            "width": null
          }
        },
        "6b2b49d56304499fb2e4c918b5ba2c6a": {
          "model_module": "@jupyter-widgets/controls",
          "model_name": "ProgressStyleModel",
          "model_module_version": "1.5.0",
          "state": {
            "_model_module": "@jupyter-widgets/controls",
            "_model_module_version": "1.5.0",
            "_model_name": "ProgressStyleModel",
            "_view_count": null,
            "_view_module": "@jupyter-widgets/base",
            "_view_module_version": "1.2.0",
            "_view_name": "StyleView",
            "bar_color": null,
            "description_width": ""
          }
        }
      }
    }
  },
  "cells": [
    {
      "cell_type": "code",
      "execution_count": 1,
      "metadata": {
        "id": "AIf5zOGdakFw"
      },
      "outputs": [],
      "source": [
        "import tensorflow as tf\n",
        "import tensorflow.keras.layers as layers\n",
        "from tensorflow.keras import Model\n",
        "from tensorflow.keras.optimizers import RMSprop, SGD, Adam, Nadam\n",
        "\n",
        "from tensorflow.keras.datasets import fashion_mnist\n",
        "\n",
        "import numpy as np\n",
        "from types import SimpleNamespace \n",
        "from sklearn.model_selection import train_test_split\n",
        "import matplotlib.pyplot as plt"
      ]
    },
    {
      "cell_type": "code",
      "source": [
        "(x_train, y_train), (x_test, y_test) = fashion_mnist.load_data()\n",
        "\n",
        "img_width = 28\n",
        "img_height = 28\n",
        "\n",
        "labels = [\n",
        "          \"T-shirt/top\", \"Trouser\", \"Pullover\", \"Dress\", \"Coat\", \n",
        "          \"Sandal\", \"Shirt\", \"Sneaker\", \"Bag\", \"Ankle boot\"\n",
        "          ]\n",
        "\n",
        "x_train = x_train.astype('float32') / 255.\n",
        "x_test = x_test.astype('float32') / 255.\n",
        "\n",
        "# reshape input data\n",
        "x_train = np.expand_dims(x_train, -1)\n",
        "x_test = np.expand_dims(x_test, -1)\n",
        "\n",
        "# one hot encode outputs\n",
        "y_train = tf.keras.utils.to_categorical(y_train)\n",
        "y_test = tf.keras.utils.to_categorical(y_test)\n",
        "num_classes = y_test.shape[1]\n",
        "\n",
        "\n",
        "x_val, x_test, y_val, y_test = train_test_split(x_test, y_test, test_size=0.5, random_state=42)\n",
        "\n",
        "print('Train: X=%s, y=%s' % (x_train.shape, y_train.shape))\n",
        "print('Val: X=%s, y=%s' % (x_val.shape, y_val.shape))\n",
        "print('Test: X=%s, y=%s' % (x_test.shape, y_test.shape))"
      ],
      "metadata": {
        "colab": {
          "base_uri": "https://localhost:8080/"
        },
        "id": "IHrcpfeYbJ1u",
        "outputId": "c6a50c34-13f6-448f-f6a0-1afeea083a0c"
      },
      "execution_count": 2,
      "outputs": [
        {
          "output_type": "stream",
          "name": "stdout",
          "text": [
            "Downloading data from https://storage.googleapis.com/tensorflow/tf-keras-datasets/train-labels-idx1-ubyte.gz\n",
            "32768/29515 [=================================] - 0s 0us/step\n",
            "40960/29515 [=========================================] - 0s 0us/step\n",
            "Downloading data from https://storage.googleapis.com/tensorflow/tf-keras-datasets/train-images-idx3-ubyte.gz\n",
            "26427392/26421880 [==============================] - 0s 0us/step\n",
            "26435584/26421880 [==============================] - 0s 0us/step\n",
            "Downloading data from https://storage.googleapis.com/tensorflow/tf-keras-datasets/t10k-labels-idx1-ubyte.gz\n",
            "16384/5148 [===============================================================================================] - 0s 0us/step\n",
            "Downloading data from https://storage.googleapis.com/tensorflow/tf-keras-datasets/t10k-images-idx3-ubyte.gz\n",
            "4423680/4422102 [==============================] - 0s 0us/step\n",
            "4431872/4422102 [==============================] - 0s 0us/step\n",
            "Train: X=(60000, 28, 28, 1), y=(60000, 10)\n",
            "Val: X=(5000, 28, 28, 1), y=(5000, 10)\n",
            "Test: X=(5000, 28, 28, 1), y=(5000, 10)\n"
          ]
        }
      ]
    },
    {
      "cell_type": "markdown",
      "source": [
        "# Part One"
      ],
      "metadata": {
        "id": "k6aqVMC2kgoA"
      }
    },
    {
      "cell_type": "markdown",
      "source": [
        "## 1) Train, Validate, Underfitting, and Overfitting"
      ],
      "metadata": {
        "id": "Kh-_qvnHl8PE"
      }
    },
    {
      "cell_type": "code",
      "source": [
        "input = layers.Input(shape=(img_height, img_width, 1))\n",
        "x = layers.BatchNormalization()(input)\n",
        "x = layers.Conv2D(64, (3, 3), padding='same', activation='relu')(x)\n",
        "x = layers.MaxPooling2D(pool_size=(2, 2), strides=(2,2))(x)\n",
        "x = layers.Dropout(0.25)(x)\n",
        "\n",
        "x = layers.Conv2D(128, (3, 3), padding='same', activation='relu')(x)\n",
        "x = layers.MaxPooling2D(pool_size=(2, 2), strides=(2,2))(x)\n",
        "x = layers.Dropout(0.25)(x)\n",
        "\n",
        "x = layers.Conv2D(256, (3, 3), padding='same', activation='relu')(x)\n",
        "x = layers.BatchNormalization()(x)\n",
        "x = layers.MaxPooling2D(pool_size=(2, 2))(x)\n",
        "x = layers.Dropout(0.25)(x)\n",
        "\n",
        "x = layers.Flatten()(x)\n",
        "x = layers.Dense(256)(x)\n",
        "x = layers.Activation('relu')(x)\n",
        "x = layers.Dropout(0.5)(x)\n",
        "output = layers.Dense(10, activation='softmax')(x)\n",
        "\n",
        "model = Model(input, output, name='fashion_model')"
      ],
      "metadata": {
        "id": "yRmYf-V2cdq4"
      },
      "execution_count": 3,
      "outputs": []
    },
    {
      "cell_type": "code",
      "source": [
        "model.summary()"
      ],
      "metadata": {
        "colab": {
          "base_uri": "https://localhost:8080/"
        },
        "id": "N-WdzlwLejoV",
        "outputId": "5e2b864d-fb97-4e63-c6dc-acbe8a8c8354"
      },
      "execution_count": 4,
      "outputs": [
        {
          "output_type": "stream",
          "name": "stdout",
          "text": [
            "Model: \"fashion_model\"\n",
            "_________________________________________________________________\n",
            " Layer (type)                Output Shape              Param #   \n",
            "=================================================================\n",
            " input_1 (InputLayer)        [(None, 28, 28, 1)]       0         \n",
            "                                                                 \n",
            " batch_normalization (BatchN  (None, 28, 28, 1)        4         \n",
            " ormalization)                                                   \n",
            "                                                                 \n",
            " conv2d (Conv2D)             (None, 28, 28, 64)        640       \n",
            "                                                                 \n",
            " max_pooling2d (MaxPooling2D  (None, 14, 14, 64)       0         \n",
            " )                                                               \n",
            "                                                                 \n",
            " dropout (Dropout)           (None, 14, 14, 64)        0         \n",
            "                                                                 \n",
            " conv2d_1 (Conv2D)           (None, 14, 14, 128)       73856     \n",
            "                                                                 \n",
            " max_pooling2d_1 (MaxPooling  (None, 7, 7, 128)        0         \n",
            " 2D)                                                             \n",
            "                                                                 \n",
            " dropout_1 (Dropout)         (None, 7, 7, 128)         0         \n",
            "                                                                 \n",
            " conv2d_2 (Conv2D)           (None, 7, 7, 256)         295168    \n",
            "                                                                 \n",
            " batch_normalization_1 (Batc  (None, 7, 7, 256)        1024      \n",
            " hNormalization)                                                 \n",
            "                                                                 \n",
            " max_pooling2d_2 (MaxPooling  (None, 3, 3, 256)        0         \n",
            " 2D)                                                             \n",
            "                                                                 \n",
            " dropout_2 (Dropout)         (None, 3, 3, 256)         0         \n",
            "                                                                 \n",
            " flatten (Flatten)           (None, 2304)              0         \n",
            "                                                                 \n",
            " dense (Dense)               (None, 256)               590080    \n",
            "                                                                 \n",
            " activation (Activation)     (None, 256)               0         \n",
            "                                                                 \n",
            " dropout_3 (Dropout)         (None, 256)               0         \n",
            "                                                                 \n",
            " dense_1 (Dense)             (None, 10)                2570      \n",
            "                                                                 \n",
            "=================================================================\n",
            "Total params: 963,342\n",
            "Trainable params: 962,828\n",
            "Non-trainable params: 514\n",
            "_________________________________________________________________\n"
          ]
        }
      ]
    },
    {
      "cell_type": "code",
      "source": [
        "model.compile(\n",
        "    loss=tf.keras.losses.CategoricalCrossentropy(),\n",
        "    optimizer=tf.keras.optimizers.Adam(),\n",
        "    metrics=[\"accuracy\"],\n",
        ")"
      ],
      "metadata": {
        "id": "G5J8wVLbenrm"
      },
      "execution_count": 5,
      "outputs": []
    },
    {
      "cell_type": "code",
      "source": [
        "EPOCHS = 30\n",
        "history = model.fit(x_train, y_train, batch_size=64, epochs=EPOCHS, validation_data=(x_val, y_val))"
      ],
      "metadata": {
        "id": "SKHo7rohgAr3",
        "colab": {
          "base_uri": "https://localhost:8080/"
        },
        "outputId": "a156f0c3-2c1f-4208-dcb0-c91f1208d4c5"
      },
      "execution_count": 6,
      "outputs": [
        {
          "output_type": "stream",
          "name": "stdout",
          "text": [
            "Epoch 1/30\n",
            "938/938 [==============================] - 24s 11ms/step - loss: 0.5906 - accuracy: 0.7874 - val_loss: 0.3592 - val_accuracy: 0.8662\n",
            "Epoch 2/30\n",
            "938/938 [==============================] - 7s 7ms/step - loss: 0.3839 - accuracy: 0.8607 - val_loss: 0.3144 - val_accuracy: 0.8914\n",
            "Epoch 3/30\n",
            "938/938 [==============================] - 7s 7ms/step - loss: 0.3398 - accuracy: 0.8759 - val_loss: 0.2954 - val_accuracy: 0.8950\n",
            "Epoch 4/30\n",
            "938/938 [==============================] - 7s 7ms/step - loss: 0.3058 - accuracy: 0.8878 - val_loss: 0.3058 - val_accuracy: 0.8840\n",
            "Epoch 5/30\n",
            "938/938 [==============================] - 7s 7ms/step - loss: 0.2908 - accuracy: 0.8938 - val_loss: 0.2574 - val_accuracy: 0.9028\n",
            "Epoch 6/30\n",
            "938/938 [==============================] - 7s 7ms/step - loss: 0.2757 - accuracy: 0.8999 - val_loss: 0.2486 - val_accuracy: 0.9108\n",
            "Epoch 7/30\n",
            "938/938 [==============================] - 7s 7ms/step - loss: 0.2635 - accuracy: 0.9044 - val_loss: 0.2566 - val_accuracy: 0.9148\n",
            "Epoch 8/30\n",
            "938/938 [==============================] - 7s 7ms/step - loss: 0.2523 - accuracy: 0.9081 - val_loss: 0.2474 - val_accuracy: 0.9128\n",
            "Epoch 9/30\n",
            "938/938 [==============================] - 7s 7ms/step - loss: 0.2449 - accuracy: 0.9100 - val_loss: 0.2320 - val_accuracy: 0.9166\n",
            "Epoch 10/30\n",
            "938/938 [==============================] - 7s 7ms/step - loss: 0.2354 - accuracy: 0.9140 - val_loss: 0.2417 - val_accuracy: 0.9172\n",
            "Epoch 11/30\n",
            "938/938 [==============================] - 7s 7ms/step - loss: 0.2249 - accuracy: 0.9176 - val_loss: 0.2319 - val_accuracy: 0.9216\n",
            "Epoch 12/30\n",
            "938/938 [==============================] - 8s 8ms/step - loss: 0.2234 - accuracy: 0.9169 - val_loss: 0.2315 - val_accuracy: 0.9222\n",
            "Epoch 13/30\n",
            "938/938 [==============================] - 7s 7ms/step - loss: 0.2125 - accuracy: 0.9225 - val_loss: 0.2311 - val_accuracy: 0.9208\n",
            "Epoch 14/30\n",
            "938/938 [==============================] - 7s 7ms/step - loss: 0.2100 - accuracy: 0.9226 - val_loss: 0.2343 - val_accuracy: 0.9224\n",
            "Epoch 15/30\n",
            "938/938 [==============================] - 7s 7ms/step - loss: 0.2067 - accuracy: 0.9249 - val_loss: 0.2412 - val_accuracy: 0.9182\n",
            "Epoch 16/30\n",
            "938/938 [==============================] - 7s 7ms/step - loss: 0.1967 - accuracy: 0.9273 - val_loss: 0.2361 - val_accuracy: 0.9226\n",
            "Epoch 17/30\n",
            "938/938 [==============================] - 7s 7ms/step - loss: 0.1900 - accuracy: 0.9284 - val_loss: 0.2234 - val_accuracy: 0.9242\n",
            "Epoch 18/30\n",
            "938/938 [==============================] - 7s 7ms/step - loss: 0.1861 - accuracy: 0.9299 - val_loss: 0.2281 - val_accuracy: 0.9268\n",
            "Epoch 19/30\n",
            "938/938 [==============================] - 7s 7ms/step - loss: 0.1849 - accuracy: 0.9326 - val_loss: 0.2329 - val_accuracy: 0.9266\n",
            "Epoch 20/30\n",
            "938/938 [==============================] - 7s 7ms/step - loss: 0.1807 - accuracy: 0.9346 - val_loss: 0.2264 - val_accuracy: 0.9300\n",
            "Epoch 21/30\n",
            "938/938 [==============================] - 7s 7ms/step - loss: 0.1776 - accuracy: 0.9340 - val_loss: 0.2364 - val_accuracy: 0.9294\n",
            "Epoch 22/30\n",
            "938/938 [==============================] - 7s 7ms/step - loss: 0.1707 - accuracy: 0.9360 - val_loss: 0.2263 - val_accuracy: 0.9306\n",
            "Epoch 23/30\n",
            "938/938 [==============================] - 7s 7ms/step - loss: 0.1669 - accuracy: 0.9392 - val_loss: 0.2158 - val_accuracy: 0.9314\n",
            "Epoch 24/30\n",
            "938/938 [==============================] - 7s 8ms/step - loss: 0.1650 - accuracy: 0.9379 - val_loss: 0.2254 - val_accuracy: 0.9302\n",
            "Epoch 25/30\n",
            "938/938 [==============================] - 7s 7ms/step - loss: 0.1638 - accuracy: 0.9395 - val_loss: 0.2241 - val_accuracy: 0.9300\n",
            "Epoch 26/30\n",
            "938/938 [==============================] - 7s 7ms/step - loss: 0.1598 - accuracy: 0.9396 - val_loss: 0.2244 - val_accuracy: 0.9292\n",
            "Epoch 27/30\n",
            "938/938 [==============================] - 7s 7ms/step - loss: 0.1550 - accuracy: 0.9423 - val_loss: 0.2186 - val_accuracy: 0.9330\n",
            "Epoch 28/30\n",
            "938/938 [==============================] - 7s 7ms/step - loss: 0.1495 - accuracy: 0.9440 - val_loss: 0.2441 - val_accuracy: 0.9248\n",
            "Epoch 29/30\n",
            "938/938 [==============================] - 7s 7ms/step - loss: 0.1520 - accuracy: 0.9435 - val_loss: 0.2387 - val_accuracy: 0.9252\n",
            "Epoch 30/30\n",
            "938/938 [==============================] - 7s 7ms/step - loss: 0.1495 - accuracy: 0.9433 - val_loss: 0.2214 - val_accuracy: 0.9330\n"
          ]
        }
      ]
    },
    {
      "cell_type": "code",
      "source": [
        "plt.figure(figsize=(10, 6))\n",
        "plt.plot(range(1, EPOCHS+1), history.history['loss'], marker='o')\n",
        "plt.plot(range(1, EPOCHS+1), history.history['val_loss'], marker='o')\n",
        "plt.legend(['trian', 'val'])\n",
        "plt.show()"
      ],
      "metadata": {
        "colab": {
          "base_uri": "https://localhost:8080/",
          "height": 374
        },
        "id": "YZo107C-fLNe",
        "outputId": "e29fd719-faf1-4be6-c84f-a3209bed2339"
      },
      "execution_count": 7,
      "outputs": [
        {
          "output_type": "display_data",
          "data": {
            "text/plain": [
              "<Figure size 720x432 with 1 Axes>"
            ],
            "image/png": "[encoded data removed]"
          },
          "metadata": {
            "needs_background": "light"
          }
        }
      ]
    },
    {
      "cell_type": "code",
      "source": [
        "plt.figure(figsize=(10, 6))\n",
        "plt.plot(range(1, EPOCHS+1), history.history['accuracy'], marker='o')\n",
        "plt.plot(range(1, EPOCHS+1), history.history['val_accuracy'], marker='o')\n",
        "plt.legend(['trian', 'val'])\n",
        "plt.show()"
      ],
      "metadata": {
        "colab": {
          "base_uri": "https://localhost:8080/",
          "height": 374
        },
        "id": "4Tz2ClLThGar",
        "outputId": "518ce99b-ee6e-430e-f2d8-5342e4b21084"
      },
      "execution_count": null,
      "outputs": [
        {
          "output_type": "display_data",
          "data": {
            "text/plain": [
              "<Figure size 720x432 with 1 Axes>"
            ],
            "image/png": "[encoded data removed]"
          },
          "metadata": {
            "needs_background": "light"
          }
        }
      ]
    },
    {
      "cell_type": "code",
      "source": [
        "test_scores = model.evaluate(x_test, y_test, verbose=2)\n",
        "print(\"Test loss:\", test_scores[0])\n",
        "print(\"Test accuracy:\", test_scores[1])"
      ],
      "metadata": {
        "colab": {
          "base_uri": "https://localhost:8080/"
        },
        "id": "GhUaUSPUf_PP",
        "outputId": "4097be38-77f6-41dc-da10-ec5bc8469545"
      },
      "execution_count": 8,
      "outputs": [
        {
          "output_type": "stream",
          "name": "stdout",
          "text": [
            "157/157 - 1s - loss: 0.2187 - accuracy: 0.9312 - 500ms/epoch - 3ms/step\n",
            "Test loss: 0.21873630583286285\n",
            "Test accuracy: 0.9312000274658203\n"
          ]
        }
      ]
    },
    {
      "cell_type": "code",
      "source": [
        ""
      ],
      "metadata": {
        "id": "uirdoy0wg_53"
      },
      "execution_count": null,
      "outputs": []
    },
    {
      "cell_type": "markdown",
      "source": [
        "### Underfitting"
      ],
      "metadata": {
        "id": "CTAK5EfnlmmK"
      }
    },
    {
      "cell_type": "code",
      "source": [
        "input = layers.Input(shape=(img_width, img_height, 1))\n",
        "x = layers.Conv2D(2, (15, 15), padding='same', activation='relu')(input)\n",
        "x = layers.MaxPooling2D(pool_size=(2, 2), strides=(2,2))(x)\n",
        "x = layers.Dropout(0.5)(x)\n",
        "\n",
        "x = layers.Flatten()(x)\n",
        "x = layers.Dense(4)(x)\n",
        "output = layers.Dense(10, activation='softmax')(x)\n",
        "\n",
        "model = Model(input, output, name='fashion_model_underfit')\n",
        "model.summary()"
      ],
      "metadata": {
        "id": "ZiYUedmjlhKv",
        "colab": {
          "base_uri": "https://localhost:8080/"
        },
        "outputId": "2169fd8d-7ba4-424e-89ae-cd957be07233"
      },
      "execution_count": null,
      "outputs": [
        {
          "output_type": "stream",
          "name": "stdout",
          "text": [
            "Model: \"fashion_model_underfit\"\n",
            "_________________________________________________________________\n",
            " Layer (type)                Output Shape              Param #   \n",
            "=================================================================\n",
            " input_2 (InputLayer)        [(None, 28, 28, 1)]       0         \n",
            "                                                                 \n",
            " conv2d_3 (Conv2D)           (None, 28, 28, 2)         452       \n",
            "                                                                 \n",
            " max_pooling2d_3 (MaxPooling  (None, 14, 14, 2)        0         \n",
            " 2D)                                                             \n",
            "                                                                 \n",
            " dropout_4 (Dropout)         (None, 14, 14, 2)         0         \n",
            "                                                                 \n",
            " flatten_1 (Flatten)         (None, 392)               0         \n",
            "                                                                 \n",
            " dense_2 (Dense)             (None, 4)                 1572      \n",
            "                                                                 \n",
            " dense_3 (Dense)             (None, 10)                50        \n",
            "                                                                 \n",
            "=================================================================\n",
            "Total params: 2,074\n",
            "Trainable params: 2,074\n",
            "Non-trainable params: 0\n",
            "_________________________________________________________________\n"
          ]
        }
      ]
    },
    {
      "cell_type": "code",
      "source": [
        "model.compile(\n",
        "    loss=tf.keras.losses.CategoricalCrossentropy(),\n",
        "    optimizer=tf.keras.optimizers.SGD(0.2),\n",
        "    metrics=[\"accuracy\"],\n",
        ")\n",
        "EPOCHS = 10\n",
        "history = model.fit(x_train, y_train, batch_size=512, epochs=EPOCHS, validation_data=(x_val, y_val))"
      ],
      "metadata": {
        "id": "-UrZ7AKtlhKw",
        "colab": {
          "base_uri": "https://localhost:8080/"
        },
        "outputId": "471357a3-c4dc-4470-d10b-e94665431f00"
      },
      "execution_count": null,
      "outputs": [
        {
          "output_type": "stream",
          "name": "stdout",
          "text": [
            "Epoch 1/10\n",
            "118/118 [==============================] - 1s 7ms/step - loss: 1.1494 - accuracy: 0.5723 - val_loss: 0.7239 - val_accuracy: 0.7362\n",
            "Epoch 2/10\n",
            "118/118 [==============================] - 1s 5ms/step - loss: 0.7124 - accuracy: 0.7297 - val_loss: 0.7128 - val_accuracy: 0.7220\n",
            "Epoch 3/10\n",
            "118/118 [==============================] - 1s 5ms/step - loss: 0.6688 - accuracy: 0.7524 - val_loss: 0.6435 - val_accuracy: 0.7556\n",
            "Epoch 4/10\n",
            "118/118 [==============================] - 1s 5ms/step - loss: 0.6413 - accuracy: 0.7644 - val_loss: 0.6069 - val_accuracy: 0.7798\n",
            "Epoch 5/10\n",
            "118/118 [==============================] - 1s 5ms/step - loss: 0.6236 - accuracy: 0.7724 - val_loss: 0.5718 - val_accuracy: 0.7936\n",
            "Epoch 6/10\n",
            "118/118 [==============================] - 1s 5ms/step - loss: 0.6073 - accuracy: 0.7808 - val_loss: 0.5492 - val_accuracy: 0.8012\n",
            "Epoch 7/10\n",
            "118/118 [==============================] - 1s 5ms/step - loss: 0.5957 - accuracy: 0.7833 - val_loss: 0.5427 - val_accuracy: 0.8048\n",
            "Epoch 8/10\n",
            "118/118 [==============================] - 1s 5ms/step - loss: 0.5923 - accuracy: 0.7849 - val_loss: 0.6137 - val_accuracy: 0.7558\n",
            "Epoch 9/10\n",
            "118/118 [==============================] - 1s 5ms/step - loss: 0.5862 - accuracy: 0.7872 - val_loss: 0.5188 - val_accuracy: 0.8172\n",
            "Epoch 10/10\n",
            "118/118 [==============================] - 1s 5ms/step - loss: 0.5752 - accuracy: 0.7929 - val_loss: 0.5417 - val_accuracy: 0.7958\n"
          ]
        }
      ]
    },
    {
      "cell_type": "code",
      "source": [
        "plt.figure(figsize=(10, 6))\n",
        "plt.plot(range(1, EPOCHS+1), history.history['accuracy'], marker='o')\n",
        "plt.plot(range(1, EPOCHS+1), history.history['val_accuracy'], marker='o')\n",
        "plt.legend(['trian', 'test'])\n",
        "plt.show()"
      ],
      "metadata": {
        "colab": {
          "base_uri": "https://localhost:8080/",
          "height": 374
        },
        "outputId": "0fc7a97b-9212-42be-bcbe-7089a7f1be44",
        "id": "Ehc9Xf_SlhKx"
      },
      "execution_count": null,
      "outputs": [
        {
          "output_type": "display_data",
          "data": {
            "text/plain": [
              "<Figure size 720x432 with 1 Axes>"
            ],
            "image/png": "[encoded data removed]"
          },
          "metadata": {
            "needs_background": "light"
          }
        }
      ]
    },
    {
      "cell_type": "code",
      "source": [
        "test_scores = model.evaluate(x_test, y_test, verbose=2)\n",
        "print(\"Test loss:\", test_scores[0])\n",
        "print(\"Test accuracy:\", test_scores[1])"
      ],
      "metadata": {
        "colab": {
          "base_uri": "https://localhost:8080/"
        },
        "outputId": "deff1797-b753-410e-ba50-d0ff0c4a7db9",
        "id": "sKB-BgdQlhKy"
      },
      "execution_count": null,
      "outputs": [
        {
          "output_type": "stream",
          "name": "stdout",
          "text": [
            "157/157 - 0s - loss: 0.5330 - accuracy: 0.7988 - 360ms/epoch - 2ms/step\n",
            "Test loss: 0.5330452919006348\n",
            "Test accuracy: 0.798799991607666\n"
          ]
        }
      ]
    },
    {
      "cell_type": "code",
      "source": [
        ""
      ],
      "metadata": {
        "id": "KmX51OWwkp7L"
      },
      "execution_count": null,
      "outputs": []
    },
    {
      "cell_type": "markdown",
      "source": [
        "### Overfitting"
      ],
      "metadata": {
        "id": "PHWTRcdAmEhY"
      }
    },
    {
      "cell_type": "code",
      "source": [
        "input = layers.Input(shape=(img_height, img_width, 1))\n",
        "x = layers.BatchNormalization()(input)\n",
        "x = layers.Conv2D(64, (3, 3), padding='same', activation='relu')(x)\n",
        "x = layers.MaxPooling2D(pool_size=(2, 2), strides=(2,2))(x)\n",
        "\n",
        "x = layers.Conv2D(128, (3, 3), padding='same', activation='relu')(x)\n",
        "x = layers.BatchNormalization()(x)\n",
        "x = layers.MaxPooling2D(pool_size=(2, 2))(x)\n",
        "\n",
        "x = layers.Conv2D(256, (3, 3), padding='same', activation='relu')(x)\n",
        "x = layers.BatchNormalization()(x)\n",
        "x = layers.MaxPooling2D(pool_size=(2, 2))(x)\n",
        "\n",
        "x = layers.Conv2D(512, (3, 3), padding='same', activation='relu')(x)\n",
        "x = layers.BatchNormalization()(x)\n",
        "x = layers.MaxPooling2D(pool_size=(2, 2))(x)\n",
        "\n",
        "x = layers.Flatten()(x)\n",
        "x = layers.Dense(1024)(x)\n",
        "output = layers.Dense(10, activation='softmax')(x)\n",
        "\n",
        "model = Model(input, output, name='fashion_model_overfit')\n",
        "model.summary()"
      ],
      "metadata": {
        "id": "s_TiF0sOmO_U",
        "colab": {
          "base_uri": "https://localhost:8080/"
        },
        "outputId": "b61a6fd5-98eb-4228-872b-95772ef2271f"
      },
      "execution_count": null,
      "outputs": [
        {
          "output_type": "stream",
          "name": "stdout",
          "text": [
            "Model: \"fashion_model_overfit\"\n",
            "_________________________________________________________________\n",
            " Layer (type)                Output Shape              Param #   \n",
            "=================================================================\n",
            " input_3 (InputLayer)        [(None, 28, 28, 1)]       0         \n",
            "                                                                 \n",
            " batch_normalization_2 (Batc  (None, 28, 28, 1)        4         \n",
            " hNormalization)                                                 \n",
            "                                                                 \n",
            " conv2d_4 (Conv2D)           (None, 28, 28, 64)        640       \n",
            "                                                                 \n",
            " max_pooling2d_4 (MaxPooling  (None, 14, 14, 64)       0         \n",
            " 2D)                                                             \n",
            "                                                                 \n",
            " conv2d_5 (Conv2D)           (None, 14, 14, 128)       73856     \n",
            "                                                                 \n",
            " batch_normalization_3 (Batc  (None, 14, 14, 128)      512       \n",
            " hNormalization)                                                 \n",
            "                                                                 \n",
            " max_pooling2d_5 (MaxPooling  (None, 7, 7, 128)        0         \n",
            " 2D)                                                             \n",
            "                                                                 \n",
            " conv2d_6 (Conv2D)           (None, 7, 7, 256)         295168    \n",
            "                                                                 \n",
            " batch_normalization_4 (Batc  (None, 7, 7, 256)        1024      \n",
            " hNormalization)                                                 \n",
            "                                                                 \n",
            " max_pooling2d_6 (MaxPooling  (None, 3, 3, 256)        0         \n",
            " 2D)                                                             \n",
            "                                                                 \n",
            " conv2d_7 (Conv2D)           (None, 3, 3, 512)         1180160   \n",
            "                                                                 \n",
            " batch_normalization_5 (Batc  (None, 3, 3, 512)        2048      \n",
            " hNormalization)                                                 \n",
            "                                                                 \n",
            " max_pooling2d_7 (MaxPooling  (None, 1, 1, 512)        0         \n",
            " 2D)                                                             \n",
            "                                                                 \n",
            " flatten_2 (Flatten)         (None, 512)               0         \n",
            "                                                                 \n",
            " dense_4 (Dense)             (None, 1024)              525312    \n",
            "                                                                 \n",
            " dense_5 (Dense)             (None, 10)                10250     \n",
            "                                                                 \n",
            "=================================================================\n",
            "Total params: 2,088,974\n",
            "Trainable params: 2,087,180\n",
            "Non-trainable params: 1,794\n",
            "_________________________________________________________________\n"
          ]
        }
      ]
    },
    {
      "cell_type": "code",
      "source": [
        "model.compile(\n",
        "    loss=tf.keras.losses.CategoricalCrossentropy(),\n",
        "    optimizer=tf.keras.optimizers.RMSprop(),\n",
        "    metrics=[\"accuracy\"],\n",
        ")\n",
        "\n",
        "EPOCHS = 20\n",
        "history = model.fit(x_train, y_train, batch_size=64, epochs=EPOCHS, validation_data=(x_val, y_val))"
      ],
      "metadata": {
        "id": "GzZeSvZcmO_Y",
        "colab": {
          "base_uri": "https://localhost:8080/"
        },
        "outputId": "7253ff74-ac5b-477e-b714-86d5311ae5b4"
      },
      "execution_count": null,
      "outputs": [
        {
          "output_type": "stream",
          "name": "stdout",
          "text": [
            "Epoch 1/20\n",
            "938/938 [==============================] - 12s 11ms/step - loss: 0.5557 - accuracy: 0.8373 - val_loss: 0.4463 - val_accuracy: 0.8472\n",
            "Epoch 2/20\n",
            "938/938 [==============================] - 10s 10ms/step - loss: 0.2711 - accuracy: 0.9043 - val_loss: 0.2932 - val_accuracy: 0.8994\n",
            "Epoch 3/20\n",
            "938/938 [==============================] - 10s 10ms/step - loss: 0.2221 - accuracy: 0.9207 - val_loss: 0.3567 - val_accuracy: 0.8732\n",
            "Epoch 4/20\n",
            "938/938 [==============================] - 10s 11ms/step - loss: 0.1875 - accuracy: 0.9328 - val_loss: 0.3265 - val_accuracy: 0.8736\n",
            "Epoch 5/20\n",
            "938/938 [==============================] - 10s 10ms/step - loss: 0.1609 - accuracy: 0.9423 - val_loss: 0.2627 - val_accuracy: 0.9164\n",
            "Epoch 6/20\n",
            "938/938 [==============================] - 10s 10ms/step - loss: 0.1373 - accuracy: 0.9512 - val_loss: 0.6033 - val_accuracy: 0.8676\n",
            "Epoch 7/20\n",
            "938/938 [==============================] - 10s 10ms/step - loss: 0.1177 - accuracy: 0.9586 - val_loss: 0.3743 - val_accuracy: 0.9016\n",
            "Epoch 8/20\n",
            "938/938 [==============================] - 10s 10ms/step - loss: 0.1006 - accuracy: 0.9635 - val_loss: 0.3325 - val_accuracy: 0.9138\n",
            "Epoch 9/20\n",
            "938/938 [==============================] - 10s 10ms/step - loss: 0.0861 - accuracy: 0.9691 - val_loss: 0.3652 - val_accuracy: 0.9064\n",
            "Epoch 10/20\n",
            "938/938 [==============================] - 10s 10ms/step - loss: 0.0729 - accuracy: 0.9740 - val_loss: 0.4137 - val_accuracy: 0.9082\n",
            "Epoch 11/20\n",
            "938/938 [==============================] - 10s 10ms/step - loss: 0.0698 - accuracy: 0.9768 - val_loss: 0.3624 - val_accuracy: 0.9166\n",
            "Epoch 12/20\n",
            "938/938 [==============================] - 10s 10ms/step - loss: 0.0618 - accuracy: 0.9787 - val_loss: 0.3501 - val_accuracy: 0.9180\n",
            "Epoch 13/20\n",
            "938/938 [==============================] - 10s 10ms/step - loss: 0.0556 - accuracy: 0.9813 - val_loss: 0.4725 - val_accuracy: 0.9082\n",
            "Epoch 14/20\n",
            "938/938 [==============================] - 10s 10ms/step - loss: 0.0481 - accuracy: 0.9839 - val_loss: 0.4649 - val_accuracy: 0.9208\n",
            "Epoch 15/20\n",
            "938/938 [==============================] - 10s 10ms/step - loss: 0.0459 - accuracy: 0.9848 - val_loss: 0.4817 - val_accuracy: 0.9124\n",
            "Epoch 16/20\n",
            "938/938 [==============================] - 10s 10ms/step - loss: 0.0410 - accuracy: 0.9863 - val_loss: 0.4418 - val_accuracy: 0.9178\n",
            "Epoch 17/20\n",
            "938/938 [==============================] - 10s 10ms/step - loss: 0.0354 - accuracy: 0.9879 - val_loss: 0.4970 - val_accuracy: 0.9134\n",
            "Epoch 18/20\n",
            "938/938 [==============================] - 10s 10ms/step - loss: 0.0396 - accuracy: 0.9884 - val_loss: 0.5241 - val_accuracy: 0.9196\n",
            "Epoch 19/20\n",
            "938/938 [==============================] - 10s 10ms/step - loss: 0.0345 - accuracy: 0.9890 - val_loss: 0.5948 - val_accuracy: 0.9246\n",
            "Epoch 20/20\n",
            "938/938 [==============================] - 10s 10ms/step - loss: 0.0328 - accuracy: 0.9899 - val_loss: 0.5098 - val_accuracy: 0.9206\n"
          ]
        }
      ]
    },
    {
      "cell_type": "code",
      "source": [
        "plt.figure(figsize=(10, 6))\n",
        "plt.plot(range(1, EPOCHS+1), history.history['accuracy'], marker='o')\n",
        "plt.plot(range(1, EPOCHS+1), history.history['val_accuracy'], marker='o')\n",
        "plt.legend(['trian', 'test'])\n",
        "plt.show()"
      ],
      "metadata": {
        "colab": {
          "base_uri": "https://localhost:8080/",
          "height": 374
        },
        "outputId": "307b8dd2-a6c6-4244-db5b-d1ad6a7f8109",
        "id": "s9sUj6cfmO_c"
      },
      "execution_count": null,
      "outputs": [
        {
          "output_type": "display_data",
          "data": {
            "text/plain": [
              "<Figure size 720x432 with 1 Axes>"
            ],
            "image/png": "[encoded data removed]"
          },
          "metadata": {
            "needs_background": "light"
          }
        }
      ]
    },
    {
      "cell_type": "code",
      "source": [
        "test_scores = model.evaluate(x_test, y_test, verbose=2)\n",
        "print(\"Test loss:\", test_scores[0])\n",
        "print(\"Test accuracy:\", test_scores[1])"
      ],
      "metadata": {
        "colab": {
          "base_uri": "https://localhost:8080/"
        },
        "outputId": "1c9dcb6a-effe-4b47-d145-e50e4d66a3a5",
        "id": "jqrLoJzqmO_d"
      },
      "execution_count": null,
      "outputs": [
        {
          "output_type": "stream",
          "name": "stdout",
          "text": [
            "157/157 - 1s - loss: 0.4833 - accuracy: 0.9204 - 620ms/epoch - 4ms/step\n",
            "Test loss: 0.48334774374961853\n",
            "Test accuracy: 0.9204000234603882\n"
          ]
        }
      ]
    },
    {
      "cell_type": "code",
      "source": [
        ""
      ],
      "metadata": {
        "id": "UgcekoenmkXv"
      },
      "execution_count": null,
      "outputs": []
    },
    {
      "cell_type": "markdown",
      "source": [
        "## 2) Hyperparameter Tuning"
      ],
      "metadata": {
        "id": "LplidGVomk4B"
      }
    },
    {
      "cell_type": "code",
      "metadata": {
        "trusted": true,
        "id": "7VomHtoD_qlr"
      },
      "source": [
        "%%capture\n",
        "!pip3 install wandb\n",
        "import wandb\n",
        "from wandb.keras import WandbCallback"
      ],
      "execution_count": null,
      "outputs": []
    },
    {
      "cell_type": "code",
      "metadata": {
        "id": "KVtij44H_qlu"
      },
      "source": [
        "sweep_config = {\n",
        "    'method': 'random', #grid, random\n",
        "    'metric': {\n",
        "      'name': 'accuracy',\n",
        "      'goal': 'maximize'   \n",
        "    },\n",
        "    'parameters': {\n",
        "        'epochs': {\n",
        "            'values': [2, 10, 20]\n",
        "        },\n",
        "        'batch_size': {\n",
        "            'values': [128, 32]\n",
        "        },\n",
        "        'dropout': {\n",
        "            'values': [0.35, 0.5]\n",
        "        },\n",
        "        'learning_rate': {\n",
        "            'values': [6e-2, 1e-3, 3e-4]\n",
        "        },\n",
        "        # 'optimizer': {\n",
        "        #     'values': ['adam', 'sgd', 'rmsprop']\n",
        "        # }\n",
        "    }\n",
        "}"
      ],
      "execution_count": null,
      "outputs": []
    },
    {
      "cell_type": "code",
      "metadata": {
        "colab": {
          "base_uri": "https://localhost:8080/",
          "height": 121
        },
        "outputId": "05a38ff8-ed13-40ea-c7d0-66b8ffbc6649",
        "id": "TvfvKi6__ql0"
      },
      "source": [
        "sweep_id = wandb.sweep(sweep_config, entity=\"amir7d0\", project=\"fashion_part2\")"
      ],
      "execution_count": null,
      "outputs": [
        {
          "output_type": "display_data",
          "data": {
            "text/plain": [
              "<IPython.core.display.Javascript object>"
            ],
            "application/javascript": [
              "\n",
              "        window._wandbApiKey = new Promise((resolve, reject) => {\n",
              "            function loadScript(url) {\n",
              "            return new Promise(function(resolve, reject) {\n",
              "                let newScript = document.createElement(\"script\");\n",
              "                newScript.onerror = reject;\n",
              "                newScript.onload = resolve;\n",
              "                document.body.appendChild(newScript);\n",
              "                newScript.src = url;\n",
              "            });\n",
              "            }\n",
              "            loadScript(\"https://cdn.jsdelivr.net/npm/postmate/build/postmate.min.js\").then(() => {\n",
              "            const iframe = document.createElement('iframe')\n",
              "            iframe.style.cssText = \"width:0;height:0;border:none\"\n",
              "            document.body.appendChild(iframe)\n",
              "            const handshake = new Postmate({\n",
              "                container: iframe,\n",
              "                url: 'https://wandb.ai/authorize'\n",
              "            });\n",
              "            const timeout = setTimeout(() => reject(\"Couldn't auto authenticate\"), 5000)\n",
              "            handshake.then(function(child) {\n",
              "                child.on('authorize', data => {\n",
              "                    clearTimeout(timeout)\n",
              "                    resolve(data)\n",
              "                });\n",
              "            });\n",
              "            })\n",
              "        });\n",
              "    "
            ]
          },
          "metadata": {}
        },
        {
          "output_type": "stream",
          "name": "stderr",
          "text": [
            "\u001b[34m\u001b[1mwandb\u001b[0m: You can find your API key in your browser here: https://wandb.ai/authorize\n"
          ]
        },
        {
          "name": "stdout",
          "output_type": "stream",
          "text": [
            "wandb: Paste an API key from your profile and hit enter, or press ctrl+c to quit: ··········\n"
          ]
        },
        {
          "output_type": "stream",
          "name": "stderr",
          "text": [
            "\u001b[34m\u001b[1mwandb\u001b[0m: Appending key for api.wandb.ai to your netrc file: /root/.netrc\n"
          ]
        },
        {
          "output_type": "stream",
          "name": "stdout",
          "text": [
            "Create sweep with ID: urkb8pum\n",
            "Sweep URL: https://wandb.ai/amir7d0/fashion_part2/sweeps/urkb8pum\n"
          ]
        }
      ]
    },
    {
      "cell_type": "code",
      "metadata": {
        "trusted": true,
        "id": "xTaUiNok_ql2"
      },
      "source": [
        "def train():\n",
        "    config_defaults = {\n",
        "        'epochs': 1,\n",
        "        'batch_size': 128,\n",
        "        'learning_rate': 1e-3,\n",
        "        'optimizer': 'adam',\n",
        "        'dropout': 0.5,\n",
        "    }\n",
        "\n",
        "    # Initialize a new wandb run\n",
        "    wandb.init(config=config_defaults)\n",
        "    \n",
        "    # Config is a variable that holds and saves hyperparameters and inputs\n",
        "    config = wandb.config\n",
        "    \n",
        "    input = layers.Input(shape=(img_height, img_width, 1))\n",
        "    x = layers.BatchNormalization()(input)\n",
        "    x = layers.Conv2D(64, (3, 3), padding='same', activation='relu')(x)\n",
        "    x = layers.MaxPooling2D(pool_size=(2, 2), strides=(2,2))(x)\n",
        "    x = layers.Dropout(config.dropout)(x)\n",
        "\n",
        "    x = layers.Conv2D(128, (3, 3), padding='same', activation='relu')(x)\n",
        "    x = layers.MaxPooling2D(pool_size=(2, 2), strides=(2,2))(x)\n",
        "    x = layers.Dropout(config.dropout)(x)\n",
        "\n",
        "    x = layers.Conv2D(256, (3, 3), padding='same', activation='relu')(x)\n",
        "    x = layers.BatchNormalization()(x)\n",
        "    x = layers.MaxPooling2D(pool_size=(2, 2))(x)\n",
        "    x = layers.Dropout(config.dropout)(x)\n",
        "\n",
        "    x = layers.Flatten()(x)\n",
        "    x = layers.Dense(256)(x)\n",
        "    x = layers.Activation('relu')(x)\n",
        "    x = layers.Dropout(config.dropout)(x)\n",
        "    output = layers.Dense(10, activation='softmax')(x)\n",
        "\n",
        "    model = Model(input, output, name='fashion_model2')\n",
        "    \n",
        "    \n",
        "    # Define the optimizer\n",
        "    if config.optimizer=='sgd':\n",
        "      optimizer = SGD(lr=config.learning_rate)\n",
        "    elif config.optimizer=='rmsprop':\n",
        "      optimizer = RMSprop(lr=config.learning_rate, decay=1e-5)\n",
        "    elif config.optimizer=='adam':\n",
        "      optimizer = Adam(learning_rate=config.learning_rate, beta_1=0.9, beta_2=0.999, clipnorm=1.0)\n",
        "    elif config.optimizer=='nadam':\n",
        "      optimizer = Nadam(lr=config.learning_rate, beta_1=0.9, beta_2=0.999, clipnorm=1.0)\n",
        "    else:\n",
        "      optimizer = SGD(lr=config.learning_rate)\n",
        "\n",
        "    model.compile(loss=\"categorical_crossentropy\", optimizer=optimizer, metrics=['accuracy'])\n",
        "\n",
        "    model.fit(x_train, y_train, batch_size=config.batch_size,\n",
        "              epochs=config.epochs,\n",
        "              validation_data=(x_val, y_val),\n",
        "              callbacks=[WandbCallback(data_type=\"image\", validation_data=(x_val, y_val), labels=labels)]\n",
        "    )"
      ],
      "execution_count": null,
      "outputs": []
    },
    {
      "cell_type": "code",
      "metadata": {
        "colab": {
          "base_uri": "https://localhost:8080/",
          "height": 1000,
          "referenced_widgets": [
            "82b95357862f42998ec9b94f5e833a89",
            "b3ec96fba32f42d4a2cafb4096705ec3",
            "c0e5c684460e499dbc4de113d5caa588",
            "511b0e9fc23c435f9db8d6d8baf3ddbd",
            "11ef77a5bc2f480aae1969e4348c33c8",
            "a249fa880d6f48ed87c2bca3737468ef",
            "ed187086e7fb495c935e31d09fbb7a3b",
            "4ff24bcd839d49bda4c01a945f631c08",
            "837a08e4adc243a39e80e5bc8a43bc5e",
            "cac29ebe17e94ef5adea65cc278bc317",
            "d0768736514344858db902e4961032e7",
            "dd34bdb7b19c486e96fd761d626f8183",
            "0ac3d2fc50534daeab1f183674c997f2",
            "6faa544e74a04d02b2412150fc93fd09",
            "c98097a75a9c4aea8770d0208d0dfc58",
            "52bac28fc7424e1381d4791ee2b18592",
            "5df386c3f9e14558bef670e1590d9806",
            "b49524419a574dbca2a1e589897c6628",
            "aa5c81176fcf46f2b4820519557474ec",
            "256d80437af74fa2bd73cbdd9c528d95",
            "7948308fb77b4a4098597366f9f34cb2",
            "8186b00c943d49f9930980ecf91e9e72",
            "a41df6c023584dd8969c63340a625516",
            "335d6383efa4469bbaed99e4a48f5da8",
            "667f28a4dcaa47eb9c4c43bc50e705e4",
            "6407e4cbe5b3422e98289c04ac450b57",
            "709d54f042114a5ba7096855acc6d8dd",
            "4c015d2a94f5416bb0b3de8118a3acf4",
            "e297b44050b8436e87b609dff83358f9",
            "9e6ee38914c34178802806f9edb4c575",
            "f596f75c3ae54811840616c96b212391",
            "15c3e33ec60547db9278b42173827607",
            "d02f3372de294ef0b9769e9ca871ee0b",
            "a2cdf2149a2947cfa434606dd065e32a",
            "1b1759161f6643fb8be37d925af47740",
            "f83b860d63604d5ba68df9ed90c47318",
            "f4d1928f7732430ca05ec2b12361b55d",
            "5cbc20bb58c941a6b24519d8160ddb60",
            "4e04f5bb87a8424fa23c93f738d8be6c",
            "a5bc554730454a6eab3d90ad2e9f3094",
            "26c02a5adeba4fa0a5a7b07fb48ccbfc",
            "ff4264547ae2436bae16511c095cbe5f",
            "a8c013900b3e4c8189ee8e2e329abbe2",
            "f8b7cd16db1f48cf98d0c2afc8922173",
            "7f0d63ad80664098893554fd1de8d00d",
            "5389141820d24c2da77f5bb5c4f160a3",
            "e79aff7e9df046a0b6625429810ae19e",
            "0aade5dc66da46a7beba0756f47e2e96",
            "70218f02f114445aaaf17348835af1b2",
            "70f493266b574be9ae5396704fd80b30",
            "3a881e4c4dd6452da2a98a900644ff86",
            "2780ef32461c433c8e6c6a68c7b0c907",
            "59bb1c37e9c6412599611a09b32b4648",
            "364ded7542bb46dda1310e623b87ed04",
            "e4d57f2ece4e4a1980067ffff20831b2",
            "31814f48eb3d4bfd8179d98ee48454d8",
            "d8cb15f7d59f40d1a1e9e30a081f88c6",
            "8006af0ef1ca45d991d81b2b004972b2",
            "c9482f073b3a4ae38cd14073b59df344",
            "8e0f7a2c385e417d9ea965eb4c82d3a2",
            "7d73188bdc4c4c67821596e5be99471f",
            "1096d8b3aa5742db9e0ab2b7c60b935b",
            "6d7ec4052beb45a0803d11c98292239d",
            "2ae6ef46f83945359c2a8386684f8345",
            "616c7650c4184d788cea527ec0b0b502",
            "6e28362863ae4237989783eeb214e98d",
            "3acac26c75994433b5208bb0b1c738d3",
            "901440538532474997ed0333a185a4cd",
            "145aec4ab0a8498c95c611ee2075fef2",
            "72e8f7507d4b4526bcd260d980fe733d",
            "66de0188e8784a9dbb70d384b755ae24",
            "6dfbb3ae1963454e8240706c9e9e7f6d",
            "1feab5a1c13743eab8128d5fd5d7bc56",
            "14bca5d3baf44d5fbe7653408c21df85",
            "59d3106234da42ee9bce51249bd103eb",
            "c9344372652046228da927fa09b53d59",
            "2c34ca293a224174b495db2944df4630",
            "3d4e836845ee49d986aa6ef6f588286b",
            "a1d872342d8f4707bcb8d698003fa454",
            "9e8b8790426b4641b0ae3038d5b47ac7",
            "5659035ad73642bbb8aa53c55d14fe19",
            "1641ccd2a1bc490fac2d3384a4cfbd86",
            "5e238dce0ffa4aa4912f1aa69674ff9a",
            "592db3a34d944d6ba15c7c73ff8425d7",
            "6d895849b5b9417ba3c2883d50f425d3",
            "b6737f4b8e6f4313b19635125e1e798b",
            "17b57baa1076460eb36ed8626a88ad5d",
            "f8f4743857ce4275ac9c7c0facad6498",
            "bbe145aedaec4663bf32ef3ea06202fa",
            "9e1346355b7b4e0c89168c52bac5ddac",
            "e9e23bc1cb3e4dabb4975ef38f4608a2",
            "57262cf48dae435089bbc6a1425fbdfd",
            "30e589a4d8a8429bbc147c130d8436f4",
            "9b387e156fe44f64a5120ef08440f192",
            "aaf2376909bc4cc7b982fc7ac40b45eb",
            "71be8383f285412b96b4826dd486fe54",
            "66dfdc55275a4275b80171b1655fe19d",
            "23e459dd115c4f9581736ddca7d7c6ac",
            "b11652ec9e2f4c1581521f81ae77401a",
            "a7dec6d3a7ad4e8eb23d596609e0a21f",
            "a796a32cb57f4192a8a0938d1c06a9d4",
            "fcdc8ec5b2eb4d7ca219895155f4cf88",
            "77dcbd046a314f3f97fa9a85e7d41b77",
            "b219aef9ce4744fa925023c0774ec4fd",
            "7dc4018d267f4ee6b250b6fffea3a93f",
            "a05a7064b9dd44edac69e774d5ce3b3c",
            "f30b9f5d8a4e4670acc2795445bf8074",
            "ad40a2725fe0431b8bc1d3f8aabae66c",
            "3cab410efcd047ee94edff97d764d55f",
            "91c11c854c9848e6b2cb35ace8ea3261",
            "983cdeb5b93649c9acf6144346a6f37c",
            "9535fd6a2e674009b1f421588167f525",
            "2c09232f137d4f9db05222459b5b550a",
            "90043c3965094dcea732caeb506e4a3d",
            "78727b04ad004051b105e3aa4edcd608",
            "83a165ffb5fe4c17b04366f57e9969c1",
            "5326dcebcf0c4b47a43c2f8ecf9f5da7",
            "86d174c8d2f04aed8cc60f337bce69b6",
            "1bd00226f2004511a1ea6a553f266b16",
            "b62fb03caaf64791a53e1b00acf65a76",
            "1b3c58defc4244f48a77ade3f7fe5d91",
            "6bef70672f604e369c9784a442a58583",
            "b5b8959dd305436dbf467fc000fd2c71",
            "3321a121e5db4869be15e00b4bb1c4fc",
            "2a7b4aa28eb340d09b1b1a08dc5dc285",
            "e1b1ef20e236422c9e4ad02d9c247704",
            "2f532683f93446da8107e0a3951ac640",
            "21061db31d4c4463a7e957bd33ad6cc9",
            "5f4e9e4b791645c7970bbdbcdfa67b93",
            "7b6eefdd8e884d3182e3105866e90dc9",
            "0579576b88154bc3bb0b3b127a9d12e0",
            "72aaecebd37a45e090d36f6215df370b",
            "e080ca7b8d5a40ccb425d1239d0c7fb6",
            "d38ee31d1d584de1955b28345727829b",
            "f25d7bd2d5244a289f9494b327a9bb7d",
            "98b1a236e2524043a62c044d021fc090",
            "3d09e902f320451dba80e8cb012d42f7",
            "618dcdf68ed4415089e33b84255db472",
            "b5f87e141f7b43909bca819e075cddb1",
            "d08a3e70045d46b0a068015a5ce61c07",
            "68ef34c4282d40e69ff6ae8aef3c3023",
            "febf6e31540144bc9b749a6f6041237b",
            "be50ec5b858a455f99fe1fd95e3e4e43",
            "3d7952d1547642d1bdd69cde16b42613",
            "5b19ae2c1ca2499289935012751e7636",
            "0b3396a91fc64ed5a0f1edc5157cef3a",
            "ec63cd7b8104406baa7f2f8f87d1ca5b",
            "cf5f79c7c6df482d8aa0a2049db9a43e",
            "5cd157600c9b407f899d0dbc03846413",
            "d6851df0b904470b93a97465e30c1c51",
            "426efe57884441e2bff27af64f0cefda",
            "ad2c5b5c564f47e18dee88952520580a",
            "6913ce6c33434dc29fa8af4cbd5cda06",
            "5d3a0200d000446ab0e2d8908d2b4470",
            "84baed45a8b443d49bfa02b311c81219",
            "b2058ade65b440a1ae52a754c28b6671",
            "fdbe3cd1bcd54be0a5afc1abf8913790",
            "dfff4d69b72f40f29ed7c7c29e45f88b",
            "4cfcc5cc503642658dd7df6c139e9fe0",
            "f5a5458351bd4a24b1539e0cc897e051",
            "a35e64736e3545fcb597c9fea554b0aa",
            "b9bf6a97edec4208b49462c8718799e4",
            "cdbc379b30b146b7aa2cefb200dafd57",
            "579d45f145a947dea61774294fb16463",
            "02af356d36cf43eb9a295563ac93a5a1",
            "ba5dde1d039d461eb6eb9a5e23d041b8",
            "aa33f7197dda4e8f8b4513b77179d19d",
            "ddd19964fb964f7894b9aa33c91832e7",
            "f0725251085f4e7aa08689941e85140f",
            "42bf8c25c95546e596c5c0f3293123b1",
            "43bed785e8b143f5b0749809e2a87d94",
            "fced27e7d3e943cfae01dd6f14b02cfb",
            "38d41f8e97b747abb7f16b4254b7bf72",
            "1abb035217c44387a58a66f51f5caef0",
            "a49003ecd5f64e5da9b1566f957e229c",
            "b170477fc6384b09af41d5761551b2f7",
            "61a1c24f808643ca9a48a19a05377072",
            "c12307c8bd8447649224448c5ccbf0f9",
            "90972d5ef9d64caeb0d3b5644223ad69",
            "6e493c6b3c4d47d89baf429d8dd89153",
            "e64a5554e5844ab39b6887274c8de8d7",
            "53f908b6ce4c41de8960de17444bac77",
            "078f18d8ceee4c40800adf939a8a1238",
            "b9a024aa46b048229ec3766425d2e158",
            "d14941f3b4944d22b04c4063d07863ea",
            "edcaf16c57864433a6e87d6ed425ba21",
            "6436959f7e9f4c9aa3cf0e0d89bc66b4",
            "7b574657d30b4b198c3a84ff64c3c224",
            "4c0e2f0977b1444ca6fbab621a2d57c1",
            "f9404a334a3a4c07bf8772366ed6507e",
            "26d17408a0014c3d87eaf7bbaba85a9f",
            "a091e8ec684f4cffa76bb3597ce396d1",
            "8e063a9179574017822cffdb22f10ba8",
            "0985018573a94315bee234b8057eb38b",
            "c83f5b10eaec4f9ca593d4a62ab00fb0",
            "a15615d7b04f4061aeaa2c676f9fb705",
            "86dbc5e7b3334890be476adfaceb3153",
            "499849cc0fc3408d8f6a5c3c49dbf577",
            "aee21c0132ec48e6a9509cb10f98cf15",
            "2fc02da34245468ea795781e34f1e9d7",
            "380a83c5bc7344cab976052bfda6fdc3",
            "b98043abd7f64a4eae63736bbc30d925",
            "a00ec9f6596848d8921bba848c59f21d",
            "c7f0093e091546b087c5c3efab4e6270",
            "3d537b1a5dcf48ec82e5bda7fddc1c52",
            "0f9fb281f9be44d48425f2a8b5bb8cdf",
            "849c5066af6543fe88ac7a45e51cf13b",
            "aaba0188092f477288291482e34d931e",
            "6451174db01b4109887db37a370f6fa1",
            "d076c293b27b4f9aa7cfc8b037f16945",
            "bd96f85383f844559c142d95b034260d",
            "6f9e321352084c8382f74e7ff08959fd",
            "c03923788969498da648b1534a4af2a3",
            "40f8bfcd3a834f769be85de78921c283",
            "f1857e2aca8e441c991d1ccd0f146216",
            "0fdfa1b51e654744864aae550ef4b73c",
            "88611737f26f47dbba2d28f1c31d4254",
            "e87ce6c53a9f49d2ab8a348651993eff",
            "0c0ae09519f640de9de9306a31009945",
            "d8200ebad6ba455c9ea34fe09bac3872",
            "cdc8ec990c094f8dbe93b26a4af4c21f",
            "1ebbfbb6dbb24a018c34955c428a5e8c",
            "2c973e7c955b400ea141afc7698f0886",
            "63a552cd7be54b07aacdfe12bab4d978",
            "6fd0195f942d464485da50fd3ed42273",
            "99a12589a0b147d89cccf2cd61feb127",
            "3ffa1892b1364d8783de805f6a1d64ab",
            "431adc22ad41495fb693530f85060972",
            "d6b19d73f01b423b9e3b60089c81a28c",
            "4822aec038a641218eeb734f0b7cbdf9",
            "6dd21066729c44a29e6c894f1968e2e9",
            "c110eb523234493eaa9c41be5834736d",
            "c5f844647d01495dad8105509edf3fd3",
            "ab6bce4164d94db6bfb1139c85731507",
            "ef25be286d844744b61836342cc5ce75",
            "0e651c0548b74c86a08071d73f5c368b",
            "b31750a6ef6741db92c607b26684b4eb",
            "b5aa69aba2b8484b81b421589bd05fc0",
            "1b59ee91c6694cab8037a260c09718c5",
            "1975ca0571ee4348b656e1dcaacea0dc",
            "f9519f351c434c6c8f031e8c010ff1e9",
            "daf9c65d43234058b0d9cf4e356d491d",
            "f07491c7355a4204ba694bafdf8a7ca6",
            "ccd22ba571b64f03ab8fe4756f071cd6",
            "ac386f4f1abe40489196ef8fe7d40c41",
            "1b2b2a4be4e04a6aabfdca582d732021",
            "98ce0e58636a4a29b108c099d5254cbc",
            "0a5203e8d8124207aaa6e5e92cfe3765",
            "9d35143c2d7744c1aa31fb7d37bcc884",
            "65db3bc8eb224535ab036f920fa2b883",
            "3d7e084ef9fc4e5d9562fc8f5d3581a7",
            "42e0eef3be0f46f7bf6e62835ef47cf5",
            "9353923f4e3d433a9a946b9ae3f6158c",
            "2e1c680153c64cd08663a89cb6b273cd",
            "46bdaab8799840808d6d92226b7e45c7",
            "f57f314e4b2a4fff95805cd757c0635e",
            "72301ce6d11243a6803d122cc07ac947",
            "179eb7451a3d43468e70cbfc3a48ac8d",
            "f57a427b30ec47f498be27f406be4002",
            "bbe487e4efa141c5815d581d2a7ab16c",
            "d88c2579f1da4091aaf771571c9065d6",
            "7f5325d2b3d34301a2589d0a55627b6c",
            "dbc9a49746d34d7aad10d7c5c7d3181a",
            "a8a5108f88034db89c0a2d1cd3e07877",
            "a515688ad4b641c789355fc2425726e1",
            "b12063711c0d42a0affa8343de8646fa",
            "46b320731bee402b89bab4d44ba28e67",
            "b7964205bd104154bdd1b8aa0596a5c9",
            "30d43b1267484a67a84009bd3cb9abae",
            "77c46b0c43064b159403aa91d98499d6",
            "a3cbdbc1607e4618bb712cc0544921a0",
            "0c7e82e0be754a04bdb982e27c4b351f",
            "5392932500764a948393516cb36606de",
            "15b69ad722cb473a902ef9c6438cb9e7",
            "acee01bda1cf48caaa611a61847a8d83",
            "39cc940503dc49beb332b3f1ce71d359",
            "54d4f40fbdcf4289a5937ba2eeb1d337",
            "cc9e96da9fdb42af9f56fadf631de74e",
            "14af35b6306c46c28e31aa8c2ef0610f",
            "fa1431c0b66c4f0895d9727b23acd1c1",
            "30e488ecc6494a75a32429faf004363d",
            "e2baa99307a3411e80ff77d2686f8e32",
            "7b3256fc5b7c4174912bdedbcbcc1c3c",
            "7c40cb7c815f4e6ba7b2ceebd0e23c85",
            "4fb1c1218c4446aab3f5e4a85edb1550",
            "2c219144599749c9aa749cb2bc46c589",
            "229ad7388a13489e99ef8ad79b9a0242",
            "9b2eae178a2a4400a848cec8be4a746d",
            "b57a2d404445457dba828daf227f339c",
            "89002ae8b24743da9e0025de538fce30",
            "111de5592fdd40caa843f69da873244e",
            "eaeb1827aaeb46539f041227109a7e37",
            "797224eeead7483c9eb4e0d360844867",
            "d7533692f4a24222af05b2b3c40dc608",
            "26210f035e2340aabc78403ad39b764e",
            "7b4db69bfd284ad08c4baf8c00ef9007",
            "fe5c75338f5b46aca8428fdce1bcb91c",
            "bf2adc8f0dee498ca97f708f6b847bfd",
            "221240b1242547d6b3f770994e9431df",
            "55b35559e6d24ae5852d7d5850fc5572",
            "408358bd3cf44e53a8bfb5a93bee7963",
            "a9c88aea60c24fc0aef6440a856a14fb",
            "79a85d059868461680b68cfe0bc51186",
            "5fca2ff30b7243d0917a1761b2470b21",
            "f4e3bb1072db4679963645994688d772",
            "d00dfcbb784f4f1b9e1d735aef3d3b76",
            "1d4edc2975264bd38de61adc81b30e00",
            "50ab12b93b204244858ff880141666c1",
            "8c40d282717341ec9baf5344efd5c23d",
            "ad1b959240a349aa802acc2ec65eaec4",
            "4d899a43c9af45d78ff81f9a7dd611b3",
            "4af06af7de7d47f19567b3ccb383b6cd",
            "9f3f750227284831bfa61bbba06b64b5",
            "dcda971acc0748f2b8f5b1e3531aa2b0",
            "dbacd1a33fc147269bd671d252cd2043",
            "db1df95cb0394745a450fb02b7ea74c9",
            "7701e15ca8e64384a51cd685d4b6053e",
            "5a7d05fd3c8a4a8696b6ae3e83d27bfa",
            "5caa9bb254ed4f3e8a3f7f2a863c979d",
            "f9e3ebec29694d59ba6328b922f65757",
            "9067137d08ab4279bb437efcf1c0e0ea",
            "5b41b86e58ce4b8787d0abe47fae0deb",
            "52cacb09d7a6463c9b4a2fda29746c3f",
            "0b396d43beb949a791c768799ad025d5",
            "5303f4f80a884d1081d6f456b1c8cd96",
            "acc9bfdc74da4cd88192a44aacb23ed0",
            "a63f2b5095344088a7d153ea91ec3a0f",
            "1c2e449e31dd4985aecc49aabd6df3cb",
            "ae3521acd1384dd8ae30a19fadaa736d",
            "892509174d6045e38e51cdd4ad56822e",
            "989c83d686844e6fad6a3ed6f09020e0",
            "a313b98fbe9c475cb0372c883259ff32",
            "e866d195d2fb473099a00acf2c558c46",
            "b4024751ae6449339e94ba0304406736",
            "03f05767cc1a401d87f118aa9eb64250",
            "5aa6fbfa56354d55b4010af3cc1c5a33",
            "09b7235c96ee4b93b3115236984f0b0f",
            "8718275edbf34bd1b5df704ce5b8751d",
            "6c88c46113b748e59d6a203c525a1a70",
            "7a023fb5c27c43c4995d5e46119b136b",
            "71c526916381481cb5e561066c3f5ee5",
            "2b82a38a8bd6417b815e60334da65bd3",
            "15c8fe3c5d3341a989946d0cc4b6961e",
            "2de8eb5036aa42f5853e29c0348f7364",
            "9dbe4612361045fa9ab63b8031178dc6",
            "3b28829dd00c40c89409e46d470587ae",
            "ceacb91abe5b40928a3f66aed723a840",
            "01334252805c4930a36d518cbbacdd3b",
            "e862494ae61a4ee2ae6ebeb0d4d68c03",
            "b06e4680a6f445b381a7af3d3f7cd7dc",
            "3d350afbd4974fde8031635522aac63a",
            "986e7c281b994fdfbb9cd0af45e78c37",
            "25add94da2e647148d3843c890e62387",
            "c336c2af4d5e4788b4054652a44dc99a",
            "36f70de032df4363b97b3923a073ebf6",
            "d7d9e52d9cce4f508e56fd027191dc58",
            "73587ee42f084b1282aab34b35d781bf",
            "42606079fc2447428de7af28e12e43a6",
            "58bc92b8735a4a65bf97725d22c89b27",
            "9848ec055fbe45a3bb4f6e30cd58ac4a",
            "e93a5c204f1e409bb97394557481f0d9",
            "36fb70c0ec874d4ab39989c8cff8e5f0",
            "e2ab54bdcfef49efbb286c9031f021b5",
            "f824e5b2362c4d3596b127c04c8e619d",
            "b2206681555c4289bf7214e697202759",
            "c3286cbdc5984f1290b182eb68b2ce96",
            "49ce8aa1a5834c8f906166119c91ece2",
            "2a91ada82e5246e5b04559bfd67224c5",
            "1692ca71d7d84709abd739a74cc5b484",
            "d1ef82739bc347428ecd03135cabb6e7",
            "2ef74cc5fe5f4e91b41283865f237e12",
            "3fb973779a7546fc83e9e7301d3f1f7e",
            "1c24c43498c044c48b9744aa748bec61",
            "620455a236d3435abd0c5d6c5e6adc77",
            "0978e1b69e524428abe028befeb06290",
            "689387d4da714ea99bb8dd6823a494bd",
            "03e8d1361f6342c090017a26ecef9aa7",
            "1ca5cef0c6aa4cfe9fc9f2b56932f8ec",
            "ac9cba17b159463c981d2afb03749b87",
            "7eb51b9b063449b9a675ff7892b686a1",
            "a10505c22cd94167bb318ca1393de1cb",
            "b415a88981874b7ebd02d287714d83a6",
            "de422d52101945e6956922961f430ff0",
            "f9fbc2e7f4644d3aaa4d2238a5b33c55",
            "ed1b49ec2cad4e3c978d75b777a80392",
            "c025a3c95bfc4b6a8a58075bc8cbb8f0",
            "9a8aaf543ac047558e614ea5c3ebeff6",
            "86e7255627364686a3da8fc2ec0ea973",
            "56a24f4f527243ddaeec64f55f96a2a7",
            "12ee4e643d0d4eb1abde89bf3aa604f9",
            "1a99c5fd301e4d10b819724864553696",
            "b569b5d164d340e88123f4c5b1789c28",
            "8d4eec7257724816ab6217c193249219",
            "1f098ff556f14fc5b5e874c5615f25df",
            "3d5760e9f52c49dead4316f710e69ec3",
            "2b4203e79b7c4be98441e0f155922699",
            "a55c0f25a7d34ff89ab96e36003857e1",
            "240f8551bb604c7c920840a3e1b98307",
            "e6928a87af5346de868a0e7ef8d37036",
            "fa43ddbaa6de44d6bb967881a20bf0a0"
          ]
        },
        "outputId": "3554e351-fbd0-4b37-8bb9-b8c4921d66b4",
        "id": "-6NLz1yY_ql4"
      },
      "source": [
        "wandb.agent(sweep_id, train, count=50)"
      ],
      "execution_count": null,
      "outputs": [
        {
          "metadata": {
            "tags": null
          },
          "name": "stderr",
          "output_type": "stream",
          "text": [
            "\u001b[34m\u001b[1mwandb\u001b[0m: Agent Starting Run: pxj0b15a with config:\n",
            "\u001b[34m\u001b[1mwandb\u001b[0m: \tbatch_size: 32\n",
            "\u001b[34m\u001b[1mwandb\u001b[0m: \tdropout: 0.5\n",
            "\u001b[34m\u001b[1mwandb\u001b[0m: \tepochs: 2\n",
            "\u001b[34m\u001b[1mwandb\u001b[0m: \tlearning_rate: 0.0003\n",
            "\u001b[34m\u001b[1mwandb\u001b[0m: Currently logged in as: \u001b[33mamir7d0\u001b[0m. Use \u001b[1m`wandb login --relogin`\u001b[0m to force relogin\n"
          ]
        },
        {
          "data": {
            "text/html": [
              "Tracking run with wandb version 0.12.17"
            ],
            "text/plain": [
              "<IPython.core.display.HTML object>"
            ]
          },
          "metadata": {},
          "output_type": "display_data"
        },
        {
          "data": {
            "text/html": [
              "Run data is saved locally in <code>/content/wandb/run-20220603_063611-pxj0b15a</code>"
            ],
            "text/plain": [
              "<IPython.core.display.HTML object>"
            ]
          },
          "metadata": {},
          "output_type": "display_data"
        },
        {
          "data": {
            "text/html": [
              "Syncing run <strong><a href=\"https://wandb.ai/amir7d0/fashion_part2/runs/pxj0b15a\" target=\"_blank\">flowing-sweep-1</a></strong> to <a href=\"https://wandb.ai/amir7d0/fashion_part2\" target=\"_blank\">Weights & Biases</a> (<a href=\"https://wandb.me/run\" target=\"_blank\">docs</a>)<br/>Sweep page:  <a href=\"https://wandb.ai/amir7d0/fashion_part2/sweeps/urkb8pum\" target=\"_blank\">https://wandb.ai/amir7d0/fashion_part2/sweeps/urkb8pum</a>"
            ],
            "text/plain": [
              "<IPython.core.display.HTML object>"
            ]
          },
          "metadata": {},
          "output_type": "display_data"
        },
        {
          "metadata": {
            "tags": null
          },
          "name": "stderr",
          "output_type": "stream",
          "text": [
            "/usr/local/lib/python3.7/dist-packages/keras/optimizer_v2/gradient_descent.py:102: UserWarning: The `lr` argument is deprecated, use `learning_rate` instead.\n",
            "  super(SGD, self).__init__(name, **kwargs)\n",
            "\u001b[34m\u001b[1mwandb\u001b[0m: \u001b[33mWARNING\u001b[0m The save_model argument by default saves the model in the HDF5 format that cannot save custom objects like subclassed models and custom layers. This behavior will be deprecated in a future release in favor of the SavedModel format. Meanwhile, the HDF5 model is saved as W&B files and the SavedModel as W&B Artifacts.\n",
            "\u001b[34m\u001b[1mwandb\u001b[0m: \u001b[33mWARNING\u001b[0m The data_type argument of wandb.keras.WandbCallback is deprecated and will be removed in a future release. Please use input_type instead.\n",
            "\u001b[34m\u001b[1mwandb\u001b[0m: \u001b[33mWARNING\u001b[0m Setting input_type = data_type.\n"
          ]
        },
        {
          "metadata": {
            "tags": null
          },
          "name": "stdout",
          "output_type": "stream",
          "text": [
            "Epoch 1/2\n",
            "1875/1875 [==============================] - 21s 5ms/step - loss: 2.4289 - accuracy: 0.2795 - val_loss: 1.1487 - val_accuracy: 0.5916 - _timestamp: 1654238204.0000 - _runtime: 33.0000\n",
            "Epoch 2/2\n",
            "1875/1875 [==============================] - 10s 5ms/step - loss: 1.4322 - accuracy: 0.4636 - val_loss: 0.9753 - val_accuracy: 0.6430 - _timestamp: 1654238214.0000 - _runtime: 43.0000\n"
          ]
        },
        {
          "data": {
            "text/html": [
              "Waiting for W&B process to finish... <strong style=\"color:green\">(success).</strong>"
            ],
            "text/plain": [
              "<IPython.core.display.HTML object>"
            ]
          },
          "metadata": {},
          "output_type": "display_data"
        },
        {
          "data": {
            "application/vnd.jupyter.widget-view+json": {
              "model_id": "82b95357862f42998ec9b94f5e833a89",
              "version_major": 2,
              "version_minor": 0
            },
            "text/plain": [
              "VBox(children=(Label(value='3.761 MB of 3.761 MB uploaded (0.000 MB deduped)\\r'), FloatProgress(value=1.0, max…"
            ]
          },
          "metadata": {},
          "output_type": "display_data"
        },
        {
          "data": {
            "text/html": [
              "<style>\n",
              "    table.wandb td:nth-child(1) { padding: 0 10px; text-align: left ; width: auto;} td:nth-child(2) {text-align: left ; width: 100%}\n",
              "    .wandb-row { display: flex; flex-direction: row; flex-wrap: wrap; justify-content: flex-start; width: 100% }\n",
              "    .wandb-col { display: flex; flex-direction: column; flex-basis: 100%; flex: 1; padding: 10px; }\n",
              "    </style>\n",
              "<div class=\"wandb-row\"><div class=\"wandb-col\"><h3>Run history:</h3><br/><table class=\"wandb\"><tr><td>accuracy</td><td>▁█</td></tr><tr><td>epoch</td><td>▁█</td></tr><tr><td>loss</td><td>█▁</td></tr><tr><td>val_accuracy</td><td>▁█</td></tr><tr><td>val_loss</td><td>█▁</td></tr></table><br/></div><div class=\"wandb-col\"><h3>Run summary:</h3><br/><table class=\"wandb\"><tr><td>accuracy</td><td>0.46357</td></tr><tr><td>best_epoch</td><td>1</td></tr><tr><td>best_val_loss</td><td>0.97528</td></tr><tr><td>epoch</td><td>1</td></tr><tr><td>loss</td><td>1.43221</td></tr><tr><td>val_accuracy</td><td>0.643</td></tr><tr><td>val_loss</td><td>0.97528</td></tr></table><br/></div></div>"
            ],
            "text/plain": [
              "<IPython.core.display.HTML object>"
            ]
          },
          "metadata": {},
          "output_type": "display_data"
        },
        {
          "data": {
            "text/html": [
              "Synced <strong style=\"color:#cdcd00\">flowing-sweep-1</strong>: <a href=\"https://wandb.ai/amir7d0/fashion_part2/runs/pxj0b15a\" target=\"_blank\">https://wandb.ai/amir7d0/fashion_part2/runs/pxj0b15a</a><br/>Synced 5 W&B file(s), 73 media file(s), 0 artifact file(s) and 1 other file(s)"
            ],
            "text/plain": [
              "<IPython.core.display.HTML object>"
            ]
          },
          "metadata": {},
          "output_type": "display_data"
        },
        {
          "data": {
            "text/html": [
              "Find logs at: <code>./wandb/run-20220603_063611-pxj0b15a/logs</code>"
            ],
            "text/plain": [
              "<IPython.core.display.HTML object>"
            ]
          },
          "metadata": {},
          "output_type": "display_data"
        },
        {
          "metadata": {
            "tags": null
          },
          "name": "stderr",
          "output_type": "stream",
          "text": [
            "\u001b[34m\u001b[1mwandb\u001b[0m: Agent Starting Run: qbj6ltpn with config:\n",
            "\u001b[34m\u001b[1mwandb\u001b[0m: \tbatch_size: 128\n",
            "\u001b[34m\u001b[1mwandb\u001b[0m: \tdropout: 0.5\n",
            "\u001b[34m\u001b[1mwandb\u001b[0m: \tepochs: 20\n",
            "\u001b[34m\u001b[1mwandb\u001b[0m: \tlearning_rate: 0.06\n"
          ]
        },
        {
          "data": {
            "text/html": [
              "Tracking run with wandb version 0.12.17"
            ],
            "text/plain": [
              "<IPython.core.display.HTML object>"
            ]
          },
          "metadata": {},
          "output_type": "display_data"
        },
        {
          "data": {
            "text/html": [
              "Run data is saved locally in <code>/content/wandb/run-20220603_063718-qbj6ltpn</code>"
            ],
            "text/plain": [
              "<IPython.core.display.HTML object>"
            ]
          },
          "metadata": {},
          "output_type": "display_data"
        },
        {
          "data": {
            "text/html": [
              "Syncing run <strong><a href=\"https://wandb.ai/amir7d0/fashion_part2/runs/qbj6ltpn\" target=\"_blank\">upbeat-sweep-2</a></strong> to <a href=\"https://wandb.ai/amir7d0/fashion_part2\" target=\"_blank\">Weights & Biases</a> (<a href=\"https://wandb.me/run\" target=\"_blank\">docs</a>)<br/>Sweep page:  <a href=\"https://wandb.ai/amir7d0/fashion_part2/sweeps/urkb8pum\" target=\"_blank\">https://wandb.ai/amir7d0/fashion_part2/sweeps/urkb8pum</a>"
            ],
            "text/plain": [
              "<IPython.core.display.HTML object>"
            ]
          },
          "metadata": {},
          "output_type": "display_data"
        },
        {
          "metadata": {
            "tags": null
          },
          "name": "stdout",
          "output_type": "stream",
          "text": [
            "Epoch 1/20\n",
            "469/469 [==============================] - 9s 17ms/step - loss: 0.9611 - accuracy: 0.6497 - val_loss: 0.6008 - val_accuracy: 0.7620 - _timestamp: 1654238255.0000 - _runtime: 17.0000\n",
            "Epoch 2/20\n",
            "469/469 [==============================] - 7s 16ms/step - loss: 0.6221 - accuracy: 0.7657 - val_loss: 0.5270 - val_accuracy: 0.8018 - _timestamp: 1654238262.0000 - _runtime: 24.0000\n",
            "Epoch 3/20\n",
            "469/469 [==============================] - 7s 14ms/step - loss: 0.5525 - accuracy: 0.7943 - val_loss: 0.4866 - val_accuracy: 0.8262 - _timestamp: 1654238269.0000 - _runtime: 31.0000\n",
            "Epoch 4/20\n",
            "469/469 [==============================] - 6s 14ms/step - loss: 0.5087 - accuracy: 0.8110 - val_loss: 0.4652 - val_accuracy: 0.8424 - _timestamp: 1654238275.0000 - _runtime: 37.0000\n",
            "Epoch 5/20\n",
            "469/469 [==============================] - 7s 14ms/step - loss: 0.4776 - accuracy: 0.8219 - val_loss: 0.4580 - val_accuracy: 0.8356 - _timestamp: 1654238282.0000 - _runtime: 44.0000\n",
            "Epoch 6/20\n",
            "469/469 [==============================] - 7s 14ms/step - loss: 0.4536 - accuracy: 0.8311 - val_loss: 0.4024 - val_accuracy: 0.8606 - _timestamp: 1654238289.0000 - _runtime: 51.0000\n",
            "Epoch 7/20\n",
            "469/469 [==============================] - 6s 14ms/step - loss: 0.4368 - accuracy: 0.8380 - val_loss: 0.4034 - val_accuracy: 0.8560 - _timestamp: 1654238295.0000 - _runtime: 57.0000\n",
            "Epoch 8/20\n",
            "469/469 [==============================] - 6s 14ms/step - loss: 0.4204 - accuracy: 0.8443 - val_loss: 0.3672 - val_accuracy: 0.8644 - _timestamp: 1654238302.0000 - _runtime: 64.0000\n",
            "Epoch 9/20\n",
            "469/469 [==============================] - 7s 15ms/step - loss: 0.4054 - accuracy: 0.8489 - val_loss: 0.3538 - val_accuracy: 0.8748 - _timestamp: 1654238309.0000 - _runtime: 71.0000\n",
            "Epoch 10/20\n",
            "469/469 [==============================] - 7s 14ms/step - loss: 0.3997 - accuracy: 0.8505 - val_loss: 0.3804 - val_accuracy: 0.8694 - _timestamp: 1654238316.0000 - _runtime: 78.0000\n",
            "Epoch 11/20\n",
            "469/469 [==============================] - 7s 14ms/step - loss: 0.3846 - accuracy: 0.8575 - val_loss: 0.3596 - val_accuracy: 0.8786 - _timestamp: 1654238322.0000 - _runtime: 84.0000\n",
            "Epoch 12/20\n",
            "469/469 [==============================] - 7s 15ms/step - loss: 0.3737 - accuracy: 0.8609 - val_loss: 0.3496 - val_accuracy: 0.8818 - _timestamp: 1654238329.0000 - _runtime: 91.0000\n",
            "Epoch 13/20\n",
            "469/469 [==============================] - 6s 14ms/step - loss: 0.3699 - accuracy: 0.8617 - val_loss: 0.3299 - val_accuracy: 0.8834 - _timestamp: 1654238336.0000 - _runtime: 98.0000\n",
            "Epoch 14/20\n",
            "469/469 [==============================] - 7s 14ms/step - loss: 0.3614 - accuracy: 0.8660 - val_loss: 0.3654 - val_accuracy: 0.8786 - _timestamp: 1654238343.0000 - _runtime: 105.0000\n",
            "Epoch 15/20\n",
            "469/469 [==============================] - 7s 15ms/step - loss: 0.3531 - accuracy: 0.8680 - val_loss: 0.3159 - val_accuracy: 0.8900 - _timestamp: 1654238349.0000 - _runtime: 111.0000\n",
            "Epoch 16/20\n",
            "469/469 [==============================] - 6s 14ms/step - loss: 0.3499 - accuracy: 0.8691 - val_loss: 0.3194 - val_accuracy: 0.8908 - _timestamp: 1654238356.0000 - _runtime: 118.0000\n",
            "Epoch 17/20\n",
            "469/469 [==============================] - 7s 14ms/step - loss: 0.3431 - accuracy: 0.8717 - val_loss: 0.3503 - val_accuracy: 0.8832 - _timestamp: 1654238363.0000 - _runtime: 125.0000\n",
            "Epoch 18/20\n",
            "469/469 [==============================] - 7s 14ms/step - loss: 0.3407 - accuracy: 0.8736 - val_loss: 0.3148 - val_accuracy: 0.8922 - _timestamp: 1654238369.0000 - _runtime: 131.0000\n",
            "Epoch 19/20\n",
            "469/469 [==============================] - 6s 14ms/step - loss: 0.3306 - accuracy: 0.8766 - val_loss: 0.3245 - val_accuracy: 0.8950 - _timestamp: 1654238376.0000 - _runtime: 138.0000\n",
            "Epoch 20/20\n",
            "469/469 [==============================] - 7s 14ms/step - loss: 0.3254 - accuracy: 0.8793 - val_loss: 0.3381 - val_accuracy: 0.8780 - _timestamp: 1654238382.0000 - _runtime: 144.0000\n"
          ]
        },
        {
          "data": {
            "text/html": [
              "Waiting for W&B process to finish... <strong style=\"color:green\">(success).</strong>"
            ],
            "text/plain": [
              "<IPython.core.display.HTML object>"
            ]
          },
          "metadata": {},
          "output_type": "display_data"
        },
        {
          "data": {
            "application/vnd.jupyter.widget-view+json": {
              "model_id": "837a08e4adc243a39e80e5bc8a43bc5e",
              "version_major": 2,
              "version_minor": 0
            },
            "text/plain": [
              "VBox(children=(Label(value='4.076 MB of 4.079 MB uploaded (0.000 MB deduped)\\r'), FloatProgress(value=0.999397…"
            ]
          },
          "metadata": {},
          "output_type": "display_data"
        },
        {
          "data": {
            "text/html": [
              "<style>\n",
              "    table.wandb td:nth-child(1) { padding: 0 10px; text-align: left ; width: auto;} td:nth-child(2) {text-align: left ; width: 100%}\n",
              "    .wandb-row { display: flex; flex-direction: row; flex-wrap: wrap; justify-content: flex-start; width: 100% }\n",
              "    .wandb-col { display: flex; flex-direction: column; flex-basis: 100%; flex: 1; padding: 10px; }\n",
              "    </style>\n",
              "<div class=\"wandb-row\"><div class=\"wandb-col\"><h3>Run history:</h3><br/><table class=\"wandb\"><tr><td>accuracy</td><td>▁▅▅▆▆▇▇▇▇▇▇▇▇███████</td></tr><tr><td>epoch</td><td>▁▁▂▂▂▃▃▄▄▄▅▅▅▆▆▇▇▇██</td></tr><tr><td>loss</td><td>█▄▄▃▃▂▂▂▂▂▂▂▁▁▁▁▁▁▁▁</td></tr><tr><td>val_accuracy</td><td>▁▃▄▅▅▆▆▆▇▇▇▇▇▇██▇██▇</td></tr><tr><td>val_loss</td><td>█▆▅▅▅▃▃▂▂▃▂▂▁▂▁▁▂▁▁▂</td></tr></table><br/></div><div class=\"wandb-col\"><h3>Run summary:</h3><br/><table class=\"wandb\"><tr><td>accuracy</td><td>0.8793</td></tr><tr><td>best_epoch</td><td>17</td></tr><tr><td>best_val_loss</td><td>0.31478</td></tr><tr><td>epoch</td><td>19</td></tr><tr><td>loss</td><td>0.32543</td></tr><tr><td>val_accuracy</td><td>0.878</td></tr><tr><td>val_loss</td><td>0.33805</td></tr></table><br/></div></div>"
            ],
            "text/plain": [
              "<IPython.core.display.HTML object>"
            ]
          },
          "metadata": {},
          "output_type": "display_data"
        },
        {
          "data": {
            "text/html": [
              "Synced <strong style=\"color:#cdcd00\">upbeat-sweep-2</strong>: <a href=\"https://wandb.ai/amir7d0/fashion_part2/runs/qbj6ltpn\" target=\"_blank\">https://wandb.ai/amir7d0/fashion_part2/runs/qbj6ltpn</a><br/>Synced 5 W&B file(s), 721 media file(s), 0 artifact file(s) and 1 other file(s)"
            ],
            "text/plain": [
              "<IPython.core.display.HTML object>"
            ]
          },
          "metadata": {},
          "output_type": "display_data"
        },
        {
          "data": {
            "text/html": [
              "Find logs at: <code>./wandb/run-20220603_063718-qbj6ltpn/logs</code>"
            ],
            "text/plain": [
              "<IPython.core.display.HTML object>"
            ]
          },
          "metadata": {},
          "output_type": "display_data"
        },
        {
          "metadata": {
            "tags": null
          },
          "name": "stderr",
          "output_type": "stream",
          "text": [
            "\u001b[34m\u001b[1mwandb\u001b[0m: Agent Starting Run: ly94etdn with config:\n",
            "\u001b[34m\u001b[1mwandb\u001b[0m: \tbatch_size: 32\n",
            "\u001b[34m\u001b[1mwandb\u001b[0m: \tdropout: 0.5\n",
            "\u001b[34m\u001b[1mwandb\u001b[0m: \tepochs: 2\n",
            "\u001b[34m\u001b[1mwandb\u001b[0m: \tlearning_rate: 0.06\n"
          ]
        },
        {
          "data": {
            "text/html": [
              "Tracking run with wandb version 0.12.17"
            ],
            "text/plain": [
              "<IPython.core.display.HTML object>"
            ]
          },
          "metadata": {},
          "output_type": "display_data"
        },
        {
          "data": {
            "text/html": [
              "Run data is saved locally in <code>/content/wandb/run-20220603_063955-ly94etdn</code>"
            ],
            "text/plain": [
              "<IPython.core.display.HTML object>"
            ]
          },
          "metadata": {},
          "output_type": "display_data"
        },
        {
          "data": {
            "text/html": [
              "Syncing run <strong><a href=\"https://wandb.ai/amir7d0/fashion_part2/runs/ly94etdn\" target=\"_blank\">misunderstood-sweep-3</a></strong> to <a href=\"https://wandb.ai/amir7d0/fashion_part2\" target=\"_blank\">Weights & Biases</a> (<a href=\"https://wandb.me/run\" target=\"_blank\">docs</a>)<br/>Sweep page:  <a href=\"https://wandb.ai/amir7d0/fashion_part2/sweeps/urkb8pum\" target=\"_blank\">https://wandb.ai/amir7d0/fashion_part2/sweeps/urkb8pum</a>"
            ],
            "text/plain": [
              "<IPython.core.display.HTML object>"
            ]
          },
          "metadata": {},
          "output_type": "display_data"
        },
        {
          "metadata": {
            "tags": null
          },
          "name": "stdout",
          "output_type": "stream",
          "text": [
            "Epoch 1/2\n",
            "   1/1875 [..............................] - ETA: 16:15 - loss: 7.0450 - accuracy: 0.0625WARNING:tensorflow:Callback method `on_train_batch_end` is slow compared to the batch time (batch time: 0.0036s vs `on_train_batch_end` time: 0.0036s). Check your callbacks.\n",
            "1875/1875 [==============================] - 10s 5ms/step - loss: 0.8971 - accuracy: 0.6743 - val_loss: 0.5962 - val_accuracy: 0.7904 - _timestamp: 1654238413.0000 - _runtime: 18.0000\n",
            "Epoch 2/2\n",
            "1875/1875 [==============================] - 10s 5ms/step - loss: 0.5959 - accuracy: 0.7821 - val_loss: 0.4904 - val_accuracy: 0.8344 - _timestamp: 1654238424.0000 - _runtime: 29.0000\n"
          ]
        },
        {
          "data": {
            "text/html": [
              "Waiting for W&B process to finish... <strong style=\"color:green\">(success).</strong>"
            ],
            "text/plain": [
              "<IPython.core.display.HTML object>"
            ]
          },
          "metadata": {},
          "output_type": "display_data"
        },
        {
          "data": {
            "application/vnd.jupyter.widget-view+json": {
              "model_id": "5df386c3f9e14558bef670e1590d9806",
              "version_major": 2,
              "version_minor": 0
            },
            "text/plain": [
              "VBox(children=(Label(value='3.759 MB of 3.759 MB uploaded (0.000 MB deduped)\\r'), FloatProgress(value=0.999851…"
            ]
          },
          "metadata": {},
          "output_type": "display_data"
        },
        {
          "data": {
            "text/html": [
              "<style>\n",
              "    table.wandb td:nth-child(1) { padding: 0 10px; text-align: left ; width: auto;} td:nth-child(2) {text-align: left ; width: 100%}\n",
              "    .wandb-row { display: flex; flex-direction: row; flex-wrap: wrap; justify-content: flex-start; width: 100% }\n",
              "    .wandb-col { display: flex; flex-direction: column; flex-basis: 100%; flex: 1; padding: 10px; }\n",
              "    </style>\n",
              "<div class=\"wandb-row\"><div class=\"wandb-col\"><h3>Run history:</h3><br/><table class=\"wandb\"><tr><td>accuracy</td><td>▁█</td></tr><tr><td>epoch</td><td>▁█</td></tr><tr><td>loss</td><td>█▁</td></tr><tr><td>val_accuracy</td><td>▁█</td></tr><tr><td>val_loss</td><td>█▁</td></tr></table><br/></div><div class=\"wandb-col\"><h3>Run summary:</h3><br/><table class=\"wandb\"><tr><td>accuracy</td><td>0.78205</td></tr><tr><td>best_epoch</td><td>1</td></tr><tr><td>best_val_loss</td><td>0.49044</td></tr><tr><td>epoch</td><td>1</td></tr><tr><td>loss</td><td>0.59589</td></tr><tr><td>val_accuracy</td><td>0.8344</td></tr><tr><td>val_loss</td><td>0.49044</td></tr></table><br/></div></div>"
            ],
            "text/plain": [
              "<IPython.core.display.HTML object>"
            ]
          },
          "metadata": {},
          "output_type": "display_data"
        },
        {
          "data": {
            "text/html": [
              "Synced <strong style=\"color:#cdcd00\">misunderstood-sweep-3</strong>: <a href=\"https://wandb.ai/amir7d0/fashion_part2/runs/ly94etdn\" target=\"_blank\">https://wandb.ai/amir7d0/fashion_part2/runs/ly94etdn</a><br/>Synced 5 W&B file(s), 73 media file(s), 0 artifact file(s) and 1 other file(s)"
            ],
            "text/plain": [
              "<IPython.core.display.HTML object>"
            ]
          },
          "metadata": {},
          "output_type": "display_data"
        },
        {
          "data": {
            "text/html": [
              "Find logs at: <code>./wandb/run-20220603_063955-ly94etdn/logs</code>"
            ],
            "text/plain": [
              "<IPython.core.display.HTML object>"
            ]
          },
          "metadata": {},
          "output_type": "display_data"
        },
        {
          "metadata": {
            "tags": null
          },
          "name": "stderr",
          "output_type": "stream",
          "text": [
            "\u001b[34m\u001b[1mwandb\u001b[0m: Agent Starting Run: z36vnyja with config:\n",
            "\u001b[34m\u001b[1mwandb\u001b[0m: \tbatch_size: 32\n",
            "\u001b[34m\u001b[1mwandb\u001b[0m: \tdropout: 0.5\n",
            "\u001b[34m\u001b[1mwandb\u001b[0m: \tepochs: 10\n",
            "\u001b[34m\u001b[1mwandb\u001b[0m: \tlearning_rate: 0.001\n"
          ]
        },
        {
          "data": {
            "text/html": [
              "Tracking run with wandb version 0.12.17"
            ],
            "text/plain": [
              "<IPython.core.display.HTML object>"
            ]
          },
          "metadata": {},
          "output_type": "display_data"
        },
        {
          "data": {
            "text/html": [
              "Run data is saved locally in <code>/content/wandb/run-20220603_064046-z36vnyja</code>"
            ],
            "text/plain": [
              "<IPython.core.display.HTML object>"
            ]
          },
          "metadata": {},
          "output_type": "display_data"
        },
        {
          "data": {
            "text/html": [
              "Syncing run <strong><a href=\"https://wandb.ai/amir7d0/fashion_part2/runs/z36vnyja\" target=\"_blank\">frosty-sweep-4</a></strong> to <a href=\"https://wandb.ai/amir7d0/fashion_part2\" target=\"_blank\">Weights & Biases</a> (<a href=\"https://wandb.me/run\" target=\"_blank\">docs</a>)<br/>Sweep page:  <a href=\"https://wandb.ai/amir7d0/fashion_part2/sweeps/urkb8pum\" target=\"_blank\">https://wandb.ai/amir7d0/fashion_part2/sweeps/urkb8pum</a>"
            ],
            "text/plain": [
              "<IPython.core.display.HTML object>"
            ]
          },
          "metadata": {},
          "output_type": "display_data"
        },
        {
          "metadata": {
            "tags": null
          },
          "name": "stdout",
          "output_type": "stream",
          "text": [
            "Epoch 1/10\n",
            "1875/1875 [==============================] - 10s 5ms/step - loss: 1.6904 - accuracy: 0.4317 - val_loss: 0.8858 - val_accuracy: 0.6890 - _timestamp: 1654238464.0000 - _runtime: 18.0000\n",
            "Epoch 2/10\n",
            "1875/1875 [==============================] - 10s 5ms/step - loss: 0.9764 - accuracy: 0.6323 - val_loss: 0.7663 - val_accuracy: 0.7160 - _timestamp: 1654238474.0000 - _runtime: 28.0000\n",
            "Epoch 3/10\n",
            "1875/1875 [==============================] - 10s 5ms/step - loss: 0.8334 - accuracy: 0.6869 - val_loss: 0.7166 - val_accuracy: 0.7306 - _timestamp: 1654238484.0000 - _runtime: 38.0000\n",
            "Epoch 4/10\n",
            "1875/1875 [==============================] - 10s 5ms/step - loss: 0.7644 - accuracy: 0.7123 - val_loss: 0.6706 - val_accuracy: 0.7438 - _timestamp: 1654238494.0000 - _runtime: 48.0000\n",
            "Epoch 5/10\n",
            "1875/1875 [==============================] - 10s 5ms/step - loss: 0.7221 - accuracy: 0.7281 - val_loss: 0.6576 - val_accuracy: 0.7496 - _timestamp: 1654238504.0000 - _runtime: 58.0000\n",
            "Epoch 6/10\n",
            "1875/1875 [==============================] - 10s 5ms/step - loss: 0.6894 - accuracy: 0.7411 - val_loss: 0.6341 - val_accuracy: 0.7576 - _timestamp: 1654238514.0000 - _runtime: 68.0000\n",
            "Epoch 7/10\n",
            "1875/1875 [==============================] - 10s 5ms/step - loss: 0.6637 - accuracy: 0.7486 - val_loss: 0.6160 - val_accuracy: 0.7642 - _timestamp: 1654238524.0000 - _runtime: 78.0000\n",
            "Epoch 8/10\n",
            "1875/1875 [==============================] - 11s 6ms/step - loss: 0.6444 - accuracy: 0.7556 - val_loss: 0.5914 - val_accuracy: 0.7698 - _timestamp: 1654238535.0000 - _runtime: 89.0000\n",
            "Epoch 9/10\n",
            "1875/1875 [==============================] - 10s 5ms/step - loss: 0.6286 - accuracy: 0.7618 - val_loss: 0.5797 - val_accuracy: 0.7746 - _timestamp: 1654238545.0000 - _runtime: 99.0000\n",
            "Epoch 10/10\n",
            "1875/1875 [==============================] - 10s 5ms/step - loss: 0.6156 - accuracy: 0.7670 - val_loss: 0.5809 - val_accuracy: 0.7770 - _timestamp: 1654238555.0000 - _runtime: 109.0000\n"
          ]
        },
        {
          "data": {
            "text/html": [
              "Waiting for W&B process to finish... <strong style=\"color:green\">(success).</strong>"
            ],
            "text/plain": [
              "<IPython.core.display.HTML object>"
            ]
          },
          "metadata": {},
          "output_type": "display_data"
        },
        {
          "data": {
            "application/vnd.jupyter.widget-view+json": {
              "model_id": "667f28a4dcaa47eb9c4c43bc50e705e4",
              "version_major": 2,
              "version_minor": 0
            },
            "text/plain": [
              "VBox(children=(Label(value='3.902 MB of 3.902 MB uploaded (0.000 MB deduped)\\r'), FloatProgress(value=1.0, max…"
            ]
          },
          "metadata": {},
          "output_type": "display_data"
        },
        {
          "data": {
            "text/html": [
              "<style>\n",
              "    table.wandb td:nth-child(1) { padding: 0 10px; text-align: left ; width: auto;} td:nth-child(2) {text-align: left ; width: 100%}\n",
              "    .wandb-row { display: flex; flex-direction: row; flex-wrap: wrap; justify-content: flex-start; width: 100% }\n",
              "    .wandb-col { display: flex; flex-direction: column; flex-basis: 100%; flex: 1; padding: 10px; }\n",
              "    </style>\n",
              "<div class=\"wandb-row\"><div class=\"wandb-col\"><h3>Run history:</h3><br/><table class=\"wandb\"><tr><td>accuracy</td><td>▁▅▆▇▇▇████</td></tr><tr><td>epoch</td><td>▁▂▃▃▄▅▆▆▇█</td></tr><tr><td>loss</td><td>█▃▂▂▂▁▁▁▁▁</td></tr><tr><td>val_accuracy</td><td>▁▃▄▅▆▆▇▇██</td></tr><tr><td>val_loss</td><td>█▅▄▃▃▂▂▁▁▁</td></tr></table><br/></div><div class=\"wandb-col\"><h3>Run summary:</h3><br/><table class=\"wandb\"><tr><td>accuracy</td><td>0.767</td></tr><tr><td>best_epoch</td><td>8</td></tr><tr><td>best_val_loss</td><td>0.5797</td></tr><tr><td>epoch</td><td>9</td></tr><tr><td>loss</td><td>0.61563</td></tr><tr><td>val_accuracy</td><td>0.777</td></tr><tr><td>val_loss</td><td>0.58091</td></tr></table><br/></div></div>"
            ],
            "text/plain": [
              "<IPython.core.display.HTML object>"
            ]
          },
          "metadata": {},
          "output_type": "display_data"
        },
        {
          "data": {
            "text/html": [
              "Synced <strong style=\"color:#cdcd00\">frosty-sweep-4</strong>: <a href=\"https://wandb.ai/amir7d0/fashion_part2/runs/z36vnyja\" target=\"_blank\">https://wandb.ai/amir7d0/fashion_part2/runs/z36vnyja</a><br/>Synced 5 W&B file(s), 361 media file(s), 0 artifact file(s) and 1 other file(s)"
            ],
            "text/plain": [
              "<IPython.core.display.HTML object>"
            ]
          },
          "metadata": {},
          "output_type": "display_data"
        },
        {
          "data": {
            "text/html": [
              "Find logs at: <code>./wandb/run-20220603_064046-z36vnyja/logs</code>"
            ],
            "text/plain": [
              "<IPython.core.display.HTML object>"
            ]
          },
          "metadata": {},
          "output_type": "display_data"
        },
        {
          "metadata": {
            "tags": null
          },
          "name": "stderr",
          "output_type": "stream",
          "text": [
            "\u001b[34m\u001b[1mwandb\u001b[0m: Agent Starting Run: 74gj42a5 with config:\n",
            "\u001b[34m\u001b[1mwandb\u001b[0m: \tbatch_size: 128\n",
            "\u001b[34m\u001b[1mwandb\u001b[0m: \tdropout: 0.35\n",
            "\u001b[34m\u001b[1mwandb\u001b[0m: \tepochs: 20\n",
            "\u001b[34m\u001b[1mwandb\u001b[0m: \tlearning_rate: 0.0003\n"
          ]
        },
        {
          "data": {
            "text/html": [
              "Tracking run with wandb version 0.12.17"
            ],
            "text/plain": [
              "<IPython.core.display.HTML object>"
            ]
          },
          "metadata": {},
          "output_type": "display_data"
        },
        {
          "data": {
            "text/html": [
              "Run data is saved locally in <code>/content/wandb/run-20220603_064247-74gj42a5</code>"
            ],
            "text/plain": [
              "<IPython.core.display.HTML object>"
            ]
          },
          "metadata": {},
          "output_type": "display_data"
        },
        {
          "data": {
            "text/html": [
              "Syncing run <strong><a href=\"https://wandb.ai/amir7d0/fashion_part2/runs/74gj42a5\" target=\"_blank\">misty-sweep-5</a></strong> to <a href=\"https://wandb.ai/amir7d0/fashion_part2\" target=\"_blank\">Weights & Biases</a> (<a href=\"https://wandb.me/run\" target=\"_blank\">docs</a>)<br/>Sweep page:  <a href=\"https://wandb.ai/amir7d0/fashion_part2/sweeps/urkb8pum\" target=\"_blank\">https://wandb.ai/amir7d0/fashion_part2/sweeps/urkb8pum</a>"
            ],
            "text/plain": [
              "<IPython.core.display.HTML object>"
            ]
          },
          "metadata": {},
          "output_type": "display_data"
        },
        {
          "metadata": {
            "tags": null
          },
          "name": "stdout",
          "output_type": "stream",
          "text": [
            "Epoch 1/20\n",
            "469/469 [==============================] - 7s 14ms/step - loss: 2.6747 - accuracy: 0.2359 - val_loss: 1.7154 - val_accuracy: 0.4722 - _timestamp: 1654238582.0000 - _runtime: 15.0000\n",
            "Epoch 2/20\n",
            "469/469 [==============================] - 7s 14ms/step - loss: 1.7156 - accuracy: 0.4066 - val_loss: 1.2381 - val_accuracy: 0.5782 - _timestamp: 1654238589.0000 - _runtime: 22.0000\n",
            "Epoch 3/20\n",
            "469/469 [==============================] - 7s 14ms/step - loss: 1.4275 - accuracy: 0.4907 - val_loss: 1.0941 - val_accuracy: 0.6202 - _timestamp: 1654238595.0000 - _runtime: 28.0000\n",
            "Epoch 4/20\n",
            "469/469 [==============================] - 7s 14ms/step - loss: 1.2713 - accuracy: 0.5375 - val_loss: 1.0047 - val_accuracy: 0.6446 - _timestamp: 1654238602.0000 - _runtime: 35.0000\n",
            "Epoch 5/20\n",
            "469/469 [==============================] - 7s 15ms/step - loss: 1.1626 - accuracy: 0.5760 - val_loss: 0.9425 - val_accuracy: 0.6608 - _timestamp: 1654238609.0000 - _runtime: 42.0000\n",
            "Epoch 6/20\n",
            "469/469 [==============================] - 7s 14ms/step - loss: 1.0803 - accuracy: 0.6037 - val_loss: 0.9011 - val_accuracy: 0.6700 - _timestamp: 1654238616.0000 - _runtime: 49.0000\n",
            "Epoch 7/20\n",
            "469/469 [==============================] - 7s 14ms/step - loss: 1.0235 - accuracy: 0.6245 - val_loss: 0.8626 - val_accuracy: 0.6820 - _timestamp: 1654238622.0000 - _runtime: 55.0000\n",
            "Epoch 8/20\n",
            "469/469 [==============================] - 7s 14ms/step - loss: 0.9742 - accuracy: 0.6427 - val_loss: 0.8396 - val_accuracy: 0.6876 - _timestamp: 1654238629.0000 - _runtime: 62.0000\n",
            "Epoch 9/20\n",
            "469/469 [==============================] - 6s 14ms/step - loss: 0.9359 - accuracy: 0.6570 - val_loss: 0.8150 - val_accuracy: 0.6952 - _timestamp: 1654238636.0000 - _runtime: 69.0000\n",
            "Epoch 10/20\n",
            "469/469 [==============================] - 7s 16ms/step - loss: 0.9015 - accuracy: 0.6689 - val_loss: 0.7943 - val_accuracy: 0.7046 - _timestamp: 1654238643.0000 - _runtime: 76.0000\n",
            "Epoch 11/20\n",
            "469/469 [==============================] - 6s 14ms/step - loss: 0.8769 - accuracy: 0.6781 - val_loss: 0.7735 - val_accuracy: 0.7130 - _timestamp: 1654238649.0000 - _runtime: 82.0000\n",
            "Epoch 12/20\n",
            "469/469 [==============================] - 7s 14ms/step - loss: 0.8500 - accuracy: 0.6864 - val_loss: 0.7617 - val_accuracy: 0.7164 - _timestamp: 1654238656.0000 - _runtime: 89.0000\n",
            "Epoch 13/20\n",
            "469/469 [==============================] - 7s 15ms/step - loss: 0.8310 - accuracy: 0.6935 - val_loss: 0.7477 - val_accuracy: 0.7218 - _timestamp: 1654238663.0000 - _runtime: 96.0000\n",
            "Epoch 14/20\n",
            "469/469 [==============================] - 7s 15ms/step - loss: 0.8124 - accuracy: 0.6999 - val_loss: 0.7380 - val_accuracy: 0.7276 - _timestamp: 1654238670.0000 - _runtime: 103.0000\n",
            "Epoch 15/20\n",
            "469/469 [==============================] - 7s 14ms/step - loss: 0.7988 - accuracy: 0.7050 - val_loss: 0.7293 - val_accuracy: 0.7294 - _timestamp: 1654238677.0000 - _runtime: 110.0000\n",
            "Epoch 16/20\n",
            "469/469 [==============================] - 7s 15ms/step - loss: 0.7852 - accuracy: 0.7088 - val_loss: 0.7189 - val_accuracy: 0.7344 - _timestamp: 1654238683.0000 - _runtime: 116.0000\n",
            "Epoch 17/20\n",
            "469/469 [==============================] - 7s 14ms/step - loss: 0.7728 - accuracy: 0.7139 - val_loss: 0.7067 - val_accuracy: 0.7388 - _timestamp: 1654238690.0000 - _runtime: 123.0000\n",
            "Epoch 18/20\n",
            "469/469 [==============================] - 7s 14ms/step - loss: 0.7601 - accuracy: 0.7182 - val_loss: 0.6986 - val_accuracy: 0.7432 - _timestamp: 1654238697.0000 - _runtime: 130.0000\n",
            "Epoch 19/20\n",
            "469/469 [==============================] - 7s 14ms/step - loss: 0.7464 - accuracy: 0.7241 - val_loss: 0.6884 - val_accuracy: 0.7468 - _timestamp: 1654238703.0000 - _runtime: 136.0000\n",
            "Epoch 20/20\n",
            "469/469 [==============================] - 7s 14ms/step - loss: 0.7383 - accuracy: 0.7255 - val_loss: 0.6826 - val_accuracy: 0.7486 - _timestamp: 1654238710.0000 - _runtime: 143.0000\n"
          ]
        },
        {
          "data": {
            "text/html": [
              "Waiting for W&B process to finish... <strong style=\"color:green\">(success).</strong>"
            ],
            "text/plain": [
              "<IPython.core.display.HTML object>"
            ]
          },
          "metadata": {},
          "output_type": "display_data"
        },
        {
          "data": {
            "application/vnd.jupyter.widget-view+json": {
              "model_id": "d02f3372de294ef0b9769e9ca871ee0b",
              "version_major": 2,
              "version_minor": 0
            },
            "text/plain": [
              "VBox(children=(Label(value='4.076 MB of 4.076 MB uploaded (0.000 MB deduped)\\r'), FloatProgress(value=1.0, max…"
            ]
          },
          "metadata": {},
          "output_type": "display_data"
        },
        {
          "data": {
            "text/html": [
              "<style>\n",
              "    table.wandb td:nth-child(1) { padding: 0 10px; text-align: left ; width: auto;} td:nth-child(2) {text-align: left ; width: 100%}\n",
              "    .wandb-row { display: flex; flex-direction: row; flex-wrap: wrap; justify-content: flex-start; width: 100% }\n",
              "    .wandb-col { display: flex; flex-direction: column; flex-basis: 100%; flex: 1; padding: 10px; }\n",
              "    </style>\n",
              "<div class=\"wandb-row\"><div class=\"wandb-col\"><h3>Run history:</h3><br/><table class=\"wandb\"><tr><td>accuracy</td><td>▁▃▅▅▆▆▇▇▇▇▇▇████████</td></tr><tr><td>epoch</td><td>▁▁▂▂▂▃▃▄▄▄▅▅▅▆▆▇▇▇██</td></tr><tr><td>loss</td><td>█▅▃▃▃▂▂▂▂▂▂▁▁▁▁▁▁▁▁▁</td></tr><tr><td>val_accuracy</td><td>▁▄▅▅▆▆▆▆▇▇▇▇▇▇██████</td></tr><tr><td>val_loss</td><td>█▅▄▃▃▂▂▂▂▂▂▂▁▁▁▁▁▁▁▁</td></tr></table><br/></div><div class=\"wandb-col\"><h3>Run summary:</h3><br/><table class=\"wandb\"><tr><td>accuracy</td><td>0.72555</td></tr><tr><td>best_epoch</td><td>19</td></tr><tr><td>best_val_loss</td><td>0.68263</td></tr><tr><td>epoch</td><td>19</td></tr><tr><td>loss</td><td>0.73829</td></tr><tr><td>val_accuracy</td><td>0.7486</td></tr><tr><td>val_loss</td><td>0.68263</td></tr></table><br/></div></div>"
            ],
            "text/plain": [
              "<IPython.core.display.HTML object>"
            ]
          },
          "metadata": {},
          "output_type": "display_data"
        },
        {
          "data": {
            "text/html": [
              "Synced <strong style=\"color:#cdcd00\">misty-sweep-5</strong>: <a href=\"https://wandb.ai/amir7d0/fashion_part2/runs/74gj42a5\" target=\"_blank\">https://wandb.ai/amir7d0/fashion_part2/runs/74gj42a5</a><br/>Synced 5 W&B file(s), 721 media file(s), 0 artifact file(s) and 1 other file(s)"
            ],
            "text/plain": [
              "<IPython.core.display.HTML object>"
            ]
          },
          "metadata": {},
          "output_type": "display_data"
        },
        {
          "data": {
            "text/html": [
              "Find logs at: <code>./wandb/run-20220603_064247-74gj42a5/logs</code>"
            ],
            "text/plain": [
              "<IPython.core.display.HTML object>"
            ]
          },
          "metadata": {},
          "output_type": "display_data"
        },
        {
          "metadata": {
            "tags": null
          },
          "name": "stderr",
          "output_type": "stream",
          "text": [
            "\u001b[34m\u001b[1mwandb\u001b[0m: Agent Starting Run: yeced4a4 with config:\n",
            "\u001b[34m\u001b[1mwandb\u001b[0m: \tbatch_size: 32\n",
            "\u001b[34m\u001b[1mwandb\u001b[0m: \tdropout: 0.5\n",
            "\u001b[34m\u001b[1mwandb\u001b[0m: \tepochs: 2\n",
            "\u001b[34m\u001b[1mwandb\u001b[0m: \tlearning_rate: 0.0003\n"
          ]
        },
        {
          "data": {
            "text/html": [
              "Tracking run with wandb version 0.12.17"
            ],
            "text/plain": [
              "<IPython.core.display.HTML object>"
            ]
          },
          "metadata": {},
          "output_type": "display_data"
        },
        {
          "data": {
            "text/html": [
              "Run data is saved locally in <code>/content/wandb/run-20220603_064530-yeced4a4</code>"
            ],
            "text/plain": [
              "<IPython.core.display.HTML object>"
            ]
          },
          "metadata": {},
          "output_type": "display_data"
        },
        {
          "data": {
            "text/html": [
              "Syncing run <strong><a href=\"https://wandb.ai/amir7d0/fashion_part2/runs/yeced4a4\" target=\"_blank\">solar-sweep-6</a></strong> to <a href=\"https://wandb.ai/amir7d0/fashion_part2\" target=\"_blank\">Weights & Biases</a> (<a href=\"https://wandb.me/run\" target=\"_blank\">docs</a>)<br/>Sweep page:  <a href=\"https://wandb.ai/amir7d0/fashion_part2/sweeps/urkb8pum\" target=\"_blank\">https://wandb.ai/amir7d0/fashion_part2/sweeps/urkb8pum</a>"
            ],
            "text/plain": [
              "<IPython.core.display.HTML object>"
            ]
          },
          "metadata": {},
          "output_type": "display_data"
        },
        {
          "metadata": {
            "tags": null
          },
          "name": "stdout",
          "output_type": "stream",
          "text": [
            "Epoch 1/2\n",
            "   1/1875 [..............................] - ETA: 15:40 - loss: 6.8648 - accuracy: 0.0312WARNING:tensorflow:Callback method `on_train_batch_end` is slow compared to the batch time (batch time: 0.0035s vs `on_train_batch_end` time: 0.0041s). Check your callbacks.\n",
            "1875/1875 [==============================] - 11s 5ms/step - loss: 2.5037 - accuracy: 0.2713 - val_loss: 1.2452 - val_accuracy: 0.5458 - _timestamp: 1654238748.0000 - _runtime: 18.0000\n",
            "Epoch 2/2\n",
            "1875/1875 [==============================] - 10s 5ms/step - loss: 1.4927 - accuracy: 0.4501 - val_loss: 1.0523 - val_accuracy: 0.6138 - _timestamp: 1654238758.0000 - _runtime: 28.0000\n"
          ]
        },
        {
          "data": {
            "text/html": [
              "Waiting for W&B process to finish... <strong style=\"color:green\">(success).</strong>"
            ],
            "text/plain": [
              "<IPython.core.display.HTML object>"
            ]
          },
          "metadata": {},
          "output_type": "display_data"
        },
        {
          "data": {
            "application/vnd.jupyter.widget-view+json": {
              "model_id": "26c02a5adeba4fa0a5a7b07fb48ccbfc",
              "version_major": 2,
              "version_minor": 0
            },
            "text/plain": [
              "VBox(children=(Label(value='3.760 MB of 3.760 MB uploaded (0.000 MB deduped)\\r'), FloatProgress(value=1.0, max…"
            ]
          },
          "metadata": {},
          "output_type": "display_data"
        },
        {
          "data": {
            "text/html": [
              "<style>\n",
              "    table.wandb td:nth-child(1) { padding: 0 10px; text-align: left ; width: auto;} td:nth-child(2) {text-align: left ; width: 100%}\n",
              "    .wandb-row { display: flex; flex-direction: row; flex-wrap: wrap; justify-content: flex-start; width: 100% }\n",
              "    .wandb-col { display: flex; flex-direction: column; flex-basis: 100%; flex: 1; padding: 10px; }\n",
              "    </style>\n",
              "<div class=\"wandb-row\"><div class=\"wandb-col\"><h3>Run history:</h3><br/><table class=\"wandb\"><tr><td>accuracy</td><td>▁█</td></tr><tr><td>epoch</td><td>▁█</td></tr><tr><td>loss</td><td>█▁</td></tr><tr><td>val_accuracy</td><td>▁█</td></tr><tr><td>val_loss</td><td>█▁</td></tr></table><br/></div><div class=\"wandb-col\"><h3>Run summary:</h3><br/><table class=\"wandb\"><tr><td>accuracy</td><td>0.45007</td></tr><tr><td>best_epoch</td><td>1</td></tr><tr><td>best_val_loss</td><td>1.05234</td></tr><tr><td>epoch</td><td>1</td></tr><tr><td>loss</td><td>1.4927</td></tr><tr><td>val_accuracy</td><td>0.6138</td></tr><tr><td>val_loss</td><td>1.05234</td></tr></table><br/></div></div>"
            ],
            "text/plain": [
              "<IPython.core.display.HTML object>"
            ]
          },
          "metadata": {},
          "output_type": "display_data"
        },
        {
          "data": {
            "text/html": [
              "Synced <strong style=\"color:#cdcd00\">solar-sweep-6</strong>: <a href=\"https://wandb.ai/amir7d0/fashion_part2/runs/yeced4a4\" target=\"_blank\">https://wandb.ai/amir7d0/fashion_part2/runs/yeced4a4</a><br/>Synced 5 W&B file(s), 73 media file(s), 0 artifact file(s) and 1 other file(s)"
            ],
            "text/plain": [
              "<IPython.core.display.HTML object>"
            ]
          },
          "metadata": {},
          "output_type": "display_data"
        },
        {
          "data": {
            "text/html": [
              "Find logs at: <code>./wandb/run-20220603_064530-yeced4a4/logs</code>"
            ],
            "text/plain": [
              "<IPython.core.display.HTML object>"
            ]
          },
          "metadata": {},
          "output_type": "display_data"
        },
        {
          "metadata": {
            "tags": null
          },
          "name": "stderr",
          "output_type": "stream",
          "text": [
            "\u001b[34m\u001b[1mwandb\u001b[0m: Agent Starting Run: ymuo0bc5 with config:\n",
            "\u001b[34m\u001b[1mwandb\u001b[0m: \tbatch_size: 32\n",
            "\u001b[34m\u001b[1mwandb\u001b[0m: \tdropout: 0.5\n",
            "\u001b[34m\u001b[1mwandb\u001b[0m: \tepochs: 10\n",
            "\u001b[34m\u001b[1mwandb\u001b[0m: \tlearning_rate: 0.001\n"
          ]
        },
        {
          "data": {
            "text/html": [
              "Tracking run with wandb version 0.12.17"
            ],
            "text/plain": [
              "<IPython.core.display.HTML object>"
            ]
          },
          "metadata": {},
          "output_type": "display_data"
        },
        {
          "data": {
            "text/html": [
              "Run data is saved locally in <code>/content/wandb/run-20220603_064610-ymuo0bc5</code>"
            ],
            "text/plain": [
              "<IPython.core.display.HTML object>"
            ]
          },
          "metadata": {},
          "output_type": "display_data"
        },
        {
          "data": {
            "text/html": [
              "Syncing run <strong><a href=\"https://wandb.ai/amir7d0/fashion_part2/runs/ymuo0bc5\" target=\"_blank\">pious-sweep-7</a></strong> to <a href=\"https://wandb.ai/amir7d0/fashion_part2\" target=\"_blank\">Weights & Biases</a> (<a href=\"https://wandb.me/run\" target=\"_blank\">docs</a>)<br/>Sweep page:  <a href=\"https://wandb.ai/amir7d0/fashion_part2/sweeps/urkb8pum\" target=\"_blank\">https://wandb.ai/amir7d0/fashion_part2/sweeps/urkb8pum</a>"
            ],
            "text/plain": [
              "<IPython.core.display.HTML object>"
            ]
          },
          "metadata": {},
          "output_type": "display_data"
        },
        {
          "metadata": {
            "tags": null
          },
          "name": "stdout",
          "output_type": "stream",
          "text": [
            "Epoch 1/10\n",
            "1875/1875 [==============================] - 10s 5ms/step - loss: 1.7786 - accuracy: 0.3974 - val_loss: 0.9744 - val_accuracy: 0.6614 - _timestamp: 1654238788.0000 - _runtime: 18.0000\n",
            "Epoch 2/10\n",
            "1875/1875 [==============================] - 10s 5ms/step - loss: 1.1017 - accuracy: 0.5723 - val_loss: 0.8209 - val_accuracy: 0.7000 - _timestamp: 1654238799.0000 - _runtime: 29.0000\n",
            "Epoch 3/10\n",
            "1875/1875 [==============================] - 10s 5ms/step - loss: 0.9078 - accuracy: 0.6529 - val_loss: 0.7592 - val_accuracy: 0.7160 - _timestamp: 1654238809.0000 - _runtime: 39.0000\n",
            "Epoch 4/10\n",
            "1875/1875 [==============================] - 10s 5ms/step - loss: 0.8169 - accuracy: 0.6878 - val_loss: 0.7071 - val_accuracy: 0.7344 - _timestamp: 1654238818.0000 - _runtime: 48.0000\n",
            "Epoch 5/10\n",
            "1875/1875 [==============================] - 11s 6ms/step - loss: 0.7618 - accuracy: 0.7095 - val_loss: 0.6787 - val_accuracy: 0.7434 - _timestamp: 1654238829.0000 - _runtime: 59.0000\n",
            "Epoch 6/10\n",
            "1875/1875 [==============================] - 10s 5ms/step - loss: 0.7232 - accuracy: 0.7267 - val_loss: 0.6514 - val_accuracy: 0.7512 - _timestamp: 1654238839.0000 - _runtime: 69.0000\n",
            "Epoch 7/10\n",
            "1875/1875 [==============================] - 10s 5ms/step - loss: 0.6953 - accuracy: 0.7349 - val_loss: 0.6314 - val_accuracy: 0.7614 - _timestamp: 1654238849.0000 - _runtime: 79.0000\n",
            "Epoch 8/10\n",
            "1875/1875 [==============================] - 10s 5ms/step - loss: 0.6758 - accuracy: 0.7423 - val_loss: 0.6220 - val_accuracy: 0.7664 - _timestamp: 1654238858.0000 - _runtime: 88.0000\n",
            "Epoch 9/10\n",
            "1875/1875 [==============================] - 10s 5ms/step - loss: 0.6554 - accuracy: 0.7511 - val_loss: 0.6019 - val_accuracy: 0.7750 - _timestamp: 1654238868.0000 - _runtime: 98.0000\n",
            "Epoch 10/10\n",
            "1875/1875 [==============================] - 10s 5ms/step - loss: 0.6394 - accuracy: 0.7581 - val_loss: 0.5782 - val_accuracy: 0.7832 - _timestamp: 1654238878.0000 - _runtime: 108.0000\n"
          ]
        },
        {
          "data": {
            "text/html": [
              "Waiting for W&B process to finish... <strong style=\"color:green\">(success).</strong>"
            ],
            "text/plain": [
              "<IPython.core.display.HTML object>"
            ]
          },
          "metadata": {},
          "output_type": "display_data"
        },
        {
          "data": {
            "application/vnd.jupyter.widget-view+json": {
              "model_id": "70218f02f114445aaaf17348835af1b2",
              "version_major": 2,
              "version_minor": 0
            },
            "text/plain": [
              "VBox(children=(Label(value='3.899 MB of 3.899 MB uploaded (0.000 MB deduped)\\r'), FloatProgress(value=1.0, max…"
            ]
          },
          "metadata": {},
          "output_type": "display_data"
        },
        {
          "data": {
            "text/html": [
              "<style>\n",
              "    table.wandb td:nth-child(1) { padding: 0 10px; text-align: left ; width: auto;} td:nth-child(2) {text-align: left ; width: 100%}\n",
              "    .wandb-row { display: flex; flex-direction: row; flex-wrap: wrap; justify-content: flex-start; width: 100% }\n",
              "    .wandb-col { display: flex; flex-direction: column; flex-basis: 100%; flex: 1; padding: 10px; }\n",
              "    </style>\n",
              "<div class=\"wandb-row\"><div class=\"wandb-col\"><h3>Run history:</h3><br/><table class=\"wandb\"><tr><td>accuracy</td><td>▁▄▆▇▇▇████</td></tr><tr><td>epoch</td><td>▁▂▃▃▄▅▆▆▇█</td></tr><tr><td>loss</td><td>█▄▃▂▂▂▁▁▁▁</td></tr><tr><td>val_accuracy</td><td>▁▃▄▅▆▆▇▇██</td></tr><tr><td>val_loss</td><td>█▅▄▃▃▂▂▂▁▁</td></tr></table><br/></div><div class=\"wandb-col\"><h3>Run summary:</h3><br/><table class=\"wandb\"><tr><td>accuracy</td><td>0.75808</td></tr><tr><td>best_epoch</td><td>9</td></tr><tr><td>best_val_loss</td><td>0.57823</td></tr><tr><td>epoch</td><td>9</td></tr><tr><td>loss</td><td>0.63942</td></tr><tr><td>val_accuracy</td><td>0.7832</td></tr><tr><td>val_loss</td><td>0.57823</td></tr></table><br/></div></div>"
            ],
            "text/plain": [
              "<IPython.core.display.HTML object>"
            ]
          },
          "metadata": {},
          "output_type": "display_data"
        },
        {
          "data": {
            "text/html": [
              "Synced <strong style=\"color:#cdcd00\">pious-sweep-7</strong>: <a href=\"https://wandb.ai/amir7d0/fashion_part2/runs/ymuo0bc5\" target=\"_blank\">https://wandb.ai/amir7d0/fashion_part2/runs/ymuo0bc5</a><br/>Synced 5 W&B file(s), 361 media file(s), 0 artifact file(s) and 1 other file(s)"
            ],
            "text/plain": [
              "<IPython.core.display.HTML object>"
            ]
          },
          "metadata": {},
          "output_type": "display_data"
        },
        {
          "data": {
            "text/html": [
              "Find logs at: <code>./wandb/run-20220603_064610-ymuo0bc5/logs</code>"
            ],
            "text/plain": [
              "<IPython.core.display.HTML object>"
            ]
          },
          "metadata": {},
          "output_type": "display_data"
        },
        {
          "metadata": {
            "tags": null
          },
          "name": "stderr",
          "output_type": "stream",
          "text": [
            "\u001b[34m\u001b[1mwandb\u001b[0m: Agent Starting Run: 0hewovi1 with config:\n",
            "\u001b[34m\u001b[1mwandb\u001b[0m: \tbatch_size: 32\n",
            "\u001b[34m\u001b[1mwandb\u001b[0m: \tdropout: 0.5\n",
            "\u001b[34m\u001b[1mwandb\u001b[0m: \tepochs: 10\n",
            "\u001b[34m\u001b[1mwandb\u001b[0m: \tlearning_rate: 0.0003\n"
          ]
        },
        {
          "data": {
            "text/html": [
              "Tracking run with wandb version 0.12.17"
            ],
            "text/plain": [
              "<IPython.core.display.HTML object>"
            ]
          },
          "metadata": {},
          "output_type": "display_data"
        },
        {
          "data": {
            "text/html": [
              "Run data is saved locally in <code>/content/wandb/run-20220603_064852-0hewovi1</code>"
            ],
            "text/plain": [
              "<IPython.core.display.HTML object>"
            ]
          },
          "metadata": {},
          "output_type": "display_data"
        },
        {
          "data": {
            "text/html": [
              "Syncing run <strong><a href=\"https://wandb.ai/amir7d0/fashion_part2/runs/0hewovi1\" target=\"_blank\">revived-sweep-8</a></strong> to <a href=\"https://wandb.ai/amir7d0/fashion_part2\" target=\"_blank\">Weights & Biases</a> (<a href=\"https://wandb.me/run\" target=\"_blank\">docs</a>)<br/>Sweep page:  <a href=\"https://wandb.ai/amir7d0/fashion_part2/sweeps/urkb8pum\" target=\"_blank\">https://wandb.ai/amir7d0/fashion_part2/sweeps/urkb8pum</a>"
            ],
            "text/plain": [
              "<IPython.core.display.HTML object>"
            ]
          },
          "metadata": {},
          "output_type": "display_data"
        },
        {
          "metadata": {
            "tags": null
          },
          "name": "stdout",
          "output_type": "stream",
          "text": [
            "Epoch 1/10\n",
            "1875/1875 [==============================] - 10s 5ms/step - loss: 2.5064 - accuracy: 0.2688 - val_loss: 1.1973 - val_accuracy: 0.5284 - _timestamp: 1654238950.0000 - _runtime: 18.0000\n",
            "Epoch 2/10\n",
            "1875/1875 [==============================] - 10s 5ms/step - loss: 1.4333 - accuracy: 0.4654 - val_loss: 1.0172 - val_accuracy: 0.6156 - _timestamp: 1654238960.0000 - _runtime: 28.0000\n",
            "Epoch 3/10\n",
            "1875/1875 [==============================] - 10s 5ms/step - loss: 1.1738 - accuracy: 0.5550 - val_loss: 0.9294 - val_accuracy: 0.6576 - _timestamp: 1654238970.0000 - _runtime: 38.0000\n",
            "Epoch 4/10\n",
            "1875/1875 [==============================] - 10s 5ms/step - loss: 1.0407 - accuracy: 0.6052 - val_loss: 0.9049 - val_accuracy: 0.6622 - _timestamp: 1654238980.0000 - _runtime: 48.0000\n",
            "Epoch 5/10\n",
            "1875/1875 [==============================] - 10s 5ms/step - loss: 0.9649 - accuracy: 0.6378 - val_loss: 0.8651 - val_accuracy: 0.6766 - _timestamp: 1654238990.0000 - _runtime: 58.0000\n",
            "Epoch 6/10\n",
            "1875/1875 [==============================] - 10s 5ms/step - loss: 0.9079 - accuracy: 0.6601 - val_loss: 0.8541 - val_accuracy: 0.6764 - _timestamp: 1654239000.0000 - _runtime: 68.0000\n",
            "Epoch 7/10\n",
            "1875/1875 [==============================] - 10s 5ms/step - loss: 0.8675 - accuracy: 0.6759 - val_loss: 0.8264 - val_accuracy: 0.6854 - _timestamp: 1654239010.0000 - _runtime: 78.0000\n",
            "Epoch 8/10\n",
            "1875/1875 [==============================] - 10s 5ms/step - loss: 0.8323 - accuracy: 0.6880 - val_loss: 0.8152 - val_accuracy: 0.6794 - _timestamp: 1654239020.0000 - _runtime: 88.0000\n",
            "Epoch 9/10\n",
            "1875/1875 [==============================] - 9s 5ms/step - loss: 0.8070 - accuracy: 0.6963 - val_loss: 0.7888 - val_accuracy: 0.6920 - _timestamp: 1654239029.0000 - _runtime: 97.0000\n",
            "Epoch 10/10\n",
            "1875/1875 [==============================] - 10s 5ms/step - loss: 0.7856 - accuracy: 0.7038 - val_loss: 0.7656 - val_accuracy: 0.6996 - _timestamp: 1654239039.0000 - _runtime: 107.0000\n"
          ]
        },
        {
          "data": {
            "text/html": [
              "Waiting for W&B process to finish... <strong style=\"color:green\">(success).</strong>"
            ],
            "text/plain": [
              "<IPython.core.display.HTML object>"
            ]
          },
          "metadata": {},
          "output_type": "display_data"
        },
        {
          "data": {
            "application/vnd.jupyter.widget-view+json": {
              "model_id": "d8cb15f7d59f40d1a1e9e30a081f88c6",
              "version_major": 2,
              "version_minor": 0
            },
            "text/plain": [
              "VBox(children=(Label(value='3.900 MB of 3.900 MB uploaded (0.000 MB deduped)\\r'), FloatProgress(value=1.0, max…"
            ]
          },
          "metadata": {},
          "output_type": "display_data"
        },
        {
          "data": {
            "text/html": [
              "<style>\n",
              "    table.wandb td:nth-child(1) { padding: 0 10px; text-align: left ; width: auto;} td:nth-child(2) {text-align: left ; width: 100%}\n",
              "    .wandb-row { display: flex; flex-direction: row; flex-wrap: wrap; justify-content: flex-start; width: 100% }\n",
              "    .wandb-col { display: flex; flex-direction: column; flex-basis: 100%; flex: 1; padding: 10px; }\n",
              "    </style>\n",
              "<div class=\"wandb-row\"><div class=\"wandb-col\"><h3>Run history:</h3><br/><table class=\"wandb\"><tr><td>accuracy</td><td>▁▄▆▆▇▇████</td></tr><tr><td>epoch</td><td>▁▂▃▃▄▅▆▆▇█</td></tr><tr><td>loss</td><td>█▄▃▂▂▁▁▁▁▁</td></tr><tr><td>val_accuracy</td><td>▁▅▆▆▇▇▇▇██</td></tr><tr><td>val_loss</td><td>█▅▄▃▃▂▂▂▁▁</td></tr></table><br/></div><div class=\"wandb-col\"><h3>Run summary:</h3><br/><table class=\"wandb\"><tr><td>accuracy</td><td>0.70378</td></tr><tr><td>best_epoch</td><td>9</td></tr><tr><td>best_val_loss</td><td>0.76563</td></tr><tr><td>epoch</td><td>9</td></tr><tr><td>loss</td><td>0.78563</td></tr><tr><td>val_accuracy</td><td>0.6996</td></tr><tr><td>val_loss</td><td>0.76563</td></tr></table><br/></div></div>"
            ],
            "text/plain": [
              "<IPython.core.display.HTML object>"
            ]
          },
          "metadata": {},
          "output_type": "display_data"
        },
        {
          "data": {
            "text/html": [
              "Synced <strong style=\"color:#cdcd00\">revived-sweep-8</strong>: <a href=\"https://wandb.ai/amir7d0/fashion_part2/runs/0hewovi1\" target=\"_blank\">https://wandb.ai/amir7d0/fashion_part2/runs/0hewovi1</a><br/>Synced 5 W&B file(s), 361 media file(s), 0 artifact file(s) and 1 other file(s)"
            ],
            "text/plain": [
              "<IPython.core.display.HTML object>"
            ]
          },
          "metadata": {},
          "output_type": "display_data"
        },
        {
          "data": {
            "text/html": [
              "Find logs at: <code>./wandb/run-20220603_064852-0hewovi1/logs</code>"
            ],
            "text/plain": [
              "<IPython.core.display.HTML object>"
            ]
          },
          "metadata": {},
          "output_type": "display_data"
        },
        {
          "metadata": {
            "tags": null
          },
          "name": "stderr",
          "output_type": "stream",
          "text": [
            "\u001b[34m\u001b[1mwandb\u001b[0m: Agent Starting Run: b4dno0j7 with config:\n",
            "\u001b[34m\u001b[1mwandb\u001b[0m: \tbatch_size: 32\n",
            "\u001b[34m\u001b[1mwandb\u001b[0m: \tdropout: 0.35\n",
            "\u001b[34m\u001b[1mwandb\u001b[0m: \tepochs: 2\n",
            "\u001b[34m\u001b[1mwandb\u001b[0m: \tlearning_rate: 0.06\n"
          ]
        },
        {
          "data": {
            "text/html": [
              "Tracking run with wandb version 0.12.17"
            ],
            "text/plain": [
              "<IPython.core.display.HTML object>"
            ]
          },
          "metadata": {},
          "output_type": "display_data"
        },
        {
          "data": {
            "text/html": [
              "Run data is saved locally in <code>/content/wandb/run-20220603_065134-b4dno0j7</code>"
            ],
            "text/plain": [
              "<IPython.core.display.HTML object>"
            ]
          },
          "metadata": {},
          "output_type": "display_data"
        },
        {
          "data": {
            "text/html": [
              "Syncing run <strong><a href=\"https://wandb.ai/amir7d0/fashion_part2/runs/b4dno0j7\" target=\"_blank\">worthy-sweep-9</a></strong> to <a href=\"https://wandb.ai/amir7d0/fashion_part2\" target=\"_blank\">Weights & Biases</a> (<a href=\"https://wandb.me/run\" target=\"_blank\">docs</a>)<br/>Sweep page:  <a href=\"https://wandb.ai/amir7d0/fashion_part2/sweeps/urkb8pum\" target=\"_blank\">https://wandb.ai/amir7d0/fashion_part2/sweeps/urkb8pum</a>"
            ],
            "text/plain": [
              "<IPython.core.display.HTML object>"
            ]
          },
          "metadata": {},
          "output_type": "display_data"
        },
        {
          "metadata": {
            "tags": null
          },
          "name": "stdout",
          "output_type": "stream",
          "text": [
            "Epoch 1/2\n",
            "1875/1875 [==============================] - 11s 6ms/step - loss: 0.6770 - accuracy: 0.7574 - val_loss: 0.4078 - val_accuracy: 0.8468 - _timestamp: 1654239112.0000 - _runtime: 18.0000\n",
            "Epoch 2/2\n",
            "1875/1875 [==============================] - 10s 5ms/step - loss: 0.4497 - accuracy: 0.8329 - val_loss: 0.3540 - val_accuracy: 0.8708 - _timestamp: 1654239122.0000 - _runtime: 28.0000\n"
          ]
        },
        {
          "data": {
            "text/html": [
              "Waiting for W&B process to finish... <strong style=\"color:green\">(success).</strong>"
            ],
            "text/plain": [
              "<IPython.core.display.HTML object>"
            ]
          },
          "metadata": {},
          "output_type": "display_data"
        },
        {
          "data": {
            "application/vnd.jupyter.widget-view+json": {
              "model_id": "616c7650c4184d788cea527ec0b0b502",
              "version_major": 2,
              "version_minor": 0
            },
            "text/plain": [
              "VBox(children=(Label(value='3.762 MB of 3.762 MB uploaded (0.000 MB deduped)\\r'), FloatProgress(value=1.0, max…"
            ]
          },
          "metadata": {},
          "output_type": "display_data"
        },
        {
          "data": {
            "text/html": [
              "<style>\n",
              "    table.wandb td:nth-child(1) { padding: 0 10px; text-align: left ; width: auto;} td:nth-child(2) {text-align: left ; width: 100%}\n",
              "    .wandb-row { display: flex; flex-direction: row; flex-wrap: wrap; justify-content: flex-start; width: 100% }\n",
              "    .wandb-col { display: flex; flex-direction: column; flex-basis: 100%; flex: 1; padding: 10px; }\n",
              "    </style>\n",
              "<div class=\"wandb-row\"><div class=\"wandb-col\"><h3>Run history:</h3><br/><table class=\"wandb\"><tr><td>accuracy</td><td>▁█</td></tr><tr><td>epoch</td><td>▁█</td></tr><tr><td>loss</td><td>█▁</td></tr><tr><td>val_accuracy</td><td>▁█</td></tr><tr><td>val_loss</td><td>█▁</td></tr></table><br/></div><div class=\"wandb-col\"><h3>Run summary:</h3><br/><table class=\"wandb\"><tr><td>accuracy</td><td>0.83293</td></tr><tr><td>best_epoch</td><td>1</td></tr><tr><td>best_val_loss</td><td>0.35399</td></tr><tr><td>epoch</td><td>1</td></tr><tr><td>loss</td><td>0.44974</td></tr><tr><td>val_accuracy</td><td>0.8708</td></tr><tr><td>val_loss</td><td>0.35399</td></tr></table><br/></div></div>"
            ],
            "text/plain": [
              "<IPython.core.display.HTML object>"
            ]
          },
          "metadata": {},
          "output_type": "display_data"
        },
        {
          "data": {
            "text/html": [
              "Synced <strong style=\"color:#cdcd00\">worthy-sweep-9</strong>: <a href=\"https://wandb.ai/amir7d0/fashion_part2/runs/b4dno0j7\" target=\"_blank\">https://wandb.ai/amir7d0/fashion_part2/runs/b4dno0j7</a><br/>Synced 5 W&B file(s), 73 media file(s), 0 artifact file(s) and 1 other file(s)"
            ],
            "text/plain": [
              "<IPython.core.display.HTML object>"
            ]
          },
          "metadata": {},
          "output_type": "display_data"
        },
        {
          "data": {
            "text/html": [
              "Find logs at: <code>./wandb/run-20220603_065134-b4dno0j7/logs</code>"
            ],
            "text/plain": [
              "<IPython.core.display.HTML object>"
            ]
          },
          "metadata": {},
          "output_type": "display_data"
        },
        {
          "metadata": {
            "tags": null
          },
          "name": "stderr",
          "output_type": "stream",
          "text": [
            "\u001b[34m\u001b[1mwandb\u001b[0m: Agent Starting Run: gp0s2ak6 with config:\n",
            "\u001b[34m\u001b[1mwandb\u001b[0m: \tbatch_size: 128\n",
            "\u001b[34m\u001b[1mwandb\u001b[0m: \tdropout: 0.35\n",
            "\u001b[34m\u001b[1mwandb\u001b[0m: \tepochs: 10\n",
            "\u001b[34m\u001b[1mwandb\u001b[0m: \tlearning_rate: 0.06\n"
          ]
        },
        {
          "data": {
            "text/html": [
              "Tracking run with wandb version 0.12.17"
            ],
            "text/plain": [
              "<IPython.core.display.HTML object>"
            ]
          },
          "metadata": {},
          "output_type": "display_data"
        },
        {
          "data": {
            "text/html": [
              "Run data is saved locally in <code>/content/wandb/run-20220603_065214-gp0s2ak6</code>"
            ],
            "text/plain": [
              "<IPython.core.display.HTML object>"
            ]
          },
          "metadata": {},
          "output_type": "display_data"
        },
        {
          "data": {
            "text/html": [
              "Syncing run <strong><a href=\"https://wandb.ai/amir7d0/fashion_part2/runs/gp0s2ak6\" target=\"_blank\">snowy-sweep-10</a></strong> to <a href=\"https://wandb.ai/amir7d0/fashion_part2\" target=\"_blank\">Weights & Biases</a> (<a href=\"https://wandb.me/run\" target=\"_blank\">docs</a>)<br/>Sweep page:  <a href=\"https://wandb.ai/amir7d0/fashion_part2/sweeps/urkb8pum\" target=\"_blank\">https://wandb.ai/amir7d0/fashion_part2/sweeps/urkb8pum</a>"
            ],
            "text/plain": [
              "<IPython.core.display.HTML object>"
            ]
          },
          "metadata": {},
          "output_type": "display_data"
        },
        {
          "metadata": {
            "tags": null
          },
          "name": "stdout",
          "output_type": "stream",
          "text": [
            "Epoch 1/10\n",
            "469/469 [==============================] - 7s 15ms/step - loss: 0.7293 - accuracy: 0.7378 - val_loss: 0.5324 - val_accuracy: 0.8142 - _timestamp: 1654239149.0000 - _runtime: 15.0000\n",
            "Epoch 2/10\n",
            "469/469 [==============================] - 7s 15ms/step - loss: 0.4666 - accuracy: 0.8281 - val_loss: 0.3922 - val_accuracy: 0.8556 - _timestamp: 1654239156.0000 - _runtime: 22.0000\n",
            "Epoch 3/10\n",
            "469/469 [==============================] - 7s 14ms/step - loss: 0.4077 - accuracy: 0.8475 - val_loss: 0.3851 - val_accuracy: 0.8622 - _timestamp: 1654239163.0000 - _runtime: 29.0000\n",
            "Epoch 4/10\n",
            "469/469 [==============================] - 7s 14ms/step - loss: 0.3776 - accuracy: 0.8595 - val_loss: 0.3665 - val_accuracy: 0.8696 - _timestamp: 1654239169.0000 - _runtime: 35.0000\n",
            "Epoch 5/10\n",
            "469/469 [==============================] - 7s 14ms/step - loss: 0.3539 - accuracy: 0.8678 - val_loss: 0.3379 - val_accuracy: 0.8742 - _timestamp: 1654239176.0000 - _runtime: 42.0000\n",
            "Epoch 6/10\n",
            "469/469 [==============================] - 7s 14ms/step - loss: 0.3371 - accuracy: 0.8736 - val_loss: 0.3241 - val_accuracy: 0.8826 - _timestamp: 1654239183.0000 - _runtime: 49.0000\n",
            "Epoch 7/10\n",
            "469/469 [==============================] - 7s 14ms/step - loss: 0.3249 - accuracy: 0.8795 - val_loss: 0.2958 - val_accuracy: 0.8942 - _timestamp: 1654239189.0000 - _runtime: 55.0000\n",
            "Epoch 8/10\n",
            "469/469 [==============================] - 7s 14ms/step - loss: 0.3099 - accuracy: 0.8849 - val_loss: 0.2972 - val_accuracy: 0.8954 - _timestamp: 1654239196.0000 - _runtime: 62.0000\n",
            "Epoch 9/10\n",
            "469/469 [==============================] - 7s 14ms/step - loss: 0.3002 - accuracy: 0.8887 - val_loss: 0.2714 - val_accuracy: 0.9064 - _timestamp: 1654239203.0000 - _runtime: 69.0000\n",
            "Epoch 10/10\n",
            "469/469 [==============================] - 7s 15ms/step - loss: 0.2897 - accuracy: 0.8913 - val_loss: 0.2848 - val_accuracy: 0.9014 - _timestamp: 1654239210.0000 - _runtime: 76.0000\n"
          ]
        },
        {
          "data": {
            "text/html": [
              "Waiting for W&B process to finish... <strong style=\"color:green\">(success).</strong>"
            ],
            "text/plain": [
              "<IPython.core.display.HTML object>"
            ]
          },
          "metadata": {},
          "output_type": "display_data"
        },
        {
          "data": {
            "application/vnd.jupyter.widget-view+json": {
              "model_id": "1feab5a1c13743eab8128d5fd5d7bc56",
              "version_major": 2,
              "version_minor": 0
            },
            "text/plain": [
              "VBox(children=(Label(value='3.898 MB of 3.898 MB uploaded (0.000 MB deduped)\\r'), FloatProgress(value=1.0, max…"
            ]
          },
          "metadata": {},
          "output_type": "display_data"
        },
        {
          "data": {
            "text/html": [
              "<style>\n",
              "    table.wandb td:nth-child(1) { padding: 0 10px; text-align: left ; width: auto;} td:nth-child(2) {text-align: left ; width: 100%}\n",
              "    .wandb-row { display: flex; flex-direction: row; flex-wrap: wrap; justify-content: flex-start; width: 100% }\n",
              "    .wandb-col { display: flex; flex-direction: column; flex-basis: 100%; flex: 1; padding: 10px; }\n",
              "    </style>\n",
              "<div class=\"wandb-row\"><div class=\"wandb-col\"><h3>Run history:</h3><br/><table class=\"wandb\"><tr><td>accuracy</td><td>▁▅▆▇▇▇▇███</td></tr><tr><td>epoch</td><td>▁▂▃▃▄▅▆▆▇█</td></tr><tr><td>loss</td><td>█▄▃▂▂▂▂▁▁▁</td></tr><tr><td>val_accuracy</td><td>▁▄▅▅▆▆▇▇██</td></tr><tr><td>val_loss</td><td>█▄▄▄▃▂▂▂▁▁</td></tr></table><br/></div><div class=\"wandb-col\"><h3>Run summary:</h3><br/><table class=\"wandb\"><tr><td>accuracy</td><td>0.89135</td></tr><tr><td>best_epoch</td><td>8</td></tr><tr><td>best_val_loss</td><td>0.27143</td></tr><tr><td>epoch</td><td>9</td></tr><tr><td>loss</td><td>0.28968</td></tr><tr><td>val_accuracy</td><td>0.9014</td></tr><tr><td>val_loss</td><td>0.28475</td></tr></table><br/></div></div>"
            ],
            "text/plain": [
              "<IPython.core.display.HTML object>"
            ]
          },
          "metadata": {},
          "output_type": "display_data"
        },
        {
          "data": {
            "text/html": [
              "Synced <strong style=\"color:#cdcd00\">snowy-sweep-10</strong>: <a href=\"https://wandb.ai/amir7d0/fashion_part2/runs/gp0s2ak6\" target=\"_blank\">https://wandb.ai/amir7d0/fashion_part2/runs/gp0s2ak6</a><br/>Synced 5 W&B file(s), 361 media file(s), 0 artifact file(s) and 1 other file(s)"
            ],
            "text/plain": [
              "<IPython.core.display.HTML object>"
            ]
          },
          "metadata": {},
          "output_type": "display_data"
        },
        {
          "data": {
            "text/html": [
              "Find logs at: <code>./wandb/run-20220603_065214-gp0s2ak6/logs</code>"
            ],
            "text/plain": [
              "<IPython.core.display.HTML object>"
            ]
          },
          "metadata": {},
          "output_type": "display_data"
        },
        {
          "metadata": {
            "tags": null
          },
          "name": "stderr",
          "output_type": "stream",
          "text": [
            "\u001b[34m\u001b[1mwandb\u001b[0m: Agent Starting Run: qudl8b4j with config:\n",
            "\u001b[34m\u001b[1mwandb\u001b[0m: \tbatch_size: 128\n",
            "\u001b[34m\u001b[1mwandb\u001b[0m: \tdropout: 0.35\n",
            "\u001b[34m\u001b[1mwandb\u001b[0m: \tepochs: 10\n",
            "\u001b[34m\u001b[1mwandb\u001b[0m: \tlearning_rate: 0.06\n"
          ]
        },
        {
          "data": {
            "text/html": [
              "Tracking run with wandb version 0.12.17"
            ],
            "text/plain": [
              "<IPython.core.display.HTML object>"
            ]
          },
          "metadata": {},
          "output_type": "display_data"
        },
        {
          "data": {
            "text/html": [
              "Run data is saved locally in <code>/content/wandb/run-20220603_065355-qudl8b4j</code>"
            ],
            "text/plain": [
              "<IPython.core.display.HTML object>"
            ]
          },
          "metadata": {},
          "output_type": "display_data"
        },
        {
          "data": {
            "text/html": [
              "Syncing run <strong><a href=\"https://wandb.ai/amir7d0/fashion_part2/runs/qudl8b4j\" target=\"_blank\">bumbling-sweep-11</a></strong> to <a href=\"https://wandb.ai/amir7d0/fashion_part2\" target=\"_blank\">Weights & Biases</a> (<a href=\"https://wandb.me/run\" target=\"_blank\">docs</a>)<br/>Sweep page:  <a href=\"https://wandb.ai/amir7d0/fashion_part2/sweeps/urkb8pum\" target=\"_blank\">https://wandb.ai/amir7d0/fashion_part2/sweeps/urkb8pum</a>"
            ],
            "text/plain": [
              "<IPython.core.display.HTML object>"
            ]
          },
          "metadata": {},
          "output_type": "display_data"
        },
        {
          "metadata": {
            "tags": null
          },
          "name": "stdout",
          "output_type": "stream",
          "text": [
            "Epoch 1/10\n",
            "  4/469 [..............................] - ETA: 8s - loss: 5.3344 - accuracy: 0.1230  WARNING:tensorflow:Callback method `on_train_batch_end` is slow compared to the batch time (batch time: 0.0082s vs `on_train_batch_end` time: 0.0083s). Check your callbacks.\n",
            "469/469 [==============================] - 7s 14ms/step - loss: 0.7036 - accuracy: 0.7464 - val_loss: 0.6020 - val_accuracy: 0.7876 - _timestamp: 1654239250.0000 - _runtime: 15.0000\n",
            "Epoch 2/10\n",
            "469/469 [==============================] - 7s 14ms/step - loss: 0.4622 - accuracy: 0.8282 - val_loss: 0.4107 - val_accuracy: 0.8454 - _timestamp: 1654239257.0000 - _runtime: 22.0000\n",
            "Epoch 3/10\n",
            "469/469 [==============================] - 7s 14ms/step - loss: 0.4099 - accuracy: 0.8469 - val_loss: 0.3748 - val_accuracy: 0.8622 - _timestamp: 1654239264.0000 - _runtime: 29.0000\n",
            "Epoch 4/10\n",
            "469/469 [==============================] - 7s 14ms/step - loss: 0.3773 - accuracy: 0.8590 - val_loss: 0.3628 - val_accuracy: 0.8706 - _timestamp: 1654239270.0000 - _runtime: 35.0000\n",
            "Epoch 5/10\n",
            "469/469 [==============================] - 7s 14ms/step - loss: 0.3541 - accuracy: 0.8668 - val_loss: 0.3213 - val_accuracy: 0.8792 - _timestamp: 1654239277.0000 - _runtime: 42.0000\n",
            "Epoch 6/10\n",
            "469/469 [==============================] - 7s 14ms/step - loss: 0.3395 - accuracy: 0.8718 - val_loss: 0.3315 - val_accuracy: 0.8862 - _timestamp: 1654239284.0000 - _runtime: 49.0000\n",
            "Epoch 7/10\n",
            "469/469 [==============================] - 7s 14ms/step - loss: 0.3272 - accuracy: 0.8778 - val_loss: 0.3386 - val_accuracy: 0.8806 - _timestamp: 1654239291.0000 - _runtime: 56.0000\n",
            "Epoch 8/10\n",
            "469/469 [==============================] - 7s 14ms/step - loss: 0.3100 - accuracy: 0.8822 - val_loss: 0.3027 - val_accuracy: 0.8954 - _timestamp: 1654239297.0000 - _runtime: 62.0000\n",
            "Epoch 9/10\n",
            "469/469 [==============================] - 7s 15ms/step - loss: 0.3052 - accuracy: 0.8857 - val_loss: 0.3025 - val_accuracy: 0.8862 - _timestamp: 1654239304.0000 - _runtime: 69.0000\n",
            "Epoch 10/10\n",
            "469/469 [==============================] - 7s 14ms/step - loss: 0.2923 - accuracy: 0.8895 - val_loss: 0.3032 - val_accuracy: 0.8908 - _timestamp: 1654239311.0000 - _runtime: 76.0000\n"
          ]
        },
        {
          "data": {
            "text/html": [
              "Waiting for W&B process to finish... <strong style=\"color:green\">(success).</strong>"
            ],
            "text/plain": [
              "<IPython.core.display.HTML object>"
            ]
          },
          "metadata": {},
          "output_type": "display_data"
        },
        {
          "data": {
            "application/vnd.jupyter.widget-view+json": {
              "model_id": "5659035ad73642bbb8aa53c55d14fe19",
              "version_major": 2,
              "version_minor": 0
            },
            "text/plain": [
              "VBox(children=(Label(value='3.898 MB of 3.898 MB uploaded (0.000 MB deduped)\\r'), FloatProgress(value=0.999923…"
            ]
          },
          "metadata": {},
          "output_type": "display_data"
        },
        {
          "data": {
            "text/html": [
              "<style>\n",
              "    table.wandb td:nth-child(1) { padding: 0 10px; text-align: left ; width: auto;} td:nth-child(2) {text-align: left ; width: 100%}\n",
              "    .wandb-row { display: flex; flex-direction: row; flex-wrap: wrap; justify-content: flex-start; width: 100% }\n",
              "    .wandb-col { display: flex; flex-direction: column; flex-basis: 100%; flex: 1; padding: 10px; }\n",
              "    </style>\n",
              "<div class=\"wandb-row\"><div class=\"wandb-col\"><h3>Run history:</h3><br/><table class=\"wandb\"><tr><td>accuracy</td><td>▁▅▆▇▇▇▇███</td></tr><tr><td>epoch</td><td>▁▂▃▃▄▅▆▆▇█</td></tr><tr><td>loss</td><td>█▄▃▂▂▂▂▁▁▁</td></tr><tr><td>val_accuracy</td><td>▁▅▆▆▇▇▇█▇█</td></tr><tr><td>val_loss</td><td>█▄▃▂▁▂▂▁▁▁</td></tr></table><br/></div><div class=\"wandb-col\"><h3>Run summary:</h3><br/><table class=\"wandb\"><tr><td>accuracy</td><td>0.8895</td></tr><tr><td>best_epoch</td><td>8</td></tr><tr><td>best_val_loss</td><td>0.30246</td></tr><tr><td>epoch</td><td>9</td></tr><tr><td>loss</td><td>0.29231</td></tr><tr><td>val_accuracy</td><td>0.8908</td></tr><tr><td>val_loss</td><td>0.30319</td></tr></table><br/></div></div>"
            ],
            "text/plain": [
              "<IPython.core.display.HTML object>"
            ]
          },
          "metadata": {},
          "output_type": "display_data"
        },
        {
          "data": {
            "text/html": [
              "Synced <strong style=\"color:#cdcd00\">bumbling-sweep-11</strong>: <a href=\"https://wandb.ai/amir7d0/fashion_part2/runs/qudl8b4j\" target=\"_blank\">https://wandb.ai/amir7d0/fashion_part2/runs/qudl8b4j</a><br/>Synced 5 W&B file(s), 361 media file(s), 0 artifact file(s) and 1 other file(s)"
            ],
            "text/plain": [
              "<IPython.core.display.HTML object>"
            ]
          },
          "metadata": {},
          "output_type": "display_data"
        },
        {
          "data": {
            "text/html": [
              "Find logs at: <code>./wandb/run-20220603_065355-qudl8b4j/logs</code>"
            ],
            "text/plain": [
              "<IPython.core.display.HTML object>"
            ]
          },
          "metadata": {},
          "output_type": "display_data"
        },
        {
          "metadata": {
            "tags": null
          },
          "name": "stderr",
          "output_type": "stream",
          "text": [
            "\u001b[34m\u001b[1mwandb\u001b[0m: Agent Starting Run: 4gcufkdt with config:\n",
            "\u001b[34m\u001b[1mwandb\u001b[0m: \tbatch_size: 32\n",
            "\u001b[34m\u001b[1mwandb\u001b[0m: \tdropout: 0.5\n",
            "\u001b[34m\u001b[1mwandb\u001b[0m: \tepochs: 10\n",
            "\u001b[34m\u001b[1mwandb\u001b[0m: \tlearning_rate: 0.001\n"
          ]
        },
        {
          "data": {
            "text/html": [
              "Tracking run with wandb version 0.12.17"
            ],
            "text/plain": [
              "<IPython.core.display.HTML object>"
            ]
          },
          "metadata": {},
          "output_type": "display_data"
        },
        {
          "data": {
            "text/html": [
              "Run data is saved locally in <code>/content/wandb/run-20220603_065522-4gcufkdt</code>"
            ],
            "text/plain": [
              "<IPython.core.display.HTML object>"
            ]
          },
          "metadata": {},
          "output_type": "display_data"
        },
        {
          "data": {
            "text/html": [
              "Syncing run <strong><a href=\"https://wandb.ai/amir7d0/fashion_part2/runs/4gcufkdt\" target=\"_blank\">vocal-sweep-12</a></strong> to <a href=\"https://wandb.ai/amir7d0/fashion_part2\" target=\"_blank\">Weights & Biases</a> (<a href=\"https://wandb.me/run\" target=\"_blank\">docs</a>)<br/>Sweep page:  <a href=\"https://wandb.ai/amir7d0/fashion_part2/sweeps/urkb8pum\" target=\"_blank\">https://wandb.ai/amir7d0/fashion_part2/sweeps/urkb8pum</a>"
            ],
            "text/plain": [
              "<IPython.core.display.HTML object>"
            ]
          },
          "metadata": {},
          "output_type": "display_data"
        },
        {
          "metadata": {
            "tags": null
          },
          "name": "stdout",
          "output_type": "stream",
          "text": [
            "Epoch 1/10\n",
            "1875/1875 [==============================] - 11s 5ms/step - loss: 1.7131 - accuracy: 0.4153 - val_loss: 1.0720 - val_accuracy: 0.5888 - _timestamp: 1654239340.0000 - _runtime: 18.0000\n",
            "Epoch 2/10\n",
            "1875/1875 [==============================] - 10s 5ms/step - loss: 1.0024 - accuracy: 0.6209 - val_loss: 0.8480 - val_accuracy: 0.6858 - _timestamp: 1654239350.0000 - _runtime: 28.0000\n",
            "Epoch 3/10\n",
            "1875/1875 [==============================] - 10s 5ms/step - loss: 0.8510 - accuracy: 0.6787 - val_loss: 0.7721 - val_accuracy: 0.7122 - _timestamp: 1654239360.0000 - _runtime: 38.0000\n",
            "Epoch 4/10\n",
            "1875/1875 [==============================] - 10s 6ms/step - loss: 0.7732 - accuracy: 0.7083 - val_loss: 0.6997 - val_accuracy: 0.7324 - _timestamp: 1654239371.0000 - _runtime: 49.0000\n",
            "Epoch 5/10\n",
            "1875/1875 [==============================] - 10s 5ms/step - loss: 0.7316 - accuracy: 0.7230 - val_loss: 0.6705 - val_accuracy: 0.7466 - _timestamp: 1654239381.0000 - _runtime: 59.0000\n",
            "Epoch 6/10\n",
            "1875/1875 [==============================] - 10s 5ms/step - loss: 0.7004 - accuracy: 0.7354 - val_loss: 0.6505 - val_accuracy: 0.7524 - _timestamp: 1654239390.0000 - _runtime: 68.0000\n",
            "Epoch 7/10\n",
            "1875/1875 [==============================] - 10s 5ms/step - loss: 0.6739 - accuracy: 0.7427 - val_loss: 0.6367 - val_accuracy: 0.7612 - _timestamp: 1654239401.0000 - _runtime: 79.0000\n",
            "Epoch 8/10\n",
            "1875/1875 [==============================] - 10s 5ms/step - loss: 0.6521 - accuracy: 0.7518 - val_loss: 0.6128 - val_accuracy: 0.7678 - _timestamp: 1654239411.0000 - _runtime: 89.0000\n",
            "Epoch 9/10\n",
            "1875/1875 [==============================] - 10s 5ms/step - loss: 0.6392 - accuracy: 0.7576 - val_loss: 0.6110 - val_accuracy: 0.7720 - _timestamp: 1654239421.0000 - _runtime: 99.0000\n",
            "Epoch 10/10\n",
            "1875/1875 [==============================] - 11s 6ms/step - loss: 0.6198 - accuracy: 0.7651 - val_loss: 0.5928 - val_accuracy: 0.7786 - _timestamp: 1654239432.0000 - _runtime: 110.0000\n"
          ]
        },
        {
          "data": {
            "text/html": [
              "Waiting for W&B process to finish... <strong style=\"color:green\">(success).</strong>"
            ],
            "text/plain": [
              "<IPython.core.display.HTML object>"
            ]
          },
          "metadata": {},
          "output_type": "display_data"
        },
        {
          "data": {
            "application/vnd.jupyter.widget-view+json": {
              "model_id": "bbe145aedaec4663bf32ef3ea06202fa",
              "version_major": 2,
              "version_minor": 0
            },
            "text/plain": [
              "VBox(children=(Label(value='3.902 MB of 3.902 MB uploaded (0.000 MB deduped)\\r'), FloatProgress(value=1.0, max…"
            ]
          },
          "metadata": {},
          "output_type": "display_data"
        },
        {
          "data": {
            "text/html": [
              "<style>\n",
              "    table.wandb td:nth-child(1) { padding: 0 10px; text-align: left ; width: auto;} td:nth-child(2) {text-align: left ; width: 100%}\n",
              "    .wandb-row { display: flex; flex-direction: row; flex-wrap: wrap; justify-content: flex-start; width: 100% }\n",
              "    .wandb-col { display: flex; flex-direction: column; flex-basis: 100%; flex: 1; padding: 10px; }\n",
              "    </style>\n",
              "<div class=\"wandb-row\"><div class=\"wandb-col\"><h3>Run history:</h3><br/><table class=\"wandb\"><tr><td>accuracy</td><td>▁▅▆▇▇▇████</td></tr><tr><td>epoch</td><td>▁▂▃▃▄▅▆▆▇█</td></tr><tr><td>loss</td><td>█▃▂▂▂▂▁▁▁▁</td></tr><tr><td>val_accuracy</td><td>▁▅▆▆▇▇▇███</td></tr><tr><td>val_loss</td><td>█▅▄▃▂▂▂▁▁▁</td></tr></table><br/></div><div class=\"wandb-col\"><h3>Run summary:</h3><br/><table class=\"wandb\"><tr><td>accuracy</td><td>0.76512</td></tr><tr><td>best_epoch</td><td>9</td></tr><tr><td>best_val_loss</td><td>0.59283</td></tr><tr><td>epoch</td><td>9</td></tr><tr><td>loss</td><td>0.61984</td></tr><tr><td>val_accuracy</td><td>0.7786</td></tr><tr><td>val_loss</td><td>0.59283</td></tr></table><br/></div></div>"
            ],
            "text/plain": [
              "<IPython.core.display.HTML object>"
            ]
          },
          "metadata": {},
          "output_type": "display_data"
        },
        {
          "data": {
            "text/html": [
              "Synced <strong style=\"color:#cdcd00\">vocal-sweep-12</strong>: <a href=\"https://wandb.ai/amir7d0/fashion_part2/runs/4gcufkdt\" target=\"_blank\">https://wandb.ai/amir7d0/fashion_part2/runs/4gcufkdt</a><br/>Synced 5 W&B file(s), 361 media file(s), 0 artifact file(s) and 1 other file(s)"
            ],
            "text/plain": [
              "<IPython.core.display.HTML object>"
            ]
          },
          "metadata": {},
          "output_type": "display_data"
        },
        {
          "data": {
            "text/html": [
              "Find logs at: <code>./wandb/run-20220603_065522-4gcufkdt/logs</code>"
            ],
            "text/plain": [
              "<IPython.core.display.HTML object>"
            ]
          },
          "metadata": {},
          "output_type": "display_data"
        },
        {
          "metadata": {
            "tags": null
          },
          "name": "stderr",
          "output_type": "stream",
          "text": [
            "\u001b[34m\u001b[1mwandb\u001b[0m: Agent Starting Run: qbt3lmv2 with config:\n",
            "\u001b[34m\u001b[1mwandb\u001b[0m: \tbatch_size: 128\n",
            "\u001b[34m\u001b[1mwandb\u001b[0m: \tdropout: 0.5\n",
            "\u001b[34m\u001b[1mwandb\u001b[0m: \tepochs: 10\n",
            "\u001b[34m\u001b[1mwandb\u001b[0m: \tlearning_rate: 0.0003\n"
          ]
        },
        {
          "data": {
            "text/html": [
              "Tracking run with wandb version 0.12.17"
            ],
            "text/plain": [
              "<IPython.core.display.HTML object>"
            ]
          },
          "metadata": {},
          "output_type": "display_data"
        },
        {
          "data": {
            "text/html": [
              "Run data is saved locally in <code>/content/wandb/run-20220603_065804-qbt3lmv2</code>"
            ],
            "text/plain": [
              "<IPython.core.display.HTML object>"
            ]
          },
          "metadata": {},
          "output_type": "display_data"
        },
        {
          "data": {
            "text/html": [
              "Syncing run <strong><a href=\"https://wandb.ai/amir7d0/fashion_part2/runs/qbt3lmv2\" target=\"_blank\">vivid-sweep-13</a></strong> to <a href=\"https://wandb.ai/amir7d0/fashion_part2\" target=\"_blank\">Weights & Biases</a> (<a href=\"https://wandb.me/run\" target=\"_blank\">docs</a>)<br/>Sweep page:  <a href=\"https://wandb.ai/amir7d0/fashion_part2/sweeps/urkb8pum\" target=\"_blank\">https://wandb.ai/amir7d0/fashion_part2/sweeps/urkb8pum</a>"
            ],
            "text/plain": [
              "<IPython.core.display.HTML object>"
            ]
          },
          "metadata": {},
          "output_type": "display_data"
        },
        {
          "metadata": {
            "tags": null
          },
          "name": "stdout",
          "output_type": "stream",
          "text": [
            "Epoch 1/10\n",
            "469/469 [==============================] - 7s 15ms/step - loss: 3.8668 - accuracy: 0.1515 - val_loss: 1.9244 - val_accuracy: 0.3686 - _timestamp: 1654239499.0000 - _runtime: 15.0000\n",
            "Epoch 2/10\n",
            "469/469 [==============================] - 7s 15ms/step - loss: 2.4470 - accuracy: 0.2400 - val_loss: 1.5278 - val_accuracy: 0.5496 - _timestamp: 1654239506.0000 - _runtime: 22.0000\n",
            "Epoch 3/10\n",
            "469/469 [==============================] - 7s 14ms/step - loss: 2.0464 - accuracy: 0.2989 - val_loss: 1.3661 - val_accuracy: 0.5864 - _timestamp: 1654239512.0000 - _runtime: 28.0000\n",
            "Epoch 4/10\n",
            "469/469 [==============================] - 7s 15ms/step - loss: 1.8252 - accuracy: 0.3521 - val_loss: 1.2702 - val_accuracy: 0.5960 - _timestamp: 1654239519.0000 - _runtime: 35.0000\n",
            "Epoch 5/10\n",
            "469/469 [==============================] - 7s 15ms/step - loss: 1.6758 - accuracy: 0.3909 - val_loss: 1.1979 - val_accuracy: 0.6114 - _timestamp: 1654239526.0000 - _runtime: 42.0000\n",
            "Epoch 6/10\n",
            "469/469 [==============================] - 7s 15ms/step - loss: 1.5570 - accuracy: 0.4261 - val_loss: 1.1442 - val_accuracy: 0.6214 - _timestamp: 1654239533.0000 - _runtime: 49.0000\n",
            "Epoch 7/10\n",
            "469/469 [==============================] - 7s 14ms/step - loss: 1.4543 - accuracy: 0.4577 - val_loss: 1.1051 - val_accuracy: 0.6294 - _timestamp: 1654239540.0000 - _runtime: 56.0000\n",
            "Epoch 8/10\n",
            "469/469 [==============================] - 7s 14ms/step - loss: 1.3796 - accuracy: 0.4826 - val_loss: 1.0779 - val_accuracy: 0.6342 - _timestamp: 1654239547.0000 - _runtime: 63.0000\n",
            "Epoch 9/10\n",
            "469/469 [==============================] - 7s 15ms/step - loss: 1.3062 - accuracy: 0.5105 - val_loss: 1.0448 - val_accuracy: 0.6426 - _timestamp: 1654239554.0000 - _runtime: 70.0000\n",
            "Epoch 10/10\n",
            "469/469 [==============================] - 7s 14ms/step - loss: 1.2479 - accuracy: 0.5313 - val_loss: 1.0193 - val_accuracy: 0.6466 - _timestamp: 1654239560.0000 - _runtime: 76.0000\n"
          ]
        },
        {
          "data": {
            "text/html": [
              "Waiting for W&B process to finish... <strong style=\"color:green\">(success).</strong>"
            ],
            "text/plain": [
              "<IPython.core.display.HTML object>"
            ]
          },
          "metadata": {},
          "output_type": "display_data"
        },
        {
          "data": {
            "application/vnd.jupyter.widget-view+json": {
              "model_id": "66dfdc55275a4275b80171b1655fe19d",
              "version_major": 2,
              "version_minor": 0
            },
            "text/plain": [
              "VBox(children=(Label(value='3.901 MB of 3.901 MB uploaded (0.000 MB deduped)\\r'), FloatProgress(value=1.0, max…"
            ]
          },
          "metadata": {},
          "output_type": "display_data"
        },
        {
          "data": {
            "text/html": [
              "<style>\n",
              "    table.wandb td:nth-child(1) { padding: 0 10px; text-align: left ; width: auto;} td:nth-child(2) {text-align: left ; width: 100%}\n",
              "    .wandb-row { display: flex; flex-direction: row; flex-wrap: wrap; justify-content: flex-start; width: 100% }\n",
              "    .wandb-col { display: flex; flex-direction: column; flex-basis: 100%; flex: 1; padding: 10px; }\n",
              "    </style>\n",
              "<div class=\"wandb-row\"><div class=\"wandb-col\"><h3>Run history:</h3><br/><table class=\"wandb\"><tr><td>accuracy</td><td>▁▃▄▅▅▆▇▇██</td></tr><tr><td>epoch</td><td>▁▂▃▃▄▅▆▆▇█</td></tr><tr><td>loss</td><td>█▄▃▃▂▂▂▁▁▁</td></tr><tr><td>val_accuracy</td><td>▁▆▆▇▇▇████</td></tr><tr><td>val_loss</td><td>█▅▄▃▂▂▂▁▁▁</td></tr></table><br/></div><div class=\"wandb-col\"><h3>Run summary:</h3><br/><table class=\"wandb\"><tr><td>accuracy</td><td>0.53127</td></tr><tr><td>best_epoch</td><td>9</td></tr><tr><td>best_val_loss</td><td>1.01929</td></tr><tr><td>epoch</td><td>9</td></tr><tr><td>loss</td><td>1.24789</td></tr><tr><td>val_accuracy</td><td>0.6466</td></tr><tr><td>val_loss</td><td>1.01929</td></tr></table><br/></div></div>"
            ],
            "text/plain": [
              "<IPython.core.display.HTML object>"
            ]
          },
          "metadata": {},
          "output_type": "display_data"
        },
        {
          "data": {
            "text/html": [
              "Synced <strong style=\"color:#cdcd00\">vivid-sweep-13</strong>: <a href=\"https://wandb.ai/amir7d0/fashion_part2/runs/qbt3lmv2\" target=\"_blank\">https://wandb.ai/amir7d0/fashion_part2/runs/qbt3lmv2</a><br/>Synced 5 W&B file(s), 361 media file(s), 0 artifact file(s) and 1 other file(s)"
            ],
            "text/plain": [
              "<IPython.core.display.HTML object>"
            ]
          },
          "metadata": {},
          "output_type": "display_data"
        },
        {
          "data": {
            "text/html": [
              "Find logs at: <code>./wandb/run-20220603_065804-qbt3lmv2/logs</code>"
            ],
            "text/plain": [
              "<IPython.core.display.HTML object>"
            ]
          },
          "metadata": {},
          "output_type": "display_data"
        },
        {
          "metadata": {
            "tags": null
          },
          "name": "stderr",
          "output_type": "stream",
          "text": [
            "\u001b[34m\u001b[1mwandb\u001b[0m: Agent Starting Run: sd49cwgx with config:\n",
            "\u001b[34m\u001b[1mwandb\u001b[0m: \tbatch_size: 128\n",
            "\u001b[34m\u001b[1mwandb\u001b[0m: \tdropout: 0.35\n",
            "\u001b[34m\u001b[1mwandb\u001b[0m: \tepochs: 2\n",
            "\u001b[34m\u001b[1mwandb\u001b[0m: \tlearning_rate: 0.001\n"
          ]
        },
        {
          "data": {
            "text/html": [
              "Tracking run with wandb version 0.12.17"
            ],
            "text/plain": [
              "<IPython.core.display.HTML object>"
            ]
          },
          "metadata": {},
          "output_type": "display_data"
        },
        {
          "data": {
            "text/html": [
              "Run data is saved locally in <code>/content/wandb/run-20220603_065945-sd49cwgx</code>"
            ],
            "text/plain": [
              "<IPython.core.display.HTML object>"
            ]
          },
          "metadata": {},
          "output_type": "display_data"
        },
        {
          "data": {
            "text/html": [
              "Syncing run <strong><a href=\"https://wandb.ai/amir7d0/fashion_part2/runs/sd49cwgx\" target=\"_blank\">unique-sweep-14</a></strong> to <a href=\"https://wandb.ai/amir7d0/fashion_part2\" target=\"_blank\">Weights & Biases</a> (<a href=\"https://wandb.me/run\" target=\"_blank\">docs</a>)<br/>Sweep page:  <a href=\"https://wandb.ai/amir7d0/fashion_part2/sweeps/urkb8pum\" target=\"_blank\">https://wandb.ai/amir7d0/fashion_part2/sweeps/urkb8pum</a>"
            ],
            "text/plain": [
              "<IPython.core.display.HTML object>"
            ]
          },
          "metadata": {},
          "output_type": "display_data"
        },
        {
          "metadata": {
            "tags": null
          },
          "name": "stdout",
          "output_type": "stream",
          "text": [
            "Epoch 1/2\n",
            "469/469 [==============================] - 8s 15ms/step - loss: 1.8671 - accuracy: 0.4017 - val_loss: 1.3565 - val_accuracy: 0.6830 - _timestamp: 1654239600.0000 - _runtime: 15.0000\n",
            "Epoch 2/2\n",
            "469/469 [==============================] - 7s 14ms/step - loss: 1.1001 - accuracy: 0.5999 - val_loss: 0.8354 - val_accuracy: 0.7062 - _timestamp: 1654239607.0000 - _runtime: 22.0000\n"
          ]
        },
        {
          "data": {
            "text/html": [
              "Waiting for W&B process to finish... <strong style=\"color:green\">(success).</strong>"
            ],
            "text/plain": [
              "<IPython.core.display.HTML object>"
            ]
          },
          "metadata": {},
          "output_type": "display_data"
        },
        {
          "data": {
            "application/vnd.jupyter.widget-view+json": {
              "model_id": "7dc4018d267f4ee6b250b6fffea3a93f",
              "version_major": 2,
              "version_minor": 0
            },
            "text/plain": [
              "VBox(children=(Label(value='3.762 MB of 3.762 MB uploaded (0.000 MB deduped)\\r'), FloatProgress(value=1.0, max…"
            ]
          },
          "metadata": {},
          "output_type": "display_data"
        },
        {
          "data": {
            "text/html": [
              "<style>\n",
              "    table.wandb td:nth-child(1) { padding: 0 10px; text-align: left ; width: auto;} td:nth-child(2) {text-align: left ; width: 100%}\n",
              "    .wandb-row { display: flex; flex-direction: row; flex-wrap: wrap; justify-content: flex-start; width: 100% }\n",
              "    .wandb-col { display: flex; flex-direction: column; flex-basis: 100%; flex: 1; padding: 10px; }\n",
              "    </style>\n",
              "<div class=\"wandb-row\"><div class=\"wandb-col\"><h3>Run history:</h3><br/><table class=\"wandb\"><tr><td>accuracy</td><td>▁█</td></tr><tr><td>epoch</td><td>▁█</td></tr><tr><td>loss</td><td>█▁</td></tr><tr><td>val_accuracy</td><td>▁█</td></tr><tr><td>val_loss</td><td>█▁</td></tr></table><br/></div><div class=\"wandb-col\"><h3>Run summary:</h3><br/><table class=\"wandb\"><tr><td>accuracy</td><td>0.59987</td></tr><tr><td>best_epoch</td><td>1</td></tr><tr><td>best_val_loss</td><td>0.83538</td></tr><tr><td>epoch</td><td>1</td></tr><tr><td>loss</td><td>1.10007</td></tr><tr><td>val_accuracy</td><td>0.7062</td></tr><tr><td>val_loss</td><td>0.83538</td></tr></table><br/></div></div>"
            ],
            "text/plain": [
              "<IPython.core.display.HTML object>"
            ]
          },
          "metadata": {},
          "output_type": "display_data"
        },
        {
          "data": {
            "text/html": [
              "Synced <strong style=\"color:#cdcd00\">unique-sweep-14</strong>: <a href=\"https://wandb.ai/amir7d0/fashion_part2/runs/sd49cwgx\" target=\"_blank\">https://wandb.ai/amir7d0/fashion_part2/runs/sd49cwgx</a><br/>Synced 5 W&B file(s), 73 media file(s), 0 artifact file(s) and 1 other file(s)"
            ],
            "text/plain": [
              "<IPython.core.display.HTML object>"
            ]
          },
          "metadata": {},
          "output_type": "display_data"
        },
        {
          "data": {
            "text/html": [
              "Find logs at: <code>./wandb/run-20220603_065945-sd49cwgx/logs</code>"
            ],
            "text/plain": [
              "<IPython.core.display.HTML object>"
            ]
          },
          "metadata": {},
          "output_type": "display_data"
        },
        {
          "metadata": {
            "tags": null
          },
          "name": "stderr",
          "output_type": "stream",
          "text": [
            "\u001b[34m\u001b[1mwandb\u001b[0m: Agent Starting Run: u0oug3ew with config:\n",
            "\u001b[34m\u001b[1mwandb\u001b[0m: \tbatch_size: 128\n",
            "\u001b[34m\u001b[1mwandb\u001b[0m: \tdropout: 0.35\n",
            "\u001b[34m\u001b[1mwandb\u001b[0m: \tepochs: 2\n",
            "\u001b[34m\u001b[1mwandb\u001b[0m: \tlearning_rate: 0.0003\n"
          ]
        },
        {
          "data": {
            "text/html": [
              "Tracking run with wandb version 0.12.17"
            ],
            "text/plain": [
              "<IPython.core.display.HTML object>"
            ]
          },
          "metadata": {},
          "output_type": "display_data"
        },
        {
          "data": {
            "text/html": [
              "Run data is saved locally in <code>/content/wandb/run-20220603_070025-u0oug3ew</code>"
            ],
            "text/plain": [
              "<IPython.core.display.HTML object>"
            ]
          },
          "metadata": {},
          "output_type": "display_data"
        },
        {
          "data": {
            "text/html": [
              "Syncing run <strong><a href=\"https://wandb.ai/amir7d0/fashion_part2/runs/u0oug3ew\" target=\"_blank\">graceful-sweep-15</a></strong> to <a href=\"https://wandb.ai/amir7d0/fashion_part2\" target=\"_blank\">Weights & Biases</a> (<a href=\"https://wandb.me/run\" target=\"_blank\">docs</a>)<br/>Sweep page:  <a href=\"https://wandb.ai/amir7d0/fashion_part2/sweeps/urkb8pum\" target=\"_blank\">https://wandb.ai/amir7d0/fashion_part2/sweeps/urkb8pum</a>"
            ],
            "text/plain": [
              "<IPython.core.display.HTML object>"
            ]
          },
          "metadata": {},
          "output_type": "display_data"
        },
        {
          "metadata": {
            "tags": null
          },
          "name": "stdout",
          "output_type": "stream",
          "text": [
            "Epoch 1/2\n",
            "469/469 [==============================] - 8s 15ms/step - loss: 2.5487 - accuracy: 0.2587 - val_loss: 1.7239 - val_accuracy: 0.5470 - _timestamp: 1654239641.0000 - _runtime: 16.0000\n",
            "Epoch 2/2\n",
            "469/469 [==============================] - 7s 15ms/step - loss: 1.6550 - accuracy: 0.4252 - val_loss: 1.1920 - val_accuracy: 0.6324 - _timestamp: 1654239648.0000 - _runtime: 23.0000\n"
          ]
        },
        {
          "data": {
            "text/html": [
              "Waiting for W&B process to finish... <strong style=\"color:green\">(success).</strong>"
            ],
            "text/plain": [
              "<IPython.core.display.HTML object>"
            ]
          },
          "metadata": {},
          "output_type": "display_data"
        },
        {
          "data": {
            "application/vnd.jupyter.widget-view+json": {
              "model_id": "2c09232f137d4f9db05222459b5b550a",
              "version_major": 2,
              "version_minor": 0
            },
            "text/plain": [
              "VBox(children=(Label(value='3.760 MB of 3.760 MB uploaded (0.000 MB deduped)\\r'), FloatProgress(value=1.0, max…"
            ]
          },
          "metadata": {},
          "output_type": "display_data"
        },
        {
          "data": {
            "text/html": [
              "<style>\n",
              "    table.wandb td:nth-child(1) { padding: 0 10px; text-align: left ; width: auto;} td:nth-child(2) {text-align: left ; width: 100%}\n",
              "    .wandb-row { display: flex; flex-direction: row; flex-wrap: wrap; justify-content: flex-start; width: 100% }\n",
              "    .wandb-col { display: flex; flex-direction: column; flex-basis: 100%; flex: 1; padding: 10px; }\n",
              "    </style>\n",
              "<div class=\"wandb-row\"><div class=\"wandb-col\"><h3>Run history:</h3><br/><table class=\"wandb\"><tr><td>accuracy</td><td>▁█</td></tr><tr><td>epoch</td><td>▁█</td></tr><tr><td>loss</td><td>█▁</td></tr><tr><td>val_accuracy</td><td>▁█</td></tr><tr><td>val_loss</td><td>█▁</td></tr></table><br/></div><div class=\"wandb-col\"><h3>Run summary:</h3><br/><table class=\"wandb\"><tr><td>accuracy</td><td>0.42518</td></tr><tr><td>best_epoch</td><td>1</td></tr><tr><td>best_val_loss</td><td>1.19205</td></tr><tr><td>epoch</td><td>1</td></tr><tr><td>loss</td><td>1.65503</td></tr><tr><td>val_accuracy</td><td>0.6324</td></tr><tr><td>val_loss</td><td>1.19205</td></tr></table><br/></div></div>"
            ],
            "text/plain": [
              "<IPython.core.display.HTML object>"
            ]
          },
          "metadata": {},
          "output_type": "display_data"
        },
        {
          "data": {
            "text/html": [
              "Synced <strong style=\"color:#cdcd00\">graceful-sweep-15</strong>: <a href=\"https://wandb.ai/amir7d0/fashion_part2/runs/u0oug3ew\" target=\"_blank\">https://wandb.ai/amir7d0/fashion_part2/runs/u0oug3ew</a><br/>Synced 5 W&B file(s), 73 media file(s), 0 artifact file(s) and 1 other file(s)"
            ],
            "text/plain": [
              "<IPython.core.display.HTML object>"
            ]
          },
          "metadata": {},
          "output_type": "display_data"
        },
        {
          "data": {
            "text/html": [
              "Find logs at: <code>./wandb/run-20220603_070025-u0oug3ew/logs</code>"
            ],
            "text/plain": [
              "<IPython.core.display.HTML object>"
            ]
          },
          "metadata": {},
          "output_type": "display_data"
        },
        {
          "metadata": {
            "tags": null
          },
          "name": "stderr",
          "output_type": "stream",
          "text": [
            "\u001b[34m\u001b[1mwandb\u001b[0m: Agent Starting Run: mk3piudm with config:\n",
            "\u001b[34m\u001b[1mwandb\u001b[0m: \tbatch_size: 128\n",
            "\u001b[34m\u001b[1mwandb\u001b[0m: \tdropout: 0.35\n",
            "\u001b[34m\u001b[1mwandb\u001b[0m: \tepochs: 10\n",
            "\u001b[34m\u001b[1mwandb\u001b[0m: \tlearning_rate: 0.0003\n"
          ]
        },
        {
          "data": {
            "text/html": [
              "Tracking run with wandb version 0.12.17"
            ],
            "text/plain": [
              "<IPython.core.display.HTML object>"
            ]
          },
          "metadata": {},
          "output_type": "display_data"
        },
        {
          "data": {
            "text/html": [
              "Run data is saved locally in <code>/content/wandb/run-20220603_070101-mk3piudm</code>"
            ],
            "text/plain": [
              "<IPython.core.display.HTML object>"
            ]
          },
          "metadata": {},
          "output_type": "display_data"
        },
        {
          "data": {
            "text/html": [
              "Syncing run <strong><a href=\"https://wandb.ai/amir7d0/fashion_part2/runs/mk3piudm\" target=\"_blank\">easy-sweep-16</a></strong> to <a href=\"https://wandb.ai/amir7d0/fashion_part2\" target=\"_blank\">Weights & Biases</a> (<a href=\"https://wandb.me/run\" target=\"_blank\">docs</a>)<br/>Sweep page:  <a href=\"https://wandb.ai/amir7d0/fashion_part2/sweeps/urkb8pum\" target=\"_blank\">https://wandb.ai/amir7d0/fashion_part2/sweeps/urkb8pum</a>"
            ],
            "text/plain": [
              "<IPython.core.display.HTML object>"
            ]
          },
          "metadata": {},
          "output_type": "display_data"
        },
        {
          "metadata": {
            "tags": null
          },
          "name": "stdout",
          "output_type": "stream",
          "text": [
            "Epoch 1/10\n",
            "  5/469 [..............................] - ETA: 7s - loss: 4.2385 - accuracy: 0.0875  WARNING:tensorflow:Callback method `on_train_batch_end` is slow compared to the batch time (batch time: 0.0082s vs `on_train_batch_end` time: 0.0085s). Check your callbacks.\n",
            "469/469 [==============================] - 8s 15ms/step - loss: 2.6067 - accuracy: 0.2399 - val_loss: 1.6825 - val_accuracy: 0.5188 - _timestamp: 1654239676.0000 - _runtime: 15.0000\n",
            "Epoch 2/10\n",
            "469/469 [==============================] - 7s 15ms/step - loss: 1.7323 - accuracy: 0.3941 - val_loss: 1.2032 - val_accuracy: 0.6306 - _timestamp: 1654239683.0000 - _runtime: 22.0000\n",
            "Epoch 3/10\n",
            "469/469 [==============================] - 7s 15ms/step - loss: 1.4599 - accuracy: 0.4715 - val_loss: 1.0624 - val_accuracy: 0.6662 - _timestamp: 1654239690.0000 - _runtime: 29.0000\n",
            "Epoch 4/10\n",
            "469/469 [==============================] - 7s 15ms/step - loss: 1.3058 - accuracy: 0.5190 - val_loss: 0.9802 - val_accuracy: 0.6794 - _timestamp: 1654239697.0000 - _runtime: 36.0000\n",
            "Epoch 5/10\n",
            "469/469 [==============================] - 7s 15ms/step - loss: 1.1939 - accuracy: 0.5594 - val_loss: 0.9225 - val_accuracy: 0.6888 - _timestamp: 1654239704.0000 - _runtime: 43.0000\n",
            "Epoch 6/10\n",
            "469/469 [==============================] - 7s 15ms/step - loss: 1.1196 - accuracy: 0.5852 - val_loss: 0.8773 - val_accuracy: 0.7002 - _timestamp: 1654239711.0000 - _runtime: 50.0000\n",
            "Epoch 7/10\n",
            "469/469 [==============================] - 8s 16ms/step - loss: 1.0555 - accuracy: 0.6079 - val_loss: 0.8440 - val_accuracy: 0.7050 - _timestamp: 1654239719.0000 - _runtime: 58.0000\n",
            "Epoch 8/10\n",
            "469/469 [==============================] - 7s 14ms/step - loss: 1.0047 - accuracy: 0.6278 - val_loss: 0.8156 - val_accuracy: 0.7116 - _timestamp: 1654239725.0000 - _runtime: 64.0000\n",
            "Epoch 9/10\n",
            "469/469 [==============================] - 7s 16ms/step - loss: 0.9604 - accuracy: 0.6425 - val_loss: 0.7979 - val_accuracy: 0.7164 - _timestamp: 1654239733.0000 - _runtime: 72.0000\n",
            "Epoch 10/10\n",
            "469/469 [==============================] - 7s 15ms/step - loss: 0.9265 - accuracy: 0.6533 - val_loss: 0.7798 - val_accuracy: 0.7188 - _timestamp: 1654239740.0000 - _runtime: 79.0000\n"
          ]
        },
        {
          "data": {
            "text/html": [
              "Waiting for W&B process to finish... <strong style=\"color:green\">(success).</strong>"
            ],
            "text/plain": [
              "<IPython.core.display.HTML object>"
            ]
          },
          "metadata": {},
          "output_type": "display_data"
        },
        {
          "data": {
            "application/vnd.jupyter.widget-view+json": {
              "model_id": "1b3c58defc4244f48a77ade3f7fe5d91",
              "version_major": 2,
              "version_minor": 0
            },
            "text/plain": [
              "VBox(children=(Label(value='3.900 MB of 3.900 MB uploaded (0.000 MB deduped)\\r'), FloatProgress(value=1.0, max…"
            ]
          },
          "metadata": {},
          "output_type": "display_data"
        },
        {
          "data": {
            "text/html": [
              "<style>\n",
              "    table.wandb td:nth-child(1) { padding: 0 10px; text-align: left ; width: auto;} td:nth-child(2) {text-align: left ; width: 100%}\n",
              "    .wandb-row { display: flex; flex-direction: row; flex-wrap: wrap; justify-content: flex-start; width: 100% }\n",
              "    .wandb-col { display: flex; flex-direction: column; flex-basis: 100%; flex: 1; padding: 10px; }\n",
              "    </style>\n",
              "<div class=\"wandb-row\"><div class=\"wandb-col\"><h3>Run history:</h3><br/><table class=\"wandb\"><tr><td>accuracy</td><td>▁▄▅▆▆▇▇███</td></tr><tr><td>epoch</td><td>▁▂▃▃▄▅▆▆▇█</td></tr><tr><td>loss</td><td>█▄▃▃▂▂▂▁▁▁</td></tr><tr><td>val_accuracy</td><td>▁▅▆▇▇▇████</td></tr><tr><td>val_loss</td><td>█▄▃▃▂▂▁▁▁▁</td></tr></table><br/></div><div class=\"wandb-col\"><h3>Run summary:</h3><br/><table class=\"wandb\"><tr><td>accuracy</td><td>0.6533</td></tr><tr><td>best_epoch</td><td>9</td></tr><tr><td>best_val_loss</td><td>0.77978</td></tr><tr><td>epoch</td><td>9</td></tr><tr><td>loss</td><td>0.92654</td></tr><tr><td>val_accuracy</td><td>0.7188</td></tr><tr><td>val_loss</td><td>0.77978</td></tr></table><br/></div></div>"
            ],
            "text/plain": [
              "<IPython.core.display.HTML object>"
            ]
          },
          "metadata": {},
          "output_type": "display_data"
        },
        {
          "data": {
            "text/html": [
              "Synced <strong style=\"color:#cdcd00\">easy-sweep-16</strong>: <a href=\"https://wandb.ai/amir7d0/fashion_part2/runs/mk3piudm\" target=\"_blank\">https://wandb.ai/amir7d0/fashion_part2/runs/mk3piudm</a><br/>Synced 5 W&B file(s), 361 media file(s), 0 artifact file(s) and 1 other file(s)"
            ],
            "text/plain": [
              "<IPython.core.display.HTML object>"
            ]
          },
          "metadata": {},
          "output_type": "display_data"
        },
        {
          "data": {
            "text/html": [
              "Find logs at: <code>./wandb/run-20220603_070101-mk3piudm/logs</code>"
            ],
            "text/plain": [
              "<IPython.core.display.HTML object>"
            ]
          },
          "metadata": {},
          "output_type": "display_data"
        },
        {
          "metadata": {
            "tags": null
          },
          "name": "stderr",
          "output_type": "stream",
          "text": [
            "\u001b[34m\u001b[1mwandb\u001b[0m: Agent Starting Run: 395vtu3z with config:\n",
            "\u001b[34m\u001b[1mwandb\u001b[0m: \tbatch_size: 32\n",
            "\u001b[34m\u001b[1mwandb\u001b[0m: \tdropout: 0.35\n",
            "\u001b[34m\u001b[1mwandb\u001b[0m: \tepochs: 20\n",
            "\u001b[34m\u001b[1mwandb\u001b[0m: \tlearning_rate: 0.06\n"
          ]
        },
        {
          "data": {
            "text/html": [
              "Tracking run with wandb version 0.12.17"
            ],
            "text/plain": [
              "<IPython.core.display.HTML object>"
            ]
          },
          "metadata": {},
          "output_type": "display_data"
        },
        {
          "data": {
            "text/html": [
              "Run data is saved locally in <code>/content/wandb/run-20220603_070242-395vtu3z</code>"
            ],
            "text/plain": [
              "<IPython.core.display.HTML object>"
            ]
          },
          "metadata": {},
          "output_type": "display_data"
        },
        {
          "data": {
            "text/html": [
              "Syncing run <strong><a href=\"https://wandb.ai/amir7d0/fashion_part2/runs/395vtu3z\" target=\"_blank\">whole-sweep-17</a></strong> to <a href=\"https://wandb.ai/amir7d0/fashion_part2\" target=\"_blank\">Weights & Biases</a> (<a href=\"https://wandb.me/run\" target=\"_blank\">docs</a>)<br/>Sweep page:  <a href=\"https://wandb.ai/amir7d0/fashion_part2/sweeps/urkb8pum\" target=\"_blank\">https://wandb.ai/amir7d0/fashion_part2/sweeps/urkb8pum</a>"
            ],
            "text/plain": [
              "<IPython.core.display.HTML object>"
            ]
          },
          "metadata": {},
          "output_type": "display_data"
        },
        {
          "metadata": {
            "tags": null
          },
          "name": "stdout",
          "output_type": "stream",
          "text": [
            "Epoch 1/20\n",
            "1875/1875 [==============================] - 11s 5ms/step - loss: 0.6606 - accuracy: 0.7624 - val_loss: 0.4149 - val_accuracy: 0.8424 - _timestamp: 1654239780.0000 - _runtime: 18.0000\n",
            "Epoch 2/20\n",
            "1875/1875 [==============================] - 10s 5ms/step - loss: 0.4437 - accuracy: 0.8382 - val_loss: 0.3663 - val_accuracy: 0.8714 - _timestamp: 1654239791.0000 - _runtime: 29.0000\n",
            "Epoch 3/20\n",
            "1875/1875 [==============================] - 10s 6ms/step - loss: 0.3897 - accuracy: 0.8562 - val_loss: 0.3376 - val_accuracy: 0.8744 - _timestamp: 1654239801.0000 - _runtime: 39.0000\n",
            "Epoch 4/20\n",
            "1875/1875 [==============================] - 10s 6ms/step - loss: 0.3589 - accuracy: 0.8673 - val_loss: 0.3299 - val_accuracy: 0.8838 - _timestamp: 1654239812.0000 - _runtime: 50.0000\n",
            "Epoch 5/20\n",
            "1875/1875 [==============================] - 10s 5ms/step - loss: 0.3394 - accuracy: 0.8753 - val_loss: 0.3360 - val_accuracy: 0.8850 - _timestamp: 1654239822.0000 - _runtime: 60.0000\n",
            "Epoch 6/20\n",
            "1875/1875 [==============================] - 10s 5ms/step - loss: 0.3203 - accuracy: 0.8811 - val_loss: 0.2965 - val_accuracy: 0.8988 - _timestamp: 1654239832.0000 - _runtime: 70.0000\n",
            "Epoch 7/20\n",
            "1875/1875 [==============================] - 10s 6ms/step - loss: 0.3063 - accuracy: 0.8862 - val_loss: 0.2806 - val_accuracy: 0.9000 - _timestamp: 1654239842.0000 - _runtime: 80.0000\n",
            "Epoch 8/20\n",
            "1875/1875 [==============================] - 10s 5ms/step - loss: 0.2945 - accuracy: 0.8917 - val_loss: 0.2692 - val_accuracy: 0.9068 - _timestamp: 1654239853.0000 - _runtime: 91.0000\n",
            "Epoch 9/20\n",
            "1875/1875 [==============================] - 10s 5ms/step - loss: 0.2820 - accuracy: 0.8959 - val_loss: 0.2760 - val_accuracy: 0.9100 - _timestamp: 1654239863.0000 - _runtime: 101.0000\n",
            "Epoch 10/20\n",
            "1875/1875 [==============================] - 10s 5ms/step - loss: 0.2754 - accuracy: 0.8972 - val_loss: 0.2556 - val_accuracy: 0.9092 - _timestamp: 1654239873.0000 - _runtime: 111.0000\n",
            "Epoch 11/20\n",
            "1875/1875 [==============================] - 10s 5ms/step - loss: 0.2721 - accuracy: 0.8999 - val_loss: 0.2669 - val_accuracy: 0.9134 - _timestamp: 1654239883.0000 - _runtime: 121.0000\n",
            "Epoch 12/20\n",
            "1875/1875 [==============================] - 10s 6ms/step - loss: 0.2653 - accuracy: 0.9032 - val_loss: 0.2499 - val_accuracy: 0.9116 - _timestamp: 1654239893.0000 - _runtime: 131.0000\n",
            "Epoch 13/20\n",
            "1875/1875 [==============================] - 10s 5ms/step - loss: 0.2544 - accuracy: 0.9053 - val_loss: 0.2673 - val_accuracy: 0.9088 - _timestamp: 1654239904.0000 - _runtime: 142.0000\n",
            "Epoch 14/20\n",
            "1875/1875 [==============================] - 10s 5ms/step - loss: 0.2512 - accuracy: 0.9076 - val_loss: 0.2394 - val_accuracy: 0.9162 - _timestamp: 1654239914.0000 - _runtime: 152.0000\n",
            "Epoch 15/20\n",
            "1875/1875 [==============================] - 10s 5ms/step - loss: 0.2447 - accuracy: 0.9086 - val_loss: 0.2772 - val_accuracy: 0.8992 - _timestamp: 1654239924.0000 - _runtime: 162.0000\n",
            "Epoch 16/20\n",
            "1875/1875 [==============================] - 11s 6ms/step - loss: 0.2371 - accuracy: 0.9107 - val_loss: 0.2417 - val_accuracy: 0.9160 - _timestamp: 1654239935.0000 - _runtime: 173.0000\n",
            "Epoch 17/20\n",
            "1875/1875 [==============================] - 10s 5ms/step - loss: 0.2326 - accuracy: 0.9131 - val_loss: 0.2329 - val_accuracy: 0.9196 - _timestamp: 1654239945.0000 - _runtime: 183.0000\n",
            "Epoch 18/20\n",
            "1875/1875 [==============================] - 10s 5ms/step - loss: 0.2289 - accuracy: 0.9128 - val_loss: 0.2287 - val_accuracy: 0.9228 - _timestamp: 1654239955.0000 - _runtime: 193.0000\n",
            "Epoch 19/20\n",
            "1875/1875 [==============================] - 10s 5ms/step - loss: 0.2281 - accuracy: 0.9149 - val_loss: 0.2371 - val_accuracy: 0.9200 - _timestamp: 1654239965.0000 - _runtime: 203.0000\n",
            "Epoch 20/20\n",
            "1875/1875 [==============================] - 10s 5ms/step - loss: 0.2211 - accuracy: 0.9176 - val_loss: 0.2309 - val_accuracy: 0.9220 - _timestamp: 1654239975.0000 - _runtime: 213.0000\n"
          ]
        },
        {
          "data": {
            "text/html": [
              "Waiting for W&B process to finish... <strong style=\"color:green\">(success).</strong>"
            ],
            "text/plain": [
              "<IPython.core.display.HTML object>"
            ]
          },
          "metadata": {},
          "output_type": "display_data"
        },
        {
          "data": {
            "application/vnd.jupyter.widget-view+json": {
              "model_id": "5f4e9e4b791645c7970bbdbcdfa67b93",
              "version_major": 2,
              "version_minor": 0
            },
            "text/plain": [
              "VBox(children=(Label(value='4.075 MB of 4.075 MB uploaded (0.000 MB deduped)\\r'), FloatProgress(value=1.0, max…"
            ]
          },
          "metadata": {},
          "output_type": "display_data"
        },
        {
          "data": {
            "text/html": [
              "<style>\n",
              "    table.wandb td:nth-child(1) { padding: 0 10px; text-align: left ; width: auto;} td:nth-child(2) {text-align: left ; width: 100%}\n",
              "    .wandb-row { display: flex; flex-direction: row; flex-wrap: wrap; justify-content: flex-start; width: 100% }\n",
              "    .wandb-col { display: flex; flex-direction: column; flex-basis: 100%; flex: 1; padding: 10px; }\n",
              "    </style>\n",
              "<div class=\"wandb-row\"><div class=\"wandb-col\"><h3>Run history:</h3><br/><table class=\"wandb\"><tr><td>accuracy</td><td>▁▄▅▆▆▆▇▇▇▇▇▇▇███████</td></tr><tr><td>epoch</td><td>▁▁▂▂▂▃▃▄▄▄▅▅▅▆▆▇▇▇██</td></tr><tr><td>loss</td><td>█▅▄▃▃▃▂▂▂▂▂▂▂▁▁▁▁▁▁▁</td></tr><tr><td>val_accuracy</td><td>▁▄▄▅▅▆▆▇▇▇▇▇▇▇▆▇████</td></tr><tr><td>val_loss</td><td>█▆▅▅▅▄▃▃▃▂▂▂▂▁▃▁▁▁▁▁</td></tr></table><br/></div><div class=\"wandb-col\"><h3>Run summary:</h3><br/><table class=\"wandb\"><tr><td>accuracy</td><td>0.91763</td></tr><tr><td>best_epoch</td><td>17</td></tr><tr><td>best_val_loss</td><td>0.22868</td></tr><tr><td>epoch</td><td>19</td></tr><tr><td>loss</td><td>0.22106</td></tr><tr><td>val_accuracy</td><td>0.922</td></tr><tr><td>val_loss</td><td>0.23095</td></tr></table><br/></div></div>"
            ],
            "text/plain": [
              "<IPython.core.display.HTML object>"
            ]
          },
          "metadata": {},
          "output_type": "display_data"
        },
        {
          "data": {
            "text/html": [
              "Synced <strong style=\"color:#cdcd00\">whole-sweep-17</strong>: <a href=\"https://wandb.ai/amir7d0/fashion_part2/runs/395vtu3z\" target=\"_blank\">https://wandb.ai/amir7d0/fashion_part2/runs/395vtu3z</a><br/>Synced 5 W&B file(s), 721 media file(s), 0 artifact file(s) and 1 other file(s)"
            ],
            "text/plain": [
              "<IPython.core.display.HTML object>"
            ]
          },
          "metadata": {},
          "output_type": "display_data"
        },
        {
          "data": {
            "text/html": [
              "Find logs at: <code>./wandb/run-20220603_070242-395vtu3z/logs</code>"
            ],
            "text/plain": [
              "<IPython.core.display.HTML object>"
            ]
          },
          "metadata": {},
          "output_type": "display_data"
        },
        {
          "metadata": {
            "tags": null
          },
          "name": "stderr",
          "output_type": "stream",
          "text": [
            "\u001b[34m\u001b[1mwandb\u001b[0m: Agent Starting Run: txamq7en with config:\n",
            "\u001b[34m\u001b[1mwandb\u001b[0m: \tbatch_size: 128\n",
            "\u001b[34m\u001b[1mwandb\u001b[0m: \tdropout: 0.5\n",
            "\u001b[34m\u001b[1mwandb\u001b[0m: \tepochs: 20\n",
            "\u001b[34m\u001b[1mwandb\u001b[0m: \tlearning_rate: 0.001\n"
          ]
        },
        {
          "data": {
            "text/html": [
              "Tracking run with wandb version 0.12.17"
            ],
            "text/plain": [
              "<IPython.core.display.HTML object>"
            ]
          },
          "metadata": {},
          "output_type": "display_data"
        },
        {
          "data": {
            "text/html": [
              "Run data is saved locally in <code>/content/wandb/run-20220603_070721-txamq7en</code>"
            ],
            "text/plain": [
              "<IPython.core.display.HTML object>"
            ]
          },
          "metadata": {},
          "output_type": "display_data"
        },
        {
          "data": {
            "text/html": [
              "Syncing run <strong><a href=\"https://wandb.ai/amir7d0/fashion_part2/runs/txamq7en\" target=\"_blank\">vague-sweep-18</a></strong> to <a href=\"https://wandb.ai/amir7d0/fashion_part2\" target=\"_blank\">Weights & Biases</a> (<a href=\"https://wandb.me/run\" target=\"_blank\">docs</a>)<br/>Sweep page:  <a href=\"https://wandb.ai/amir7d0/fashion_part2/sweeps/urkb8pum\" target=\"_blank\">https://wandb.ai/amir7d0/fashion_part2/sweeps/urkb8pum</a>"
            ],
            "text/plain": [
              "<IPython.core.display.HTML object>"
            ]
          },
          "metadata": {},
          "output_type": "display_data"
        },
        {
          "metadata": {
            "tags": null
          },
          "name": "stdout",
          "output_type": "stream",
          "text": [
            "Epoch 1/20\n",
            "469/469 [==============================] - 8s 15ms/step - loss: 2.7238 - accuracy: 0.2538 - val_loss: 1.5099 - val_accuracy: 0.5102 - _timestamp: 1654240057.0000 - _runtime: 16.0000\n",
            "Epoch 2/20\n",
            "469/469 [==============================] - 7s 15ms/step - loss: 1.6694 - accuracy: 0.3997 - val_loss: 1.1815 - val_accuracy: 0.6094 - _timestamp: 1654240064.0000 - _runtime: 23.0000\n",
            "Epoch 3/20\n",
            "469/469 [==============================] - 7s 15ms/step - loss: 1.4002 - accuracy: 0.4802 - val_loss: 1.0533 - val_accuracy: 0.6474 - _timestamp: 1654240070.0000 - _runtime: 29.0000\n",
            "Epoch 4/20\n",
            "469/469 [==============================] - 7s 15ms/step - loss: 1.2460 - accuracy: 0.5314 - val_loss: 0.9609 - val_accuracy: 0.6718 - _timestamp: 1654240078.0000 - _runtime: 37.0000\n",
            "Epoch 5/20\n",
            "469/469 [==============================] - 7s 15ms/step - loss: 1.1254 - accuracy: 0.5768 - val_loss: 0.9001 - val_accuracy: 0.6830 - _timestamp: 1654240084.0000 - _runtime: 43.0000\n",
            "Epoch 6/20\n",
            "469/469 [==============================] - 7s 15ms/step - loss: 1.0425 - accuracy: 0.6079 - val_loss: 0.8552 - val_accuracy: 0.6922 - _timestamp: 1654240091.0000 - _runtime: 50.0000\n",
            "Epoch 7/20\n",
            "469/469 [==============================] - 7s 15ms/step - loss: 0.9806 - accuracy: 0.6304 - val_loss: 0.8277 - val_accuracy: 0.6974 - _timestamp: 1654240098.0000 - _runtime: 57.0000\n",
            "Epoch 8/20\n",
            "469/469 [==============================] - 7s 15ms/step - loss: 0.9320 - accuracy: 0.6495 - val_loss: 0.8073 - val_accuracy: 0.7016 - _timestamp: 1654240105.0000 - _runtime: 64.0000\n",
            "Epoch 9/20\n",
            "469/469 [==============================] - 7s 15ms/step - loss: 0.8930 - accuracy: 0.6625 - val_loss: 0.7873 - val_accuracy: 0.7058 - _timestamp: 1654240112.0000 - _runtime: 71.0000\n",
            "Epoch 10/20\n",
            "469/469 [==============================] - 7s 14ms/step - loss: 0.8635 - accuracy: 0.6739 - val_loss: 0.7645 - val_accuracy: 0.7130 - _timestamp: 1654240119.0000 - _runtime: 78.0000\n",
            "Epoch 11/20\n",
            "469/469 [==============================] - 7s 15ms/step - loss: 0.8335 - accuracy: 0.6878 - val_loss: 0.7619 - val_accuracy: 0.7146 - _timestamp: 1654240126.0000 - _runtime: 85.0000\n",
            "Epoch 12/20\n",
            "469/469 [==============================] - 7s 14ms/step - loss: 0.8140 - accuracy: 0.6940 - val_loss: 0.7461 - val_accuracy: 0.7182 - _timestamp: 1654240133.0000 - _runtime: 92.0000\n",
            "Epoch 13/20\n",
            "469/469 [==============================] - 7s 15ms/step - loss: 0.7937 - accuracy: 0.7010 - val_loss: 0.7274 - val_accuracy: 0.7256 - _timestamp: 1654240140.0000 - _runtime: 99.0000\n",
            "Epoch 14/20\n",
            "469/469 [==============================] - 7s 14ms/step - loss: 0.7717 - accuracy: 0.7095 - val_loss: 0.7187 - val_accuracy: 0.7282 - _timestamp: 1654240147.0000 - _runtime: 106.0000\n",
            "Epoch 15/20\n",
            "469/469 [==============================] - 7s 15ms/step - loss: 0.7617 - accuracy: 0.7142 - val_loss: 0.7173 - val_accuracy: 0.7274 - _timestamp: 1654240154.0000 - _runtime: 113.0000\n",
            "Epoch 16/20\n",
            "469/469 [==============================] - 7s 14ms/step - loss: 0.7515 - accuracy: 0.7185 - val_loss: 0.7006 - val_accuracy: 0.7318 - _timestamp: 1654240161.0000 - _runtime: 120.0000\n",
            "Epoch 17/20\n",
            "469/469 [==============================] - 7s 15ms/step - loss: 0.7359 - accuracy: 0.7242 - val_loss: 0.6930 - val_accuracy: 0.7350 - _timestamp: 1654240168.0000 - _runtime: 127.0000\n",
            "Epoch 18/20\n",
            "469/469 [==============================] - 7s 14ms/step - loss: 0.7280 - accuracy: 0.7251 - val_loss: 0.6949 - val_accuracy: 0.7356 - _timestamp: 1654240174.0000 - _runtime: 133.0000\n",
            "Epoch 19/20\n",
            "469/469 [==============================] - 7s 14ms/step - loss: 0.7142 - accuracy: 0.7297 - val_loss: 0.6900 - val_accuracy: 0.7368 - _timestamp: 1654240181.0000 - _runtime: 140.0000\n",
            "Epoch 20/20\n",
            "469/469 [==============================] - 7s 15ms/step - loss: 0.7105 - accuracy: 0.7304 - val_loss: 0.6819 - val_accuracy: 0.7394 - _timestamp: 1654240188.0000 - _runtime: 147.0000\n"
          ]
        },
        {
          "data": {
            "text/html": [
              "Waiting for W&B process to finish... <strong style=\"color:green\">(success).</strong>"
            ],
            "text/plain": [
              "<IPython.core.display.HTML object>"
            ]
          },
          "metadata": {},
          "output_type": "display_data"
        },
        {
          "data": {
            "application/vnd.jupyter.widget-view+json": {
              "model_id": "3d09e902f320451dba80e8cb012d42f7",
              "version_major": 2,
              "version_minor": 0
            },
            "text/plain": [
              "VBox(children=(Label(value='4.073 MB of 4.075 MB uploaded (0.000 MB deduped)\\r'), FloatProgress(value=0.999463…"
            ]
          },
          "metadata": {},
          "output_type": "display_data"
        },
        {
          "data": {
            "text/html": [
              "<style>\n",
              "    table.wandb td:nth-child(1) { padding: 0 10px; text-align: left ; width: auto;} td:nth-child(2) {text-align: left ; width: 100%}\n",
              "    .wandb-row { display: flex; flex-direction: row; flex-wrap: wrap; justify-content: flex-start; width: 100% }\n",
              "    .wandb-col { display: flex; flex-direction: column; flex-basis: 100%; flex: 1; padding: 10px; }\n",
              "    </style>\n",
              "<div class=\"wandb-row\"><div class=\"wandb-col\"><h3>Run history:</h3><br/><table class=\"wandb\"><tr><td>accuracy</td><td>▁▃▄▅▆▆▇▇▇▇▇▇████████</td></tr><tr><td>epoch</td><td>▁▁▂▂▂▃▃▄▄▄▅▅▅▆▆▇▇▇██</td></tr><tr><td>loss</td><td>█▄▃▃▂▂▂▂▂▂▁▁▁▁▁▁▁▁▁▁</td></tr><tr><td>val_accuracy</td><td>▁▄▅▆▆▇▇▇▇▇▇▇████████</td></tr><tr><td>val_loss</td><td>█▅▄▃▃▂▂▂▂▂▂▂▁▁▁▁▁▁▁▁</td></tr></table><br/></div><div class=\"wandb-col\"><h3>Run summary:</h3><br/><table class=\"wandb\"><tr><td>accuracy</td><td>0.73045</td></tr><tr><td>best_epoch</td><td>19</td></tr><tr><td>best_val_loss</td><td>0.68191</td></tr><tr><td>epoch</td><td>19</td></tr><tr><td>loss</td><td>0.71046</td></tr><tr><td>val_accuracy</td><td>0.7394</td></tr><tr><td>val_loss</td><td>0.68191</td></tr></table><br/></div></div>"
            ],
            "text/plain": [
              "<IPython.core.display.HTML object>"
            ]
          },
          "metadata": {},
          "output_type": "display_data"
        },
        {
          "data": {
            "text/html": [
              "Synced <strong style=\"color:#cdcd00\">vague-sweep-18</strong>: <a href=\"https://wandb.ai/amir7d0/fashion_part2/runs/txamq7en\" target=\"_blank\">https://wandb.ai/amir7d0/fashion_part2/runs/txamq7en</a><br/>Synced 5 W&B file(s), 721 media file(s), 0 artifact file(s) and 1 other file(s)"
            ],
            "text/plain": [
              "<IPython.core.display.HTML object>"
            ]
          },
          "metadata": {},
          "output_type": "display_data"
        },
        {
          "data": {
            "text/html": [
              "Find logs at: <code>./wandb/run-20220603_070721-txamq7en/logs</code>"
            ],
            "text/plain": [
              "<IPython.core.display.HTML object>"
            ]
          },
          "metadata": {},
          "output_type": "display_data"
        },
        {
          "metadata": {
            "tags": null
          },
          "name": "stderr",
          "output_type": "stream",
          "text": [
            "\u001b[34m\u001b[1mwandb\u001b[0m: Agent Starting Run: jisfhe9y with config:\n",
            "\u001b[34m\u001b[1mwandb\u001b[0m: \tbatch_size: 128\n",
            "\u001b[34m\u001b[1mwandb\u001b[0m: \tdropout: 0.5\n",
            "\u001b[34m\u001b[1mwandb\u001b[0m: \tepochs: 20\n",
            "\u001b[34m\u001b[1mwandb\u001b[0m: \tlearning_rate: 0.06\n"
          ]
        },
        {
          "data": {
            "text/html": [
              "Tracking run with wandb version 0.12.17"
            ],
            "text/plain": [
              "<IPython.core.display.HTML object>"
            ]
          },
          "metadata": {},
          "output_type": "display_data"
        },
        {
          "data": {
            "text/html": [
              "Run data is saved locally in <code>/content/wandb/run-20220603_070959-jisfhe9y</code>"
            ],
            "text/plain": [
              "<IPython.core.display.HTML object>"
            ]
          },
          "metadata": {},
          "output_type": "display_data"
        },
        {
          "data": {
            "text/html": [
              "Syncing run <strong><a href=\"https://wandb.ai/amir7d0/fashion_part2/runs/jisfhe9y\" target=\"_blank\">ancient-sweep-19</a></strong> to <a href=\"https://wandb.ai/amir7d0/fashion_part2\" target=\"_blank\">Weights & Biases</a> (<a href=\"https://wandb.me/run\" target=\"_blank\">docs</a>)<br/>Sweep page:  <a href=\"https://wandb.ai/amir7d0/fashion_part2/sweeps/urkb8pum\" target=\"_blank\">https://wandb.ai/amir7d0/fashion_part2/sweeps/urkb8pum</a>"
            ],
            "text/plain": [
              "<IPython.core.display.HTML object>"
            ]
          },
          "metadata": {},
          "output_type": "display_data"
        },
        {
          "metadata": {
            "tags": null
          },
          "name": "stdout",
          "output_type": "stream",
          "text": [
            "Epoch 1/20\n",
            "469/469 [==============================] - 7s 15ms/step - loss: 0.9679 - accuracy: 0.6519 - val_loss: 0.6349 - val_accuracy: 0.7602 - _timestamp: 1654240214.0000 - _runtime: 15.0000\n",
            "Epoch 2/20\n",
            "469/469 [==============================] - 7s 15ms/step - loss: 0.6293 - accuracy: 0.7590 - val_loss: 0.5390 - val_accuracy: 0.7870 - _timestamp: 1654240220.0000 - _runtime: 21.0000\n",
            "Epoch 3/20\n",
            "469/469 [==============================] - 7s 15ms/step - loss: 0.5549 - accuracy: 0.7915 - val_loss: 0.5187 - val_accuracy: 0.8180 - _timestamp: 1654240228.0000 - _runtime: 29.0000\n",
            "Epoch 4/20\n",
            "469/469 [==============================] - 7s 15ms/step - loss: 0.5126 - accuracy: 0.8096 - val_loss: 0.4569 - val_accuracy: 0.8382 - _timestamp: 1654240235.0000 - _runtime: 36.0000\n",
            "Epoch 5/20\n",
            "469/469 [==============================] - 7s 15ms/step - loss: 0.4815 - accuracy: 0.8205 - val_loss: 0.4442 - val_accuracy: 0.8450 - _timestamp: 1654240242.0000 - _runtime: 43.0000\n",
            "Epoch 6/20\n",
            "469/469 [==============================] - 7s 15ms/step - loss: 0.4569 - accuracy: 0.8311 - val_loss: 0.3811 - val_accuracy: 0.8644 - _timestamp: 1654240248.0000 - _runtime: 49.0000\n",
            "Epoch 7/20\n",
            "469/469 [==============================] - 7s 14ms/step - loss: 0.4383 - accuracy: 0.8376 - val_loss: 0.4535 - val_accuracy: 0.8464 - _timestamp: 1654240255.0000 - _runtime: 56.0000\n",
            "Epoch 8/20\n",
            "469/469 [==============================] - 7s 14ms/step - loss: 0.4237 - accuracy: 0.8429 - val_loss: 0.4222 - val_accuracy: 0.8532 - _timestamp: 1654240262.0000 - _runtime: 63.0000\n",
            "Epoch 9/20\n",
            "469/469 [==============================] - 7s 15ms/step - loss: 0.4098 - accuracy: 0.8462 - val_loss: 0.3805 - val_accuracy: 0.8698 - _timestamp: 1654240269.0000 - _runtime: 70.0000\n",
            "Epoch 10/20\n",
            "469/469 [==============================] - 7s 14ms/step - loss: 0.3993 - accuracy: 0.8518 - val_loss: 0.4029 - val_accuracy: 0.8604 - _timestamp: 1654240276.0000 - _runtime: 77.0000\n",
            "Epoch 11/20\n",
            "469/469 [==============================] - 7s 15ms/step - loss: 0.3896 - accuracy: 0.8547 - val_loss: 0.3453 - val_accuracy: 0.8778 - _timestamp: 1654240283.0000 - _runtime: 84.0000\n",
            "Epoch 12/20\n",
            "469/469 [==============================] - 7s 15ms/step - loss: 0.3827 - accuracy: 0.8581 - val_loss: 0.3231 - val_accuracy: 0.8842 - _timestamp: 1654240290.0000 - _runtime: 91.0000\n",
            "Epoch 13/20\n",
            "469/469 [==============================] - 7s 15ms/step - loss: 0.3725 - accuracy: 0.8622 - val_loss: 0.3306 - val_accuracy: 0.8856 - _timestamp: 1654240297.0000 - _runtime: 98.0000\n",
            "Epoch 14/20\n",
            "469/469 [==============================] - 7s 15ms/step - loss: 0.3637 - accuracy: 0.8654 - val_loss: 0.3185 - val_accuracy: 0.8846 - _timestamp: 1654240304.0000 - _runtime: 105.0000\n",
            "Epoch 15/20\n",
            "469/469 [==============================] - 7s 15ms/step - loss: 0.3578 - accuracy: 0.8678 - val_loss: 0.3088 - val_accuracy: 0.8912 - _timestamp: 1654240311.0000 - _runtime: 112.0000\n",
            "Epoch 16/20\n",
            "469/469 [==============================] - 7s 14ms/step - loss: 0.3539 - accuracy: 0.8691 - val_loss: 0.3625 - val_accuracy: 0.8742 - _timestamp: 1654240318.0000 - _runtime: 119.0000\n",
            "Epoch 17/20\n",
            "469/469 [==============================] - 7s 16ms/step - loss: 0.3465 - accuracy: 0.8727 - val_loss: 0.3019 - val_accuracy: 0.8972 - _timestamp: 1654240325.0000 - _runtime: 126.0000\n",
            "Epoch 18/20\n",
            "469/469 [==============================] - 7s 14ms/step - loss: 0.3402 - accuracy: 0.8740 - val_loss: 0.3081 - val_accuracy: 0.8966 - _timestamp: 1654240332.0000 - _runtime: 133.0000\n",
            "Epoch 19/20\n",
            "469/469 [==============================] - 7s 15ms/step - loss: 0.3389 - accuracy: 0.8752 - val_loss: 0.3115 - val_accuracy: 0.8958 - _timestamp: 1654240339.0000 - _runtime: 140.0000\n",
            "Epoch 20/20\n",
            "469/469 [==============================] - 7s 15ms/step - loss: 0.3328 - accuracy: 0.8763 - val_loss: 0.2922 - val_accuracy: 0.8958 - _timestamp: 1654240346.0000 - _runtime: 147.0000\n"
          ]
        },
        {
          "data": {
            "text/html": [
              "Waiting for W&B process to finish... <strong style=\"color:green\">(success).</strong>"
            ],
            "text/plain": [
              "<IPython.core.display.HTML object>"
            ]
          },
          "metadata": {},
          "output_type": "display_data"
        },
        {
          "data": {
            "application/vnd.jupyter.widget-view+json": {
              "model_id": "5b19ae2c1ca2499289935012751e7636",
              "version_major": 2,
              "version_minor": 0
            },
            "text/plain": [
              "VBox(children=(Label(value='4.072 MB of 4.075 MB uploaded (0.000 MB deduped)\\r'), FloatProgress(value=0.999334…"
            ]
          },
          "metadata": {},
          "output_type": "display_data"
        },
        {
          "data": {
            "text/html": [
              "<style>\n",
              "    table.wandb td:nth-child(1) { padding: 0 10px; text-align: left ; width: auto;} td:nth-child(2) {text-align: left ; width: 100%}\n",
              "    .wandb-row { display: flex; flex-direction: row; flex-wrap: wrap; justify-content: flex-start; width: 100% }\n",
              "    .wandb-col { display: flex; flex-direction: column; flex-basis: 100%; flex: 1; padding: 10px; }\n",
              "    </style>\n",
              "<div class=\"wandb-row\"><div class=\"wandb-col\"><h3>Run history:</h3><br/><table class=\"wandb\"><tr><td>accuracy</td><td>▁▄▅▆▆▇▇▇▇▇▇▇████████</td></tr><tr><td>epoch</td><td>▁▁▂▂▂▃▃▄▄▄▅▅▅▆▆▇▇▇██</td></tr><tr><td>loss</td><td>█▄▃▃▃▂▂▂▂▂▂▂▁▁▁▁▁▁▁▁</td></tr><tr><td>val_accuracy</td><td>▁▂▄▅▅▆▅▆▇▆▇▇▇▇█▇████</td></tr><tr><td>val_loss</td><td>█▆▆▄▄▃▄▄▃▃▂▂▂▂▁▂▁▁▁▁</td></tr></table><br/></div><div class=\"wandb-col\"><h3>Run summary:</h3><br/><table class=\"wandb\"><tr><td>accuracy</td><td>0.87627</td></tr><tr><td>best_epoch</td><td>19</td></tr><tr><td>best_val_loss</td><td>0.29217</td></tr><tr><td>epoch</td><td>19</td></tr><tr><td>loss</td><td>0.33278</td></tr><tr><td>val_accuracy</td><td>0.8958</td></tr><tr><td>val_loss</td><td>0.29217</td></tr></table><br/></div></div>"
            ],
            "text/plain": [
              "<IPython.core.display.HTML object>"
            ]
          },
          "metadata": {},
          "output_type": "display_data"
        },
        {
          "data": {
            "text/html": [
              "Synced <strong style=\"color:#cdcd00\">ancient-sweep-19</strong>: <a href=\"https://wandb.ai/amir7d0/fashion_part2/runs/jisfhe9y\" target=\"_blank\">https://wandb.ai/amir7d0/fashion_part2/runs/jisfhe9y</a><br/>Synced 5 W&B file(s), 721 media file(s), 0 artifact file(s) and 1 other file(s)"
            ],
            "text/plain": [
              "<IPython.core.display.HTML object>"
            ]
          },
          "metadata": {},
          "output_type": "display_data"
        },
        {
          "data": {
            "text/html": [
              "Find logs at: <code>./wandb/run-20220603_070959-jisfhe9y/logs</code>"
            ],
            "text/plain": [
              "<IPython.core.display.HTML object>"
            ]
          },
          "metadata": {},
          "output_type": "display_data"
        },
        {
          "metadata": {
            "tags": null
          },
          "name": "stderr",
          "output_type": "stream",
          "text": [
            "\u001b[34m\u001b[1mwandb\u001b[0m: Agent Starting Run: nfx8jw73 with config:\n",
            "\u001b[34m\u001b[1mwandb\u001b[0m: \tbatch_size: 32\n",
            "\u001b[34m\u001b[1mwandb\u001b[0m: \tdropout: 0.35\n",
            "\u001b[34m\u001b[1mwandb\u001b[0m: \tepochs: 20\n",
            "\u001b[34m\u001b[1mwandb\u001b[0m: \tlearning_rate: 0.001\n"
          ]
        },
        {
          "data": {
            "text/html": [
              "Tracking run with wandb version 0.12.17"
            ],
            "text/plain": [
              "<IPython.core.display.HTML object>"
            ]
          },
          "metadata": {},
          "output_type": "display_data"
        },
        {
          "data": {
            "text/html": [
              "Run data is saved locally in <code>/content/wandb/run-20220603_071236-nfx8jw73</code>"
            ],
            "text/plain": [
              "<IPython.core.display.HTML object>"
            ]
          },
          "metadata": {},
          "output_type": "display_data"
        },
        {
          "data": {
            "text/html": [
              "Syncing run <strong><a href=\"https://wandb.ai/amir7d0/fashion_part2/runs/nfx8jw73\" target=\"_blank\">worthy-sweep-20</a></strong> to <a href=\"https://wandb.ai/amir7d0/fashion_part2\" target=\"_blank\">Weights & Biases</a> (<a href=\"https://wandb.me/run\" target=\"_blank\">docs</a>)<br/>Sweep page:  <a href=\"https://wandb.ai/amir7d0/fashion_part2/sweeps/urkb8pum\" target=\"_blank\">https://wandb.ai/amir7d0/fashion_part2/sweeps/urkb8pum</a>"
            ],
            "text/plain": [
              "<IPython.core.display.HTML object>"
            ]
          },
          "metadata": {},
          "output_type": "display_data"
        },
        {
          "metadata": {
            "tags": null
          },
          "name": "stdout",
          "output_type": "stream",
          "text": [
            "Epoch 1/20\n",
            "1875/1875 [==============================] - 11s 6ms/step - loss: 1.1906 - accuracy: 0.5843 - val_loss: 0.7419 - val_accuracy: 0.7372 - _timestamp: 1654240374.0000 - _runtime: 18.0000\n",
            "Epoch 2/20\n",
            "1875/1875 [==============================] - 11s 6ms/step - loss: 0.7463 - accuracy: 0.7229 - val_loss: 0.6332 - val_accuracy: 0.7732 - _timestamp: 1654240385.0000 - _runtime: 29.0000\n",
            "Epoch 3/20\n",
            "1875/1875 [==============================] - 11s 6ms/step - loss: 0.6565 - accuracy: 0.7547 - val_loss: 0.5809 - val_accuracy: 0.7898 - _timestamp: 1654240395.0000 - _runtime: 39.0000\n",
            "Epoch 4/20\n",
            "1875/1875 [==============================] - 10s 6ms/step - loss: 0.6090 - accuracy: 0.7724 - val_loss: 0.5384 - val_accuracy: 0.8050 - _timestamp: 1654240406.0000 - _runtime: 50.0000\n",
            "Epoch 5/20\n",
            "1875/1875 [==============================] - 11s 6ms/step - loss: 0.5720 - accuracy: 0.7875 - val_loss: 0.5134 - val_accuracy: 0.8132 - _timestamp: 1654240417.0000 - _runtime: 61.0000\n",
            "Epoch 6/20\n",
            "1875/1875 [==============================] - 11s 6ms/step - loss: 0.5449 - accuracy: 0.7987 - val_loss: 0.4868 - val_accuracy: 0.8258 - _timestamp: 1654240427.0000 - _runtime: 71.0000\n",
            "Epoch 7/20\n",
            "1875/1875 [==============================] - 11s 6ms/step - loss: 0.5217 - accuracy: 0.8067 - val_loss: 0.4727 - val_accuracy: 0.8316 - _timestamp: 1654240438.0000 - _runtime: 82.0000\n",
            "Epoch 8/20\n",
            "1875/1875 [==============================] - 10s 5ms/step - loss: 0.5027 - accuracy: 0.8160 - val_loss: 0.4555 - val_accuracy: 0.8338 - _timestamp: 1654240448.0000 - _runtime: 92.0000\n",
            "Epoch 9/20\n",
            "1875/1875 [==============================] - 11s 6ms/step - loss: 0.4907 - accuracy: 0.8188 - val_loss: 0.4557 - val_accuracy: 0.8384 - _timestamp: 1654240459.0000 - _runtime: 103.0000\n",
            "Epoch 10/20\n",
            "1875/1875 [==============================] - 11s 6ms/step - loss: 0.4768 - accuracy: 0.8252 - val_loss: 0.4364 - val_accuracy: 0.8430 - _timestamp: 1654240469.0000 - _runtime: 113.0000\n",
            "Epoch 11/20\n",
            "1875/1875 [==============================] - 10s 6ms/step - loss: 0.4676 - accuracy: 0.8274 - val_loss: 0.4250 - val_accuracy: 0.8490 - _timestamp: 1654240480.0000 - _runtime: 124.0000\n",
            "Epoch 12/20\n",
            "1875/1875 [==============================] - 11s 6ms/step - loss: 0.4545 - accuracy: 0.8330 - val_loss: 0.4219 - val_accuracy: 0.8484 - _timestamp: 1654240491.0000 - _runtime: 135.0000\n",
            "Epoch 13/20\n",
            "1875/1875 [==============================] - 10s 5ms/step - loss: 0.4439 - accuracy: 0.8364 - val_loss: 0.4093 - val_accuracy: 0.8530 - _timestamp: 1654240501.0000 - _runtime: 145.0000\n",
            "Epoch 14/20\n",
            "1875/1875 [==============================] - 10s 6ms/step - loss: 0.4367 - accuracy: 0.8389 - val_loss: 0.3977 - val_accuracy: 0.8572 - _timestamp: 1654240511.0000 - _runtime: 155.0000\n",
            "Epoch 15/20\n",
            "1875/1875 [==============================] - 11s 6ms/step - loss: 0.4293 - accuracy: 0.8415 - val_loss: 0.4007 - val_accuracy: 0.8596 - _timestamp: 1654240522.0000 - _runtime: 166.0000\n",
            "Epoch 16/20\n",
            "1875/1875 [==============================] - 11s 6ms/step - loss: 0.4190 - accuracy: 0.8462 - val_loss: 0.3909 - val_accuracy: 0.8610 - _timestamp: 1654240533.0000 - _runtime: 177.0000\n",
            "Epoch 17/20\n",
            "1875/1875 [==============================] - 10s 6ms/step - loss: 0.4149 - accuracy: 0.8459 - val_loss: 0.3829 - val_accuracy: 0.8620 - _timestamp: 1654240543.0000 - _runtime: 187.0000\n",
            "Epoch 18/20\n",
            "1875/1875 [==============================] - 10s 6ms/step - loss: 0.4064 - accuracy: 0.8514 - val_loss: 0.3770 - val_accuracy: 0.8650 - _timestamp: 1654240553.0000 - _runtime: 197.0000\n",
            "Epoch 19/20\n",
            "1875/1875 [==============================] - 10s 6ms/step - loss: 0.3999 - accuracy: 0.8518 - val_loss: 0.3778 - val_accuracy: 0.8670 - _timestamp: 1654240564.0000 - _runtime: 208.0000\n",
            "Epoch 20/20\n",
            "1875/1875 [==============================] - 11s 6ms/step - loss: 0.3958 - accuracy: 0.8530 - val_loss: 0.3713 - val_accuracy: 0.8682 - _timestamp: 1654240574.0000 - _runtime: 218.0000\n"
          ]
        },
        {
          "data": {
            "text/html": [
              "Waiting for W&B process to finish... <strong style=\"color:green\">(success).</strong>"
            ],
            "text/plain": [
              "<IPython.core.display.HTML object>"
            ]
          },
          "metadata": {},
          "output_type": "display_data"
        },
        {
          "data": {
            "application/vnd.jupyter.widget-view+json": {
              "model_id": "6913ce6c33434dc29fa8af4cbd5cda06",
              "version_major": 2,
              "version_minor": 0
            },
            "text/plain": [
              "VBox(children=(Label(value='4.076 MB of 4.076 MB uploaded (0.000 MB deduped)\\r'), FloatProgress(value=1.0, max…"
            ]
          },
          "metadata": {},
          "output_type": "display_data"
        },
        {
          "data": {
            "text/html": [
              "<style>\n",
              "    table.wandb td:nth-child(1) { padding: 0 10px; text-align: left ; width: auto;} td:nth-child(2) {text-align: left ; width: 100%}\n",
              "    .wandb-row { display: flex; flex-direction: row; flex-wrap: wrap; justify-content: flex-start; width: 100% }\n",
              "    .wandb-col { display: flex; flex-direction: column; flex-basis: 100%; flex: 1; padding: 10px; }\n",
              "    </style>\n",
              "<div class=\"wandb-row\"><div class=\"wandb-col\"><h3>Run history:</h3><br/><table class=\"wandb\"><tr><td>accuracy</td><td>▁▅▅▆▆▇▇▇▇▇▇▇████████</td></tr><tr><td>epoch</td><td>▁▁▂▂▂▃▃▄▄▄▅▅▅▆▆▇▇▇██</td></tr><tr><td>loss</td><td>█▄▃▃▃▂▂▂▂▂▂▂▁▁▁▁▁▁▁▁</td></tr><tr><td>val_accuracy</td><td>▁▃▄▅▅▆▆▆▆▇▇▇▇▇██████</td></tr><tr><td>val_loss</td><td>█▆▅▄▄▃▃▃▃▂▂▂▂▁▂▁▁▁▁▁</td></tr></table><br/></div><div class=\"wandb-col\"><h3>Run summary:</h3><br/><table class=\"wandb\"><tr><td>accuracy</td><td>0.85305</td></tr><tr><td>best_epoch</td><td>19</td></tr><tr><td>best_val_loss</td><td>0.3713</td></tr><tr><td>epoch</td><td>19</td></tr><tr><td>loss</td><td>0.39576</td></tr><tr><td>val_accuracy</td><td>0.8682</td></tr><tr><td>val_loss</td><td>0.3713</td></tr></table><br/></div></div>"
            ],
            "text/plain": [
              "<IPython.core.display.HTML object>"
            ]
          },
          "metadata": {},
          "output_type": "display_data"
        },
        {
          "data": {
            "text/html": [
              "Synced <strong style=\"color:#cdcd00\">worthy-sweep-20</strong>: <a href=\"https://wandb.ai/amir7d0/fashion_part2/runs/nfx8jw73\" target=\"_blank\">https://wandb.ai/amir7d0/fashion_part2/runs/nfx8jw73</a><br/>Synced 5 W&B file(s), 721 media file(s), 0 artifact file(s) and 1 other file(s)"
            ],
            "text/plain": [
              "<IPython.core.display.HTML object>"
            ]
          },
          "metadata": {},
          "output_type": "display_data"
        },
        {
          "data": {
            "text/html": [
              "Find logs at: <code>./wandb/run-20220603_071236-nfx8jw73/logs</code>"
            ],
            "text/plain": [
              "<IPython.core.display.HTML object>"
            ]
          },
          "metadata": {},
          "output_type": "display_data"
        },
        {
          "metadata": {
            "tags": null
          },
          "name": "stderr",
          "output_type": "stream",
          "text": [
            "\u001b[34m\u001b[1mwandb\u001b[0m: Agent Starting Run: ztvuz5u7 with config:\n",
            "\u001b[34m\u001b[1mwandb\u001b[0m: \tbatch_size: 128\n",
            "\u001b[34m\u001b[1mwandb\u001b[0m: \tdropout: 0.35\n",
            "\u001b[34m\u001b[1mwandb\u001b[0m: \tepochs: 2\n",
            "\u001b[34m\u001b[1mwandb\u001b[0m: \tlearning_rate: 0.06\n"
          ]
        },
        {
          "output_type": "display_data",
          "data": {
            "text/plain": [
              "<IPython.core.display.HTML object>"
            ],
            "text/html": [
              "Tracking run with wandb version 0.12.17"
            ]
          },
          "metadata": {}
        },
        {
          "output_type": "display_data",
          "data": {
            "text/plain": [
              "<IPython.core.display.HTML object>"
            ],
            "text/html": [
              "Run data is saved locally in <code>/content/wandb/run-20220603_071719-ztvuz5u7</code>"
            ]
          },
          "metadata": {}
        },
        {
          "output_type": "display_data",
          "data": {
            "text/plain": [
              "<IPython.core.display.HTML object>"
            ],
            "text/html": [
              "Syncing run <strong><a href=\"https://wandb.ai/amir7d0/fashion_part2/runs/ztvuz5u7\" target=\"_blank\">gentle-sweep-21</a></strong> to <a href=\"https://wandb.ai/amir7d0/fashion_part2\" target=\"_blank\">Weights & Biases</a> (<a href=\"https://wandb.me/run\" target=\"_blank\">docs</a>)<br/>Sweep page:  <a href=\"https://wandb.ai/amir7d0/fashion_part2/sweeps/urkb8pum\" target=\"_blank\">https://wandb.ai/amir7d0/fashion_part2/sweeps/urkb8pum</a>"
            ]
          },
          "metadata": {}
        },
        {
          "output_type": "stream",
          "name": "stdout",
          "text": [
            "Epoch 1/2\n",
            "  5/469 [..............................] - ETA: 7s - loss: 5.9168 - accuracy: 0.1453  WARNING:tensorflow:Callback method `on_train_batch_end` is slow compared to the batch time (batch time: 0.0076s vs `on_train_batch_end` time: 0.0089s). Check your callbacks.\n",
            "469/469 [==============================] - 8s 15ms/step - loss: 0.7409 - accuracy: 0.7351 - val_loss: 0.5444 - val_accuracy: 0.8022 - _timestamp: 1654240654.0000 - _runtime: 15.0000\n",
            "Epoch 2/2\n",
            "469/469 [==============================] - 7s 15ms/step - loss: 0.4749 - accuracy: 0.8233 - val_loss: 0.4369 - val_accuracy: 0.8428 - _timestamp: 1654240661.0000 - _runtime: 22.0000\n"
          ]
        },
        {
          "output_type": "display_data",
          "data": {
            "text/plain": [
              "<IPython.core.display.HTML object>"
            ],
            "text/html": [
              "Waiting for W&B process to finish... <strong style=\"color:green\">(success).</strong>"
            ]
          },
          "metadata": {}
        },
        {
          "output_type": "display_data",
          "data": {
            "text/plain": [
              "VBox(children=(Label(value='3.761 MB of 3.762 MB uploaded (0.000 MB deduped)\\r'), FloatProgress(value=0.999853…"
            ],
            "application/vnd.jupyter.widget-view+json": {
              "version_major": 2,
              "version_minor": 0,
              "model_id": "a35e64736e3545fcb597c9fea554b0aa"
            }
          },
          "metadata": {}
        },
        {
          "output_type": "display_data",
          "data": {
            "text/plain": [
              "<IPython.core.display.HTML object>"
            ],
            "text/html": [
              "<style>\n",
              "    table.wandb td:nth-child(1) { padding: 0 10px; text-align: left ; width: auto;} td:nth-child(2) {text-align: left ; width: 100%}\n",
              "    .wandb-row { display: flex; flex-direction: row; flex-wrap: wrap; justify-content: flex-start; width: 100% }\n",
              "    .wandb-col { display: flex; flex-direction: column; flex-basis: 100%; flex: 1; padding: 10px; }\n",
              "    </style>\n",
              "<div class=\"wandb-row\"><div class=\"wandb-col\"><h3>Run history:</h3><br/><table class=\"wandb\"><tr><td>accuracy</td><td>▁█</td></tr><tr><td>epoch</td><td>▁█</td></tr><tr><td>loss</td><td>█▁</td></tr><tr><td>val_accuracy</td><td>▁█</td></tr><tr><td>val_loss</td><td>█▁</td></tr></table><br/></div><div class=\"wandb-col\"><h3>Run summary:</h3><br/><table class=\"wandb\"><tr><td>accuracy</td><td>0.8233</td></tr><tr><td>best_epoch</td><td>1</td></tr><tr><td>best_val_loss</td><td>0.43695</td></tr><tr><td>epoch</td><td>1</td></tr><tr><td>loss</td><td>0.4749</td></tr><tr><td>val_accuracy</td><td>0.8428</td></tr><tr><td>val_loss</td><td>0.43695</td></tr></table><br/></div></div>"
            ]
          },
          "metadata": {}
        },
        {
          "output_type": "display_data",
          "data": {
            "text/plain": [
              "<IPython.core.display.HTML object>"
            ],
            "text/html": [
              "Synced <strong style=\"color:#cdcd00\">gentle-sweep-21</strong>: <a href=\"https://wandb.ai/amir7d0/fashion_part2/runs/ztvuz5u7\" target=\"_blank\">https://wandb.ai/amir7d0/fashion_part2/runs/ztvuz5u7</a><br/>Synced 5 W&B file(s), 73 media file(s), 0 artifact file(s) and 1 other file(s)"
            ]
          },
          "metadata": {}
        },
        {
          "output_type": "display_data",
          "data": {
            "text/plain": [
              "<IPython.core.display.HTML object>"
            ],
            "text/html": [
              "Find logs at: <code>./wandb/run-20220603_071719-ztvuz5u7/logs</code>"
            ]
          },
          "metadata": {}
        },
        {
          "output_type": "stream",
          "name": "stderr",
          "text": [
            "\u001b[34m\u001b[1mwandb\u001b[0m: Agent Starting Run: 4n893841 with config:\n",
            "\u001b[34m\u001b[1mwandb\u001b[0m: \tbatch_size: 128\n",
            "\u001b[34m\u001b[1mwandb\u001b[0m: \tdropout: 0.35\n",
            "\u001b[34m\u001b[1mwandb\u001b[0m: \tepochs: 10\n",
            "\u001b[34m\u001b[1mwandb\u001b[0m: \tlearning_rate: 0.0003\n"
          ]
        },
        {
          "output_type": "display_data",
          "data": {
            "text/plain": [
              "<IPython.core.display.HTML object>"
            ],
            "text/html": [
              "Tracking run with wandb version 0.12.17"
            ]
          },
          "metadata": {}
        },
        {
          "output_type": "display_data",
          "data": {
            "text/plain": [
              "<IPython.core.display.HTML object>"
            ],
            "text/html": [
              "Run data is saved locally in <code>/content/wandb/run-20220603_071805-4n893841</code>"
            ]
          },
          "metadata": {}
        },
        {
          "output_type": "display_data",
          "data": {
            "text/plain": [
              "<IPython.core.display.HTML object>"
            ],
            "text/html": [
              "Syncing run <strong><a href=\"https://wandb.ai/amir7d0/fashion_part2/runs/4n893841\" target=\"_blank\">balmy-sweep-22</a></strong> to <a href=\"https://wandb.ai/amir7d0/fashion_part2\" target=\"_blank\">Weights & Biases</a> (<a href=\"https://wandb.me/run\" target=\"_blank\">docs</a>)<br/>Sweep page:  <a href=\"https://wandb.ai/amir7d0/fashion_part2/sweeps/urkb8pum\" target=\"_blank\">https://wandb.ai/amir7d0/fashion_part2/sweeps/urkb8pum</a>"
            ]
          },
          "metadata": {}
        },
        {
          "output_type": "stream",
          "name": "stdout",
          "text": [
            "Epoch 1/10\n",
            "469/469 [==============================] - 8s 15ms/step - loss: 2.6297 - accuracy: 0.2478 - val_loss: 1.7276 - val_accuracy: 0.5638 - _timestamp: 1654240700.0000 - _runtime: 15.0000\n",
            "Epoch 2/10\n",
            "469/469 [==============================] - 7s 15ms/step - loss: 1.6862 - accuracy: 0.4177 - val_loss: 1.1662 - val_accuracy: 0.6576 - _timestamp: 1654240707.0000 - _runtime: 22.0000\n",
            "Epoch 3/10\n",
            "469/469 [==============================] - 7s 15ms/step - loss: 1.4029 - accuracy: 0.4978 - val_loss: 1.0201 - val_accuracy: 0.6866 - _timestamp: 1654240714.0000 - _runtime: 29.0000\n",
            "Epoch 4/10\n",
            "469/469 [==============================] - 7s 15ms/step - loss: 1.2288 - accuracy: 0.5565 - val_loss: 0.9294 - val_accuracy: 0.7026 - _timestamp: 1654240721.0000 - _runtime: 36.0000\n",
            "Epoch 5/10\n",
            "469/469 [==============================] - 7s 15ms/step - loss: 1.1260 - accuracy: 0.5919 - val_loss: 0.8703 - val_accuracy: 0.7152 - _timestamp: 1654240728.0000 - _runtime: 43.0000\n",
            "Epoch 6/10\n",
            "469/469 [==============================] - 7s 16ms/step - loss: 1.0440 - accuracy: 0.6203 - val_loss: 0.8307 - val_accuracy: 0.7198 - _timestamp: 1654240736.0000 - _runtime: 51.0000\n",
            "Epoch 7/10\n",
            "469/469 [==============================] - 7s 15ms/step - loss: 0.9878 - accuracy: 0.6399 - val_loss: 0.8008 - val_accuracy: 0.7240 - _timestamp: 1654240743.0000 - _runtime: 58.0000\n",
            "Epoch 8/10\n",
            "469/469 [==============================] - 7s 14ms/step - loss: 0.9393 - accuracy: 0.6575 - val_loss: 0.7723 - val_accuracy: 0.7308 - _timestamp: 1654240750.0000 - _runtime: 65.0000\n",
            "Epoch 9/10\n",
            "469/469 [==============================] - 7s 15ms/step - loss: 0.9047 - accuracy: 0.6685 - val_loss: 0.7537 - val_accuracy: 0.7348 - _timestamp: 1654240757.0000 - _runtime: 72.0000\n",
            "Epoch 10/10\n",
            "469/469 [==============================] - 7s 15ms/step - loss: 0.8736 - accuracy: 0.6814 - val_loss: 0.7403 - val_accuracy: 0.7406 - _timestamp: 1654240764.0000 - _runtime: 79.0000\n"
          ]
        },
        {
          "output_type": "display_data",
          "data": {
            "text/plain": [
              "<IPython.core.display.HTML object>"
            ],
            "text/html": [
              "Waiting for W&B process to finish... <strong style=\"color:green\">(success).</strong>"
            ]
          },
          "metadata": {}
        },
        {
          "output_type": "display_data",
          "data": {
            "text/plain": [
              "VBox(children=(Label(value='3.902 MB of 3.902 MB uploaded (0.000 MB deduped)\\r'), FloatProgress(value=1.0, max…"
            ],
            "application/vnd.jupyter.widget-view+json": {
              "version_major": 2,
              "version_minor": 0,
              "model_id": "f0725251085f4e7aa08689941e85140f"
            }
          },
          "metadata": {}
        },
        {
          "output_type": "display_data",
          "data": {
            "text/plain": [
              "<IPython.core.display.HTML object>"
            ],
            "text/html": [
              "<style>\n",
              "    table.wandb td:nth-child(1) { padding: 0 10px; text-align: left ; width: auto;} td:nth-child(2) {text-align: left ; width: 100%}\n",
              "    .wandb-row { display: flex; flex-direction: row; flex-wrap: wrap; justify-content: flex-start; width: 100% }\n",
              "    .wandb-col { display: flex; flex-direction: column; flex-basis: 100%; flex: 1; padding: 10px; }\n",
              "    </style>\n",
              "<div class=\"wandb-row\"><div class=\"wandb-col\"><h3>Run history:</h3><br/><table class=\"wandb\"><tr><td>accuracy</td><td>▁▄▅▆▇▇▇███</td></tr><tr><td>epoch</td><td>▁▂▃▃▄▅▆▆▇█</td></tr><tr><td>loss</td><td>█▄▃▂▂▂▁▁▁▁</td></tr><tr><td>val_accuracy</td><td>▁▅▆▆▇▇▇███</td></tr><tr><td>val_loss</td><td>█▄▃▂▂▂▁▁▁▁</td></tr></table><br/></div><div class=\"wandb-col\"><h3>Run summary:</h3><br/><table class=\"wandb\"><tr><td>accuracy</td><td>0.68143</td></tr><tr><td>best_epoch</td><td>9</td></tr><tr><td>best_val_loss</td><td>0.74027</td></tr><tr><td>epoch</td><td>9</td></tr><tr><td>loss</td><td>0.87362</td></tr><tr><td>val_accuracy</td><td>0.7406</td></tr><tr><td>val_loss</td><td>0.74027</td></tr></table><br/></div></div>"
            ]
          },
          "metadata": {}
        },
        {
          "output_type": "display_data",
          "data": {
            "text/plain": [
              "<IPython.core.display.HTML object>"
            ],
            "text/html": [
              "Synced <strong style=\"color:#cdcd00\">balmy-sweep-22</strong>: <a href=\"https://wandb.ai/amir7d0/fashion_part2/runs/4n893841\" target=\"_blank\">https://wandb.ai/amir7d0/fashion_part2/runs/4n893841</a><br/>Synced 5 W&B file(s), 361 media file(s), 0 artifact file(s) and 1 other file(s)"
            ]
          },
          "metadata": {}
        },
        {
          "output_type": "display_data",
          "data": {
            "text/plain": [
              "<IPython.core.display.HTML object>"
            ],
            "text/html": [
              "Find logs at: <code>./wandb/run-20220603_071805-4n893841/logs</code>"
            ]
          },
          "metadata": {}
        },
        {
          "output_type": "stream",
          "name": "stderr",
          "text": [
            "\u001b[34m\u001b[1mwandb\u001b[0m: Sweep Agent: Waiting for job.\n",
            "\u001b[34m\u001b[1mwandb\u001b[0m: Job received.\n",
            "\u001b[34m\u001b[1mwandb\u001b[0m: Agent Starting Run: opl57cye with config:\n",
            "\u001b[34m\u001b[1mwandb\u001b[0m: \tbatch_size: 128\n",
            "\u001b[34m\u001b[1mwandb\u001b[0m: \tdropout: 0.35\n",
            "\u001b[34m\u001b[1mwandb\u001b[0m: \tepochs: 2\n",
            "\u001b[34m\u001b[1mwandb\u001b[0m: \tlearning_rate: 0.0003\n"
          ]
        },
        {
          "output_type": "display_data",
          "data": {
            "text/plain": [
              "<IPython.core.display.HTML object>"
            ],
            "text/html": [
              "Tracking run with wandb version 0.12.17"
            ]
          },
          "metadata": {}
        },
        {
          "output_type": "display_data",
          "data": {
            "text/plain": [
              "<IPython.core.display.HTML object>"
            ],
            "text/html": [
              "Run data is saved locally in <code>/content/wandb/run-20220603_071954-opl57cye</code>"
            ]
          },
          "metadata": {}
        },
        {
          "output_type": "display_data",
          "data": {
            "text/plain": [
              "<IPython.core.display.HTML object>"
            ],
            "text/html": [
              "Syncing run <strong><a href=\"https://wandb.ai/amir7d0/fashion_part2/runs/opl57cye\" target=\"_blank\">sage-sweep-23</a></strong> to <a href=\"https://wandb.ai/amir7d0/fashion_part2\" target=\"_blank\">Weights & Biases</a> (<a href=\"https://wandb.me/run\" target=\"_blank\">docs</a>)<br/>Sweep page:  <a href=\"https://wandb.ai/amir7d0/fashion_part2/sweeps/urkb8pum\" target=\"_blank\">https://wandb.ai/amir7d0/fashion_part2/sweeps/urkb8pum</a>"
            ]
          },
          "metadata": {}
        },
        {
          "output_type": "stream",
          "name": "stdout",
          "text": [
            "Epoch 1/2\n",
            "469/469 [==============================] - 8s 15ms/step - loss: 2.5778 - accuracy: 0.2503 - val_loss: 1.6991 - val_accuracy: 0.5568 - _timestamp: 1654240809.0000 - _runtime: 15.0000\n",
            "Epoch 2/2\n",
            "469/469 [==============================] - 7s 15ms/step - loss: 1.6583 - accuracy: 0.4290 - val_loss: 1.1168 - val_accuracy: 0.6622 - _timestamp: 1654240816.0000 - _runtime: 22.0000\n"
          ]
        },
        {
          "output_type": "display_data",
          "data": {
            "text/plain": [
              "<IPython.core.display.HTML object>"
            ],
            "text/html": [
              "Waiting for W&B process to finish... <strong style=\"color:green\">(success).</strong>"
            ]
          },
          "metadata": {}
        },
        {
          "output_type": "display_data",
          "data": {
            "text/plain": [
              "VBox(children=(Label(value='3.761 MB of 3.761 MB uploaded (0.000 MB deduped)\\r'), FloatProgress(value=1.0, max…"
            ],
            "application/vnd.jupyter.widget-view+json": {
              "version_major": 2,
              "version_minor": 0,
              "model_id": "61a1c24f808643ca9a48a19a05377072"
            }
          },
          "metadata": {}
        },
        {
          "output_type": "display_data",
          "data": {
            "text/plain": [
              "<IPython.core.display.HTML object>"
            ],
            "text/html": [
              "<style>\n",
              "    table.wandb td:nth-child(1) { padding: 0 10px; text-align: left ; width: auto;} td:nth-child(2) {text-align: left ; width: 100%}\n",
              "    .wandb-row { display: flex; flex-direction: row; flex-wrap: wrap; justify-content: flex-start; width: 100% }\n",
              "    .wandb-col { display: flex; flex-direction: column; flex-basis: 100%; flex: 1; padding: 10px; }\n",
              "    </style>\n",
              "<div class=\"wandb-row\"><div class=\"wandb-col\"><h3>Run history:</h3><br/><table class=\"wandb\"><tr><td>accuracy</td><td>▁█</td></tr><tr><td>epoch</td><td>▁█</td></tr><tr><td>loss</td><td>█▁</td></tr><tr><td>val_accuracy</td><td>▁█</td></tr><tr><td>val_loss</td><td>█▁</td></tr></table><br/></div><div class=\"wandb-col\"><h3>Run summary:</h3><br/><table class=\"wandb\"><tr><td>accuracy</td><td>0.42905</td></tr><tr><td>best_epoch</td><td>1</td></tr><tr><td>best_val_loss</td><td>1.11681</td></tr><tr><td>epoch</td><td>1</td></tr><tr><td>loss</td><td>1.65826</td></tr><tr><td>val_accuracy</td><td>0.6622</td></tr><tr><td>val_loss</td><td>1.11681</td></tr></table><br/></div></div>"
            ]
          },
          "metadata": {}
        },
        {
          "output_type": "display_data",
          "data": {
            "text/plain": [
              "<IPython.core.display.HTML object>"
            ],
            "text/html": [
              "Synced <strong style=\"color:#cdcd00\">sage-sweep-23</strong>: <a href=\"https://wandb.ai/amir7d0/fashion_part2/runs/opl57cye\" target=\"_blank\">https://wandb.ai/amir7d0/fashion_part2/runs/opl57cye</a><br/>Synced 5 W&B file(s), 73 media file(s), 0 artifact file(s) and 1 other file(s)"
            ]
          },
          "metadata": {}
        },
        {
          "output_type": "display_data",
          "data": {
            "text/plain": [
              "<IPython.core.display.HTML object>"
            ],
            "text/html": [
              "Find logs at: <code>./wandb/run-20220603_071954-opl57cye/logs</code>"
            ]
          },
          "metadata": {}
        },
        {
          "output_type": "stream",
          "name": "stderr",
          "text": [
            "\u001b[34m\u001b[1mwandb\u001b[0m: Agent Starting Run: 7apl16hy with config:\n",
            "\u001b[34m\u001b[1mwandb\u001b[0m: \tbatch_size: 128\n",
            "\u001b[34m\u001b[1mwandb\u001b[0m: \tdropout: 0.35\n",
            "\u001b[34m\u001b[1mwandb\u001b[0m: \tepochs: 10\n",
            "\u001b[34m\u001b[1mwandb\u001b[0m: \tlearning_rate: 0.001\n"
          ]
        },
        {
          "output_type": "display_data",
          "data": {
            "text/plain": [
              "<IPython.core.display.HTML object>"
            ],
            "text/html": [
              "Tracking run with wandb version 0.12.17"
            ]
          },
          "metadata": {}
        },
        {
          "output_type": "display_data",
          "data": {
            "text/plain": [
              "<IPython.core.display.HTML object>"
            ],
            "text/html": [
              "Run data is saved locally in <code>/content/wandb/run-20220603_072029-7apl16hy</code>"
            ]
          },
          "metadata": {}
        },
        {
          "output_type": "display_data",
          "data": {
            "text/plain": [
              "<IPython.core.display.HTML object>"
            ],
            "text/html": [
              "Syncing run <strong><a href=\"https://wandb.ai/amir7d0/fashion_part2/runs/7apl16hy\" target=\"_blank\">peachy-sweep-24</a></strong> to <a href=\"https://wandb.ai/amir7d0/fashion_part2\" target=\"_blank\">Weights & Biases</a> (<a href=\"https://wandb.me/run\" target=\"_blank\">docs</a>)<br/>Sweep page:  <a href=\"https://wandb.ai/amir7d0/fashion_part2/sweeps/urkb8pum\" target=\"_blank\">https://wandb.ai/amir7d0/fashion_part2/sweeps/urkb8pum</a>"
            ]
          },
          "metadata": {}
        },
        {
          "output_type": "stream",
          "name": "stdout",
          "text": [
            "Epoch 1/10\n",
            "469/469 [==============================] - 8s 15ms/step - loss: 1.8150 - accuracy: 0.4078 - val_loss: 1.4171 - val_accuracy: 0.6824 - _timestamp: 1654240845.0000 - _runtime: 15.0000\n",
            "Epoch 2/10\n",
            "469/469 [==============================] - 7s 15ms/step - loss: 1.0746 - accuracy: 0.6106 - val_loss: 0.8341 - val_accuracy: 0.7112 - _timestamp: 1654240852.0000 - _runtime: 22.0000\n",
            "Epoch 3/10\n",
            "469/469 [==============================] - 7s 15ms/step - loss: 0.9135 - accuracy: 0.6656 - val_loss: 0.7509 - val_accuracy: 0.7340 - _timestamp: 1654240859.0000 - _runtime: 29.0000\n",
            "Epoch 4/10\n",
            "469/469 [==============================] - 7s 15ms/step - loss: 0.8314 - accuracy: 0.6959 - val_loss: 0.7076 - val_accuracy: 0.7446 - _timestamp: 1654240866.0000 - _runtime: 36.0000\n",
            "Epoch 5/10\n",
            "469/469 [==============================] - 7s 15ms/step - loss: 0.7813 - accuracy: 0.7132 - val_loss: 0.6729 - val_accuracy: 0.7564 - _timestamp: 1654240873.0000 - _runtime: 43.0000\n",
            "Epoch 6/10\n",
            "469/469 [==============================] - 7s 15ms/step - loss: 0.7386 - accuracy: 0.7267 - val_loss: 0.6522 - val_accuracy: 0.7612 - _timestamp: 1654240881.0000 - _runtime: 51.0000\n",
            "Epoch 7/10\n",
            "469/469 [==============================] - 7s 15ms/step - loss: 0.7119 - accuracy: 0.7352 - val_loss: 0.6327 - val_accuracy: 0.7706 - _timestamp: 1654240888.0000 - _runtime: 58.0000\n",
            "Epoch 8/10\n",
            "469/469 [==============================] - 7s 15ms/step - loss: 0.6846 - accuracy: 0.7448 - val_loss: 0.6105 - val_accuracy: 0.7770 - _timestamp: 1654240895.0000 - _runtime: 65.0000\n",
            "Epoch 9/10\n",
            "469/469 [==============================] - 7s 15ms/step - loss: 0.6669 - accuracy: 0.7534 - val_loss: 0.6007 - val_accuracy: 0.7806 - _timestamp: 1654240902.0000 - _runtime: 72.0000\n",
            "Epoch 10/10\n",
            "469/469 [==============================] - 7s 15ms/step - loss: 0.6490 - accuracy: 0.7594 - val_loss: 0.5857 - val_accuracy: 0.7872 - _timestamp: 1654240909.0000 - _runtime: 79.0000\n"
          ]
        },
        {
          "output_type": "display_data",
          "data": {
            "text/plain": [
              "<IPython.core.display.HTML object>"
            ],
            "text/html": [
              "Waiting for W&B process to finish... <strong style=\"color:green\">(success).</strong>"
            ]
          },
          "metadata": {}
        },
        {
          "output_type": "display_data",
          "data": {
            "text/plain": [
              "VBox(children=(Label(value='3.900 MB of 3.902 MB uploaded (0.000 MB deduped)\\r'), FloatProgress(value=0.999718…"
            ],
            "application/vnd.jupyter.widget-view+json": {
              "version_major": 2,
              "version_minor": 0,
              "model_id": "d14941f3b4944d22b04c4063d07863ea"
            }
          },
          "metadata": {}
        },
        {
          "output_type": "display_data",
          "data": {
            "text/plain": [
              "<IPython.core.display.HTML object>"
            ],
            "text/html": [
              "<style>\n",
              "    table.wandb td:nth-child(1) { padding: 0 10px; text-align: left ; width: auto;} td:nth-child(2) {text-align: left ; width: 100%}\n",
              "    .wandb-row { display: flex; flex-direction: row; flex-wrap: wrap; justify-content: flex-start; width: 100% }\n",
              "    .wandb-col { display: flex; flex-direction: column; flex-basis: 100%; flex: 1; padding: 10px; }\n",
              "    </style>\n",
              "<div class=\"wandb-row\"><div class=\"wandb-col\"><h3>Run history:</h3><br/><table class=\"wandb\"><tr><td>accuracy</td><td>▁▅▆▇▇▇████</td></tr><tr><td>epoch</td><td>▁▂▃▃▄▅▆▆▇█</td></tr><tr><td>loss</td><td>█▄▃▂▂▂▁▁▁▁</td></tr><tr><td>val_accuracy</td><td>▁▃▄▅▆▆▇▇██</td></tr><tr><td>val_loss</td><td>█▃▂▂▂▂▁▁▁▁</td></tr></table><br/></div><div class=\"wandb-col\"><h3>Run summary:</h3><br/><table class=\"wandb\"><tr><td>accuracy</td><td>0.75942</td></tr><tr><td>best_epoch</td><td>9</td></tr><tr><td>best_val_loss</td><td>0.58572</td></tr><tr><td>epoch</td><td>9</td></tr><tr><td>loss</td><td>0.64897</td></tr><tr><td>val_accuracy</td><td>0.7872</td></tr><tr><td>val_loss</td><td>0.58572</td></tr></table><br/></div></div>"
            ]
          },
          "metadata": {}
        },
        {
          "output_type": "display_data",
          "data": {
            "text/plain": [
              "<IPython.core.display.HTML object>"
            ],
            "text/html": [
              "Synced <strong style=\"color:#cdcd00\">peachy-sweep-24</strong>: <a href=\"https://wandb.ai/amir7d0/fashion_part2/runs/7apl16hy\" target=\"_blank\">https://wandb.ai/amir7d0/fashion_part2/runs/7apl16hy</a><br/>Synced 5 W&B file(s), 361 media file(s), 0 artifact file(s) and 1 other file(s)"
            ]
          },
          "metadata": {}
        },
        {
          "output_type": "display_data",
          "data": {
            "text/plain": [
              "<IPython.core.display.HTML object>"
            ],
            "text/html": [
              "Find logs at: <code>./wandb/run-20220603_072029-7apl16hy/logs</code>"
            ]
          },
          "metadata": {}
        },
        {
          "output_type": "stream",
          "name": "stderr",
          "text": [
            "\u001b[34m\u001b[1mwandb\u001b[0m: Agent Starting Run: i3k7bncz with config:\n",
            "\u001b[34m\u001b[1mwandb\u001b[0m: \tbatch_size: 32\n",
            "\u001b[34m\u001b[1mwandb\u001b[0m: \tdropout: 0.5\n",
            "\u001b[34m\u001b[1mwandb\u001b[0m: \tepochs: 10\n",
            "\u001b[34m\u001b[1mwandb\u001b[0m: \tlearning_rate: 0.0003\n"
          ]
        },
        {
          "output_type": "display_data",
          "data": {
            "text/plain": [
              "<IPython.core.display.HTML object>"
            ],
            "text/html": [
              "Tracking run with wandb version 0.12.17"
            ]
          },
          "metadata": {}
        },
        {
          "output_type": "display_data",
          "data": {
            "text/plain": [
              "<IPython.core.display.HTML object>"
            ],
            "text/html": [
              "Run data is saved locally in <code>/content/wandb/run-20220603_072201-i3k7bncz</code>"
            ]
          },
          "metadata": {}
        },
        {
          "output_type": "display_data",
          "data": {
            "text/plain": [
              "<IPython.core.display.HTML object>"
            ],
            "text/html": [
              "Syncing run <strong><a href=\"https://wandb.ai/amir7d0/fashion_part2/runs/i3k7bncz\" target=\"_blank\">vital-sweep-25</a></strong> to <a href=\"https://wandb.ai/amir7d0/fashion_part2\" target=\"_blank\">Weights & Biases</a> (<a href=\"https://wandb.me/run\" target=\"_blank\">docs</a>)<br/>Sweep page:  <a href=\"https://wandb.ai/amir7d0/fashion_part2/sweeps/urkb8pum\" target=\"_blank\">https://wandb.ai/amir7d0/fashion_part2/sweeps/urkb8pum</a>"
            ]
          },
          "metadata": {}
        },
        {
          "output_type": "stream",
          "name": "stdout",
          "text": [
            "Epoch 1/10\n",
            "1875/1875 [==============================] - 11s 6ms/step - loss: 2.5121 - accuracy: 0.2607 - val_loss: 1.3277 - val_accuracy: 0.5732 - _timestamp: 1654240940.0000 - _runtime: 19.0000\n",
            "Epoch 2/10\n",
            "1875/1875 [==============================] - 11s 6ms/step - loss: 1.5396 - accuracy: 0.4294 - val_loss: 1.0717 - val_accuracy: 0.6324 - _timestamp: 1654240951.0000 - _runtime: 30.0000\n",
            "Epoch 3/10\n",
            "1875/1875 [==============================] - 10s 6ms/step - loss: 1.2771 - accuracy: 0.5178 - val_loss: 0.9385 - val_accuracy: 0.6754 - _timestamp: 1654240961.0000 - _runtime: 40.0000\n",
            "Epoch 4/10\n",
            "1875/1875 [==============================] - 10s 6ms/step - loss: 1.1219 - accuracy: 0.5775 - val_loss: 0.8593 - val_accuracy: 0.6898 - _timestamp: 1654240972.0000 - _runtime: 51.0000\n",
            "Epoch 5/10\n",
            "1875/1875 [==============================] - 10s 6ms/step - loss: 1.0246 - accuracy: 0.6180 - val_loss: 0.8248 - val_accuracy: 0.6968 - _timestamp: 1654240982.0000 - _runtime: 61.0000\n",
            "Epoch 6/10\n",
            "1875/1875 [==============================] - 10s 6ms/step - loss: 0.9539 - accuracy: 0.6427 - val_loss: 0.8062 - val_accuracy: 0.7064 - _timestamp: 1654240993.0000 - _runtime: 72.0000\n",
            "Epoch 7/10\n",
            "1875/1875 [==============================] - 11s 6ms/step - loss: 0.9064 - accuracy: 0.6602 - val_loss: 0.7799 - val_accuracy: 0.7132 - _timestamp: 1654241003.0000 - _runtime: 82.0000\n",
            "Epoch 8/10\n",
            "1875/1875 [==============================] - 11s 6ms/step - loss: 0.8683 - accuracy: 0.6755 - val_loss: 0.7586 - val_accuracy: 0.7202 - _timestamp: 1654241014.0000 - _runtime: 93.0000\n",
            "Epoch 9/10\n",
            "1875/1875 [==============================] - 10s 6ms/step - loss: 0.8375 - accuracy: 0.6868 - val_loss: 0.7598 - val_accuracy: 0.7162 - _timestamp: 1654241025.0000 - _runtime: 104.0000\n",
            "Epoch 10/10\n",
            "1875/1875 [==============================] - 10s 6ms/step - loss: 0.8119 - accuracy: 0.6963 - val_loss: 0.7374 - val_accuracy: 0.7246 - _timestamp: 1654241035.0000 - _runtime: 114.0000\n"
          ]
        },
        {
          "output_type": "display_data",
          "data": {
            "text/plain": [
              "<IPython.core.display.HTML object>"
            ],
            "text/html": [
              "Waiting for W&B process to finish... <strong style=\"color:green\">(success).</strong>"
            ]
          },
          "metadata": {}
        },
        {
          "output_type": "display_data",
          "data": {
            "text/plain": [
              "VBox(children=(Label(value='3.900 MB of 3.900 MB uploaded (0.000 MB deduped)\\r'), FloatProgress(value=1.0, max…"
            ],
            "application/vnd.jupyter.widget-view+json": {
              "version_major": 2,
              "version_minor": 0,
              "model_id": "8e063a9179574017822cffdb22f10ba8"
            }
          },
          "metadata": {}
        },
        {
          "output_type": "display_data",
          "data": {
            "text/plain": [
              "<IPython.core.display.HTML object>"
            ],
            "text/html": [
              "<style>\n",
              "    table.wandb td:nth-child(1) { padding: 0 10px; text-align: left ; width: auto;} td:nth-child(2) {text-align: left ; width: 100%}\n",
              "    .wandb-row { display: flex; flex-direction: row; flex-wrap: wrap; justify-content: flex-start; width: 100% }\n",
              "    .wandb-col { display: flex; flex-direction: column; flex-basis: 100%; flex: 1; padding: 10px; }\n",
              "    </style>\n",
              "<div class=\"wandb-row\"><div class=\"wandb-col\"><h3>Run history:</h3><br/><table class=\"wandb\"><tr><td>accuracy</td><td>▁▄▅▆▇▇▇███</td></tr><tr><td>epoch</td><td>▁▂▃▃▄▅▆▆▇█</td></tr><tr><td>loss</td><td>█▄▃▂▂▂▁▁▁▁</td></tr><tr><td>val_accuracy</td><td>▁▄▆▆▇▇▇███</td></tr><tr><td>val_loss</td><td>█▅▃▂▂▂▂▁▁▁</td></tr></table><br/></div><div class=\"wandb-col\"><h3>Run summary:</h3><br/><table class=\"wandb\"><tr><td>accuracy</td><td>0.69628</td></tr><tr><td>best_epoch</td><td>9</td></tr><tr><td>best_val_loss</td><td>0.73742</td></tr><tr><td>epoch</td><td>9</td></tr><tr><td>loss</td><td>0.8119</td></tr><tr><td>val_accuracy</td><td>0.7246</td></tr><tr><td>val_loss</td><td>0.73742</td></tr></table><br/></div></div>"
            ]
          },
          "metadata": {}
        },
        {
          "output_type": "display_data",
          "data": {
            "text/plain": [
              "<IPython.core.display.HTML object>"
            ],
            "text/html": [
              "Synced <strong style=\"color:#cdcd00\">vital-sweep-25</strong>: <a href=\"https://wandb.ai/amir7d0/fashion_part2/runs/i3k7bncz\" target=\"_blank\">https://wandb.ai/amir7d0/fashion_part2/runs/i3k7bncz</a><br/>Synced 5 W&B file(s), 361 media file(s), 0 artifact file(s) and 1 other file(s)"
            ]
          },
          "metadata": {}
        },
        {
          "output_type": "display_data",
          "data": {
            "text/plain": [
              "<IPython.core.display.HTML object>"
            ],
            "text/html": [
              "Find logs at: <code>./wandb/run-20220603_072201-i3k7bncz/logs</code>"
            ]
          },
          "metadata": {}
        },
        {
          "output_type": "stream",
          "name": "stderr",
          "text": [
            "\u001b[34m\u001b[1mwandb\u001b[0m: Agent Starting Run: d75bzo8u with config:\n",
            "\u001b[34m\u001b[1mwandb\u001b[0m: \tbatch_size: 128\n",
            "\u001b[34m\u001b[1mwandb\u001b[0m: \tdropout: 0.5\n",
            "\u001b[34m\u001b[1mwandb\u001b[0m: \tepochs: 10\n",
            "\u001b[34m\u001b[1mwandb\u001b[0m: \tlearning_rate: 0.0003\n"
          ]
        },
        {
          "output_type": "display_data",
          "data": {
            "text/plain": [
              "<IPython.core.display.HTML object>"
            ],
            "text/html": [
              "Tracking run with wandb version 0.12.17"
            ]
          },
          "metadata": {}
        },
        {
          "output_type": "display_data",
          "data": {
            "text/plain": [
              "<IPython.core.display.HTML object>"
            ],
            "text/html": [
              "Run data is saved locally in <code>/content/wandb/run-20220603_072443-d75bzo8u</code>"
            ]
          },
          "metadata": {}
        },
        {
          "output_type": "display_data",
          "data": {
            "text/plain": [
              "<IPython.core.display.HTML object>"
            ],
            "text/html": [
              "Syncing run <strong><a href=\"https://wandb.ai/amir7d0/fashion_part2/runs/d75bzo8u\" target=\"_blank\">comic-sweep-26</a></strong> to <a href=\"https://wandb.ai/amir7d0/fashion_part2\" target=\"_blank\">Weights & Biases</a> (<a href=\"https://wandb.me/run\" target=\"_blank\">docs</a>)<br/>Sweep page:  <a href=\"https://wandb.ai/amir7d0/fashion_part2/sweeps/urkb8pum\" target=\"_blank\">https://wandb.ai/amir7d0/fashion_part2/sweeps/urkb8pum</a>"
            ]
          },
          "metadata": {}
        },
        {
          "output_type": "stream",
          "name": "stdout",
          "text": [
            "Epoch 1/10\n",
            "469/469 [==============================] - 8s 15ms/step - loss: 3.8124 - accuracy: 0.1528 - val_loss: 1.9721 - val_accuracy: 0.2754 - _timestamp: 1654241098.0000 - _runtime: 15.0000\n",
            "Epoch 2/10\n",
            "469/469 [==============================] - 7s 15ms/step - loss: 2.4266 - accuracy: 0.2387 - val_loss: 1.5035 - val_accuracy: 0.5080 - _timestamp: 1654241105.0000 - _runtime: 22.0000\n",
            "Epoch 3/10\n",
            "469/469 [==============================] - 7s 15ms/step - loss: 2.0159 - accuracy: 0.3056 - val_loss: 1.3219 - val_accuracy: 0.5686 - _timestamp: 1654241112.0000 - _runtime: 29.0000\n",
            "Epoch 4/10\n",
            "469/469 [==============================] - 7s 15ms/step - loss: 1.7960 - accuracy: 0.3578 - val_loss: 1.2215 - val_accuracy: 0.5832 - _timestamp: 1654241120.0000 - _runtime: 37.0000\n",
            "Epoch 5/10\n",
            "469/469 [==============================] - 7s 16ms/step - loss: 1.6357 - accuracy: 0.4015 - val_loss: 1.1505 - val_accuracy: 0.6002 - _timestamp: 1654241127.0000 - _runtime: 44.0000\n",
            "Epoch 6/10\n",
            "469/469 [==============================] - 7s 15ms/step - loss: 1.5176 - accuracy: 0.4408 - val_loss: 1.0998 - val_accuracy: 0.6162 - _timestamp: 1654241134.0000 - _runtime: 51.0000\n",
            "Epoch 7/10\n",
            "469/469 [==============================] - 7s 16ms/step - loss: 1.4253 - accuracy: 0.4701 - val_loss: 1.0565 - val_accuracy: 0.6278 - _timestamp: 1654241141.0000 - _runtime: 58.0000\n",
            "Epoch 8/10\n",
            "469/469 [==============================] - 7s 15ms/step - loss: 1.3527 - accuracy: 0.4938 - val_loss: 1.0199 - val_accuracy: 0.6360 - _timestamp: 1654241148.0000 - _runtime: 65.0000\n",
            "Epoch 9/10\n",
            "469/469 [==============================] - 7s 15ms/step - loss: 1.2859 - accuracy: 0.5188 - val_loss: 0.9874 - val_accuracy: 0.6482 - _timestamp: 1654241155.0000 - _runtime: 72.0000\n",
            "Epoch 10/10\n",
            "469/469 [==============================] - 7s 15ms/step - loss: 1.2255 - accuracy: 0.5381 - val_loss: 0.9631 - val_accuracy: 0.6524 - _timestamp: 1654241162.0000 - _runtime: 79.0000\n"
          ]
        },
        {
          "output_type": "display_data",
          "data": {
            "text/plain": [
              "<IPython.core.display.HTML object>"
            ],
            "text/html": [
              "Waiting for W&B process to finish... <strong style=\"color:green\">(success).</strong>"
            ]
          },
          "metadata": {}
        },
        {
          "output_type": "display_data",
          "data": {
            "text/plain": [
              "VBox(children=(Label(value='3.900 MB of 3.901 MB uploaded (0.000 MB deduped)\\r'), FloatProgress(value=0.999767…"
            ],
            "application/vnd.jupyter.widget-view+json": {
              "version_major": 2,
              "version_minor": 0,
              "model_id": "380a83c5bc7344cab976052bfda6fdc3"
            }
          },
          "metadata": {}
        },
        {
          "output_type": "display_data",
          "data": {
            "text/plain": [
              "<IPython.core.display.HTML object>"
            ],
            "text/html": [
              "<style>\n",
              "    table.wandb td:nth-child(1) { padding: 0 10px; text-align: left ; width: auto;} td:nth-child(2) {text-align: left ; width: 100%}\n",
              "    .wandb-row { display: flex; flex-direction: row; flex-wrap: wrap; justify-content: flex-start; width: 100% }\n",
              "    .wandb-col { display: flex; flex-direction: column; flex-basis: 100%; flex: 1; padding: 10px; }\n",
              "    </style>\n",
              "<div class=\"wandb-row\"><div class=\"wandb-col\"><h3>Run history:</h3><br/><table class=\"wandb\"><tr><td>accuracy</td><td>▁▃▄▅▆▆▇▇██</td></tr><tr><td>epoch</td><td>▁▂▃▃▄▅▆▆▇█</td></tr><tr><td>loss</td><td>█▄▃▃▂▂▂▁▁▁</td></tr><tr><td>val_accuracy</td><td>▁▅▆▇▇▇████</td></tr><tr><td>val_loss</td><td>█▅▃▃▂▂▂▁▁▁</td></tr></table><br/></div><div class=\"wandb-col\"><h3>Run summary:</h3><br/><table class=\"wandb\"><tr><td>accuracy</td><td>0.5381</td></tr><tr><td>best_epoch</td><td>9</td></tr><tr><td>best_val_loss</td><td>0.9631</td></tr><tr><td>epoch</td><td>9</td></tr><tr><td>loss</td><td>1.22546</td></tr><tr><td>val_accuracy</td><td>0.6524</td></tr><tr><td>val_loss</td><td>0.9631</td></tr></table><br/></div></div>"
            ]
          },
          "metadata": {}
        },
        {
          "output_type": "display_data",
          "data": {
            "text/plain": [
              "<IPython.core.display.HTML object>"
            ],
            "text/html": [
              "Synced <strong style=\"color:#cdcd00\">comic-sweep-26</strong>: <a href=\"https://wandb.ai/amir7d0/fashion_part2/runs/d75bzo8u\" target=\"_blank\">https://wandb.ai/amir7d0/fashion_part2/runs/d75bzo8u</a><br/>Synced 5 W&B file(s), 361 media file(s), 0 artifact file(s) and 1 other file(s)"
            ]
          },
          "metadata": {}
        },
        {
          "output_type": "display_data",
          "data": {
            "text/plain": [
              "<IPython.core.display.HTML object>"
            ],
            "text/html": [
              "Find logs at: <code>./wandb/run-20220603_072443-d75bzo8u/logs</code>"
            ]
          },
          "metadata": {}
        },
        {
          "output_type": "stream",
          "name": "stderr",
          "text": [
            "\u001b[34m\u001b[1mwandb\u001b[0m: Sweep Agent: Waiting for job.\n",
            "\u001b[34m\u001b[1mwandb\u001b[0m: Job received.\n",
            "\u001b[34m\u001b[1mwandb\u001b[0m: Agent Starting Run: a61ofs1h with config:\n",
            "\u001b[34m\u001b[1mwandb\u001b[0m: \tbatch_size: 128\n",
            "\u001b[34m\u001b[1mwandb\u001b[0m: \tdropout: 0.5\n",
            "\u001b[34m\u001b[1mwandb\u001b[0m: \tepochs: 2\n",
            "\u001b[34m\u001b[1mwandb\u001b[0m: \tlearning_rate: 0.001\n"
          ]
        },
        {
          "output_type": "display_data",
          "data": {
            "text/plain": [
              "<IPython.core.display.HTML object>"
            ],
            "text/html": [
              "Tracking run with wandb version 0.12.17"
            ]
          },
          "metadata": {}
        },
        {
          "output_type": "display_data",
          "data": {
            "text/plain": [
              "<IPython.core.display.HTML object>"
            ],
            "text/html": [
              "Run data is saved locally in <code>/content/wandb/run-20220603_072629-a61ofs1h</code>"
            ]
          },
          "metadata": {}
        },
        {
          "output_type": "display_data",
          "data": {
            "text/plain": [
              "<IPython.core.display.HTML object>"
            ],
            "text/html": [
              "Syncing run <strong><a href=\"https://wandb.ai/amir7d0/fashion_part2/runs/a61ofs1h\" target=\"_blank\">sparkling-sweep-27</a></strong> to <a href=\"https://wandb.ai/amir7d0/fashion_part2\" target=\"_blank\">Weights & Biases</a> (<a href=\"https://wandb.me/run\" target=\"_blank\">docs</a>)<br/>Sweep page:  <a href=\"https://wandb.ai/amir7d0/fashion_part2/sweeps/urkb8pum\" target=\"_blank\">https://wandb.ai/amir7d0/fashion_part2/sweeps/urkb8pum</a>"
            ]
          },
          "metadata": {}
        },
        {
          "output_type": "stream",
          "name": "stdout",
          "text": [
            "Epoch 1/2\n",
            "469/469 [==============================] - 8s 15ms/step - loss: 2.6414 - accuracy: 0.2666 - val_loss: 1.4338 - val_accuracy: 0.5260 - _timestamp: 1654241204.0000 - _runtime: 15.0000\n",
            "Epoch 2/2\n",
            "469/469 [==============================] - 7s 15ms/step - loss: 1.6305 - accuracy: 0.4022 - val_loss: 1.1701 - val_accuracy: 0.5982 - _timestamp: 1654241211.0000 - _runtime: 22.0000\n"
          ]
        },
        {
          "output_type": "display_data",
          "data": {
            "text/plain": [
              "<IPython.core.display.HTML object>"
            ],
            "text/html": [
              "Waiting for W&B process to finish... <strong style=\"color:green\">(success).</strong>"
            ]
          },
          "metadata": {}
        },
        {
          "output_type": "display_data",
          "data": {
            "text/plain": [
              "VBox(children=(Label(value='3.761 MB of 3.761 MB uploaded (0.000 MB deduped)\\r'), FloatProgress(value=1.0, max…"
            ],
            "application/vnd.jupyter.widget-view+json": {
              "version_major": 2,
              "version_minor": 0,
              "model_id": "6451174db01b4109887db37a370f6fa1"
            }
          },
          "metadata": {}
        },
        {
          "output_type": "display_data",
          "data": {
            "text/plain": [
              "<IPython.core.display.HTML object>"
            ],
            "text/html": [
              "<style>\n",
              "    table.wandb td:nth-child(1) { padding: 0 10px; text-align: left ; width: auto;} td:nth-child(2) {text-align: left ; width: 100%}\n",
              "    .wandb-row { display: flex; flex-direction: row; flex-wrap: wrap; justify-content: flex-start; width: 100% }\n",
              "    .wandb-col { display: flex; flex-direction: column; flex-basis: 100%; flex: 1; padding: 10px; }\n",
              "    </style>\n",
              "<div class=\"wandb-row\"><div class=\"wandb-col\"><h3>Run history:</h3><br/><table class=\"wandb\"><tr><td>accuracy</td><td>▁█</td></tr><tr><td>epoch</td><td>▁█</td></tr><tr><td>loss</td><td>█▁</td></tr><tr><td>val_accuracy</td><td>▁█</td></tr><tr><td>val_loss</td><td>█▁</td></tr></table><br/></div><div class=\"wandb-col\"><h3>Run summary:</h3><br/><table class=\"wandb\"><tr><td>accuracy</td><td>0.40218</td></tr><tr><td>best_epoch</td><td>1</td></tr><tr><td>best_val_loss</td><td>1.17008</td></tr><tr><td>epoch</td><td>1</td></tr><tr><td>loss</td><td>1.63049</td></tr><tr><td>val_accuracy</td><td>0.5982</td></tr><tr><td>val_loss</td><td>1.17008</td></tr></table><br/></div></div>"
            ]
          },
          "metadata": {}
        },
        {
          "output_type": "display_data",
          "data": {
            "text/plain": [
              "<IPython.core.display.HTML object>"
            ],
            "text/html": [
              "Synced <strong style=\"color:#cdcd00\">sparkling-sweep-27</strong>: <a href=\"https://wandb.ai/amir7d0/fashion_part2/runs/a61ofs1h\" target=\"_blank\">https://wandb.ai/amir7d0/fashion_part2/runs/a61ofs1h</a><br/>Synced 5 W&B file(s), 73 media file(s), 0 artifact file(s) and 1 other file(s)"
            ]
          },
          "metadata": {}
        },
        {
          "output_type": "display_data",
          "data": {
            "text/plain": [
              "<IPython.core.display.HTML object>"
            ],
            "text/html": [
              "Find logs at: <code>./wandb/run-20220603_072629-a61ofs1h/logs</code>"
            ]
          },
          "metadata": {}
        },
        {
          "output_type": "stream",
          "name": "stderr",
          "text": [
            "\u001b[34m\u001b[1mwandb\u001b[0m: Agent Starting Run: w71efych with config:\n",
            "\u001b[34m\u001b[1mwandb\u001b[0m: \tbatch_size: 32\n",
            "\u001b[34m\u001b[1mwandb\u001b[0m: \tdropout: 0.35\n",
            "\u001b[34m\u001b[1mwandb\u001b[0m: \tepochs: 20\n",
            "\u001b[34m\u001b[1mwandb\u001b[0m: \tlearning_rate: 0.001\n"
          ]
        },
        {
          "output_type": "display_data",
          "data": {
            "text/plain": [
              "<IPython.core.display.HTML object>"
            ],
            "text/html": [
              "Tracking run with wandb version 0.12.17"
            ]
          },
          "metadata": {}
        },
        {
          "output_type": "display_data",
          "data": {
            "text/plain": [
              "<IPython.core.display.HTML object>"
            ],
            "text/html": [
              "Run data is saved locally in <code>/content/wandb/run-20220603_072710-w71efych</code>"
            ]
          },
          "metadata": {}
        },
        {
          "output_type": "display_data",
          "data": {
            "text/plain": [
              "<IPython.core.display.HTML object>"
            ],
            "text/html": [
              "Syncing run <strong><a href=\"https://wandb.ai/amir7d0/fashion_part2/runs/w71efych\" target=\"_blank\">sweepy-sweep-28</a></strong> to <a href=\"https://wandb.ai/amir7d0/fashion_part2\" target=\"_blank\">Weights & Biases</a> (<a href=\"https://wandb.me/run\" target=\"_blank\">docs</a>)<br/>Sweep page:  <a href=\"https://wandb.ai/amir7d0/fashion_part2/sweeps/urkb8pum\" target=\"_blank\">https://wandb.ai/amir7d0/fashion_part2/sweeps/urkb8pum</a>"
            ]
          },
          "metadata": {}
        },
        {
          "output_type": "stream",
          "name": "stdout",
          "text": [
            "Epoch 1/20\n",
            "   1/1875 [..............................] - ETA: 15:42 - loss: 5.2484 - accuracy: 0.0938WARNING:tensorflow:Callback method `on_train_batch_end` is slow compared to the batch time (batch time: 0.0038s vs `on_train_batch_end` time: 0.0043s). Check your callbacks.\n",
            "1875/1875 [==============================] - 11s 6ms/step - loss: 1.1983 - accuracy: 0.5769 - val_loss: 0.7008 - val_accuracy: 0.7528 - _timestamp: 1654241248.0000 - _runtime: 18.0000\n",
            "Epoch 2/20\n",
            "1875/1875 [==============================] - 11s 6ms/step - loss: 0.7394 - accuracy: 0.7233 - val_loss: 0.6232 - val_accuracy: 0.7706 - _timestamp: 1654241259.0000 - _runtime: 29.0000\n",
            "Epoch 3/20\n",
            "1875/1875 [==============================] - 11s 6ms/step - loss: 0.6574 - accuracy: 0.7522 - val_loss: 0.5747 - val_accuracy: 0.7878 - _timestamp: 1654241270.0000 - _runtime: 40.0000\n",
            "Epoch 4/20\n",
            "1875/1875 [==============================] - 11s 6ms/step - loss: 0.6066 - accuracy: 0.7730 - val_loss: 0.5357 - val_accuracy: 0.8034 - _timestamp: 1654241281.0000 - _runtime: 51.0000\n",
            "Epoch 5/20\n",
            "1875/1875 [==============================] - 10s 6ms/step - loss: 0.5757 - accuracy: 0.7833 - val_loss: 0.5140 - val_accuracy: 0.8122 - _timestamp: 1654241292.0000 - _runtime: 62.0000\n",
            "Epoch 6/20\n",
            "1875/1875 [==============================] - 11s 6ms/step - loss: 0.5496 - accuracy: 0.7945 - val_loss: 0.4957 - val_accuracy: 0.8192 - _timestamp: 1654241302.0000 - _runtime: 72.0000\n",
            "Epoch 7/20\n",
            "1875/1875 [==============================] - 10s 6ms/step - loss: 0.5292 - accuracy: 0.8039 - val_loss: 0.4596 - val_accuracy: 0.8334 - _timestamp: 1654241313.0000 - _runtime: 83.0000\n",
            "Epoch 8/20\n",
            "1875/1875 [==============================] - 11s 6ms/step - loss: 0.5084 - accuracy: 0.8108 - val_loss: 0.4537 - val_accuracy: 0.8324 - _timestamp: 1654241323.0000 - _runtime: 93.0000\n",
            "Epoch 9/20\n",
            "1875/1875 [==============================] - 10s 6ms/step - loss: 0.4941 - accuracy: 0.8151 - val_loss: 0.4428 - val_accuracy: 0.8360 - _timestamp: 1654241334.0000 - _runtime: 104.0000\n",
            "Epoch 10/20\n",
            "1875/1875 [==============================] - 11s 6ms/step - loss: 0.4784 - accuracy: 0.8230 - val_loss: 0.4272 - val_accuracy: 0.8438 - _timestamp: 1654241345.0000 - _runtime: 115.0000\n",
            "Epoch 11/20\n",
            "1875/1875 [==============================] - 11s 6ms/step - loss: 0.4661 - accuracy: 0.8278 - val_loss: 0.4219 - val_accuracy: 0.8476 - _timestamp: 1654241356.0000 - _runtime: 126.0000\n",
            "Epoch 12/20\n",
            "1875/1875 [==============================] - 10s 5ms/step - loss: 0.4564 - accuracy: 0.8319 - val_loss: 0.4184 - val_accuracy: 0.8484 - _timestamp: 1654241366.0000 - _runtime: 136.0000\n",
            "Epoch 13/20\n",
            "1875/1875 [==============================] - 11s 6ms/step - loss: 0.4453 - accuracy: 0.8352 - val_loss: 0.4067 - val_accuracy: 0.8514 - _timestamp: 1654241377.0000 - _runtime: 147.0000\n",
            "Epoch 14/20\n",
            "1875/1875 [==============================] - 10s 6ms/step - loss: 0.4371 - accuracy: 0.8391 - val_loss: 0.4003 - val_accuracy: 0.8558 - _timestamp: 1654241388.0000 - _runtime: 158.0000\n",
            "Epoch 15/20\n",
            "1875/1875 [==============================] - 11s 6ms/step - loss: 0.4310 - accuracy: 0.8402 - val_loss: 0.3913 - val_accuracy: 0.8580 - _timestamp: 1654241398.0000 - _runtime: 168.0000\n",
            "Epoch 16/20\n",
            "1875/1875 [==============================] - 11s 6ms/step - loss: 0.4204 - accuracy: 0.8440 - val_loss: 0.3909 - val_accuracy: 0.8574 - _timestamp: 1654241409.0000 - _runtime: 179.0000\n",
            "Epoch 17/20\n",
            "1875/1875 [==============================] - 10s 6ms/step - loss: 0.4171 - accuracy: 0.8461 - val_loss: 0.3834 - val_accuracy: 0.8594 - _timestamp: 1654241419.0000 - _runtime: 189.0000\n",
            "Epoch 18/20\n",
            "1875/1875 [==============================] - 11s 6ms/step - loss: 0.4083 - accuracy: 0.8509 - val_loss: 0.3786 - val_accuracy: 0.8624 - _timestamp: 1654241430.0000 - _runtime: 200.0000\n",
            "Epoch 19/20\n",
            "1875/1875 [==============================] - 11s 6ms/step - loss: 0.4018 - accuracy: 0.8497 - val_loss: 0.3776 - val_accuracy: 0.8614 - _timestamp: 1654241441.0000 - _runtime: 211.0000\n",
            "Epoch 20/20\n",
            "1875/1875 [==============================] - 11s 6ms/step - loss: 0.3941 - accuracy: 0.8555 - val_loss: 0.3637 - val_accuracy: 0.8672 - _timestamp: 1654241451.0000 - _runtime: 221.0000\n"
          ]
        },
        {
          "output_type": "display_data",
          "data": {
            "text/plain": [
              "<IPython.core.display.HTML object>"
            ],
            "text/html": [
              "Waiting for W&B process to finish... <strong style=\"color:green\">(success).</strong>"
            ]
          },
          "metadata": {}
        },
        {
          "output_type": "display_data",
          "data": {
            "text/plain": [
              "VBox(children=(Label(value='4.075 MB of 4.075 MB uploaded (0.000 MB deduped)\\r'), FloatProgress(value=1.0, max…"
            ],
            "application/vnd.jupyter.widget-view+json": {
              "version_major": 2,
              "version_minor": 0,
              "model_id": "88611737f26f47dbba2d28f1c31d4254"
            }
          },
          "metadata": {}
        },
        {
          "output_type": "display_data",
          "data": {
            "text/plain": [
              "<IPython.core.display.HTML object>"
            ],
            "text/html": [
              "<style>\n",
              "    table.wandb td:nth-child(1) { padding: 0 10px; text-align: left ; width: auto;} td:nth-child(2) {text-align: left ; width: 100%}\n",
              "    .wandb-row { display: flex; flex-direction: row; flex-wrap: wrap; justify-content: flex-start; width: 100% }\n",
              "    .wandb-col { display: flex; flex-direction: column; flex-basis: 100%; flex: 1; padding: 10px; }\n",
              "    </style>\n",
              "<div class=\"wandb-row\"><div class=\"wandb-col\"><h3>Run history:</h3><br/><table class=\"wandb\"><tr><td>accuracy</td><td>▁▅▅▆▆▆▇▇▇▇▇▇▇███████</td></tr><tr><td>epoch</td><td>▁▁▂▂▂▃▃▄▄▄▅▅▅▆▆▇▇▇██</td></tr><tr><td>loss</td><td>█▄▃▃▃▂▂▂▂▂▂▂▁▁▁▁▁▁▁▁</td></tr><tr><td>val_accuracy</td><td>▁▂▃▄▅▅▆▆▆▇▇▇▇▇▇▇████</td></tr><tr><td>val_loss</td><td>█▆▅▅▄▄▃▃▃▂▂▂▂▂▂▂▁▁▁▁</td></tr></table><br/></div><div class=\"wandb-col\"><h3>Run summary:</h3><br/><table class=\"wandb\"><tr><td>accuracy</td><td>0.85548</td></tr><tr><td>best_epoch</td><td>19</td></tr><tr><td>best_val_loss</td><td>0.36374</td></tr><tr><td>epoch</td><td>19</td></tr><tr><td>loss</td><td>0.39412</td></tr><tr><td>val_accuracy</td><td>0.8672</td></tr><tr><td>val_loss</td><td>0.36374</td></tr></table><br/></div></div>"
            ]
          },
          "metadata": {}
        },
        {
          "output_type": "display_data",
          "data": {
            "text/plain": [
              "<IPython.core.display.HTML object>"
            ],
            "text/html": [
              "Synced <strong style=\"color:#cdcd00\">sweepy-sweep-28</strong>: <a href=\"https://wandb.ai/amir7d0/fashion_part2/runs/w71efych\" target=\"_blank\">https://wandb.ai/amir7d0/fashion_part2/runs/w71efych</a><br/>Synced 5 W&B file(s), 721 media file(s), 0 artifact file(s) and 1 other file(s)"
            ]
          },
          "metadata": {}
        },
        {
          "output_type": "display_data",
          "data": {
            "text/plain": [
              "<IPython.core.display.HTML object>"
            ],
            "text/html": [
              "Find logs at: <code>./wandb/run-20220603_072710-w71efych/logs</code>"
            ]
          },
          "metadata": {}
        },
        {
          "output_type": "stream",
          "name": "stderr",
          "text": [
            "\u001b[34m\u001b[1mwandb\u001b[0m: Agent Starting Run: umvtgr5p with config:\n",
            "\u001b[34m\u001b[1mwandb\u001b[0m: \tbatch_size: 128\n",
            "\u001b[34m\u001b[1mwandb\u001b[0m: \tdropout: 0.5\n",
            "\u001b[34m\u001b[1mwandb\u001b[0m: \tepochs: 2\n",
            "\u001b[34m\u001b[1mwandb\u001b[0m: \tlearning_rate: 0.0003\n"
          ]
        },
        {
          "output_type": "display_data",
          "data": {
            "text/plain": [
              "<IPython.core.display.HTML object>"
            ],
            "text/html": [
              "Tracking run with wandb version 0.12.17"
            ]
          },
          "metadata": {}
        },
        {
          "output_type": "display_data",
          "data": {
            "text/plain": [
              "<IPython.core.display.HTML object>"
            ],
            "text/html": [
              "Run data is saved locally in <code>/content/wandb/run-20220603_073103-umvtgr5p</code>"
            ]
          },
          "metadata": {}
        },
        {
          "output_type": "display_data",
          "data": {
            "text/plain": [
              "<IPython.core.display.HTML object>"
            ],
            "text/html": [
              "Syncing run <strong><a href=\"https://wandb.ai/amir7d0/fashion_part2/runs/umvtgr5p\" target=\"_blank\">autumn-sweep-29</a></strong> to <a href=\"https://wandb.ai/amir7d0/fashion_part2\" target=\"_blank\">Weights & Biases</a> (<a href=\"https://wandb.me/run\" target=\"_blank\">docs</a>)<br/>Sweep page:  <a href=\"https://wandb.ai/amir7d0/fashion_part2/sweeps/urkb8pum\" target=\"_blank\">https://wandb.ai/amir7d0/fashion_part2/sweeps/urkb8pum</a>"
            ]
          },
          "metadata": {}
        },
        {
          "output_type": "stream",
          "name": "stdout",
          "text": [
            "Epoch 1/2\n",
            "  5/469 [..............................] - ETA: 7s - loss: 7.3024 - accuracy: 0.0797  WARNING:tensorflow:Callback method `on_train_batch_end` is slow compared to the batch time (batch time: 0.0076s vs `on_train_batch_end` time: 0.0085s). Check your callbacks.\n",
            "469/469 [==============================] - 8s 15ms/step - loss: 3.8133 - accuracy: 0.1651 - val_loss: 1.7856 - val_accuracy: 0.4326 - _timestamp: 1654241478.0000 - _runtime: 15.0000\n",
            "Epoch 2/2\n",
            "469/469 [==============================] - 7s 15ms/step - loss: 2.3951 - accuracy: 0.2533 - val_loss: 1.4326 - val_accuracy: 0.5212 - _timestamp: 1654241485.0000 - _runtime: 22.0000\n"
          ]
        },
        {
          "output_type": "display_data",
          "data": {
            "text/plain": [
              "<IPython.core.display.HTML object>"
            ],
            "text/html": [
              "Waiting for W&B process to finish... <strong style=\"color:green\">(success).</strong>"
            ]
          },
          "metadata": {}
        },
        {
          "output_type": "display_data",
          "data": {
            "text/plain": [
              "VBox(children=(Label(value='3.761 MB of 3.761 MB uploaded (0.000 MB deduped)\\r'), FloatProgress(value=1.0, max…"
            ],
            "application/vnd.jupyter.widget-view+json": {
              "version_major": 2,
              "version_minor": 0,
              "model_id": "6fd0195f942d464485da50fd3ed42273"
            }
          },
          "metadata": {}
        },
        {
          "output_type": "display_data",
          "data": {
            "text/plain": [
              "<IPython.core.display.HTML object>"
            ],
            "text/html": [
              "<style>\n",
              "    table.wandb td:nth-child(1) { padding: 0 10px; text-align: left ; width: auto;} td:nth-child(2) {text-align: left ; width: 100%}\n",
              "    .wandb-row { display: flex; flex-direction: row; flex-wrap: wrap; justify-content: flex-start; width: 100% }\n",
              "    .wandb-col { display: flex; flex-direction: column; flex-basis: 100%; flex: 1; padding: 10px; }\n",
              "    </style>\n",
              "<div class=\"wandb-row\"><div class=\"wandb-col\"><h3>Run history:</h3><br/><table class=\"wandb\"><tr><td>accuracy</td><td>▁█</td></tr><tr><td>epoch</td><td>▁█</td></tr><tr><td>loss</td><td>█▁</td></tr><tr><td>val_accuracy</td><td>▁█</td></tr><tr><td>val_loss</td><td>█▁</td></tr></table><br/></div><div class=\"wandb-col\"><h3>Run summary:</h3><br/><table class=\"wandb\"><tr><td>accuracy</td><td>0.25327</td></tr><tr><td>best_epoch</td><td>1</td></tr><tr><td>best_val_loss</td><td>1.43259</td></tr><tr><td>epoch</td><td>1</td></tr><tr><td>loss</td><td>2.39515</td></tr><tr><td>val_accuracy</td><td>0.5212</td></tr><tr><td>val_loss</td><td>1.43259</td></tr></table><br/></div></div>"
            ]
          },
          "metadata": {}
        },
        {
          "output_type": "display_data",
          "data": {
            "text/plain": [
              "<IPython.core.display.HTML object>"
            ],
            "text/html": [
              "Synced <strong style=\"color:#cdcd00\">autumn-sweep-29</strong>: <a href=\"https://wandb.ai/amir7d0/fashion_part2/runs/umvtgr5p\" target=\"_blank\">https://wandb.ai/amir7d0/fashion_part2/runs/umvtgr5p</a><br/>Synced 5 W&B file(s), 73 media file(s), 0 artifact file(s) and 1 other file(s)"
            ]
          },
          "metadata": {}
        },
        {
          "output_type": "display_data",
          "data": {
            "text/plain": [
              "<IPython.core.display.HTML object>"
            ],
            "text/html": [
              "Find logs at: <code>./wandb/run-20220603_073103-umvtgr5p/logs</code>"
            ]
          },
          "metadata": {}
        },
        {
          "output_type": "stream",
          "name": "stderr",
          "text": [
            "\u001b[34m\u001b[1mwandb\u001b[0m: Agent Starting Run: 2bh4syfp with config:\n",
            "\u001b[34m\u001b[1mwandb\u001b[0m: \tbatch_size: 32\n",
            "\u001b[34m\u001b[1mwandb\u001b[0m: \tdropout: 0.5\n",
            "\u001b[34m\u001b[1mwandb\u001b[0m: \tepochs: 2\n",
            "\u001b[34m\u001b[1mwandb\u001b[0m: \tlearning_rate: 0.0003\n"
          ]
        },
        {
          "output_type": "display_data",
          "data": {
            "text/plain": [
              "<IPython.core.display.HTML object>"
            ],
            "text/html": [
              "Tracking run with wandb version 0.12.17"
            ]
          },
          "metadata": {}
        },
        {
          "output_type": "display_data",
          "data": {
            "text/plain": [
              "<IPython.core.display.HTML object>"
            ],
            "text/html": [
              "Run data is saved locally in <code>/content/wandb/run-20220603_073143-2bh4syfp</code>"
            ]
          },
          "metadata": {}
        },
        {
          "output_type": "display_data",
          "data": {
            "text/plain": [
              "<IPython.core.display.HTML object>"
            ],
            "text/html": [
              "Syncing run <strong><a href=\"https://wandb.ai/amir7d0/fashion_part2/runs/2bh4syfp\" target=\"_blank\">solar-sweep-30</a></strong> to <a href=\"https://wandb.ai/amir7d0/fashion_part2\" target=\"_blank\">Weights & Biases</a> (<a href=\"https://wandb.me/run\" target=\"_blank\">docs</a>)<br/>Sweep page:  <a href=\"https://wandb.ai/amir7d0/fashion_part2/sweeps/urkb8pum\" target=\"_blank\">https://wandb.ai/amir7d0/fashion_part2/sweeps/urkb8pum</a>"
            ]
          },
          "metadata": {}
        },
        {
          "output_type": "stream",
          "name": "stdout",
          "text": [
            "Epoch 1/2\n",
            "   1/1875 [..............................] - ETA: 16:03 - loss: 7.1741 - accuracy: 0.1250WARNING:tensorflow:Callback method `on_train_batch_end` is slow compared to the batch time (batch time: 0.0039s vs `on_train_batch_end` time: 0.0044s). Check your callbacks.\n",
            "1875/1875 [==============================] - 11s 6ms/step - loss: 2.4314 - accuracy: 0.2819 - val_loss: 1.2509 - val_accuracy: 0.5716 - _timestamp: 1654241522.0000 - _runtime: 19.0000\n",
            "Epoch 2/2\n",
            "1875/1875 [==============================] - 10s 6ms/step - loss: 1.4813 - accuracy: 0.4427 - val_loss: 1.0348 - val_accuracy: 0.6278 - _timestamp: 1654241532.0000 - _runtime: 29.0000\n"
          ]
        },
        {
          "output_type": "display_data",
          "data": {
            "text/plain": [
              "<IPython.core.display.HTML object>"
            ],
            "text/html": [
              "Waiting for W&B process to finish... <strong style=\"color:green\">(success).</strong>"
            ]
          },
          "metadata": {}
        },
        {
          "output_type": "display_data",
          "data": {
            "text/plain": [
              "VBox(children=(Label(value='3.761 MB of 3.761 MB uploaded (0.000 MB deduped)\\r'), FloatProgress(value=1.0, max…"
            ],
            "application/vnd.jupyter.widget-view+json": {
              "version_major": 2,
              "version_minor": 0,
              "model_id": "c5f844647d01495dad8105509edf3fd3"
            }
          },
          "metadata": {}
        },
        {
          "output_type": "display_data",
          "data": {
            "text/plain": [
              "<IPython.core.display.HTML object>"
            ],
            "text/html": [
              "<style>\n",
              "    table.wandb td:nth-child(1) { padding: 0 10px; text-align: left ; width: auto;} td:nth-child(2) {text-align: left ; width: 100%}\n",
              "    .wandb-row { display: flex; flex-direction: row; flex-wrap: wrap; justify-content: flex-start; width: 100% }\n",
              "    .wandb-col { display: flex; flex-direction: column; flex-basis: 100%; flex: 1; padding: 10px; }\n",
              "    </style>\n",
              "<div class=\"wandb-row\"><div class=\"wandb-col\"><h3>Run history:</h3><br/><table class=\"wandb\"><tr><td>accuracy</td><td>▁█</td></tr><tr><td>epoch</td><td>▁█</td></tr><tr><td>loss</td><td>█▁</td></tr><tr><td>val_accuracy</td><td>▁█</td></tr><tr><td>val_loss</td><td>█▁</td></tr></table><br/></div><div class=\"wandb-col\"><h3>Run summary:</h3><br/><table class=\"wandb\"><tr><td>accuracy</td><td>0.44272</td></tr><tr><td>best_epoch</td><td>1</td></tr><tr><td>best_val_loss</td><td>1.03482</td></tr><tr><td>epoch</td><td>1</td></tr><tr><td>loss</td><td>1.48127</td></tr><tr><td>val_accuracy</td><td>0.6278</td></tr><tr><td>val_loss</td><td>1.03482</td></tr></table><br/></div></div>"
            ]
          },
          "metadata": {}
        },
        {
          "output_type": "display_data",
          "data": {
            "text/plain": [
              "<IPython.core.display.HTML object>"
            ],
            "text/html": [
              "Synced <strong style=\"color:#cdcd00\">solar-sweep-30</strong>: <a href=\"https://wandb.ai/amir7d0/fashion_part2/runs/2bh4syfp\" target=\"_blank\">https://wandb.ai/amir7d0/fashion_part2/runs/2bh4syfp</a><br/>Synced 5 W&B file(s), 73 media file(s), 0 artifact file(s) and 1 other file(s)"
            ]
          },
          "metadata": {}
        },
        {
          "output_type": "display_data",
          "data": {
            "text/plain": [
              "<IPython.core.display.HTML object>"
            ],
            "text/html": [
              "Find logs at: <code>./wandb/run-20220603_073143-2bh4syfp/logs</code>"
            ]
          },
          "metadata": {}
        },
        {
          "output_type": "stream",
          "name": "stderr",
          "text": [
            "\u001b[34m\u001b[1mwandb\u001b[0m: Agent Starting Run: 2vu70t6c with config:\n",
            "\u001b[34m\u001b[1mwandb\u001b[0m: \tbatch_size: 128\n",
            "\u001b[34m\u001b[1mwandb\u001b[0m: \tdropout: 0.35\n",
            "\u001b[34m\u001b[1mwandb\u001b[0m: \tepochs: 20\n",
            "\u001b[34m\u001b[1mwandb\u001b[0m: \tlearning_rate: 0.001\n"
          ]
        },
        {
          "output_type": "display_data",
          "data": {
            "text/plain": [
              "<IPython.core.display.HTML object>"
            ],
            "text/html": [
              "Tracking run with wandb version 0.12.17"
            ]
          },
          "metadata": {}
        },
        {
          "output_type": "display_data",
          "data": {
            "text/plain": [
              "<IPython.core.display.HTML object>"
            ],
            "text/html": [
              "Run data is saved locally in <code>/content/wandb/run-20220603_073244-2vu70t6c</code>"
            ]
          },
          "metadata": {}
        },
        {
          "output_type": "display_data",
          "data": {
            "text/plain": [
              "<IPython.core.display.HTML object>"
            ],
            "text/html": [
              "Syncing run <strong><a href=\"https://wandb.ai/amir7d0/fashion_part2/runs/2vu70t6c\" target=\"_blank\">flowing-sweep-31</a></strong> to <a href=\"https://wandb.ai/amir7d0/fashion_part2\" target=\"_blank\">Weights & Biases</a> (<a href=\"https://wandb.me/run\" target=\"_blank\">docs</a>)<br/>Sweep page:  <a href=\"https://wandb.ai/amir7d0/fashion_part2/sweeps/urkb8pum\" target=\"_blank\">https://wandb.ai/amir7d0/fashion_part2/sweeps/urkb8pum</a>"
            ]
          },
          "metadata": {}
        },
        {
          "output_type": "stream",
          "name": "stdout",
          "text": [
            "Epoch 1/20\n",
            "469/469 [==============================] - 8s 16ms/step - loss: 1.8202 - accuracy: 0.4048 - val_loss: 1.4078 - val_accuracy: 0.6714 - _timestamp: 1654241580.0000 - _runtime: 16.0000\n",
            "Epoch 2/20\n",
            "469/469 [==============================] - 7s 15ms/step - loss: 1.0833 - accuracy: 0.6038 - val_loss: 0.8216 - val_accuracy: 0.7088 - _timestamp: 1654241587.0000 - _runtime: 23.0000\n",
            "Epoch 3/20\n",
            "469/469 [==============================] - 7s 15ms/step - loss: 0.9157 - accuracy: 0.6637 - val_loss: 0.7545 - val_accuracy: 0.7284 - _timestamp: 1654241594.0000 - _runtime: 30.0000\n",
            "Epoch 4/20\n",
            "469/469 [==============================] - 7s 15ms/step - loss: 0.8304 - accuracy: 0.6915 - val_loss: 0.7059 - val_accuracy: 0.7398 - _timestamp: 1654241601.0000 - _runtime: 37.0000\n",
            "Epoch 5/20\n",
            "469/469 [==============================] - 7s 16ms/step - loss: 0.7801 - accuracy: 0.7097 - val_loss: 0.6780 - val_accuracy: 0.7492 - _timestamp: 1654241608.0000 - _runtime: 44.0000\n",
            "Epoch 6/20\n",
            "469/469 [==============================] - 7s 15ms/step - loss: 0.7410 - accuracy: 0.7238 - val_loss: 0.6505 - val_accuracy: 0.7598 - _timestamp: 1654241615.0000 - _runtime: 51.0000\n",
            "Epoch 7/20\n",
            "469/469 [==============================] - 7s 15ms/step - loss: 0.7142 - accuracy: 0.7345 - val_loss: 0.6335 - val_accuracy: 0.7678 - _timestamp: 1654241623.0000 - _runtime: 59.0000\n",
            "Epoch 8/20\n",
            "469/469 [==============================] - 7s 15ms/step - loss: 0.6942 - accuracy: 0.7406 - val_loss: 0.6188 - val_accuracy: 0.7698 - _timestamp: 1654241630.0000 - _runtime: 66.0000\n",
            "Epoch 9/20\n",
            "469/469 [==============================] - 7s 15ms/step - loss: 0.6764 - accuracy: 0.7482 - val_loss: 0.6037 - val_accuracy: 0.7758 - _timestamp: 1654241637.0000 - _runtime: 73.0000\n",
            "Epoch 10/20\n",
            "469/469 [==============================] - 7s 15ms/step - loss: 0.6555 - accuracy: 0.7533 - val_loss: 0.5960 - val_accuracy: 0.7830 - _timestamp: 1654241644.0000 - _runtime: 80.0000\n",
            "Epoch 11/20\n",
            "469/469 [==============================] - 7s 15ms/step - loss: 0.6389 - accuracy: 0.7610 - val_loss: 0.5842 - val_accuracy: 0.7856 - _timestamp: 1654241651.0000 - _runtime: 87.0000\n",
            "Epoch 12/20\n",
            "469/469 [==============================] - 7s 15ms/step - loss: 0.6299 - accuracy: 0.7653 - val_loss: 0.5694 - val_accuracy: 0.7904 - _timestamp: 1654241658.0000 - _runtime: 94.0000\n",
            "Epoch 13/20\n",
            "469/469 [==============================] - 7s 15ms/step - loss: 0.6184 - accuracy: 0.7671 - val_loss: 0.5591 - val_accuracy: 0.7944 - _timestamp: 1654241665.0000 - _runtime: 101.0000\n",
            "Epoch 14/20\n",
            "469/469 [==============================] - 7s 15ms/step - loss: 0.6084 - accuracy: 0.7741 - val_loss: 0.5502 - val_accuracy: 0.7974 - _timestamp: 1654241672.0000 - _runtime: 108.0000\n",
            "Epoch 15/20\n",
            "469/469 [==============================] - 7s 15ms/step - loss: 0.5977 - accuracy: 0.7740 - val_loss: 0.5405 - val_accuracy: 0.7998 - _timestamp: 1654241679.0000 - _runtime: 115.0000\n",
            "Epoch 16/20\n",
            "469/469 [==============================] - 7s 15ms/step - loss: 0.5874 - accuracy: 0.7821 - val_loss: 0.5383 - val_accuracy: 0.8040 - _timestamp: 1654241687.0000 - _runtime: 123.0000\n",
            "Epoch 17/20\n",
            "469/469 [==============================] - 7s 15ms/step - loss: 0.5790 - accuracy: 0.7846 - val_loss: 0.5236 - val_accuracy: 0.8080 - _timestamp: 1654241694.0000 - _runtime: 130.0000\n",
            "Epoch 18/20\n",
            "469/469 [==============================] - 7s 15ms/step - loss: 0.5700 - accuracy: 0.7881 - val_loss: 0.5164 - val_accuracy: 0.8118 - _timestamp: 1654241701.0000 - _runtime: 137.0000\n",
            "Epoch 19/20\n",
            "469/469 [==============================] - 7s 15ms/step - loss: 0.5606 - accuracy: 0.7916 - val_loss: 0.5102 - val_accuracy: 0.8126 - _timestamp: 1654241708.0000 - _runtime: 144.0000\n",
            "Epoch 20/20\n",
            "469/469 [==============================] - 7s 15ms/step - loss: 0.5589 - accuracy: 0.7919 - val_loss: 0.5046 - val_accuracy: 0.8160 - _timestamp: 1654241715.0000 - _runtime: 151.0000\n"
          ]
        },
        {
          "output_type": "display_data",
          "data": {
            "text/plain": [
              "<IPython.core.display.HTML object>"
            ],
            "text/html": [
              "Waiting for W&B process to finish... <strong style=\"color:green\">(success).</strong>"
            ]
          },
          "metadata": {}
        },
        {
          "output_type": "display_data",
          "data": {
            "text/plain": [
              "VBox(children=(Label(value='4.075 MB of 4.075 MB uploaded (0.000 MB deduped)\\r'), FloatProgress(value=1.0, max…"
            ],
            "application/vnd.jupyter.widget-view+json": {
              "version_major": 2,
              "version_minor": 0,
              "model_id": "f9519f351c434c6c8f031e8c010ff1e9"
            }
          },
          "metadata": {}
        },
        {
          "output_type": "display_data",
          "data": {
            "text/plain": [
              "<IPython.core.display.HTML object>"
            ],
            "text/html": [
              "<style>\n",
              "    table.wandb td:nth-child(1) { padding: 0 10px; text-align: left ; width: auto;} td:nth-child(2) {text-align: left ; width: 100%}\n",
              "    .wandb-row { display: flex; flex-direction: row; flex-wrap: wrap; justify-content: flex-start; width: 100% }\n",
              "    .wandb-col { display: flex; flex-direction: column; flex-basis: 100%; flex: 1; padding: 10px; }\n",
              "    </style>\n",
              "<div class=\"wandb-row\"><div class=\"wandb-col\"><h3>Run history:</h3><br/><table class=\"wandb\"><tr><td>accuracy</td><td>▁▅▆▆▇▇▇▇▇▇▇█████████</td></tr><tr><td>epoch</td><td>▁▁▂▂▂▃▃▄▄▄▅▅▅▆▆▇▇▇██</td></tr><tr><td>loss</td><td>█▄▃▃▂▂▂▂▂▂▁▁▁▁▁▁▁▁▁▁</td></tr><tr><td>val_accuracy</td><td>▁▃▄▄▅▅▆▆▆▆▇▇▇▇▇▇████</td></tr><tr><td>val_loss</td><td>█▃▃▃▂▂▂▂▂▂▂▂▁▁▁▁▁▁▁▁</td></tr></table><br/></div><div class=\"wandb-col\"><h3>Run summary:</h3><br/><table class=\"wandb\"><tr><td>accuracy</td><td>0.79193</td></tr><tr><td>best_epoch</td><td>19</td></tr><tr><td>best_val_loss</td><td>0.50462</td></tr><tr><td>epoch</td><td>19</td></tr><tr><td>loss</td><td>0.5589</td></tr><tr><td>val_accuracy</td><td>0.816</td></tr><tr><td>val_loss</td><td>0.50462</td></tr></table><br/></div></div>"
            ]
          },
          "metadata": {}
        },
        {
          "output_type": "display_data",
          "data": {
            "text/plain": [
              "<IPython.core.display.HTML object>"
            ],
            "text/html": [
              "Synced <strong style=\"color:#cdcd00\">flowing-sweep-31</strong>: <a href=\"https://wandb.ai/amir7d0/fashion_part2/runs/2vu70t6c\" target=\"_blank\">https://wandb.ai/amir7d0/fashion_part2/runs/2vu70t6c</a><br/>Synced 5 W&B file(s), 721 media file(s), 0 artifact file(s) and 1 other file(s)"
            ]
          },
          "metadata": {}
        },
        {
          "output_type": "display_data",
          "data": {
            "text/plain": [
              "<IPython.core.display.HTML object>"
            ],
            "text/html": [
              "Find logs at: <code>./wandb/run-20220603_073244-2vu70t6c/logs</code>"
            ]
          },
          "metadata": {}
        },
        {
          "output_type": "stream",
          "name": "stderr",
          "text": [
            "\u001b[34m\u001b[1mwandb\u001b[0m: Agent Starting Run: axbblkhv with config:\n",
            "\u001b[34m\u001b[1mwandb\u001b[0m: \tbatch_size: 128\n",
            "\u001b[34m\u001b[1mwandb\u001b[0m: \tdropout: 0.5\n",
            "\u001b[34m\u001b[1mwandb\u001b[0m: \tepochs: 10\n",
            "\u001b[34m\u001b[1mwandb\u001b[0m: \tlearning_rate: 0.06\n"
          ]
        },
        {
          "output_type": "display_data",
          "data": {
            "text/plain": [
              "<IPython.core.display.HTML object>"
            ],
            "text/html": [
              "Tracking run with wandb version 0.12.17"
            ]
          },
          "metadata": {}
        },
        {
          "output_type": "display_data",
          "data": {
            "text/plain": [
              "<IPython.core.display.HTML object>"
            ],
            "text/html": [
              "Run data is saved locally in <code>/content/wandb/run-20220603_073526-axbblkhv</code>"
            ]
          },
          "metadata": {}
        },
        {
          "output_type": "display_data",
          "data": {
            "text/plain": [
              "<IPython.core.display.HTML object>"
            ],
            "text/html": [
              "Syncing run <strong><a href=\"https://wandb.ai/amir7d0/fashion_part2/runs/axbblkhv\" target=\"_blank\">cerulean-sweep-32</a></strong> to <a href=\"https://wandb.ai/amir7d0/fashion_part2\" target=\"_blank\">Weights & Biases</a> (<a href=\"https://wandb.me/run\" target=\"_blank\">docs</a>)<br/>Sweep page:  <a href=\"https://wandb.ai/amir7d0/fashion_part2/sweeps/urkb8pum\" target=\"_blank\">https://wandb.ai/amir7d0/fashion_part2/sweeps/urkb8pum</a>"
            ]
          },
          "metadata": {}
        },
        {
          "output_type": "stream",
          "name": "stdout",
          "text": [
            "Epoch 1/10\n",
            "  4/469 [..............................] - ETA: 8s - loss: 6.1312 - accuracy: 0.1191  WARNING:tensorflow:Callback method `on_train_batch_end` is slow compared to the batch time (batch time: 0.0077s vs `on_train_batch_end` time: 0.0086s). Check your callbacks.\n",
            "469/469 [==============================] - 8s 15ms/step - loss: 0.9594 - accuracy: 0.6450 - val_loss: 0.6448 - val_accuracy: 0.7554 - _timestamp: 1654241741.0000 - _runtime: 15.0000\n",
            "Epoch 2/10\n",
            "469/469 [==============================] - 7s 16ms/step - loss: 0.6216 - accuracy: 0.7641 - val_loss: 0.5545 - val_accuracy: 0.7926 - _timestamp: 1654241749.0000 - _runtime: 23.0000\n",
            "Epoch 3/10\n",
            "469/469 [==============================] - 7s 15ms/step - loss: 0.5487 - accuracy: 0.7935 - val_loss: 0.4921 - val_accuracy: 0.8292 - _timestamp: 1654241756.0000 - _runtime: 30.0000\n",
            "Epoch 4/10\n",
            "469/469 [==============================] - 7s 15ms/step - loss: 0.4992 - accuracy: 0.8153 - val_loss: 0.4323 - val_accuracy: 0.8478 - _timestamp: 1654241763.0000 - _runtime: 37.0000\n",
            "Epoch 5/10\n",
            "469/469 [==============================] - 7s 15ms/step - loss: 0.4687 - accuracy: 0.8269 - val_loss: 0.4029 - val_accuracy: 0.8528 - _timestamp: 1654241770.0000 - _runtime: 44.0000\n",
            "Epoch 6/10\n",
            "469/469 [==============================] - 7s 15ms/step - loss: 0.4475 - accuracy: 0.8326 - val_loss: 0.4328 - val_accuracy: 0.8528 - _timestamp: 1654241777.0000 - _runtime: 51.0000\n",
            "Epoch 7/10\n",
            "469/469 [==============================] - 7s 15ms/step - loss: 0.4280 - accuracy: 0.8396 - val_loss: 0.3993 - val_accuracy: 0.8630 - _timestamp: 1654241785.0000 - _runtime: 59.0000\n",
            "Epoch 8/10\n",
            "469/469 [==============================] - 7s 15ms/step - loss: 0.4140 - accuracy: 0.8465 - val_loss: 0.3561 - val_accuracy: 0.8740 - _timestamp: 1654241792.0000 - _runtime: 66.0000\n",
            "Epoch 9/10\n",
            "469/469 [==============================] - 7s 15ms/step - loss: 0.4019 - accuracy: 0.8507 - val_loss: 0.4937 - val_accuracy: 0.8442 - _timestamp: 1654241799.0000 - _runtime: 73.0000\n",
            "Epoch 10/10\n",
            "469/469 [==============================] - 7s 15ms/step - loss: 0.3923 - accuracy: 0.8538 - val_loss: 0.3550 - val_accuracy: 0.8790 - _timestamp: 1654241806.0000 - _runtime: 80.0000\n"
          ]
        },
        {
          "output_type": "display_data",
          "data": {
            "text/plain": [
              "<IPython.core.display.HTML object>"
            ],
            "text/html": [
              "Waiting for W&B process to finish... <strong style=\"color:green\">(success).</strong>"
            ]
          },
          "metadata": {}
        },
        {
          "output_type": "display_data",
          "data": {
            "text/plain": [
              "VBox(children=(Label(value='3.902 MB of 3.902 MB uploaded (0.000 MB deduped)\\r'), FloatProgress(value=1.0, max…"
            ],
            "application/vnd.jupyter.widget-view+json": {
              "version_major": 2,
              "version_minor": 0,
              "model_id": "9d35143c2d7744c1aa31fb7d37bcc884"
            }
          },
          "metadata": {}
        },
        {
          "output_type": "display_data",
          "data": {
            "text/plain": [
              "<IPython.core.display.HTML object>"
            ],
            "text/html": [
              "<style>\n",
              "    table.wandb td:nth-child(1) { padding: 0 10px; text-align: left ; width: auto;} td:nth-child(2) {text-align: left ; width: 100%}\n",
              "    .wandb-row { display: flex; flex-direction: row; flex-wrap: wrap; justify-content: flex-start; width: 100% }\n",
              "    .wandb-col { display: flex; flex-direction: column; flex-basis: 100%; flex: 1; padding: 10px; }\n",
              "    </style>\n",
              "<div class=\"wandb-row\"><div class=\"wandb-col\"><h3>Run history:</h3><br/><table class=\"wandb\"><tr><td>accuracy</td><td>▁▅▆▇▇▇████</td></tr><tr><td>epoch</td><td>▁▂▃▃▄▅▆▆▇█</td></tr><tr><td>loss</td><td>█▄▃▂▂▂▁▁▁▁</td></tr><tr><td>val_accuracy</td><td>▁▃▅▆▇▇▇█▆█</td></tr><tr><td>val_loss</td><td>█▆▄▃▂▃▂▁▄▁</td></tr></table><br/></div><div class=\"wandb-col\"><h3>Run summary:</h3><br/><table class=\"wandb\"><tr><td>accuracy</td><td>0.8538</td></tr><tr><td>best_epoch</td><td>9</td></tr><tr><td>best_val_loss</td><td>0.35497</td></tr><tr><td>epoch</td><td>9</td></tr><tr><td>loss</td><td>0.39233</td></tr><tr><td>val_accuracy</td><td>0.879</td></tr><tr><td>val_loss</td><td>0.35497</td></tr></table><br/></div></div>"
            ]
          },
          "metadata": {}
        },
        {
          "output_type": "display_data",
          "data": {
            "text/plain": [
              "<IPython.core.display.HTML object>"
            ],
            "text/html": [
              "Synced <strong style=\"color:#cdcd00\">cerulean-sweep-32</strong>: <a href=\"https://wandb.ai/amir7d0/fashion_part2/runs/axbblkhv\" target=\"_blank\">https://wandb.ai/amir7d0/fashion_part2/runs/axbblkhv</a><br/>Synced 5 W&B file(s), 361 media file(s), 0 artifact file(s) and 1 other file(s)"
            ]
          },
          "metadata": {}
        },
        {
          "output_type": "display_data",
          "data": {
            "text/plain": [
              "<IPython.core.display.HTML object>"
            ],
            "text/html": [
              "Find logs at: <code>./wandb/run-20220603_073526-axbblkhv/logs</code>"
            ]
          },
          "metadata": {}
        },
        {
          "output_type": "stream",
          "name": "stderr",
          "text": [
            "\u001b[34m\u001b[1mwandb\u001b[0m: Agent Starting Run: gbu0g8j8 with config:\n",
            "\u001b[34m\u001b[1mwandb\u001b[0m: \tbatch_size: 32\n",
            "\u001b[34m\u001b[1mwandb\u001b[0m: \tdropout: 0.35\n",
            "\u001b[34m\u001b[1mwandb\u001b[0m: \tepochs: 2\n",
            "\u001b[34m\u001b[1mwandb\u001b[0m: \tlearning_rate: 0.06\n"
          ]
        },
        {
          "output_type": "display_data",
          "data": {
            "text/plain": [
              "<IPython.core.display.HTML object>"
            ],
            "text/html": [
              "Tracking run with wandb version 0.12.17"
            ]
          },
          "metadata": {}
        },
        {
          "output_type": "display_data",
          "data": {
            "text/plain": [
              "<IPython.core.display.HTML object>"
            ],
            "text/html": [
              "Run data is saved locally in <code>/content/wandb/run-20220603_073707-gbu0g8j8</code>"
            ]
          },
          "metadata": {}
        },
        {
          "output_type": "display_data",
          "data": {
            "text/plain": [
              "<IPython.core.display.HTML object>"
            ],
            "text/html": [
              "Syncing run <strong><a href=\"https://wandb.ai/amir7d0/fashion_part2/runs/gbu0g8j8\" target=\"_blank\">youthful-sweep-33</a></strong> to <a href=\"https://wandb.ai/amir7d0/fashion_part2\" target=\"_blank\">Weights & Biases</a> (<a href=\"https://wandb.me/run\" target=\"_blank\">docs</a>)<br/>Sweep page:  <a href=\"https://wandb.ai/amir7d0/fashion_part2/sweeps/urkb8pum\" target=\"_blank\">https://wandb.ai/amir7d0/fashion_part2/sweeps/urkb8pum</a>"
            ]
          },
          "metadata": {}
        },
        {
          "output_type": "stream",
          "name": "stdout",
          "text": [
            "Epoch 1/2\n",
            "1875/1875 [==============================] - 11s 6ms/step - loss: 0.6981 - accuracy: 0.7487 - val_loss: 0.4407 - val_accuracy: 0.8402 - _timestamp: 1654241846.0000 - _runtime: 19.0000\n",
            "Epoch 2/2\n",
            "1875/1875 [==============================] - 11s 6ms/step - loss: 0.4549 - accuracy: 0.8336 - val_loss: 0.3764 - val_accuracy: 0.8636 - _timestamp: 1654241857.0000 - _runtime: 30.0000\n"
          ]
        },
        {
          "output_type": "display_data",
          "data": {
            "text/plain": [
              "<IPython.core.display.HTML object>"
            ],
            "text/html": [
              "Waiting for W&B process to finish... <strong style=\"color:green\">(success).</strong>"
            ]
          },
          "metadata": {}
        },
        {
          "output_type": "display_data",
          "data": {
            "text/plain": [
              "VBox(children=(Label(value='3.760 MB of 3.760 MB uploaded (0.000 MB deduped)\\r'), FloatProgress(value=0.999846…"
            ],
            "application/vnd.jupyter.widget-view+json": {
              "version_major": 2,
              "version_minor": 0,
              "model_id": "72301ce6d11243a6803d122cc07ac947"
            }
          },
          "metadata": {}
        },
        {
          "output_type": "display_data",
          "data": {
            "text/plain": [
              "<IPython.core.display.HTML object>"
            ],
            "text/html": [
              "<style>\n",
              "    table.wandb td:nth-child(1) { padding: 0 10px; text-align: left ; width: auto;} td:nth-child(2) {text-align: left ; width: 100%}\n",
              "    .wandb-row { display: flex; flex-direction: row; flex-wrap: wrap; justify-content: flex-start; width: 100% }\n",
              "    .wandb-col { display: flex; flex-direction: column; flex-basis: 100%; flex: 1; padding: 10px; }\n",
              "    </style>\n",
              "<div class=\"wandb-row\"><div class=\"wandb-col\"><h3>Run history:</h3><br/><table class=\"wandb\"><tr><td>accuracy</td><td>▁█</td></tr><tr><td>epoch</td><td>▁█</td></tr><tr><td>loss</td><td>█▁</td></tr><tr><td>val_accuracy</td><td>▁█</td></tr><tr><td>val_loss</td><td>█▁</td></tr></table><br/></div><div class=\"wandb-col\"><h3>Run summary:</h3><br/><table class=\"wandb\"><tr><td>accuracy</td><td>0.8336</td></tr><tr><td>best_epoch</td><td>1</td></tr><tr><td>best_val_loss</td><td>0.37645</td></tr><tr><td>epoch</td><td>1</td></tr><tr><td>loss</td><td>0.45492</td></tr><tr><td>val_accuracy</td><td>0.8636</td></tr><tr><td>val_loss</td><td>0.37645</td></tr></table><br/></div></div>"
            ]
          },
          "metadata": {}
        },
        {
          "output_type": "display_data",
          "data": {
            "text/plain": [
              "<IPython.core.display.HTML object>"
            ],
            "text/html": [
              "Synced <strong style=\"color:#cdcd00\">youthful-sweep-33</strong>: <a href=\"https://wandb.ai/amir7d0/fashion_part2/runs/gbu0g8j8\" target=\"_blank\">https://wandb.ai/amir7d0/fashion_part2/runs/gbu0g8j8</a><br/>Synced 5 W&B file(s), 73 media file(s), 0 artifact file(s) and 1 other file(s)"
            ]
          },
          "metadata": {}
        },
        {
          "output_type": "display_data",
          "data": {
            "text/plain": [
              "<IPython.core.display.HTML object>"
            ],
            "text/html": [
              "Find logs at: <code>./wandb/run-20220603_073707-gbu0g8j8/logs</code>"
            ]
          },
          "metadata": {}
        },
        {
          "output_type": "stream",
          "name": "stderr",
          "text": [
            "\u001b[34m\u001b[1mwandb\u001b[0m: Agent Starting Run: w2nb7zkh with config:\n",
            "\u001b[34m\u001b[1mwandb\u001b[0m: \tbatch_size: 32\n",
            "\u001b[34m\u001b[1mwandb\u001b[0m: \tdropout: 0.35\n",
            "\u001b[34m\u001b[1mwandb\u001b[0m: \tepochs: 20\n",
            "\u001b[34m\u001b[1mwandb\u001b[0m: \tlearning_rate: 0.0003\n"
          ]
        },
        {
          "output_type": "display_data",
          "data": {
            "text/plain": [
              "<IPython.core.display.HTML object>"
            ],
            "text/html": [
              "Tracking run with wandb version 0.12.17"
            ]
          },
          "metadata": {}
        },
        {
          "output_type": "display_data",
          "data": {
            "text/plain": [
              "<IPython.core.display.HTML object>"
            ],
            "text/html": [
              "Run data is saved locally in <code>/content/wandb/run-20220603_073748-w2nb7zkh</code>"
            ]
          },
          "metadata": {}
        },
        {
          "output_type": "display_data",
          "data": {
            "text/plain": [
              "<IPython.core.display.HTML object>"
            ],
            "text/html": [
              "Syncing run <strong><a href=\"https://wandb.ai/amir7d0/fashion_part2/runs/w2nb7zkh\" target=\"_blank\">curious-sweep-34</a></strong> to <a href=\"https://wandb.ai/amir7d0/fashion_part2\" target=\"_blank\">Weights & Biases</a> (<a href=\"https://wandb.me/run\" target=\"_blank\">docs</a>)<br/>Sweep page:  <a href=\"https://wandb.ai/amir7d0/fashion_part2/sweeps/urkb8pum\" target=\"_blank\">https://wandb.ai/amir7d0/fashion_part2/sweeps/urkb8pum</a>"
            ]
          },
          "metadata": {}
        },
        {
          "output_type": "stream",
          "name": "stdout",
          "text": [
            "Epoch 1/20\n",
            "1875/1875 [==============================] - 11s 6ms/step - loss: 1.8085 - accuracy: 0.4079 - val_loss: 0.9620 - val_accuracy: 0.6840 - _timestamp: 1654241887.0000 - _runtime: 19.0000\n",
            "Epoch 2/20\n",
            "1875/1875 [==============================] - 11s 6ms/step - loss: 1.0773 - accuracy: 0.6045 - val_loss: 0.8088 - val_accuracy: 0.7156 - _timestamp: 1654241898.0000 - _runtime: 30.0000\n",
            "Epoch 3/20\n",
            "1875/1875 [==============================] - 12s 6ms/step - loss: 0.9097 - accuracy: 0.6637 - val_loss: 0.7408 - val_accuracy: 0.7366 - _timestamp: 1654241909.0000 - _runtime: 41.0000\n",
            "Epoch 4/20\n",
            "1875/1875 [==============================] - 11s 6ms/step - loss: 0.8208 - accuracy: 0.6940 - val_loss: 0.7105 - val_accuracy: 0.7474 - _timestamp: 1654241920.0000 - _runtime: 52.0000\n",
            "Epoch 5/20\n",
            "1875/1875 [==============================] - 10s 6ms/step - loss: 0.7674 - accuracy: 0.7144 - val_loss: 0.6651 - val_accuracy: 0.7550 - _timestamp: 1654241931.0000 - _runtime: 63.0000\n",
            "Epoch 6/20\n",
            "1875/1875 [==============================] - 11s 6ms/step - loss: 0.7278 - accuracy: 0.7296 - val_loss: 0.6417 - val_accuracy: 0.7620 - _timestamp: 1654241941.0000 - _runtime: 73.0000\n",
            "Epoch 7/20\n",
            "1875/1875 [==============================] - 10s 6ms/step - loss: 0.7004 - accuracy: 0.7384 - val_loss: 0.6229 - val_accuracy: 0.7672 - _timestamp: 1654241952.0000 - _runtime: 84.0000\n",
            "Epoch 8/20\n",
            "1875/1875 [==============================] - 11s 6ms/step - loss: 0.6742 - accuracy: 0.7466 - val_loss: 0.6063 - val_accuracy: 0.7724 - _timestamp: 1654241963.0000 - _runtime: 95.0000\n",
            "Epoch 9/20\n",
            "1875/1875 [==============================] - 10s 6ms/step - loss: 0.6591 - accuracy: 0.7546 - val_loss: 0.5933 - val_accuracy: 0.7786 - _timestamp: 1654241973.0000 - _runtime: 105.0000\n",
            "Epoch 10/20\n",
            "1875/1875 [==============================] - 11s 6ms/step - loss: 0.6395 - accuracy: 0.7614 - val_loss: 0.5843 - val_accuracy: 0.7812 - _timestamp: 1654241984.0000 - _runtime: 116.0000\n",
            "Epoch 11/20\n",
            "1875/1875 [==============================] - 10s 5ms/step - loss: 0.6284 - accuracy: 0.7657 - val_loss: 0.5704 - val_accuracy: 0.7866 - _timestamp: 1654241994.0000 - _runtime: 126.0000\n",
            "Epoch 12/20\n",
            "1875/1875 [==============================] - 11s 6ms/step - loss: 0.6093 - accuracy: 0.7730 - val_loss: 0.5585 - val_accuracy: 0.7930 - _timestamp: 1654242005.0000 - _runtime: 137.0000\n",
            "Epoch 13/20\n",
            "1875/1875 [==============================] - 11s 6ms/step - loss: 0.6005 - accuracy: 0.7757 - val_loss: 0.5462 - val_accuracy: 0.7980 - _timestamp: 1654242015.0000 - _runtime: 147.0000\n",
            "Epoch 14/20\n",
            "1875/1875 [==============================] - 11s 6ms/step - loss: 0.5907 - accuracy: 0.7808 - val_loss: 0.5413 - val_accuracy: 0.7974 - _timestamp: 1654242026.0000 - _runtime: 158.0000\n",
            "Epoch 15/20\n",
            "1875/1875 [==============================] - 11s 6ms/step - loss: 0.5809 - accuracy: 0.7828 - val_loss: 0.5315 - val_accuracy: 0.8022 - _timestamp: 1654242037.0000 - _runtime: 169.0000\n",
            "Epoch 16/20\n",
            "1875/1875 [==============================] - 11s 6ms/step - loss: 0.5690 - accuracy: 0.7891 - val_loss: 0.5197 - val_accuracy: 0.8068 - _timestamp: 1654242048.0000 - _runtime: 180.0000\n",
            "Epoch 17/20\n",
            "1875/1875 [==============================] - 11s 6ms/step - loss: 0.5623 - accuracy: 0.7904 - val_loss: 0.5153 - val_accuracy: 0.8084 - _timestamp: 1654242059.0000 - _runtime: 191.0000\n",
            "Epoch 18/20\n",
            "1875/1875 [==============================] - 10s 6ms/step - loss: 0.5546 - accuracy: 0.7936 - val_loss: 0.5084 - val_accuracy: 0.8130 - _timestamp: 1654242069.0000 - _runtime: 201.0000\n",
            "Epoch 19/20\n",
            "1875/1875 [==============================] - 11s 6ms/step - loss: 0.5484 - accuracy: 0.7965 - val_loss: 0.5019 - val_accuracy: 0.8144 - _timestamp: 1654242080.0000 - _runtime: 212.0000\n",
            "Epoch 20/20\n",
            "1875/1875 [==============================] - 11s 6ms/step - loss: 0.5407 - accuracy: 0.7987 - val_loss: 0.4926 - val_accuracy: 0.8204 - _timestamp: 1654242091.0000 - _runtime: 223.0000\n"
          ]
        },
        {
          "output_type": "display_data",
          "data": {
            "text/plain": [
              "<IPython.core.display.HTML object>"
            ],
            "text/html": [
              "Waiting for W&B process to finish... <strong style=\"color:green\">(success).</strong>"
            ]
          },
          "metadata": {}
        },
        {
          "output_type": "display_data",
          "data": {
            "text/plain": [
              "VBox(children=(Label(value='4.076 MB of 4.076 MB uploaded (0.000 MB deduped)\\r'), FloatProgress(value=1.0, max…"
            ],
            "application/vnd.jupyter.widget-view+json": {
              "version_major": 2,
              "version_minor": 0,
              "model_id": "a515688ad4b641c789355fc2425726e1"
            }
          },
          "metadata": {}
        },
        {
          "output_type": "display_data",
          "data": {
            "text/plain": [
              "<IPython.core.display.HTML object>"
            ],
            "text/html": [
              "<style>\n",
              "    table.wandb td:nth-child(1) { padding: 0 10px; text-align: left ; width: auto;} td:nth-child(2) {text-align: left ; width: 100%}\n",
              "    .wandb-row { display: flex; flex-direction: row; flex-wrap: wrap; justify-content: flex-start; width: 100% }\n",
              "    .wandb-col { display: flex; flex-direction: column; flex-basis: 100%; flex: 1; padding: 10px; }\n",
              "    </style>\n",
              "<div class=\"wandb-row\"><div class=\"wandb-col\"><h3>Run history:</h3><br/><table class=\"wandb\"><tr><td>accuracy</td><td>▁▅▆▆▆▇▇▇▇▇▇█████████</td></tr><tr><td>epoch</td><td>▁▁▂▂▂▃▃▄▄▄▅▅▅▆▆▇▇▇██</td></tr><tr><td>loss</td><td>█▄▃▃▂▂▂▂▂▂▁▁▁▁▁▁▁▁▁▁</td></tr><tr><td>val_accuracy</td><td>▁▃▄▄▅▅▅▆▆▆▆▇▇▇▇▇▇███</td></tr><tr><td>val_loss</td><td>█▆▅▄▄▃▃▃▃▂▂▂▂▂▂▁▁▁▁▁</td></tr></table><br/></div><div class=\"wandb-col\"><h3>Run summary:</h3><br/><table class=\"wandb\"><tr><td>accuracy</td><td>0.79873</td></tr><tr><td>best_epoch</td><td>19</td></tr><tr><td>best_val_loss</td><td>0.49256</td></tr><tr><td>epoch</td><td>19</td></tr><tr><td>loss</td><td>0.54073</td></tr><tr><td>val_accuracy</td><td>0.8204</td></tr><tr><td>val_loss</td><td>0.49256</td></tr></table><br/></div></div>"
            ]
          },
          "metadata": {}
        },
        {
          "output_type": "display_data",
          "data": {
            "text/plain": [
              "<IPython.core.display.HTML object>"
            ],
            "text/html": [
              "Synced <strong style=\"color:#cdcd00\">curious-sweep-34</strong>: <a href=\"https://wandb.ai/amir7d0/fashion_part2/runs/w2nb7zkh\" target=\"_blank\">https://wandb.ai/amir7d0/fashion_part2/runs/w2nb7zkh</a><br/>Synced 5 W&B file(s), 721 media file(s), 0 artifact file(s) and 1 other file(s)"
            ]
          },
          "metadata": {}
        },
        {
          "output_type": "display_data",
          "data": {
            "text/plain": [
              "<IPython.core.display.HTML object>"
            ],
            "text/html": [
              "Find logs at: <code>./wandb/run-20220603_073748-w2nb7zkh/logs</code>"
            ]
          },
          "metadata": {}
        },
        {
          "output_type": "stream",
          "name": "stderr",
          "text": [
            "\u001b[34m\u001b[1mwandb\u001b[0m: Agent Starting Run: n00yrh7h with config:\n",
            "\u001b[34m\u001b[1mwandb\u001b[0m: \tbatch_size: 32\n",
            "\u001b[34m\u001b[1mwandb\u001b[0m: \tdropout: 0.5\n",
            "\u001b[34m\u001b[1mwandb\u001b[0m: \tepochs: 2\n",
            "\u001b[34m\u001b[1mwandb\u001b[0m: \tlearning_rate: 0.001\n"
          ]
        },
        {
          "output_type": "display_data",
          "data": {
            "text/plain": [
              "<IPython.core.display.HTML object>"
            ],
            "text/html": [
              "Tracking run with wandb version 0.12.17"
            ]
          },
          "metadata": {}
        },
        {
          "output_type": "display_data",
          "data": {
            "text/plain": [
              "<IPython.core.display.HTML object>"
            ],
            "text/html": [
              "Run data is saved locally in <code>/content/wandb/run-20220603_074231-n00yrh7h</code>"
            ]
          },
          "metadata": {}
        },
        {
          "output_type": "display_data",
          "data": {
            "text/plain": [
              "<IPython.core.display.HTML object>"
            ],
            "text/html": [
              "Syncing run <strong><a href=\"https://wandb.ai/amir7d0/fashion_part2/runs/n00yrh7h\" target=\"_blank\">devout-sweep-35</a></strong> to <a href=\"https://wandb.ai/amir7d0/fashion_part2\" target=\"_blank\">Weights & Biases</a> (<a href=\"https://wandb.me/run\" target=\"_blank\">docs</a>)<br/>Sweep page:  <a href=\"https://wandb.ai/amir7d0/fashion_part2/sweeps/urkb8pum\" target=\"_blank\">https://wandb.ai/amir7d0/fashion_part2/sweeps/urkb8pum</a>"
            ]
          },
          "metadata": {}
        },
        {
          "output_type": "stream",
          "name": "stdout",
          "text": [
            "Epoch 1/2\n",
            "1875/1875 [==============================] - 11s 6ms/step - loss: 1.7333 - accuracy: 0.4202 - val_loss: 0.9199 - val_accuracy: 0.6696 - _timestamp: 1654242170.0000 - _runtime: 19.0000\n",
            "Epoch 2/2\n",
            "1875/1875 [==============================] - 11s 6ms/step - loss: 0.9930 - accuracy: 0.6262 - val_loss: 0.8050 - val_accuracy: 0.6994 - _timestamp: 1654242180.0000 - _runtime: 29.0000\n"
          ]
        },
        {
          "output_type": "display_data",
          "data": {
            "text/plain": [
              "<IPython.core.display.HTML object>"
            ],
            "text/html": [
              "Waiting for W&B process to finish... <strong style=\"color:green\">(success).</strong>"
            ]
          },
          "metadata": {}
        },
        {
          "output_type": "display_data",
          "data": {
            "text/plain": [
              "VBox(children=(Label(value='3.760 MB of 3.760 MB uploaded (0.000 MB deduped)\\r'), FloatProgress(value=0.999850…"
            ],
            "application/vnd.jupyter.widget-view+json": {
              "version_major": 2,
              "version_minor": 0,
              "model_id": "5392932500764a948393516cb36606de"
            }
          },
          "metadata": {}
        },
        {
          "output_type": "display_data",
          "data": {
            "text/plain": [
              "<IPython.core.display.HTML object>"
            ],
            "text/html": [
              "<style>\n",
              "    table.wandb td:nth-child(1) { padding: 0 10px; text-align: left ; width: auto;} td:nth-child(2) {text-align: left ; width: 100%}\n",
              "    .wandb-row { display: flex; flex-direction: row; flex-wrap: wrap; justify-content: flex-start; width: 100% }\n",
              "    .wandb-col { display: flex; flex-direction: column; flex-basis: 100%; flex: 1; padding: 10px; }\n",
              "    </style>\n",
              "<div class=\"wandb-row\"><div class=\"wandb-col\"><h3>Run history:</h3><br/><table class=\"wandb\"><tr><td>accuracy</td><td>▁█</td></tr><tr><td>epoch</td><td>▁█</td></tr><tr><td>loss</td><td>█▁</td></tr><tr><td>val_accuracy</td><td>▁█</td></tr><tr><td>val_loss</td><td>█▁</td></tr></table><br/></div><div class=\"wandb-col\"><h3>Run summary:</h3><br/><table class=\"wandb\"><tr><td>accuracy</td><td>0.62623</td></tr><tr><td>best_epoch</td><td>1</td></tr><tr><td>best_val_loss</td><td>0.80496</td></tr><tr><td>epoch</td><td>1</td></tr><tr><td>loss</td><td>0.99302</td></tr><tr><td>val_accuracy</td><td>0.6994</td></tr><tr><td>val_loss</td><td>0.80496</td></tr></table><br/></div></div>"
            ]
          },
          "metadata": {}
        },
        {
          "output_type": "display_data",
          "data": {
            "text/plain": [
              "<IPython.core.display.HTML object>"
            ],
            "text/html": [
              "Synced <strong style=\"color:#cdcd00\">devout-sweep-35</strong>: <a href=\"https://wandb.ai/amir7d0/fashion_part2/runs/n00yrh7h\" target=\"_blank\">https://wandb.ai/amir7d0/fashion_part2/runs/n00yrh7h</a><br/>Synced 5 W&B file(s), 73 media file(s), 0 artifact file(s) and 1 other file(s)"
            ]
          },
          "metadata": {}
        },
        {
          "output_type": "display_data",
          "data": {
            "text/plain": [
              "<IPython.core.display.HTML object>"
            ],
            "text/html": [
              "Find logs at: <code>./wandb/run-20220603_074231-n00yrh7h/logs</code>"
            ]
          },
          "metadata": {}
        },
        {
          "output_type": "stream",
          "name": "stderr",
          "text": [
            "\u001b[34m\u001b[1mwandb\u001b[0m: Agent Starting Run: ngb24tuj with config:\n",
            "\u001b[34m\u001b[1mwandb\u001b[0m: \tbatch_size: 128\n",
            "\u001b[34m\u001b[1mwandb\u001b[0m: \tdropout: 0.5\n",
            "\u001b[34m\u001b[1mwandb\u001b[0m: \tepochs: 20\n",
            "\u001b[34m\u001b[1mwandb\u001b[0m: \tlearning_rate: 0.06\n"
          ]
        },
        {
          "output_type": "display_data",
          "data": {
            "text/plain": [
              "<IPython.core.display.HTML object>"
            ],
            "text/html": [
              "Tracking run with wandb version 0.12.17"
            ]
          },
          "metadata": {}
        },
        {
          "output_type": "display_data",
          "data": {
            "text/plain": [
              "<IPython.core.display.HTML object>"
            ],
            "text/html": [
              "Run data is saved locally in <code>/content/wandb/run-20220603_074312-ngb24tuj</code>"
            ]
          },
          "metadata": {}
        },
        {
          "output_type": "display_data",
          "data": {
            "text/plain": [
              "<IPython.core.display.HTML object>"
            ],
            "text/html": [
              "Syncing run <strong><a href=\"https://wandb.ai/amir7d0/fashion_part2/runs/ngb24tuj\" target=\"_blank\">solar-sweep-36</a></strong> to <a href=\"https://wandb.ai/amir7d0/fashion_part2\" target=\"_blank\">Weights & Biases</a> (<a href=\"https://wandb.me/run\" target=\"_blank\">docs</a>)<br/>Sweep page:  <a href=\"https://wandb.ai/amir7d0/fashion_part2/sweeps/urkb8pum\" target=\"_blank\">https://wandb.ai/amir7d0/fashion_part2/sweeps/urkb8pum</a>"
            ]
          },
          "metadata": {}
        },
        {
          "output_type": "stream",
          "name": "stdout",
          "text": [
            "Epoch 1/20\n",
            "469/469 [==============================] - 8s 16ms/step - loss: 0.9491 - accuracy: 0.6512 - val_loss: 0.6388 - val_accuracy: 0.7610 - _timestamp: 1654242207.0000 - _runtime: 15.0000\n",
            "Epoch 2/20\n",
            "469/469 [==============================] - 7s 15ms/step - loss: 0.6283 - accuracy: 0.7626 - val_loss: 0.5712 - val_accuracy: 0.7944 - _timestamp: 1654242215.0000 - _runtime: 23.0000\n",
            "Epoch 3/20\n",
            "469/469 [==============================] - 7s 16ms/step - loss: 0.5548 - accuracy: 0.7911 - val_loss: 0.4812 - val_accuracy: 0.8176 - _timestamp: 1654242222.0000 - _runtime: 30.0000\n",
            "Epoch 4/20\n",
            "469/469 [==============================] - 7s 16ms/step - loss: 0.5108 - accuracy: 0.8078 - val_loss: 0.5003 - val_accuracy: 0.8170 - _timestamp: 1654242229.0000 - _runtime: 37.0000\n",
            "Epoch 5/20\n",
            "469/469 [==============================] - 7s 16ms/step - loss: 0.4777 - accuracy: 0.8228 - val_loss: 0.4129 - val_accuracy: 0.8498 - _timestamp: 1654242237.0000 - _runtime: 45.0000\n",
            "Epoch 6/20\n",
            "469/469 [==============================] - 7s 15ms/step - loss: 0.4543 - accuracy: 0.8319 - val_loss: 0.4162 - val_accuracy: 0.8516 - _timestamp: 1654242244.0000 - _runtime: 52.0000\n",
            "Epoch 7/20\n",
            "469/469 [==============================] - 7s 15ms/step - loss: 0.4375 - accuracy: 0.8373 - val_loss: 0.4086 - val_accuracy: 0.8596 - _timestamp: 1654242251.0000 - _runtime: 59.0000\n",
            "Epoch 8/20\n",
            "469/469 [==============================] - 7s 15ms/step - loss: 0.4224 - accuracy: 0.8442 - val_loss: 0.3881 - val_accuracy: 0.8650 - _timestamp: 1654242258.0000 - _runtime: 66.0000\n",
            "Epoch 9/20\n",
            "469/469 [==============================] - 7s 16ms/step - loss: 0.4040 - accuracy: 0.8493 - val_loss: 0.4008 - val_accuracy: 0.8644 - _timestamp: 1654242266.0000 - _runtime: 74.0000\n",
            "Epoch 10/20\n",
            "469/469 [==============================] - 7s 15ms/step - loss: 0.3960 - accuracy: 0.8504 - val_loss: 0.3720 - val_accuracy: 0.8746 - _timestamp: 1654242273.0000 - _runtime: 81.0000\n",
            "Epoch 11/20\n",
            "469/469 [==============================] - 7s 15ms/step - loss: 0.3856 - accuracy: 0.8570 - val_loss: 0.3507 - val_accuracy: 0.8734 - _timestamp: 1654242280.0000 - _runtime: 88.0000\n",
            "Epoch 12/20\n",
            "469/469 [==============================] - 7s 15ms/step - loss: 0.3786 - accuracy: 0.8585 - val_loss: 0.3791 - val_accuracy: 0.8746 - _timestamp: 1654242287.0000 - _runtime: 95.0000\n",
            "Epoch 13/20\n",
            "469/469 [==============================] - 7s 15ms/step - loss: 0.3690 - accuracy: 0.8626 - val_loss: 0.3317 - val_accuracy: 0.8874 - _timestamp: 1654242294.0000 - _runtime: 102.0000\n",
            "Epoch 14/20\n",
            "469/469 [==============================] - 7s 15ms/step - loss: 0.3642 - accuracy: 0.8644 - val_loss: 0.3691 - val_accuracy: 0.8786 - _timestamp: 1654242301.0000 - _runtime: 109.0000\n",
            "Epoch 15/20\n",
            "469/469 [==============================] - 7s 15ms/step - loss: 0.3583 - accuracy: 0.8656 - val_loss: 0.3293 - val_accuracy: 0.8876 - _timestamp: 1654242308.0000 - _runtime: 116.0000\n",
            "Epoch 16/20\n",
            "469/469 [==============================] - 7s 15ms/step - loss: 0.3522 - accuracy: 0.8689 - val_loss: 0.3448 - val_accuracy: 0.8806 - _timestamp: 1654242315.0000 - _runtime: 123.0000\n",
            "Epoch 17/20\n",
            "469/469 [==============================] - 7s 15ms/step - loss: 0.3424 - accuracy: 0.8723 - val_loss: 0.3892 - val_accuracy: 0.8734 - _timestamp: 1654242322.0000 - _runtime: 130.0000\n",
            "Epoch 18/20\n",
            "469/469 [==============================] - 7s 15ms/step - loss: 0.3387 - accuracy: 0.8741 - val_loss: 0.3106 - val_accuracy: 0.8934 - _timestamp: 1654242330.0000 - _runtime: 138.0000\n",
            "Epoch 19/20\n",
            "469/469 [==============================] - 7s 15ms/step - loss: 0.3343 - accuracy: 0.8762 - val_loss: 0.3148 - val_accuracy: 0.8932 - _timestamp: 1654242337.0000 - _runtime: 145.0000\n",
            "Epoch 20/20\n",
            "469/469 [==============================] - 7s 16ms/step - loss: 0.3298 - accuracy: 0.8783 - val_loss: 0.2912 - val_accuracy: 0.8978 - _timestamp: 1654242344.0000 - _runtime: 152.0000\n"
          ]
        },
        {
          "output_type": "display_data",
          "data": {
            "text/plain": [
              "<IPython.core.display.HTML object>"
            ],
            "text/html": [
              "Waiting for W&B process to finish... <strong style=\"color:green\">(success).</strong>"
            ]
          },
          "metadata": {}
        },
        {
          "output_type": "display_data",
          "data": {
            "text/plain": [
              "VBox(children=(Label(value='4.075 MB of 4.075 MB uploaded (0.000 MB deduped)\\r'), FloatProgress(value=1.0, max…"
            ],
            "application/vnd.jupyter.widget-view+json": {
              "version_major": 2,
              "version_minor": 0,
              "model_id": "30e488ecc6494a75a32429faf004363d"
            }
          },
          "metadata": {}
        },
        {
          "output_type": "display_data",
          "data": {
            "text/plain": [
              "<IPython.core.display.HTML object>"
            ],
            "text/html": [
              "<style>\n",
              "    table.wandb td:nth-child(1) { padding: 0 10px; text-align: left ; width: auto;} td:nth-child(2) {text-align: left ; width: 100%}\n",
              "    .wandb-row { display: flex; flex-direction: row; flex-wrap: wrap; justify-content: flex-start; width: 100% }\n",
              "    .wandb-col { display: flex; flex-direction: column; flex-basis: 100%; flex: 1; padding: 10px; }\n",
              "    </style>\n",
              "<div class=\"wandb-row\"><div class=\"wandb-col\"><h3>Run history:</h3><br/><table class=\"wandb\"><tr><td>accuracy</td><td>▁▄▅▆▆▇▇▇▇▇▇▇████████</td></tr><tr><td>epoch</td><td>▁▁▂▂▂▃▃▄▄▄▅▅▅▆▆▇▇▇██</td></tr><tr><td>loss</td><td>█▄▄▃▃▂▂▂▂▂▂▂▁▁▁▁▁▁▁▁</td></tr><tr><td>val_accuracy</td><td>▁▃▄▄▆▆▆▆▆▇▇▇▇▇▇▇▇███</td></tr><tr><td>val_loss</td><td>█▇▅▅▃▄▃▃▃▃▂▃▂▃▂▂▃▁▁▁</td></tr></table><br/></div><div class=\"wandb-col\"><h3>Run summary:</h3><br/><table class=\"wandb\"><tr><td>accuracy</td><td>0.87828</td></tr><tr><td>best_epoch</td><td>19</td></tr><tr><td>best_val_loss</td><td>0.29119</td></tr><tr><td>epoch</td><td>19</td></tr><tr><td>loss</td><td>0.32979</td></tr><tr><td>val_accuracy</td><td>0.8978</td></tr><tr><td>val_loss</td><td>0.29119</td></tr></table><br/></div></div>"
            ]
          },
          "metadata": {}
        },
        {
          "output_type": "display_data",
          "data": {
            "text/plain": [
              "<IPython.core.display.HTML object>"
            ],
            "text/html": [
              "Synced <strong style=\"color:#cdcd00\">solar-sweep-36</strong>: <a href=\"https://wandb.ai/amir7d0/fashion_part2/runs/ngb24tuj\" target=\"_blank\">https://wandb.ai/amir7d0/fashion_part2/runs/ngb24tuj</a><br/>Synced 5 W&B file(s), 721 media file(s), 0 artifact file(s) and 1 other file(s)"
            ]
          },
          "metadata": {}
        },
        {
          "output_type": "display_data",
          "data": {
            "text/plain": [
              "<IPython.core.display.HTML object>"
            ],
            "text/html": [
              "Find logs at: <code>./wandb/run-20220603_074312-ngb24tuj/logs</code>"
            ]
          },
          "metadata": {}
        },
        {
          "output_type": "stream",
          "name": "stderr",
          "text": [
            "\u001b[34m\u001b[1mwandb\u001b[0m: Agent Starting Run: zvbtwwbz with config:\n",
            "\u001b[34m\u001b[1mwandb\u001b[0m: \tbatch_size: 32\n",
            "\u001b[34m\u001b[1mwandb\u001b[0m: \tdropout: 0.5\n",
            "\u001b[34m\u001b[1mwandb\u001b[0m: \tepochs: 10\n",
            "\u001b[34m\u001b[1mwandb\u001b[0m: \tlearning_rate: 0.0003\n"
          ]
        },
        {
          "output_type": "display_data",
          "data": {
            "text/plain": [
              "<IPython.core.display.HTML object>"
            ],
            "text/html": [
              "Tracking run with wandb version 0.12.17"
            ]
          },
          "metadata": {}
        },
        {
          "output_type": "display_data",
          "data": {
            "text/plain": [
              "<IPython.core.display.HTML object>"
            ],
            "text/html": [
              "Run data is saved locally in <code>/content/wandb/run-20220603_074654-zvbtwwbz</code>"
            ]
          },
          "metadata": {}
        },
        {
          "output_type": "display_data",
          "data": {
            "text/plain": [
              "<IPython.core.display.HTML object>"
            ],
            "text/html": [
              "Syncing run <strong><a href=\"https://wandb.ai/amir7d0/fashion_part2/runs/zvbtwwbz\" target=\"_blank\">smooth-sweep-37</a></strong> to <a href=\"https://wandb.ai/amir7d0/fashion_part2\" target=\"_blank\">Weights & Biases</a> (<a href=\"https://wandb.me/run\" target=\"_blank\">docs</a>)<br/>Sweep page:  <a href=\"https://wandb.ai/amir7d0/fashion_part2/sweeps/urkb8pum\" target=\"_blank\">https://wandb.ai/amir7d0/fashion_part2/sweeps/urkb8pum</a>"
            ]
          },
          "metadata": {}
        },
        {
          "output_type": "stream",
          "name": "stdout",
          "text": [
            "Epoch 1/10\n",
            "1875/1875 [==============================] - 11s 6ms/step - loss: 2.5300 - accuracy: 0.2693 - val_loss: 1.3585 - val_accuracy: 0.4794 - _timestamp: 1654242433.0000 - _runtime: 19.0000\n",
            "Epoch 2/10\n",
            "1875/1875 [==============================] - 11s 6ms/step - loss: 1.5700 - accuracy: 0.4200 - val_loss: 1.1588 - val_accuracy: 0.5398 - _timestamp: 1654242444.0000 - _runtime: 30.0000\n",
            "Epoch 3/10\n",
            "1875/1875 [==============================] - 11s 6ms/step - loss: 1.3207 - accuracy: 0.4976 - val_loss: 1.0374 - val_accuracy: 0.5982 - _timestamp: 1654242455.0000 - _runtime: 41.0000\n",
            "Epoch 4/10\n",
            "1875/1875 [==============================] - 11s 6ms/step - loss: 1.1668 - accuracy: 0.5578 - val_loss: 0.9556 - val_accuracy: 0.6368 - _timestamp: 1654242465.0000 - _runtime: 51.0000\n",
            "Epoch 5/10\n",
            "1875/1875 [==============================] - 11s 6ms/step - loss: 1.0548 - accuracy: 0.5996 - val_loss: 0.8950 - val_accuracy: 0.6678 - _timestamp: 1654242476.0000 - _runtime: 62.0000\n",
            "Epoch 6/10\n",
            "1875/1875 [==============================] - 11s 6ms/step - loss: 0.9775 - accuracy: 0.6292 - val_loss: 0.8643 - val_accuracy: 0.6816 - _timestamp: 1654242487.0000 - _runtime: 73.0000\n",
            "Epoch 7/10\n",
            "1875/1875 [==============================] - 10s 6ms/step - loss: 0.9237 - accuracy: 0.6493 - val_loss: 0.8351 - val_accuracy: 0.6962 - _timestamp: 1654242498.0000 - _runtime: 84.0000\n",
            "Epoch 8/10\n",
            "1875/1875 [==============================] - 10s 6ms/step - loss: 0.8790 - accuracy: 0.6665 - val_loss: 0.8098 - val_accuracy: 0.6996 - _timestamp: 1654242508.0000 - _runtime: 94.0000\n",
            "Epoch 9/10\n",
            "1875/1875 [==============================] - 11s 6ms/step - loss: 0.8455 - accuracy: 0.6816 - val_loss: 0.7898 - val_accuracy: 0.7084 - _timestamp: 1654242519.0000 - _runtime: 105.0000\n",
            "Epoch 10/10\n",
            "1875/1875 [==============================] - 11s 6ms/step - loss: 0.8226 - accuracy: 0.6889 - val_loss: 0.7686 - val_accuracy: 0.7140 - _timestamp: 1654242530.0000 - _runtime: 116.0000\n"
          ]
        },
        {
          "output_type": "display_data",
          "data": {
            "text/plain": [
              "<IPython.core.display.HTML object>"
            ],
            "text/html": [
              "Waiting for W&B process to finish... <strong style=\"color:green\">(success).</strong>"
            ]
          },
          "metadata": {}
        },
        {
          "output_type": "display_data",
          "data": {
            "text/plain": [
              "VBox(children=(Label(value='3.903 MB of 3.903 MB uploaded (0.000 MB deduped)\\r'), FloatProgress(value=1.0, max…"
            ],
            "application/vnd.jupyter.widget-view+json": {
              "version_major": 2,
              "version_minor": 0,
              "model_id": "b57a2d404445457dba828daf227f339c"
            }
          },
          "metadata": {}
        },
        {
          "output_type": "display_data",
          "data": {
            "text/plain": [
              "<IPython.core.display.HTML object>"
            ],
            "text/html": [
              "<style>\n",
              "    table.wandb td:nth-child(1) { padding: 0 10px; text-align: left ; width: auto;} td:nth-child(2) {text-align: left ; width: 100%}\n",
              "    .wandb-row { display: flex; flex-direction: row; flex-wrap: wrap; justify-content: flex-start; width: 100% }\n",
              "    .wandb-col { display: flex; flex-direction: column; flex-basis: 100%; flex: 1; padding: 10px; }\n",
              "    </style>\n",
              "<div class=\"wandb-row\"><div class=\"wandb-col\"><h3>Run history:</h3><br/><table class=\"wandb\"><tr><td>accuracy</td><td>▁▄▅▆▇▇▇███</td></tr><tr><td>epoch</td><td>▁▂▃▃▄▅▆▆▇█</td></tr><tr><td>loss</td><td>█▄▃▂▂▂▁▁▁▁</td></tr><tr><td>val_accuracy</td><td>▁▃▅▆▇▇▇███</td></tr><tr><td>val_loss</td><td>█▆▄▃▂▂▂▁▁▁</td></tr></table><br/></div><div class=\"wandb-col\"><h3>Run summary:</h3><br/><table class=\"wandb\"><tr><td>accuracy</td><td>0.68893</td></tr><tr><td>best_epoch</td><td>9</td></tr><tr><td>best_val_loss</td><td>0.76858</td></tr><tr><td>epoch</td><td>9</td></tr><tr><td>loss</td><td>0.82255</td></tr><tr><td>val_accuracy</td><td>0.714</td></tr><tr><td>val_loss</td><td>0.76858</td></tr></table><br/></div></div>"
            ]
          },
          "metadata": {}
        },
        {
          "output_type": "display_data",
          "data": {
            "text/plain": [
              "<IPython.core.display.HTML object>"
            ],
            "text/html": [
              "Synced <strong style=\"color:#cdcd00\">smooth-sweep-37</strong>: <a href=\"https://wandb.ai/amir7d0/fashion_part2/runs/zvbtwwbz\" target=\"_blank\">https://wandb.ai/amir7d0/fashion_part2/runs/zvbtwwbz</a><br/>Synced 5 W&B file(s), 361 media file(s), 0 artifact file(s) and 1 other file(s)"
            ]
          },
          "metadata": {}
        },
        {
          "output_type": "display_data",
          "data": {
            "text/plain": [
              "<IPython.core.display.HTML object>"
            ],
            "text/html": [
              "Find logs at: <code>./wandb/run-20220603_074654-zvbtwwbz/logs</code>"
            ]
          },
          "metadata": {}
        },
        {
          "output_type": "stream",
          "name": "stderr",
          "text": [
            "\u001b[34m\u001b[1mwandb\u001b[0m: Agent Starting Run: tb48b52k with config:\n",
            "\u001b[34m\u001b[1mwandb\u001b[0m: \tbatch_size: 128\n",
            "\u001b[34m\u001b[1mwandb\u001b[0m: \tdropout: 0.5\n",
            "\u001b[34m\u001b[1mwandb\u001b[0m: \tepochs: 2\n",
            "\u001b[34m\u001b[1mwandb\u001b[0m: \tlearning_rate: 0.0003\n"
          ]
        },
        {
          "output_type": "display_data",
          "data": {
            "text/plain": [
              "<IPython.core.display.HTML object>"
            ],
            "text/html": [
              "Tracking run with wandb version 0.12.17"
            ]
          },
          "metadata": {}
        },
        {
          "output_type": "display_data",
          "data": {
            "text/plain": [
              "<IPython.core.display.HTML object>"
            ],
            "text/html": [
              "Run data is saved locally in <code>/content/wandb/run-20220603_074937-tb48b52k</code>"
            ]
          },
          "metadata": {}
        },
        {
          "output_type": "display_data",
          "data": {
            "text/plain": [
              "<IPython.core.display.HTML object>"
            ],
            "text/html": [
              "Syncing run <strong><a href=\"https://wandb.ai/amir7d0/fashion_part2/runs/tb48b52k\" target=\"_blank\">spring-sweep-38</a></strong> to <a href=\"https://wandb.ai/amir7d0/fashion_part2\" target=\"_blank\">Weights & Biases</a> (<a href=\"https://wandb.me/run\" target=\"_blank\">docs</a>)<br/>Sweep page:  <a href=\"https://wandb.ai/amir7d0/fashion_part2/sweeps/urkb8pum\" target=\"_blank\">https://wandb.ai/amir7d0/fashion_part2/sweeps/urkb8pum</a>"
            ]
          },
          "metadata": {}
        },
        {
          "output_type": "stream",
          "name": "stdout",
          "text": [
            "Epoch 1/2\n",
            "469/469 [==============================] - 8s 15ms/step - loss: 3.8556 - accuracy: 0.1560 - val_loss: 1.8995 - val_accuracy: 0.4764 - _timestamp: 1654242592.0000 - _runtime: 15.0000\n",
            "Epoch 2/2\n",
            "469/469 [==============================] - 7s 15ms/step - loss: 2.4391 - accuracy: 0.2441 - val_loss: 1.5053 - val_accuracy: 0.5080 - _timestamp: 1654242599.0000 - _runtime: 22.0000\n"
          ]
        },
        {
          "output_type": "display_data",
          "data": {
            "text/plain": [
              "<IPython.core.display.HTML object>"
            ],
            "text/html": [
              "Waiting for W&B process to finish... <strong style=\"color:green\">(success).</strong>"
            ]
          },
          "metadata": {}
        },
        {
          "output_type": "display_data",
          "data": {
            "text/plain": [
              "VBox(children=(Label(value='3.761 MB of 3.761 MB uploaded (0.000 MB deduped)\\r'), FloatProgress(value=1.0, max…"
            ],
            "application/vnd.jupyter.widget-view+json": {
              "version_major": 2,
              "version_minor": 0,
              "model_id": "fe5c75338f5b46aca8428fdce1bcb91c"
            }
          },
          "metadata": {}
        },
        {
          "output_type": "display_data",
          "data": {
            "text/plain": [
              "<IPython.core.display.HTML object>"
            ],
            "text/html": [
              "<style>\n",
              "    table.wandb td:nth-child(1) { padding: 0 10px; text-align: left ; width: auto;} td:nth-child(2) {text-align: left ; width: 100%}\n",
              "    .wandb-row { display: flex; flex-direction: row; flex-wrap: wrap; justify-content: flex-start; width: 100% }\n",
              "    .wandb-col { display: flex; flex-direction: column; flex-basis: 100%; flex: 1; padding: 10px; }\n",
              "    </style>\n",
              "<div class=\"wandb-row\"><div class=\"wandb-col\"><h3>Run history:</h3><br/><table class=\"wandb\"><tr><td>accuracy</td><td>▁█</td></tr><tr><td>epoch</td><td>▁█</td></tr><tr><td>loss</td><td>█▁</td></tr><tr><td>val_accuracy</td><td>▁█</td></tr><tr><td>val_loss</td><td>█▁</td></tr></table><br/></div><div class=\"wandb-col\"><h3>Run summary:</h3><br/><table class=\"wandb\"><tr><td>accuracy</td><td>0.2441</td></tr><tr><td>best_epoch</td><td>1</td></tr><tr><td>best_val_loss</td><td>1.5053</td></tr><tr><td>epoch</td><td>1</td></tr><tr><td>loss</td><td>2.43913</td></tr><tr><td>val_accuracy</td><td>0.508</td></tr><tr><td>val_loss</td><td>1.5053</td></tr></table><br/></div></div>"
            ]
          },
          "metadata": {}
        },
        {
          "output_type": "display_data",
          "data": {
            "text/plain": [
              "<IPython.core.display.HTML object>"
            ],
            "text/html": [
              "Synced <strong style=\"color:#cdcd00\">spring-sweep-38</strong>: <a href=\"https://wandb.ai/amir7d0/fashion_part2/runs/tb48b52k\" target=\"_blank\">https://wandb.ai/amir7d0/fashion_part2/runs/tb48b52k</a><br/>Synced 5 W&B file(s), 73 media file(s), 0 artifact file(s) and 1 other file(s)"
            ]
          },
          "metadata": {}
        },
        {
          "output_type": "display_data",
          "data": {
            "text/plain": [
              "<IPython.core.display.HTML object>"
            ],
            "text/html": [
              "Find logs at: <code>./wandb/run-20220603_074937-tb48b52k/logs</code>"
            ]
          },
          "metadata": {}
        },
        {
          "output_type": "stream",
          "name": "stderr",
          "text": [
            "\u001b[34m\u001b[1mwandb\u001b[0m: Agent Starting Run: uytz78yn with config:\n",
            "\u001b[34m\u001b[1mwandb\u001b[0m: \tbatch_size: 32\n",
            "\u001b[34m\u001b[1mwandb\u001b[0m: \tdropout: 0.5\n",
            "\u001b[34m\u001b[1mwandb\u001b[0m: \tepochs: 10\n",
            "\u001b[34m\u001b[1mwandb\u001b[0m: \tlearning_rate: 0.06\n"
          ]
        },
        {
          "output_type": "display_data",
          "data": {
            "text/plain": [
              "<IPython.core.display.HTML object>"
            ],
            "text/html": [
              "Tracking run with wandb version 0.12.17"
            ]
          },
          "metadata": {}
        },
        {
          "output_type": "display_data",
          "data": {
            "text/plain": [
              "<IPython.core.display.HTML object>"
            ],
            "text/html": [
              "Run data is saved locally in <code>/content/wandb/run-20220603_075017-uytz78yn</code>"
            ]
          },
          "metadata": {}
        },
        {
          "output_type": "display_data",
          "data": {
            "text/plain": [
              "<IPython.core.display.HTML object>"
            ],
            "text/html": [
              "Syncing run <strong><a href=\"https://wandb.ai/amir7d0/fashion_part2/runs/uytz78yn\" target=\"_blank\">easy-sweep-39</a></strong> to <a href=\"https://wandb.ai/amir7d0/fashion_part2\" target=\"_blank\">Weights & Biases</a> (<a href=\"https://wandb.me/run\" target=\"_blank\">docs</a>)<br/>Sweep page:  <a href=\"https://wandb.ai/amir7d0/fashion_part2/sweeps/urkb8pum\" target=\"_blank\">https://wandb.ai/amir7d0/fashion_part2/sweeps/urkb8pum</a>"
            ]
          },
          "metadata": {}
        },
        {
          "output_type": "stream",
          "name": "stdout",
          "text": [
            "Epoch 1/10\n",
            "1875/1875 [==============================] - 12s 6ms/step - loss: 0.8954 - accuracy: 0.6764 - val_loss: 0.5819 - val_accuracy: 0.7712 - _timestamp: 1654242636.0000 - _runtime: 19.0000\n",
            "Epoch 2/10\n",
            "1875/1875 [==============================] - 11s 6ms/step - loss: 0.5932 - accuracy: 0.7820 - val_loss: 0.4871 - val_accuracy: 0.8308 - _timestamp: 1654242647.0000 - _runtime: 30.0000\n",
            "Epoch 3/10\n",
            "1875/1875 [==============================] - 11s 6ms/step - loss: 0.5263 - accuracy: 0.8094 - val_loss: 0.4491 - val_accuracy: 0.8430 - _timestamp: 1654242658.0000 - _runtime: 41.0000\n",
            "Epoch 4/10\n",
            "1875/1875 [==============================] - 11s 6ms/step - loss: 0.4810 - accuracy: 0.8245 - val_loss: 0.4102 - val_accuracy: 0.8572 - _timestamp: 1654242669.0000 - _runtime: 52.0000\n",
            "Epoch 5/10\n",
            "1875/1875 [==============================] - 11s 6ms/step - loss: 0.4492 - accuracy: 0.8359 - val_loss: 0.3831 - val_accuracy: 0.8616 - _timestamp: 1654242680.0000 - _runtime: 63.0000\n",
            "Epoch 6/10\n",
            "1875/1875 [==============================] - 11s 6ms/step - loss: 0.4259 - accuracy: 0.8436 - val_loss: 0.4006 - val_accuracy: 0.8634 - _timestamp: 1654242691.0000 - _runtime: 74.0000\n",
            "Epoch 7/10\n",
            "1875/1875 [==============================] - 11s 6ms/step - loss: 0.4036 - accuracy: 0.8530 - val_loss: 0.3894 - val_accuracy: 0.8766 - _timestamp: 1654242701.0000 - _runtime: 84.0000\n",
            "Epoch 8/10\n",
            "1875/1875 [==============================] - 11s 6ms/step - loss: 0.3899 - accuracy: 0.8574 - val_loss: 0.3633 - val_accuracy: 0.8776 - _timestamp: 1654242712.0000 - _runtime: 95.0000\n",
            "Epoch 9/10\n",
            "1875/1875 [==============================] - 11s 6ms/step - loss: 0.3719 - accuracy: 0.8620 - val_loss: 0.3991 - val_accuracy: 0.8650 - _timestamp: 1654242723.0000 - _runtime: 106.0000\n",
            "Epoch 10/10\n",
            "1875/1875 [==============================] - 11s 6ms/step - loss: 0.3621 - accuracy: 0.8669 - val_loss: 0.3531 - val_accuracy: 0.8816 - _timestamp: 1654242734.0000 - _runtime: 117.0000\n"
          ]
        },
        {
          "output_type": "display_data",
          "data": {
            "text/plain": [
              "<IPython.core.display.HTML object>"
            ],
            "text/html": [
              "Waiting for W&B process to finish... <strong style=\"color:green\">(success).</strong>"
            ]
          },
          "metadata": {}
        },
        {
          "output_type": "display_data",
          "data": {
            "text/plain": [
              "VBox(children=(Label(value='3.903 MB of 3.904 MB uploaded (0.000 MB deduped)\\r'), FloatProgress(value=0.999845…"
            ],
            "application/vnd.jupyter.widget-view+json": {
              "version_major": 2,
              "version_minor": 0,
              "model_id": "f4e3bb1072db4679963645994688d772"
            }
          },
          "metadata": {}
        },
        {
          "output_type": "display_data",
          "data": {
            "text/plain": [
              "<IPython.core.display.HTML object>"
            ],
            "text/html": [
              "<style>\n",
              "    table.wandb td:nth-child(1) { padding: 0 10px; text-align: left ; width: auto;} td:nth-child(2) {text-align: left ; width: 100%}\n",
              "    .wandb-row { display: flex; flex-direction: row; flex-wrap: wrap; justify-content: flex-start; width: 100% }\n",
              "    .wandb-col { display: flex; flex-direction: column; flex-basis: 100%; flex: 1; padding: 10px; }\n",
              "    </style>\n",
              "<div class=\"wandb-row\"><div class=\"wandb-col\"><h3>Run history:</h3><br/><table class=\"wandb\"><tr><td>accuracy</td><td>▁▅▆▆▇▇▇███</td></tr><tr><td>epoch</td><td>▁▂▃▃▄▅▆▆▇█</td></tr><tr><td>loss</td><td>█▄▃▃▂▂▂▁▁▁</td></tr><tr><td>val_accuracy</td><td>▁▅▆▆▇▇██▇█</td></tr><tr><td>val_loss</td><td>█▅▄▃▂▂▂▁▂▁</td></tr></table><br/></div><div class=\"wandb-col\"><h3>Run summary:</h3><br/><table class=\"wandb\"><tr><td>accuracy</td><td>0.86685</td></tr><tr><td>best_epoch</td><td>9</td></tr><tr><td>best_val_loss</td><td>0.3531</td></tr><tr><td>epoch</td><td>9</td></tr><tr><td>loss</td><td>0.36214</td></tr><tr><td>val_accuracy</td><td>0.8816</td></tr><tr><td>val_loss</td><td>0.3531</td></tr></table><br/></div></div>"
            ]
          },
          "metadata": {}
        },
        {
          "output_type": "display_data",
          "data": {
            "text/plain": [
              "<IPython.core.display.HTML object>"
            ],
            "text/html": [
              "Synced <strong style=\"color:#cdcd00\">easy-sweep-39</strong>: <a href=\"https://wandb.ai/amir7d0/fashion_part2/runs/uytz78yn\" target=\"_blank\">https://wandb.ai/amir7d0/fashion_part2/runs/uytz78yn</a><br/>Synced 5 W&B file(s), 361 media file(s), 0 artifact file(s) and 1 other file(s)"
            ]
          },
          "metadata": {}
        },
        {
          "output_type": "display_data",
          "data": {
            "text/plain": [
              "<IPython.core.display.HTML object>"
            ],
            "text/html": [
              "Find logs at: <code>./wandb/run-20220603_075017-uytz78yn/logs</code>"
            ]
          },
          "metadata": {}
        },
        {
          "output_type": "stream",
          "name": "stderr",
          "text": [
            "\u001b[34m\u001b[1mwandb\u001b[0m: Agent Starting Run: j7y00llm with config:\n",
            "\u001b[34m\u001b[1mwandb\u001b[0m: \tbatch_size: 128\n",
            "\u001b[34m\u001b[1mwandb\u001b[0m: \tdropout: 0.5\n",
            "\u001b[34m\u001b[1mwandb\u001b[0m: \tepochs: 10\n",
            "\u001b[34m\u001b[1mwandb\u001b[0m: \tlearning_rate: 0.06\n"
          ]
        },
        {
          "output_type": "display_data",
          "data": {
            "text/plain": [
              "<IPython.core.display.HTML object>"
            ],
            "text/html": [
              "Tracking run with wandb version 0.12.17"
            ]
          },
          "metadata": {}
        },
        {
          "output_type": "display_data",
          "data": {
            "text/plain": [
              "<IPython.core.display.HTML object>"
            ],
            "text/html": [
              "Run data is saved locally in <code>/content/wandb/run-20220603_075225-j7y00llm</code>"
            ]
          },
          "metadata": {}
        },
        {
          "output_type": "display_data",
          "data": {
            "text/plain": [
              "<IPython.core.display.HTML object>"
            ],
            "text/html": [
              "Syncing run <strong><a href=\"https://wandb.ai/amir7d0/fashion_part2/runs/j7y00llm\" target=\"_blank\">icy-sweep-40</a></strong> to <a href=\"https://wandb.ai/amir7d0/fashion_part2\" target=\"_blank\">Weights & Biases</a> (<a href=\"https://wandb.me/run\" target=\"_blank\">docs</a>)<br/>Sweep page:  <a href=\"https://wandb.ai/amir7d0/fashion_part2/sweeps/urkb8pum\" target=\"_blank\">https://wandb.ai/amir7d0/fashion_part2/sweeps/urkb8pum</a>"
            ]
          },
          "metadata": {}
        },
        {
          "output_type": "stream",
          "name": "stdout",
          "text": [
            "Epoch 1/10\n",
            "469/469 [==============================] - 8s 17ms/step - loss: 0.9440 - accuracy: 0.6614 - val_loss: 0.8013 - val_accuracy: 0.7080 - _timestamp: 1654242761.0000 - _runtime: 16.0000\n",
            "Epoch 2/10\n",
            "469/469 [==============================] - 7s 16ms/step - loss: 0.6142 - accuracy: 0.7675 - val_loss: 0.5396 - val_accuracy: 0.8032 - _timestamp: 1654242768.0000 - _runtime: 23.0000\n",
            "Epoch 3/10\n",
            "469/469 [==============================] - 7s 16ms/step - loss: 0.5445 - accuracy: 0.7952 - val_loss: 0.5161 - val_accuracy: 0.8184 - _timestamp: 1654242776.0000 - _runtime: 31.0000\n",
            "Epoch 4/10\n",
            "469/469 [==============================] - 7s 15ms/step - loss: 0.5007 - accuracy: 0.8138 - val_loss: 0.4544 - val_accuracy: 0.8390 - _timestamp: 1654242783.0000 - _runtime: 38.0000\n",
            "Epoch 5/10\n",
            "469/469 [==============================] - 7s 15ms/step - loss: 0.4732 - accuracy: 0.8250 - val_loss: 0.4297 - val_accuracy: 0.8458 - _timestamp: 1654242790.0000 - _runtime: 45.0000\n",
            "Epoch 6/10\n",
            "469/469 [==============================] - 7s 15ms/step - loss: 0.4520 - accuracy: 0.8330 - val_loss: 0.3928 - val_accuracy: 0.8604 - _timestamp: 1654242797.0000 - _runtime: 52.0000\n",
            "Epoch 7/10\n",
            "469/469 [==============================] - 7s 15ms/step - loss: 0.4364 - accuracy: 0.8385 - val_loss: 0.4357 - val_accuracy: 0.8568 - _timestamp: 1654242805.0000 - _runtime: 60.0000\n",
            "Epoch 8/10\n",
            "469/469 [==============================] - 7s 15ms/step - loss: 0.4174 - accuracy: 0.8431 - val_loss: 0.3905 - val_accuracy: 0.8642 - _timestamp: 1654242812.0000 - _runtime: 67.0000\n",
            "Epoch 9/10\n",
            "469/469 [==============================] - 7s 16ms/step - loss: 0.4082 - accuracy: 0.8481 - val_loss: 0.3785 - val_accuracy: 0.8732 - _timestamp: 1654242819.0000 - _runtime: 74.0000\n",
            "Epoch 10/10\n",
            "469/469 [==============================] - 7s 16ms/step - loss: 0.4017 - accuracy: 0.8506 - val_loss: 0.3682 - val_accuracy: 0.8718 - _timestamp: 1654242826.0000 - _runtime: 81.0000\n"
          ]
        },
        {
          "output_type": "display_data",
          "data": {
            "text/plain": [
              "<IPython.core.display.HTML object>"
            ],
            "text/html": [
              "Waiting for W&B process to finish... <strong style=\"color:green\">(success).</strong>"
            ]
          },
          "metadata": {}
        },
        {
          "output_type": "display_data",
          "data": {
            "text/plain": [
              "VBox(children=(Label(value='3.902 MB of 3.902 MB uploaded (0.000 MB deduped)\\r'), FloatProgress(value=1.0, max…"
            ],
            "application/vnd.jupyter.widget-view+json": {
              "version_major": 2,
              "version_minor": 0,
              "model_id": "9f3f750227284831bfa61bbba06b64b5"
            }
          },
          "metadata": {}
        },
        {
          "output_type": "display_data",
          "data": {
            "text/plain": [
              "<IPython.core.display.HTML object>"
            ],
            "text/html": [
              "<style>\n",
              "    table.wandb td:nth-child(1) { padding: 0 10px; text-align: left ; width: auto;} td:nth-child(2) {text-align: left ; width: 100%}\n",
              "    .wandb-row { display: flex; flex-direction: row; flex-wrap: wrap; justify-content: flex-start; width: 100% }\n",
              "    .wandb-col { display: flex; flex-direction: column; flex-basis: 100%; flex: 1; padding: 10px; }\n",
              "    </style>\n",
              "<div class=\"wandb-row\"><div class=\"wandb-col\"><h3>Run history:</h3><br/><table class=\"wandb\"><tr><td>accuracy</td><td>▁▅▆▇▇▇████</td></tr><tr><td>epoch</td><td>▁▂▃▃▄▅▆▆▇█</td></tr><tr><td>loss</td><td>█▄▃▂▂▂▁▁▁▁</td></tr><tr><td>val_accuracy</td><td>▁▅▆▇▇▇▇███</td></tr><tr><td>val_loss</td><td>█▄▃▂▂▁▂▁▁▁</td></tr></table><br/></div><div class=\"wandb-col\"><h3>Run summary:</h3><br/><table class=\"wandb\"><tr><td>accuracy</td><td>0.85057</td></tr><tr><td>best_epoch</td><td>9</td></tr><tr><td>best_val_loss</td><td>0.36822</td></tr><tr><td>epoch</td><td>9</td></tr><tr><td>loss</td><td>0.40173</td></tr><tr><td>val_accuracy</td><td>0.8718</td></tr><tr><td>val_loss</td><td>0.36822</td></tr></table><br/></div></div>"
            ]
          },
          "metadata": {}
        },
        {
          "output_type": "display_data",
          "data": {
            "text/plain": [
              "<IPython.core.display.HTML object>"
            ],
            "text/html": [
              "Synced <strong style=\"color:#cdcd00\">icy-sweep-40</strong>: <a href=\"https://wandb.ai/amir7d0/fashion_part2/runs/j7y00llm\" target=\"_blank\">https://wandb.ai/amir7d0/fashion_part2/runs/j7y00llm</a><br/>Synced 5 W&B file(s), 361 media file(s), 0 artifact file(s) and 1 other file(s)"
            ]
          },
          "metadata": {}
        },
        {
          "output_type": "display_data",
          "data": {
            "text/plain": [
              "<IPython.core.display.HTML object>"
            ],
            "text/html": [
              "Find logs at: <code>./wandb/run-20220603_075225-j7y00llm/logs</code>"
            ]
          },
          "metadata": {}
        },
        {
          "output_type": "stream",
          "name": "stderr",
          "text": [
            "\u001b[34m\u001b[1mwandb\u001b[0m: Agent Starting Run: 0d3ru3zc with config:\n",
            "\u001b[34m\u001b[1mwandb\u001b[0m: \tbatch_size: 128\n",
            "\u001b[34m\u001b[1mwandb\u001b[0m: \tdropout: 0.5\n",
            "\u001b[34m\u001b[1mwandb\u001b[0m: \tepochs: 20\n",
            "\u001b[34m\u001b[1mwandb\u001b[0m: \tlearning_rate: 0.06\n"
          ]
        },
        {
          "output_type": "display_data",
          "data": {
            "text/plain": [
              "<IPython.core.display.HTML object>"
            ],
            "text/html": [
              "Tracking run with wandb version 0.12.17"
            ]
          },
          "metadata": {}
        },
        {
          "output_type": "display_data",
          "data": {
            "text/plain": [
              "<IPython.core.display.HTML object>"
            ],
            "text/html": [
              "Run data is saved locally in <code>/content/wandb/run-20220603_075406-0d3ru3zc</code>"
            ]
          },
          "metadata": {}
        },
        {
          "output_type": "display_data",
          "data": {
            "text/plain": [
              "<IPython.core.display.HTML object>"
            ],
            "text/html": [
              "Syncing run <strong><a href=\"https://wandb.ai/amir7d0/fashion_part2/runs/0d3ru3zc\" target=\"_blank\">royal-sweep-41</a></strong> to <a href=\"https://wandb.ai/amir7d0/fashion_part2\" target=\"_blank\">Weights & Biases</a> (<a href=\"https://wandb.me/run\" target=\"_blank\">docs</a>)<br/>Sweep page:  <a href=\"https://wandb.ai/amir7d0/fashion_part2/sweeps/urkb8pum\" target=\"_blank\">https://wandb.ai/amir7d0/fashion_part2/sweeps/urkb8pum</a>"
            ]
          },
          "metadata": {}
        },
        {
          "output_type": "stream",
          "name": "stdout",
          "text": [
            "Epoch 1/20\n",
            "469/469 [==============================] - 8s 16ms/step - loss: 0.9645 - accuracy: 0.6463 - val_loss: 0.6506 - val_accuracy: 0.7404 - _timestamp: 1654242862.0000 - _runtime: 16.0000\n",
            "Epoch 2/20\n",
            "469/469 [==============================] - 7s 15ms/step - loss: 0.6170 - accuracy: 0.7651 - val_loss: 0.5029 - val_accuracy: 0.8156 - _timestamp: 1654242869.0000 - _runtime: 23.0000\n",
            "Epoch 3/20\n",
            "469/469 [==============================] - 7s 15ms/step - loss: 0.5450 - accuracy: 0.7956 - val_loss: 0.4607 - val_accuracy: 0.8326 - _timestamp: 1654242876.0000 - _runtime: 30.0000\n",
            "Epoch 4/20\n",
            "469/469 [==============================] - 7s 15ms/step - loss: 0.5057 - accuracy: 0.8123 - val_loss: 0.4283 - val_accuracy: 0.8456 - _timestamp: 1654242883.0000 - _runtime: 37.0000\n",
            "Epoch 5/20\n",
            "469/469 [==============================] - 7s 16ms/step - loss: 0.4707 - accuracy: 0.8253 - val_loss: 0.4046 - val_accuracy: 0.8524 - _timestamp: 1654242891.0000 - _runtime: 45.0000\n",
            "Epoch 6/20\n",
            "469/469 [==============================] - 7s 16ms/step - loss: 0.4457 - accuracy: 0.8352 - val_loss: 0.4050 - val_accuracy: 0.8554 - _timestamp: 1654242898.0000 - _runtime: 52.0000\n",
            "Epoch 7/20\n",
            "469/469 [==============================] - 7s 15ms/step - loss: 0.4297 - accuracy: 0.8418 - val_loss: 0.3762 - val_accuracy: 0.8664 - _timestamp: 1654242906.0000 - _runtime: 60.0000\n",
            "Epoch 8/20\n",
            "469/469 [==============================] - 7s 16ms/step - loss: 0.4153 - accuracy: 0.8454 - val_loss: 0.3863 - val_accuracy: 0.8652 - _timestamp: 1654242913.0000 - _runtime: 67.0000\n",
            "Epoch 9/20\n",
            "469/469 [==============================] - 7s 15ms/step - loss: 0.4026 - accuracy: 0.8511 - val_loss: 0.3768 - val_accuracy: 0.8662 - _timestamp: 1654242920.0000 - _runtime: 74.0000\n",
            "Epoch 10/20\n",
            "469/469 [==============================] - 7s 16ms/step - loss: 0.3887 - accuracy: 0.8547 - val_loss: 0.3504 - val_accuracy: 0.8732 - _timestamp: 1654242927.0000 - _runtime: 81.0000\n",
            "Epoch 11/20\n",
            "469/469 [==============================] - 7s 15ms/step - loss: 0.3813 - accuracy: 0.8572 - val_loss: 0.3627 - val_accuracy: 0.8716 - _timestamp: 1654242935.0000 - _runtime: 89.0000\n",
            "Epoch 12/20\n",
            "469/469 [==============================] - 8s 16ms/step - loss: 0.3717 - accuracy: 0.8627 - val_loss: 0.3639 - val_accuracy: 0.8814 - _timestamp: 1654242942.0000 - _runtime: 96.0000\n",
            "Epoch 13/20\n",
            "469/469 [==============================] - 7s 15ms/step - loss: 0.3651 - accuracy: 0.8662 - val_loss: 0.3724 - val_accuracy: 0.8762 - _timestamp: 1654242949.0000 - _runtime: 103.0000\n",
            "Epoch 14/20\n",
            "469/469 [==============================] - 7s 15ms/step - loss: 0.3595 - accuracy: 0.8679 - val_loss: 0.3469 - val_accuracy: 0.8774 - _timestamp: 1654242957.0000 - _runtime: 111.0000\n",
            "Epoch 15/20\n",
            "469/469 [==============================] - 7s 16ms/step - loss: 0.3510 - accuracy: 0.8703 - val_loss: 0.3187 - val_accuracy: 0.8908 - _timestamp: 1654242964.0000 - _runtime: 118.0000\n",
            "Epoch 16/20\n",
            "469/469 [==============================] - 7s 15ms/step - loss: 0.3466 - accuracy: 0.8721 - val_loss: 0.3248 - val_accuracy: 0.8844 - _timestamp: 1654242971.0000 - _runtime: 125.0000\n",
            "Epoch 17/20\n",
            "469/469 [==============================] - 7s 16ms/step - loss: 0.3425 - accuracy: 0.8734 - val_loss: 0.3069 - val_accuracy: 0.8934 - _timestamp: 1654242979.0000 - _runtime: 133.0000\n",
            "Epoch 18/20\n",
            "469/469 [==============================] - 7s 16ms/step - loss: 0.3370 - accuracy: 0.8754 - val_loss: 0.3019 - val_accuracy: 0.8934 - _timestamp: 1654242986.0000 - _runtime: 140.0000\n",
            "Epoch 19/20\n",
            "469/469 [==============================] - 7s 15ms/step - loss: 0.3287 - accuracy: 0.8771 - val_loss: 0.3040 - val_accuracy: 0.8944 - _timestamp: 1654242993.0000 - _runtime: 147.0000\n",
            "Epoch 20/20\n",
            "469/469 [==============================] - 7s 15ms/step - loss: 0.3275 - accuracy: 0.8794 - val_loss: 0.3638 - val_accuracy: 0.8746 - _timestamp: 1654243000.0000 - _runtime: 154.0000\n"
          ]
        },
        {
          "output_type": "display_data",
          "data": {
            "text/plain": [
              "<IPython.core.display.HTML object>"
            ],
            "text/html": [
              "Waiting for W&B process to finish... <strong style=\"color:green\">(success).</strong>"
            ]
          },
          "metadata": {}
        },
        {
          "output_type": "display_data",
          "data": {
            "text/plain": [
              "VBox(children=(Label(value='4.072 MB of 4.072 MB uploaded (0.000 MB deduped)\\r'), FloatProgress(value=1.0, max…"
            ],
            "application/vnd.jupyter.widget-view+json": {
              "version_major": 2,
              "version_minor": 0,
              "model_id": "9067137d08ab4279bb437efcf1c0e0ea"
            }
          },
          "metadata": {}
        },
        {
          "output_type": "display_data",
          "data": {
            "text/plain": [
              "<IPython.core.display.HTML object>"
            ],
            "text/html": [
              "<style>\n",
              "    table.wandb td:nth-child(1) { padding: 0 10px; text-align: left ; width: auto;} td:nth-child(2) {text-align: left ; width: 100%}\n",
              "    .wandb-row { display: flex; flex-direction: row; flex-wrap: wrap; justify-content: flex-start; width: 100% }\n",
              "    .wandb-col { display: flex; flex-direction: column; flex-basis: 100%; flex: 1; padding: 10px; }\n",
              "    </style>\n",
              "<div class=\"wandb-row\"><div class=\"wandb-col\"><h3>Run history:</h3><br/><table class=\"wandb\"><tr><td>accuracy</td><td>▁▅▅▆▆▇▇▇▇▇▇▇████████</td></tr><tr><td>epoch</td><td>▁▁▂▂▂▃▃▄▄▄▅▅▅▆▆▇▇▇██</td></tr><tr><td>loss</td><td>█▄▃▃▃▂▂▂▂▂▂▁▁▁▁▁▁▁▁▁</td></tr><tr><td>val_accuracy</td><td>▁▄▅▆▆▆▇▇▇▇▇▇▇▇█████▇</td></tr><tr><td>val_loss</td><td>█▅▄▄▃▃▂▃▃▂▂▂▂▂▁▁▁▁▁▂</td></tr></table><br/></div><div class=\"wandb-col\"><h3>Run summary:</h3><br/><table class=\"wandb\"><tr><td>accuracy</td><td>0.87935</td></tr><tr><td>best_epoch</td><td>17</td></tr><tr><td>best_val_loss</td><td>0.30185</td></tr><tr><td>epoch</td><td>19</td></tr><tr><td>loss</td><td>0.32747</td></tr><tr><td>val_accuracy</td><td>0.8746</td></tr><tr><td>val_loss</td><td>0.36378</td></tr></table><br/></div></div>"
            ]
          },
          "metadata": {}
        },
        {
          "output_type": "display_data",
          "data": {
            "text/plain": [
              "<IPython.core.display.HTML object>"
            ],
            "text/html": [
              "Synced <strong style=\"color:#cdcd00\">royal-sweep-41</strong>: <a href=\"https://wandb.ai/amir7d0/fashion_part2/runs/0d3ru3zc\" target=\"_blank\">https://wandb.ai/amir7d0/fashion_part2/runs/0d3ru3zc</a><br/>Synced 5 W&B file(s), 721 media file(s), 0 artifact file(s) and 1 other file(s)"
            ]
          },
          "metadata": {}
        },
        {
          "output_type": "display_data",
          "data": {
            "text/plain": [
              "<IPython.core.display.HTML object>"
            ],
            "text/html": [
              "Find logs at: <code>./wandb/run-20220603_075406-0d3ru3zc/logs</code>"
            ]
          },
          "metadata": {}
        },
        {
          "output_type": "stream",
          "name": "stderr",
          "text": [
            "\u001b[34m\u001b[1mwandb\u001b[0m: Agent Starting Run: tr0saryr with config:\n",
            "\u001b[34m\u001b[1mwandb\u001b[0m: \tbatch_size: 32\n",
            "\u001b[34m\u001b[1mwandb\u001b[0m: \tdropout: 0.35\n",
            "\u001b[34m\u001b[1mwandb\u001b[0m: \tepochs: 10\n",
            "\u001b[34m\u001b[1mwandb\u001b[0m: \tlearning_rate: 0.001\n"
          ]
        },
        {
          "output_type": "display_data",
          "data": {
            "text/plain": [
              "<IPython.core.display.HTML object>"
            ],
            "text/html": [
              "Tracking run with wandb version 0.12.17"
            ]
          },
          "metadata": {}
        },
        {
          "output_type": "display_data",
          "data": {
            "text/plain": [
              "<IPython.core.display.HTML object>"
            ],
            "text/html": [
              "Run data is saved locally in <code>/content/wandb/run-20220603_075749-tr0saryr</code>"
            ]
          },
          "metadata": {}
        },
        {
          "output_type": "display_data",
          "data": {
            "text/plain": [
              "<IPython.core.display.HTML object>"
            ],
            "text/html": [
              "Syncing run <strong><a href=\"https://wandb.ai/amir7d0/fashion_part2/runs/tr0saryr\" target=\"_blank\">ethereal-sweep-42</a></strong> to <a href=\"https://wandb.ai/amir7d0/fashion_part2\" target=\"_blank\">Weights & Biases</a> (<a href=\"https://wandb.me/run\" target=\"_blank\">docs</a>)<br/>Sweep page:  <a href=\"https://wandb.ai/amir7d0/fashion_part2/sweeps/urkb8pum\" target=\"_blank\">https://wandb.ai/amir7d0/fashion_part2/sweeps/urkb8pum</a>"
            ]
          },
          "metadata": {}
        },
        {
          "output_type": "stream",
          "name": "stdout",
          "text": [
            "Epoch 1/10\n",
            "1875/1875 [==============================] - 11s 6ms/step - loss: 1.2369 - accuracy: 0.5664 - val_loss: 0.7329 - val_accuracy: 0.7298 - _timestamp: 1654243088.0000 - _runtime: 19.0000\n",
            "Epoch 2/10\n",
            "1875/1875 [==============================] - 11s 6ms/step - loss: 0.7672 - accuracy: 0.7131 - val_loss: 0.6343 - val_accuracy: 0.7574 - _timestamp: 1654243099.0000 - _runtime: 30.0000\n",
            "Epoch 3/10\n",
            "1875/1875 [==============================] - 11s 6ms/step - loss: 0.6742 - accuracy: 0.7495 - val_loss: 0.5724 - val_accuracy: 0.7848 - _timestamp: 1654243110.0000 - _runtime: 41.0000\n",
            "Epoch 4/10\n",
            "1875/1875 [==============================] - 11s 6ms/step - loss: 0.6170 - accuracy: 0.7697 - val_loss: 0.5380 - val_accuracy: 0.7994 - _timestamp: 1654243121.0000 - _runtime: 52.0000\n",
            "Epoch 5/10\n",
            "1875/1875 [==============================] - 11s 6ms/step - loss: 0.5861 - accuracy: 0.7821 - val_loss: 0.5217 - val_accuracy: 0.8042 - _timestamp: 1654243132.0000 - _runtime: 63.0000\n",
            "Epoch 6/10\n",
            "1875/1875 [==============================] - 11s 6ms/step - loss: 0.5574 - accuracy: 0.7917 - val_loss: 0.4943 - val_accuracy: 0.8168 - _timestamp: 1654243143.0000 - _runtime: 74.0000\n",
            "Epoch 7/10\n",
            "1875/1875 [==============================] - 11s 6ms/step - loss: 0.5344 - accuracy: 0.8018 - val_loss: 0.4908 - val_accuracy: 0.8192 - _timestamp: 1654243154.0000 - _runtime: 85.0000\n",
            "Epoch 8/10\n",
            "1875/1875 [==============================] - 11s 6ms/step - loss: 0.5178 - accuracy: 0.8095 - val_loss: 0.4697 - val_accuracy: 0.8234 - _timestamp: 1654243165.0000 - _runtime: 96.0000\n",
            "Epoch 9/10\n",
            "1875/1875 [==============================] - 11s 6ms/step - loss: 0.5006 - accuracy: 0.8148 - val_loss: 0.4508 - val_accuracy: 0.8324 - _timestamp: 1654243175.0000 - _runtime: 106.0000\n",
            "Epoch 10/10\n",
            "1875/1875 [==============================] - 11s 6ms/step - loss: 0.4852 - accuracy: 0.8219 - val_loss: 0.4382 - val_accuracy: 0.8368 - _timestamp: 1654243186.0000 - _runtime: 117.0000\n"
          ]
        },
        {
          "output_type": "display_data",
          "data": {
            "text/plain": [
              "<IPython.core.display.HTML object>"
            ],
            "text/html": [
              "Waiting for W&B process to finish... <strong style=\"color:green\">(success).</strong>"
            ]
          },
          "metadata": {}
        },
        {
          "output_type": "display_data",
          "data": {
            "text/plain": [
              "VBox(children=(Label(value='3.898 MB of 3.901 MB uploaded (0.000 MB deduped)\\r'), FloatProgress(value=0.999370…"
            ],
            "application/vnd.jupyter.widget-view+json": {
              "version_major": 2,
              "version_minor": 0,
              "model_id": "ae3521acd1384dd8ae30a19fadaa736d"
            }
          },
          "metadata": {}
        },
        {
          "output_type": "display_data",
          "data": {
            "text/plain": [
              "<IPython.core.display.HTML object>"
            ],
            "text/html": [
              "<style>\n",
              "    table.wandb td:nth-child(1) { padding: 0 10px; text-align: left ; width: auto;} td:nth-child(2) {text-align: left ; width: 100%}\n",
              "    .wandb-row { display: flex; flex-direction: row; flex-wrap: wrap; justify-content: flex-start; width: 100% }\n",
              "    .wandb-col { display: flex; flex-direction: column; flex-basis: 100%; flex: 1; padding: 10px; }\n",
              "    </style>\n",
              "<div class=\"wandb-row\"><div class=\"wandb-col\"><h3>Run history:</h3><br/><table class=\"wandb\"><tr><td>accuracy</td><td>▁▅▆▇▇▇▇███</td></tr><tr><td>epoch</td><td>▁▂▃▃▄▅▆▆▇█</td></tr><tr><td>loss</td><td>█▄▃▂▂▂▁▁▁▁</td></tr><tr><td>val_accuracy</td><td>▁▃▅▆▆▇▇▇██</td></tr><tr><td>val_loss</td><td>█▆▄▃▃▂▂▂▁▁</td></tr></table><br/></div><div class=\"wandb-col\"><h3>Run summary:</h3><br/><table class=\"wandb\"><tr><td>accuracy</td><td>0.82188</td></tr><tr><td>best_epoch</td><td>9</td></tr><tr><td>best_val_loss</td><td>0.43824</td></tr><tr><td>epoch</td><td>9</td></tr><tr><td>loss</td><td>0.48519</td></tr><tr><td>val_accuracy</td><td>0.8368</td></tr><tr><td>val_loss</td><td>0.43824</td></tr></table><br/></div></div>"
            ]
          },
          "metadata": {}
        },
        {
          "output_type": "display_data",
          "data": {
            "text/plain": [
              "<IPython.core.display.HTML object>"
            ],
            "text/html": [
              "Synced <strong style=\"color:#cdcd00\">ethereal-sweep-42</strong>: <a href=\"https://wandb.ai/amir7d0/fashion_part2/runs/tr0saryr\" target=\"_blank\">https://wandb.ai/amir7d0/fashion_part2/runs/tr0saryr</a><br/>Synced 5 W&B file(s), 361 media file(s), 0 artifact file(s) and 1 other file(s)"
            ]
          },
          "metadata": {}
        },
        {
          "output_type": "display_data",
          "data": {
            "text/plain": [
              "<IPython.core.display.HTML object>"
            ],
            "text/html": [
              "Find logs at: <code>./wandb/run-20220603_075749-tr0saryr/logs</code>"
            ]
          },
          "metadata": {}
        },
        {
          "output_type": "stream",
          "name": "stderr",
          "text": [
            "\u001b[34m\u001b[1mwandb\u001b[0m: Agent Starting Run: n331veqc with config:\n",
            "\u001b[34m\u001b[1mwandb\u001b[0m: \tbatch_size: 128\n",
            "\u001b[34m\u001b[1mwandb\u001b[0m: \tdropout: 0.5\n",
            "\u001b[34m\u001b[1mwandb\u001b[0m: \tepochs: 20\n",
            "\u001b[34m\u001b[1mwandb\u001b[0m: \tlearning_rate: 0.0003\n"
          ]
        },
        {
          "output_type": "display_data",
          "data": {
            "text/plain": [
              "<IPython.core.display.HTML object>"
            ],
            "text/html": [
              "Tracking run with wandb version 0.12.17"
            ]
          },
          "metadata": {}
        },
        {
          "output_type": "display_data",
          "data": {
            "text/plain": [
              "<IPython.core.display.HTML object>"
            ],
            "text/html": [
              "Run data is saved locally in <code>/content/wandb/run-20220603_075957-n331veqc</code>"
            ]
          },
          "metadata": {}
        },
        {
          "output_type": "display_data",
          "data": {
            "text/plain": [
              "<IPython.core.display.HTML object>"
            ],
            "text/html": [
              "Syncing run <strong><a href=\"https://wandb.ai/amir7d0/fashion_part2/runs/n331veqc\" target=\"_blank\">hopeful-sweep-43</a></strong> to <a href=\"https://wandb.ai/amir7d0/fashion_part2\" target=\"_blank\">Weights & Biases</a> (<a href=\"https://wandb.me/run\" target=\"_blank\">docs</a>)<br/>Sweep page:  <a href=\"https://wandb.ai/amir7d0/fashion_part2/sweeps/urkb8pum\" target=\"_blank\">https://wandb.ai/amir7d0/fashion_part2/sweeps/urkb8pum</a>"
            ]
          },
          "metadata": {}
        },
        {
          "output_type": "stream",
          "name": "stdout",
          "text": [
            "Epoch 1/20\n",
            "469/469 [==============================] - 8s 17ms/step - loss: 3.6979 - accuracy: 0.1505 - val_loss: 1.9407 - val_accuracy: 0.3086 - _timestamp: 1654243213.0000 - _runtime: 16.0000\n",
            "Epoch 2/20\n",
            "469/469 [==============================] - 7s 15ms/step - loss: 2.4145 - accuracy: 0.2291 - val_loss: 1.5992 - val_accuracy: 0.4554 - _timestamp: 1654243220.0000 - _runtime: 23.0000\n",
            "Epoch 3/20\n",
            "469/469 [==============================] - 7s 16ms/step - loss: 2.0412 - accuracy: 0.2918 - val_loss: 1.4290 - val_accuracy: 0.4980 - _timestamp: 1654243227.0000 - _runtime: 30.0000\n",
            "Epoch 4/20\n",
            "469/469 [==============================] - 7s 15ms/step - loss: 1.8335 - accuracy: 0.3404 - val_loss: 1.3160 - val_accuracy: 0.5470 - _timestamp: 1654243234.0000 - _runtime: 37.0000\n",
            "Epoch 5/20\n",
            "469/469 [==============================] - 7s 15ms/step - loss: 1.6937 - accuracy: 0.3787 - val_loss: 1.2257 - val_accuracy: 0.5772 - _timestamp: 1654243241.0000 - _runtime: 44.0000\n",
            "Epoch 6/20\n",
            "469/469 [==============================] - 7s 15ms/step - loss: 1.5724 - accuracy: 0.4181 - val_loss: 1.1557 - val_accuracy: 0.6070 - _timestamp: 1654243249.0000 - _runtime: 52.0000\n",
            "Epoch 7/20\n",
            "469/469 [==============================] - 7s 15ms/step - loss: 1.4739 - accuracy: 0.4503 - val_loss: 1.1036 - val_accuracy: 0.6238 - _timestamp: 1654243256.0000 - _runtime: 59.0000\n",
            "Epoch 8/20\n",
            "469/469 [==============================] - 7s 15ms/step - loss: 1.4073 - accuracy: 0.4712 - val_loss: 1.0597 - val_accuracy: 0.6372 - _timestamp: 1654243263.0000 - _runtime: 66.0000\n",
            "Epoch 9/20\n",
            "469/469 [==============================] - 7s 15ms/step - loss: 1.3418 - accuracy: 0.4922 - val_loss: 1.0253 - val_accuracy: 0.6510 - _timestamp: 1654243270.0000 - _runtime: 73.0000\n",
            "Epoch 10/20\n",
            "469/469 [==============================] - 7s 16ms/step - loss: 1.2817 - accuracy: 0.5174 - val_loss: 0.9931 - val_accuracy: 0.6612 - _timestamp: 1654243277.0000 - _runtime: 80.0000\n",
            "Epoch 11/20\n",
            "469/469 [==============================] - 7s 16ms/step - loss: 1.2319 - accuracy: 0.5351 - val_loss: 0.9681 - val_accuracy: 0.6696 - _timestamp: 1654243285.0000 - _runtime: 88.0000\n",
            "Epoch 12/20\n",
            "469/469 [==============================] - 7s 15ms/step - loss: 1.1950 - accuracy: 0.5482 - val_loss: 0.9433 - val_accuracy: 0.6768 - _timestamp: 1654243292.0000 - _runtime: 95.0000\n",
            "Epoch 13/20\n",
            "469/469 [==============================] - 7s 15ms/step - loss: 1.1471 - accuracy: 0.5661 - val_loss: 0.9240 - val_accuracy: 0.6814 - _timestamp: 1654243299.0000 - _runtime: 102.0000\n",
            "Epoch 14/20\n",
            "469/469 [==============================] - 7s 15ms/step - loss: 1.1190 - accuracy: 0.5794 - val_loss: 0.9057 - val_accuracy: 0.6840 - _timestamp: 1654243306.0000 - _runtime: 109.0000\n",
            "Epoch 15/20\n",
            "469/469 [==============================] - 7s 15ms/step - loss: 1.0857 - accuracy: 0.5907 - val_loss: 0.8910 - val_accuracy: 0.6890 - _timestamp: 1654243314.0000 - _runtime: 117.0000\n",
            "Epoch 16/20\n",
            "469/469 [==============================] - 7s 15ms/step - loss: 1.0617 - accuracy: 0.5987 - val_loss: 0.8801 - val_accuracy: 0.6902 - _timestamp: 1654243321.0000 - _runtime: 124.0000\n",
            "Epoch 17/20\n",
            "469/469 [==============================] - 7s 15ms/step - loss: 1.0405 - accuracy: 0.6080 - val_loss: 0.8659 - val_accuracy: 0.6938 - _timestamp: 1654243328.0000 - _runtime: 131.0000\n",
            "Epoch 18/20\n",
            "469/469 [==============================] - 7s 15ms/step - loss: 1.0161 - accuracy: 0.6185 - val_loss: 0.8547 - val_accuracy: 0.6942 - _timestamp: 1654243335.0000 - _runtime: 138.0000\n",
            "Epoch 19/20\n",
            "469/469 [==============================] - 7s 15ms/step - loss: 1.0024 - accuracy: 0.6234 - val_loss: 0.8405 - val_accuracy: 0.6956 - _timestamp: 1654243342.0000 - _runtime: 145.0000\n",
            "Epoch 20/20\n",
            "469/469 [==============================] - 7s 15ms/step - loss: 0.9795 - accuracy: 0.6324 - val_loss: 0.8356 - val_accuracy: 0.6974 - _timestamp: 1654243350.0000 - _runtime: 153.0000\n"
          ]
        },
        {
          "output_type": "display_data",
          "data": {
            "text/plain": [
              "<IPython.core.display.HTML object>"
            ],
            "text/html": [
              "Waiting for W&B process to finish... <strong style=\"color:green\">(success).</strong>"
            ]
          },
          "metadata": {}
        },
        {
          "output_type": "display_data",
          "data": {
            "text/plain": [
              "VBox(children=(Label(value='4.078 MB of 4.078 MB uploaded (0.000 MB deduped)\\r'), FloatProgress(value=1.0, max…"
            ],
            "application/vnd.jupyter.widget-view+json": {
              "version_major": 2,
              "version_minor": 0,
              "model_id": "09b7235c96ee4b93b3115236984f0b0f"
            }
          },
          "metadata": {}
        },
        {
          "output_type": "display_data",
          "data": {
            "text/plain": [
              "<IPython.core.display.HTML object>"
            ],
            "text/html": [
              "<style>\n",
              "    table.wandb td:nth-child(1) { padding: 0 10px; text-align: left ; width: auto;} td:nth-child(2) {text-align: left ; width: 100%}\n",
              "    .wandb-row { display: flex; flex-direction: row; flex-wrap: wrap; justify-content: flex-start; width: 100% }\n",
              "    .wandb-col { display: flex; flex-direction: column; flex-basis: 100%; flex: 1; padding: 10px; }\n",
              "    </style>\n",
              "<div class=\"wandb-row\"><div class=\"wandb-col\"><h3>Run history:</h3><br/><table class=\"wandb\"><tr><td>accuracy</td><td>▁▂▃▄▄▅▅▆▆▆▇▇▇▇▇█████</td></tr><tr><td>epoch</td><td>▁▁▂▂▂▃▃▄▄▄▅▅▅▆▆▇▇▇██</td></tr><tr><td>loss</td><td>█▅▄▃▃▃▂▂▂▂▂▂▁▁▁▁▁▁▁▁</td></tr><tr><td>val_accuracy</td><td>▁▄▄▅▆▆▇▇▇▇▇█████████</td></tr><tr><td>val_loss</td><td>█▆▅▄▃▃▃▂▂▂▂▂▂▁▁▁▁▁▁▁</td></tr></table><br/></div><div class=\"wandb-col\"><h3>Run summary:</h3><br/><table class=\"wandb\"><tr><td>accuracy</td><td>0.63237</td></tr><tr><td>best_epoch</td><td>19</td></tr><tr><td>best_val_loss</td><td>0.83561</td></tr><tr><td>epoch</td><td>19</td></tr><tr><td>loss</td><td>0.97946</td></tr><tr><td>val_accuracy</td><td>0.6974</td></tr><tr><td>val_loss</td><td>0.83561</td></tr></table><br/></div></div>"
            ]
          },
          "metadata": {}
        },
        {
          "output_type": "display_data",
          "data": {
            "text/plain": [
              "<IPython.core.display.HTML object>"
            ],
            "text/html": [
              "Synced <strong style=\"color:#cdcd00\">hopeful-sweep-43</strong>: <a href=\"https://wandb.ai/amir7d0/fashion_part2/runs/n331veqc\" target=\"_blank\">https://wandb.ai/amir7d0/fashion_part2/runs/n331veqc</a><br/>Synced 5 W&B file(s), 721 media file(s), 0 artifact file(s) and 1 other file(s)"
            ]
          },
          "metadata": {}
        },
        {
          "output_type": "display_data",
          "data": {
            "text/plain": [
              "<IPython.core.display.HTML object>"
            ],
            "text/html": [
              "Find logs at: <code>./wandb/run-20220603_075957-n331veqc/logs</code>"
            ]
          },
          "metadata": {}
        },
        {
          "output_type": "stream",
          "name": "stderr",
          "text": [
            "\u001b[34m\u001b[1mwandb\u001b[0m: Sweep Agent: Waiting for job.\n",
            "\u001b[34m\u001b[1mwandb\u001b[0m: Job received.\n",
            "\u001b[34m\u001b[1mwandb\u001b[0m: Agent Starting Run: gqunu7on with config:\n",
            "\u001b[34m\u001b[1mwandb\u001b[0m: \tbatch_size: 32\n",
            "\u001b[34m\u001b[1mwandb\u001b[0m: \tdropout: 0.5\n",
            "\u001b[34m\u001b[1mwandb\u001b[0m: \tepochs: 2\n",
            "\u001b[34m\u001b[1mwandb\u001b[0m: \tlearning_rate: 0.001\n"
          ]
        },
        {
          "output_type": "display_data",
          "data": {
            "text/plain": [
              "<IPython.core.display.HTML object>"
            ],
            "text/html": [
              "Tracking run with wandb version 0.12.17"
            ]
          },
          "metadata": {}
        },
        {
          "output_type": "display_data",
          "data": {
            "text/plain": [
              "<IPython.core.display.HTML object>"
            ],
            "text/html": [
              "Run data is saved locally in <code>/content/wandb/run-20220603_080249-gqunu7on</code>"
            ]
          },
          "metadata": {}
        },
        {
          "output_type": "display_data",
          "data": {
            "text/plain": [
              "<IPython.core.display.HTML object>"
            ],
            "text/html": [
              "Syncing run <strong><a href=\"https://wandb.ai/amir7d0/fashion_part2/runs/gqunu7on\" target=\"_blank\">hearty-sweep-44</a></strong> to <a href=\"https://wandb.ai/amir7d0/fashion_part2\" target=\"_blank\">Weights & Biases</a> (<a href=\"https://wandb.me/run\" target=\"_blank\">docs</a>)<br/>Sweep page:  <a href=\"https://wandb.ai/amir7d0/fashion_part2/sweeps/urkb8pum\" target=\"_blank\">https://wandb.ai/amir7d0/fashion_part2/sweeps/urkb8pum</a>"
            ]
          },
          "metadata": {}
        },
        {
          "output_type": "stream",
          "name": "stdout",
          "text": [
            "Epoch 1/2\n",
            "1875/1875 [==============================] - 11s 6ms/step - loss: 1.7267 - accuracy: 0.4192 - val_loss: 0.9333 - val_accuracy: 0.6756 - _timestamp: 1654243388.0000 - _runtime: 19.0000\n",
            "Epoch 2/2\n",
            "1875/1875 [==============================] - 11s 6ms/step - loss: 1.0333 - accuracy: 0.6088 - val_loss: 0.8178 - val_accuracy: 0.7038 - _timestamp: 1654243399.0000 - _runtime: 30.0000\n"
          ]
        },
        {
          "output_type": "display_data",
          "data": {
            "text/plain": [
              "<IPython.core.display.HTML object>"
            ],
            "text/html": [
              "Waiting for W&B process to finish... <strong style=\"color:green\">(success).</strong>"
            ]
          },
          "metadata": {}
        },
        {
          "output_type": "display_data",
          "data": {
            "text/plain": [
              "VBox(children=(Label(value='3.760 MB of 3.760 MB uploaded (0.000 MB deduped)\\r'), FloatProgress(value=0.999907…"
            ],
            "application/vnd.jupyter.widget-view+json": {
              "version_major": 2,
              "version_minor": 0,
              "model_id": "9dbe4612361045fa9ab63b8031178dc6"
            }
          },
          "metadata": {}
        },
        {
          "output_type": "display_data",
          "data": {
            "text/plain": [
              "<IPython.core.display.HTML object>"
            ],
            "text/html": [
              "<style>\n",
              "    table.wandb td:nth-child(1) { padding: 0 10px; text-align: left ; width: auto;} td:nth-child(2) {text-align: left ; width: 100%}\n",
              "    .wandb-row { display: flex; flex-direction: row; flex-wrap: wrap; justify-content: flex-start; width: 100% }\n",
              "    .wandb-col { display: flex; flex-direction: column; flex-basis: 100%; flex: 1; padding: 10px; }\n",
              "    </style>\n",
              "<div class=\"wandb-row\"><div class=\"wandb-col\"><h3>Run history:</h3><br/><table class=\"wandb\"><tr><td>accuracy</td><td>▁█</td></tr><tr><td>epoch</td><td>▁█</td></tr><tr><td>loss</td><td>█▁</td></tr><tr><td>val_accuracy</td><td>▁█</td></tr><tr><td>val_loss</td><td>█▁</td></tr></table><br/></div><div class=\"wandb-col\"><h3>Run summary:</h3><br/><table class=\"wandb\"><tr><td>accuracy</td><td>0.60878</td></tr><tr><td>best_epoch</td><td>1</td></tr><tr><td>best_val_loss</td><td>0.81778</td></tr><tr><td>epoch</td><td>1</td></tr><tr><td>loss</td><td>1.03326</td></tr><tr><td>val_accuracy</td><td>0.7038</td></tr><tr><td>val_loss</td><td>0.81778</td></tr></table><br/></div></div>"
            ]
          },
          "metadata": {}
        },
        {
          "output_type": "display_data",
          "data": {
            "text/plain": [
              "<IPython.core.display.HTML object>"
            ],
            "text/html": [
              "Synced <strong style=\"color:#cdcd00\">hearty-sweep-44</strong>: <a href=\"https://wandb.ai/amir7d0/fashion_part2/runs/gqunu7on\" target=\"_blank\">https://wandb.ai/amir7d0/fashion_part2/runs/gqunu7on</a><br/>Synced 5 W&B file(s), 73 media file(s), 0 artifact file(s) and 1 other file(s)"
            ]
          },
          "metadata": {}
        },
        {
          "output_type": "display_data",
          "data": {
            "text/plain": [
              "<IPython.core.display.HTML object>"
            ],
            "text/html": [
              "Find logs at: <code>./wandb/run-20220603_080249-gqunu7on/logs</code>"
            ]
          },
          "metadata": {}
        },
        {
          "output_type": "stream",
          "name": "stderr",
          "text": [
            "\u001b[34m\u001b[1mwandb\u001b[0m: Agent Starting Run: ha2zw446 with config:\n",
            "\u001b[34m\u001b[1mwandb\u001b[0m: \tbatch_size: 128\n",
            "\u001b[34m\u001b[1mwandb\u001b[0m: \tdropout: 0.35\n",
            "\u001b[34m\u001b[1mwandb\u001b[0m: \tepochs: 2\n",
            "\u001b[34m\u001b[1mwandb\u001b[0m: \tlearning_rate: 0.06\n"
          ]
        },
        {
          "output_type": "display_data",
          "data": {
            "text/plain": [
              "<IPython.core.display.HTML object>"
            ],
            "text/html": [
              "Tracking run with wandb version 0.12.17"
            ]
          },
          "metadata": {}
        },
        {
          "output_type": "display_data",
          "data": {
            "text/plain": [
              "<IPython.core.display.HTML object>"
            ],
            "text/html": [
              "Run data is saved locally in <code>/content/wandb/run-20220603_080330-ha2zw446</code>"
            ]
          },
          "metadata": {}
        },
        {
          "output_type": "display_data",
          "data": {
            "text/plain": [
              "<IPython.core.display.HTML object>"
            ],
            "text/html": [
              "Syncing run <strong><a href=\"https://wandb.ai/amir7d0/fashion_part2/runs/ha2zw446\" target=\"_blank\">warm-sweep-45</a></strong> to <a href=\"https://wandb.ai/amir7d0/fashion_part2\" target=\"_blank\">Weights & Biases</a> (<a href=\"https://wandb.me/run\" target=\"_blank\">docs</a>)<br/>Sweep page:  <a href=\"https://wandb.ai/amir7d0/fashion_part2/sweeps/urkb8pum\" target=\"_blank\">https://wandb.ai/amir7d0/fashion_part2/sweeps/urkb8pum</a>"
            ]
          },
          "metadata": {}
        },
        {
          "output_type": "stream",
          "name": "stdout",
          "text": [
            "Epoch 1/2\n",
            "469/469 [==============================] - 8s 17ms/step - loss: 0.7877 - accuracy: 0.7220 - val_loss: 0.7108 - val_accuracy: 0.7512 - _timestamp: 1654243426.0000 - _runtime: 16.0000\n",
            "Epoch 2/2\n",
            "469/469 [==============================] - 7s 15ms/step - loss: 0.4879 - accuracy: 0.8187 - val_loss: 0.4062 - val_accuracy: 0.8538 - _timestamp: 1654243434.0000 - _runtime: 24.0000\n"
          ]
        },
        {
          "output_type": "display_data",
          "data": {
            "text/plain": [
              "<IPython.core.display.HTML object>"
            ],
            "text/html": [
              "Waiting for W&B process to finish... <strong style=\"color:green\">(success).</strong>"
            ]
          },
          "metadata": {}
        },
        {
          "output_type": "display_data",
          "data": {
            "text/plain": [
              "VBox(children=(Label(value='3.761 MB of 3.761 MB uploaded (0.000 MB deduped)\\r'), FloatProgress(value=1.0, max…"
            ],
            "application/vnd.jupyter.widget-view+json": {
              "version_major": 2,
              "version_minor": 0,
              "model_id": "25add94da2e647148d3843c890e62387"
            }
          },
          "metadata": {}
        },
        {
          "output_type": "display_data",
          "data": {
            "text/plain": [
              "<IPython.core.display.HTML object>"
            ],
            "text/html": [
              "<style>\n",
              "    table.wandb td:nth-child(1) { padding: 0 10px; text-align: left ; width: auto;} td:nth-child(2) {text-align: left ; width: 100%}\n",
              "    .wandb-row { display: flex; flex-direction: row; flex-wrap: wrap; justify-content: flex-start; width: 100% }\n",
              "    .wandb-col { display: flex; flex-direction: column; flex-basis: 100%; flex: 1; padding: 10px; }\n",
              "    </style>\n",
              "<div class=\"wandb-row\"><div class=\"wandb-col\"><h3>Run history:</h3><br/><table class=\"wandb\"><tr><td>accuracy</td><td>▁█</td></tr><tr><td>epoch</td><td>▁█</td></tr><tr><td>loss</td><td>█▁</td></tr><tr><td>val_accuracy</td><td>▁█</td></tr><tr><td>val_loss</td><td>█▁</td></tr></table><br/></div><div class=\"wandb-col\"><h3>Run summary:</h3><br/><table class=\"wandb\"><tr><td>accuracy</td><td>0.81865</td></tr><tr><td>best_epoch</td><td>1</td></tr><tr><td>best_val_loss</td><td>0.40622</td></tr><tr><td>epoch</td><td>1</td></tr><tr><td>loss</td><td>0.48786</td></tr><tr><td>val_accuracy</td><td>0.8538</td></tr><tr><td>val_loss</td><td>0.40622</td></tr></table><br/></div></div>"
            ]
          },
          "metadata": {}
        },
        {
          "output_type": "display_data",
          "data": {
            "text/plain": [
              "<IPython.core.display.HTML object>"
            ],
            "text/html": [
              "Synced <strong style=\"color:#cdcd00\">warm-sweep-45</strong>: <a href=\"https://wandb.ai/amir7d0/fashion_part2/runs/ha2zw446\" target=\"_blank\">https://wandb.ai/amir7d0/fashion_part2/runs/ha2zw446</a><br/>Synced 5 W&B file(s), 73 media file(s), 0 artifact file(s) and 1 other file(s)"
            ]
          },
          "metadata": {}
        },
        {
          "output_type": "display_data",
          "data": {
            "text/plain": [
              "<IPython.core.display.HTML object>"
            ],
            "text/html": [
              "Find logs at: <code>./wandb/run-20220603_080330-ha2zw446/logs</code>"
            ]
          },
          "metadata": {}
        },
        {
          "output_type": "stream",
          "name": "stderr",
          "text": [
            "\u001b[34m\u001b[1mwandb\u001b[0m: Agent Starting Run: 0ker1dxz with config:\n",
            "\u001b[34m\u001b[1mwandb\u001b[0m: \tbatch_size: 128\n",
            "\u001b[34m\u001b[1mwandb\u001b[0m: \tdropout: 0.5\n",
            "\u001b[34m\u001b[1mwandb\u001b[0m: \tepochs: 2\n",
            "\u001b[34m\u001b[1mwandb\u001b[0m: \tlearning_rate: 0.001\n"
          ]
        },
        {
          "output_type": "display_data",
          "data": {
            "text/plain": [
              "<IPython.core.display.HTML object>"
            ],
            "text/html": [
              "Tracking run with wandb version 0.12.17"
            ]
          },
          "metadata": {}
        },
        {
          "output_type": "display_data",
          "data": {
            "text/plain": [
              "<IPython.core.display.HTML object>"
            ],
            "text/html": [
              "Run data is saved locally in <code>/content/wandb/run-20220603_080411-0ker1dxz</code>"
            ]
          },
          "metadata": {}
        },
        {
          "output_type": "display_data",
          "data": {
            "text/plain": [
              "<IPython.core.display.HTML object>"
            ],
            "text/html": [
              "Syncing run <strong><a href=\"https://wandb.ai/amir7d0/fashion_part2/runs/0ker1dxz\" target=\"_blank\">divine-sweep-46</a></strong> to <a href=\"https://wandb.ai/amir7d0/fashion_part2\" target=\"_blank\">Weights & Biases</a> (<a href=\"https://wandb.me/run\" target=\"_blank\">docs</a>)<br/>Sweep page:  <a href=\"https://wandb.ai/amir7d0/fashion_part2/sweeps/urkb8pum\" target=\"_blank\">https://wandb.ai/amir7d0/fashion_part2/sweeps/urkb8pum</a>"
            ]
          },
          "metadata": {}
        },
        {
          "output_type": "stream",
          "name": "stdout",
          "text": [
            "Epoch 1/2\n",
            "469/469 [==============================] - 8s 16ms/step - loss: 2.6596 - accuracy: 0.2513 - val_loss: 1.6168 - val_accuracy: 0.4054 - _timestamp: 1654243467.0000 - _runtime: 16.0000\n",
            "Epoch 2/2\n",
            "469/469 [==============================] - 7s 15ms/step - loss: 1.6231 - accuracy: 0.4065 - val_loss: 1.2598 - val_accuracy: 0.5272 - _timestamp: 1654243474.0000 - _runtime: 23.0000\n"
          ]
        },
        {
          "output_type": "display_data",
          "data": {
            "text/plain": [
              "<IPython.core.display.HTML object>"
            ],
            "text/html": [
              "Waiting for W&B process to finish... <strong style=\"color:green\">(success).</strong>"
            ]
          },
          "metadata": {}
        },
        {
          "output_type": "display_data",
          "data": {
            "text/plain": [
              "VBox(children=(Label(value='3.761 MB of 3.761 MB uploaded (0.000 MB deduped)\\r'), FloatProgress(value=1.0, max…"
            ],
            "application/vnd.jupyter.widget-view+json": {
              "version_major": 2,
              "version_minor": 0,
              "model_id": "e93a5c204f1e409bb97394557481f0d9"
            }
          },
          "metadata": {}
        },
        {
          "output_type": "display_data",
          "data": {
            "text/plain": [
              "<IPython.core.display.HTML object>"
            ],
            "text/html": [
              "<style>\n",
              "    table.wandb td:nth-child(1) { padding: 0 10px; text-align: left ; width: auto;} td:nth-child(2) {text-align: left ; width: 100%}\n",
              "    .wandb-row { display: flex; flex-direction: row; flex-wrap: wrap; justify-content: flex-start; width: 100% }\n",
              "    .wandb-col { display: flex; flex-direction: column; flex-basis: 100%; flex: 1; padding: 10px; }\n",
              "    </style>\n",
              "<div class=\"wandb-row\"><div class=\"wandb-col\"><h3>Run history:</h3><br/><table class=\"wandb\"><tr><td>accuracy</td><td>▁█</td></tr><tr><td>epoch</td><td>▁█</td></tr><tr><td>loss</td><td>█▁</td></tr><tr><td>val_accuracy</td><td>▁█</td></tr><tr><td>val_loss</td><td>█▁</td></tr></table><br/></div><div class=\"wandb-col\"><h3>Run summary:</h3><br/><table class=\"wandb\"><tr><td>accuracy</td><td>0.40645</td></tr><tr><td>best_epoch</td><td>1</td></tr><tr><td>best_val_loss</td><td>1.2598</td></tr><tr><td>epoch</td><td>1</td></tr><tr><td>loss</td><td>1.62313</td></tr><tr><td>val_accuracy</td><td>0.5272</td></tr><tr><td>val_loss</td><td>1.2598</td></tr></table><br/></div></div>"
            ]
          },
          "metadata": {}
        },
        {
          "output_type": "display_data",
          "data": {
            "text/plain": [
              "<IPython.core.display.HTML object>"
            ],
            "text/html": [
              "Synced <strong style=\"color:#cdcd00\">divine-sweep-46</strong>: <a href=\"https://wandb.ai/amir7d0/fashion_part2/runs/0ker1dxz\" target=\"_blank\">https://wandb.ai/amir7d0/fashion_part2/runs/0ker1dxz</a><br/>Synced 5 W&B file(s), 73 media file(s), 0 artifact file(s) and 1 other file(s)"
            ]
          },
          "metadata": {}
        },
        {
          "output_type": "display_data",
          "data": {
            "text/plain": [
              "<IPython.core.display.HTML object>"
            ],
            "text/html": [
              "Find logs at: <code>./wandb/run-20220603_080411-0ker1dxz/logs</code>"
            ]
          },
          "metadata": {}
        },
        {
          "output_type": "stream",
          "name": "stderr",
          "text": [
            "\u001b[34m\u001b[1mwandb\u001b[0m: Agent Starting Run: qc140d18 with config:\n",
            "\u001b[34m\u001b[1mwandb\u001b[0m: \tbatch_size: 32\n",
            "\u001b[34m\u001b[1mwandb\u001b[0m: \tdropout: 0.35\n",
            "\u001b[34m\u001b[1mwandb\u001b[0m: \tepochs: 10\n",
            "\u001b[34m\u001b[1mwandb\u001b[0m: \tlearning_rate: 0.001\n"
          ]
        },
        {
          "output_type": "display_data",
          "data": {
            "text/plain": [
              "<IPython.core.display.HTML object>"
            ],
            "text/html": [
              "Tracking run with wandb version 0.12.17"
            ]
          },
          "metadata": {}
        },
        {
          "output_type": "display_data",
          "data": {
            "text/plain": [
              "<IPython.core.display.HTML object>"
            ],
            "text/html": [
              "Run data is saved locally in <code>/content/wandb/run-20220603_080452-qc140d18</code>"
            ]
          },
          "metadata": {}
        },
        {
          "output_type": "display_data",
          "data": {
            "text/plain": [
              "<IPython.core.display.HTML object>"
            ],
            "text/html": [
              "Syncing run <strong><a href=\"https://wandb.ai/amir7d0/fashion_part2/runs/qc140d18\" target=\"_blank\">splendid-sweep-47</a></strong> to <a href=\"https://wandb.ai/amir7d0/fashion_part2\" target=\"_blank\">Weights & Biases</a> (<a href=\"https://wandb.me/run\" target=\"_blank\">docs</a>)<br/>Sweep page:  <a href=\"https://wandb.ai/amir7d0/fashion_part2/sweeps/urkb8pum\" target=\"_blank\">https://wandb.ai/amir7d0/fashion_part2/sweeps/urkb8pum</a>"
            ]
          },
          "metadata": {}
        },
        {
          "output_type": "stream",
          "name": "stdout",
          "text": [
            "Epoch 1/10\n",
            "   1/1875 [..............................] - ETA: 15:46 - loss: 4.7066 - accuracy: 0.0938WARNING:tensorflow:Callback method `on_train_batch_end` is slow compared to the batch time (batch time: 0.0034s vs `on_train_batch_end` time: 0.0049s). Check your callbacks.\n",
            "1875/1875 [==============================] - 11s 6ms/step - loss: 1.2123 - accuracy: 0.5777 - val_loss: 0.7108 - val_accuracy: 0.7384 - _timestamp: 1654243510.0000 - _runtime: 18.0000\n",
            "Epoch 2/10\n",
            "1875/1875 [==============================] - 11s 6ms/step - loss: 0.7385 - accuracy: 0.7252 - val_loss: 0.6092 - val_accuracy: 0.7766 - _timestamp: 1654243521.0000 - _runtime: 29.0000\n",
            "Epoch 3/10\n",
            "1875/1875 [==============================] - 11s 6ms/step - loss: 0.6555 - accuracy: 0.7548 - val_loss: 0.5584 - val_accuracy: 0.7974 - _timestamp: 1654243532.0000 - _runtime: 40.0000\n",
            "Epoch 4/10\n",
            "1875/1875 [==============================] - 11s 6ms/step - loss: 0.6003 - accuracy: 0.7761 - val_loss: 0.5230 - val_accuracy: 0.8094 - _timestamp: 1654243543.0000 - _runtime: 51.0000\n",
            "Epoch 5/10\n",
            "1875/1875 [==============================] - 11s 6ms/step - loss: 0.5669 - accuracy: 0.7898 - val_loss: 0.4894 - val_accuracy: 0.8216 - _timestamp: 1654243555.0000 - _runtime: 63.0000\n",
            "Epoch 6/10\n",
            "1875/1875 [==============================] - 11s 6ms/step - loss: 0.5399 - accuracy: 0.7998 - val_loss: 0.4805 - val_accuracy: 0.8250 - _timestamp: 1654243566.0000 - _runtime: 74.0000\n",
            "Epoch 7/10\n",
            "1875/1875 [==============================] - 11s 6ms/step - loss: 0.5185 - accuracy: 0.8077 - val_loss: 0.4644 - val_accuracy: 0.8304 - _timestamp: 1654243577.0000 - _runtime: 85.0000\n",
            "Epoch 8/10\n",
            "1875/1875 [==============================] - 11s 6ms/step - loss: 0.5018 - accuracy: 0.8147 - val_loss: 0.4511 - val_accuracy: 0.8356 - _timestamp: 1654243588.0000 - _runtime: 96.0000\n",
            "Epoch 9/10\n",
            "1875/1875 [==============================] - 11s 6ms/step - loss: 0.4850 - accuracy: 0.8205 - val_loss: 0.4387 - val_accuracy: 0.8400 - _timestamp: 1654243599.0000 - _runtime: 107.0000\n",
            "Epoch 10/10\n",
            "1875/1875 [==============================] - 11s 6ms/step - loss: 0.4735 - accuracy: 0.8247 - val_loss: 0.4202 - val_accuracy: 0.8458 - _timestamp: 1654243610.0000 - _runtime: 118.0000\n"
          ]
        },
        {
          "output_type": "display_data",
          "data": {
            "text/plain": [
              "<IPython.core.display.HTML object>"
            ],
            "text/html": [
              "Waiting for W&B process to finish... <strong style=\"color:green\">(success).</strong>"
            ]
          },
          "metadata": {}
        },
        {
          "output_type": "display_data",
          "data": {
            "text/plain": [
              "VBox(children=(Label(value='3.899 MB of 3.901 MB uploaded (0.000 MB deduped)\\r'), FloatProgress(value=0.999519…"
            ],
            "application/vnd.jupyter.widget-view+json": {
              "version_major": 2,
              "version_minor": 0,
              "model_id": "1692ca71d7d84709abd739a74cc5b484"
            }
          },
          "metadata": {}
        },
        {
          "output_type": "display_data",
          "data": {
            "text/plain": [
              "<IPython.core.display.HTML object>"
            ],
            "text/html": [
              "<style>\n",
              "    table.wandb td:nth-child(1) { padding: 0 10px; text-align: left ; width: auto;} td:nth-child(2) {text-align: left ; width: 100%}\n",
              "    .wandb-row { display: flex; flex-direction: row; flex-wrap: wrap; justify-content: flex-start; width: 100% }\n",
              "    .wandb-col { display: flex; flex-direction: column; flex-basis: 100%; flex: 1; padding: 10px; }\n",
              "    </style>\n",
              "<div class=\"wandb-row\"><div class=\"wandb-col\"><h3>Run history:</h3><br/><table class=\"wandb\"><tr><td>accuracy</td><td>▁▅▆▇▇▇████</td></tr><tr><td>epoch</td><td>▁▂▃▃▄▅▆▆▇█</td></tr><tr><td>loss</td><td>█▄▃▂▂▂▁▁▁▁</td></tr><tr><td>val_accuracy</td><td>▁▃▅▆▆▇▇▇██</td></tr><tr><td>val_loss</td><td>█▆▄▃▃▂▂▂▁▁</td></tr></table><br/></div><div class=\"wandb-col\"><h3>Run summary:</h3><br/><table class=\"wandb\"><tr><td>accuracy</td><td>0.8247</td></tr><tr><td>best_epoch</td><td>9</td></tr><tr><td>best_val_loss</td><td>0.42019</td></tr><tr><td>epoch</td><td>9</td></tr><tr><td>loss</td><td>0.47346</td></tr><tr><td>val_accuracy</td><td>0.8458</td></tr><tr><td>val_loss</td><td>0.42019</td></tr></table><br/></div></div>"
            ]
          },
          "metadata": {}
        },
        {
          "output_type": "display_data",
          "data": {
            "text/plain": [
              "<IPython.core.display.HTML object>"
            ],
            "text/html": [
              "Synced <strong style=\"color:#cdcd00\">splendid-sweep-47</strong>: <a href=\"https://wandb.ai/amir7d0/fashion_part2/runs/qc140d18\" target=\"_blank\">https://wandb.ai/amir7d0/fashion_part2/runs/qc140d18</a><br/>Synced 5 W&B file(s), 361 media file(s), 0 artifact file(s) and 1 other file(s)"
            ]
          },
          "metadata": {}
        },
        {
          "output_type": "display_data",
          "data": {
            "text/plain": [
              "<IPython.core.display.HTML object>"
            ],
            "text/html": [
              "Find logs at: <code>./wandb/run-20220603_080452-qc140d18/logs</code>"
            ]
          },
          "metadata": {}
        },
        {
          "output_type": "stream",
          "name": "stderr",
          "text": [
            "\u001b[34m\u001b[1mwandb\u001b[0m: Agent Starting Run: appvf2gl with config:\n",
            "\u001b[34m\u001b[1mwandb\u001b[0m: \tbatch_size: 128\n",
            "\u001b[34m\u001b[1mwandb\u001b[0m: \tdropout: 0.35\n",
            "\u001b[34m\u001b[1mwandb\u001b[0m: \tepochs: 2\n",
            "\u001b[34m\u001b[1mwandb\u001b[0m: \tlearning_rate: 0.06\n"
          ]
        },
        {
          "output_type": "display_data",
          "data": {
            "text/plain": [
              "<IPython.core.display.HTML object>"
            ],
            "text/html": [
              "Tracking run with wandb version 0.12.17"
            ]
          },
          "metadata": {}
        },
        {
          "output_type": "display_data",
          "data": {
            "text/plain": [
              "<IPython.core.display.HTML object>"
            ],
            "text/html": [
              "Run data is saved locally in <code>/content/wandb/run-20220603_080703-appvf2gl</code>"
            ]
          },
          "metadata": {}
        },
        {
          "output_type": "display_data",
          "data": {
            "text/plain": [
              "<IPython.core.display.HTML object>"
            ],
            "text/html": [
              "Syncing run <strong><a href=\"https://wandb.ai/amir7d0/fashion_part2/runs/appvf2gl\" target=\"_blank\">super-sweep-48</a></strong> to <a href=\"https://wandb.ai/amir7d0/fashion_part2\" target=\"_blank\">Weights & Biases</a> (<a href=\"https://wandb.me/run\" target=\"_blank\">docs</a>)<br/>Sweep page:  <a href=\"https://wandb.ai/amir7d0/fashion_part2/sweeps/urkb8pum\" target=\"_blank\">https://wandb.ai/amir7d0/fashion_part2/sweeps/urkb8pum</a>"
            ]
          },
          "metadata": {}
        },
        {
          "output_type": "stream",
          "name": "stdout",
          "text": [
            "Epoch 1/2\n",
            "469/469 [==============================] - 8s 16ms/step - loss: 0.7119 - accuracy: 0.7491 - val_loss: 0.6026 - val_accuracy: 0.7912 - _timestamp: 1654243639.0000 - _runtime: 16.0000\n",
            "Epoch 2/2\n",
            "469/469 [==============================] - 7s 15ms/step - loss: 0.4623 - accuracy: 0.8277 - val_loss: 0.3937 - val_accuracy: 0.8580 - _timestamp: 1654243646.0000 - _runtime: 23.0000\n"
          ]
        },
        {
          "output_type": "display_data",
          "data": {
            "text/plain": [
              "<IPython.core.display.HTML object>"
            ],
            "text/html": [
              "Waiting for W&B process to finish... <strong style=\"color:green\">(success).</strong>"
            ]
          },
          "metadata": {}
        },
        {
          "output_type": "display_data",
          "data": {
            "text/plain": [
              "VBox(children=(Label(value='3.759 MB of 3.761 MB uploaded (0.000 MB deduped)\\r'), FloatProgress(value=0.999602…"
            ],
            "application/vnd.jupyter.widget-view+json": {
              "version_major": 2,
              "version_minor": 0,
              "model_id": "03e8d1361f6342c090017a26ecef9aa7"
            }
          },
          "metadata": {}
        },
        {
          "output_type": "display_data",
          "data": {
            "text/plain": [
              "<IPython.core.display.HTML object>"
            ],
            "text/html": [
              "<style>\n",
              "    table.wandb td:nth-child(1) { padding: 0 10px; text-align: left ; width: auto;} td:nth-child(2) {text-align: left ; width: 100%}\n",
              "    .wandb-row { display: flex; flex-direction: row; flex-wrap: wrap; justify-content: flex-start; width: 100% }\n",
              "    .wandb-col { display: flex; flex-direction: column; flex-basis: 100%; flex: 1; padding: 10px; }\n",
              "    </style>\n",
              "<div class=\"wandb-row\"><div class=\"wandb-col\"><h3>Run history:</h3><br/><table class=\"wandb\"><tr><td>accuracy</td><td>▁█</td></tr><tr><td>epoch</td><td>▁█</td></tr><tr><td>loss</td><td>█▁</td></tr><tr><td>val_accuracy</td><td>▁█</td></tr><tr><td>val_loss</td><td>█▁</td></tr></table><br/></div><div class=\"wandb-col\"><h3>Run summary:</h3><br/><table class=\"wandb\"><tr><td>accuracy</td><td>0.82773</td></tr><tr><td>best_epoch</td><td>1</td></tr><tr><td>best_val_loss</td><td>0.39366</td></tr><tr><td>epoch</td><td>1</td></tr><tr><td>loss</td><td>0.46227</td></tr><tr><td>val_accuracy</td><td>0.858</td></tr><tr><td>val_loss</td><td>0.39366</td></tr></table><br/></div></div>"
            ]
          },
          "metadata": {}
        },
        {
          "output_type": "display_data",
          "data": {
            "text/plain": [
              "<IPython.core.display.HTML object>"
            ],
            "text/html": [
              "Synced <strong style=\"color:#cdcd00\">super-sweep-48</strong>: <a href=\"https://wandb.ai/amir7d0/fashion_part2/runs/appvf2gl\" target=\"_blank\">https://wandb.ai/amir7d0/fashion_part2/runs/appvf2gl</a><br/>Synced 5 W&B file(s), 73 media file(s), 0 artifact file(s) and 1 other file(s)"
            ]
          },
          "metadata": {}
        },
        {
          "output_type": "display_data",
          "data": {
            "text/plain": [
              "<IPython.core.display.HTML object>"
            ],
            "text/html": [
              "Find logs at: <code>./wandb/run-20220603_080703-appvf2gl/logs</code>"
            ]
          },
          "metadata": {}
        },
        {
          "output_type": "stream",
          "name": "stderr",
          "text": [
            "\u001b[34m\u001b[1mwandb\u001b[0m: Agent Starting Run: kkikk7cg with config:\n",
            "\u001b[34m\u001b[1mwandb\u001b[0m: \tbatch_size: 32\n",
            "\u001b[34m\u001b[1mwandb\u001b[0m: \tdropout: 0.35\n",
            "\u001b[34m\u001b[1mwandb\u001b[0m: \tepochs: 10\n",
            "\u001b[34m\u001b[1mwandb\u001b[0m: \tlearning_rate: 0.06\n"
          ]
        },
        {
          "output_type": "display_data",
          "data": {
            "text/plain": [
              "<IPython.core.display.HTML object>"
            ],
            "text/html": [
              "Tracking run with wandb version 0.12.17"
            ]
          },
          "metadata": {}
        },
        {
          "output_type": "display_data",
          "data": {
            "text/plain": [
              "<IPython.core.display.HTML object>"
            ],
            "text/html": [
              "Run data is saved locally in <code>/content/wandb/run-20220603_080739-kkikk7cg</code>"
            ]
          },
          "metadata": {}
        },
        {
          "output_type": "display_data",
          "data": {
            "text/plain": [
              "<IPython.core.display.HTML object>"
            ],
            "text/html": [
              "Syncing run <strong><a href=\"https://wandb.ai/amir7d0/fashion_part2/runs/kkikk7cg\" target=\"_blank\">restful-sweep-49</a></strong> to <a href=\"https://wandb.ai/amir7d0/fashion_part2\" target=\"_blank\">Weights & Biases</a> (<a href=\"https://wandb.me/run\" target=\"_blank\">docs</a>)<br/>Sweep page:  <a href=\"https://wandb.ai/amir7d0/fashion_part2/sweeps/urkb8pum\" target=\"_blank\">https://wandb.ai/amir7d0/fashion_part2/sweeps/urkb8pum</a>"
            ]
          },
          "metadata": {}
        },
        {
          "output_type": "stream",
          "name": "stdout",
          "text": [
            "Epoch 1/10\n",
            "1875/1875 [==============================] - 12s 6ms/step - loss: 0.6594 - accuracy: 0.7612 - val_loss: 0.4370 - val_accuracy: 0.8430 - _timestamp: 1654243678.0000 - _runtime: 19.0000\n",
            "Epoch 2/10\n",
            "1875/1875 [==============================] - 11s 6ms/step - loss: 0.4505 - accuracy: 0.8357 - val_loss: 0.3927 - val_accuracy: 0.8556 - _timestamp: 1654243690.0000 - _runtime: 31.0000\n",
            "Epoch 3/10\n",
            "1875/1875 [==============================] - 11s 6ms/step - loss: 0.3933 - accuracy: 0.8545 - val_loss: 0.3717 - val_accuracy: 0.8700 - _timestamp: 1654243700.0000 - _runtime: 41.0000\n",
            "Epoch 4/10\n",
            "1875/1875 [==============================] - 11s 6ms/step - loss: 0.3686 - accuracy: 0.8639 - val_loss: 0.3194 - val_accuracy: 0.8820 - _timestamp: 1654243711.0000 - _runtime: 52.0000\n",
            "Epoch 5/10\n",
            "1875/1875 [==============================] - 11s 6ms/step - loss: 0.3420 - accuracy: 0.8725 - val_loss: 0.3189 - val_accuracy: 0.8904 - _timestamp: 1654243722.0000 - _runtime: 63.0000\n",
            "Epoch 6/10\n",
            "1875/1875 [==============================] - 11s 6ms/step - loss: 0.3224 - accuracy: 0.8795 - val_loss: 0.2868 - val_accuracy: 0.8994 - _timestamp: 1654243733.0000 - _runtime: 74.0000\n",
            "Epoch 7/10\n",
            "1875/1875 [==============================] - 11s 6ms/step - loss: 0.3132 - accuracy: 0.8831 - val_loss: 0.2821 - val_accuracy: 0.9006 - _timestamp: 1654243744.0000 - _runtime: 85.0000\n",
            "Epoch 8/10\n",
            "1875/1875 [==============================] - 11s 6ms/step - loss: 0.2990 - accuracy: 0.8900 - val_loss: 0.2992 - val_accuracy: 0.8970 - _timestamp: 1654243755.0000 - _runtime: 96.0000\n",
            "Epoch 9/10\n",
            "1875/1875 [==============================] - 11s 6ms/step - loss: 0.2874 - accuracy: 0.8942 - val_loss: 0.2950 - val_accuracy: 0.9032 - _timestamp: 1654243766.0000 - _runtime: 107.0000\n",
            "Epoch 10/10\n",
            "1875/1875 [==============================] - 11s 6ms/step - loss: 0.2799 - accuracy: 0.8962 - val_loss: 0.2736 - val_accuracy: 0.9084 - _timestamp: 1654243777.0000 - _runtime: 118.0000\n"
          ]
        },
        {
          "output_type": "display_data",
          "data": {
            "text/plain": [
              "<IPython.core.display.HTML object>"
            ],
            "text/html": [
              "Waiting for W&B process to finish... <strong style=\"color:green\">(success).</strong>"
            ]
          },
          "metadata": {}
        },
        {
          "output_type": "display_data",
          "data": {
            "text/plain": [
              "VBox(children=(Label(value='3.900 MB of 3.900 MB uploaded (0.000 MB deduped)\\r'), FloatProgress(value=1.0, max…"
            ],
            "application/vnd.jupyter.widget-view+json": {
              "version_major": 2,
              "version_minor": 0,
              "model_id": "ed1b49ec2cad4e3c978d75b777a80392"
            }
          },
          "metadata": {}
        },
        {
          "output_type": "display_data",
          "data": {
            "text/plain": [
              "<IPython.core.display.HTML object>"
            ],
            "text/html": [
              "<style>\n",
              "    table.wandb td:nth-child(1) { padding: 0 10px; text-align: left ; width: auto;} td:nth-child(2) {text-align: left ; width: 100%}\n",
              "    .wandb-row { display: flex; flex-direction: row; flex-wrap: wrap; justify-content: flex-start; width: 100% }\n",
              "    .wandb-col { display: flex; flex-direction: column; flex-basis: 100%; flex: 1; padding: 10px; }\n",
              "    </style>\n",
              "<div class=\"wandb-row\"><div class=\"wandb-col\"><h3>Run history:</h3><br/><table class=\"wandb\"><tr><td>accuracy</td><td>▁▅▆▆▇▇▇███</td></tr><tr><td>epoch</td><td>▁▂▃▃▄▅▆▆▇█</td></tr><tr><td>loss</td><td>█▄▃▃▂▂▂▁▁▁</td></tr><tr><td>val_accuracy</td><td>▁▂▄▅▆▇▇▇▇█</td></tr><tr><td>val_loss</td><td>█▆▅▃▃▂▁▂▂▁</td></tr></table><br/></div><div class=\"wandb-col\"><h3>Run summary:</h3><br/><table class=\"wandb\"><tr><td>accuracy</td><td>0.89618</td></tr><tr><td>best_epoch</td><td>9</td></tr><tr><td>best_val_loss</td><td>0.27357</td></tr><tr><td>epoch</td><td>9</td></tr><tr><td>loss</td><td>0.27994</td></tr><tr><td>val_accuracy</td><td>0.9084</td></tr><tr><td>val_loss</td><td>0.27357</td></tr></table><br/></div></div>"
            ]
          },
          "metadata": {}
        },
        {
          "output_type": "display_data",
          "data": {
            "text/plain": [
              "<IPython.core.display.HTML object>"
            ],
            "text/html": [
              "Synced <strong style=\"color:#cdcd00\">restful-sweep-49</strong>: <a href=\"https://wandb.ai/amir7d0/fashion_part2/runs/kkikk7cg\" target=\"_blank\">https://wandb.ai/amir7d0/fashion_part2/runs/kkikk7cg</a><br/>Synced 5 W&B file(s), 361 media file(s), 0 artifact file(s) and 1 other file(s)"
            ]
          },
          "metadata": {}
        },
        {
          "output_type": "display_data",
          "data": {
            "text/plain": [
              "<IPython.core.display.HTML object>"
            ],
            "text/html": [
              "Find logs at: <code>./wandb/run-20220603_080739-kkikk7cg/logs</code>"
            ]
          },
          "metadata": {}
        },
        {
          "output_type": "stream",
          "name": "stderr",
          "text": [
            "\u001b[34m\u001b[1mwandb\u001b[0m: Agent Starting Run: o6opfii5 with config:\n",
            "\u001b[34m\u001b[1mwandb\u001b[0m: \tbatch_size: 32\n",
            "\u001b[34m\u001b[1mwandb\u001b[0m: \tdropout: 0.35\n",
            "\u001b[34m\u001b[1mwandb\u001b[0m: \tepochs: 10\n",
            "\u001b[34m\u001b[1mwandb\u001b[0m: \tlearning_rate: 0.0003\n"
          ]
        },
        {
          "output_type": "display_data",
          "data": {
            "text/plain": [
              "<IPython.core.display.HTML object>"
            ],
            "text/html": [
              "Tracking run with wandb version 0.12.17"
            ]
          },
          "metadata": {}
        },
        {
          "output_type": "display_data",
          "data": {
            "text/plain": [
              "<IPython.core.display.HTML object>"
            ],
            "text/html": [
              "Run data is saved locally in <code>/content/wandb/run-20220603_081024-o6opfii5</code>"
            ]
          },
          "metadata": {}
        },
        {
          "output_type": "display_data",
          "data": {
            "text/plain": [
              "<IPython.core.display.HTML object>"
            ],
            "text/html": [
              "Syncing run <strong><a href=\"https://wandb.ai/amir7d0/fashion_part2/runs/o6opfii5\" target=\"_blank\">leafy-sweep-50</a></strong> to <a href=\"https://wandb.ai/amir7d0/fashion_part2\" target=\"_blank\">Weights & Biases</a> (<a href=\"https://wandb.me/run\" target=\"_blank\">docs</a>)<br/>Sweep page:  <a href=\"https://wandb.ai/amir7d0/fashion_part2/sweeps/urkb8pum\" target=\"_blank\">https://wandb.ai/amir7d0/fashion_part2/sweeps/urkb8pum</a>"
            ]
          },
          "metadata": {}
        },
        {
          "output_type": "stream",
          "name": "stdout",
          "text": [
            "Epoch 1/10\n",
            "1875/1875 [==============================] - 12s 6ms/step - loss: 1.7775 - accuracy: 0.4199 - val_loss: 0.9718 - val_accuracy: 0.6826 - _timestamp: 1654243843.0000 - _runtime: 19.0000\n",
            "Epoch 2/10\n",
            "1875/1875 [==============================] - 11s 6ms/step - loss: 1.0517 - accuracy: 0.6166 - val_loss: 0.8197 - val_accuracy: 0.7090 - _timestamp: 1654243854.0000 - _runtime: 30.0000\n",
            "Epoch 3/10\n",
            "1875/1875 [==============================] - 11s 6ms/step - loss: 0.8905 - accuracy: 0.6752 - val_loss: 0.7464 - val_accuracy: 0.7212 - _timestamp: 1654243865.0000 - _runtime: 41.0000\n",
            "Epoch 4/10\n",
            "1875/1875 [==============================] - 11s 6ms/step - loss: 0.8074 - accuracy: 0.7033 - val_loss: 0.6955 - val_accuracy: 0.7386 - _timestamp: 1654243876.0000 - _runtime: 52.0000\n",
            "Epoch 5/10\n",
            "1875/1875 [==============================] - 12s 6ms/step - loss: 0.7570 - accuracy: 0.7217 - val_loss: 0.6619 - val_accuracy: 0.7512 - _timestamp: 1654243888.0000 - _runtime: 64.0000\n",
            "Epoch 6/10\n",
            "1875/1875 [==============================] - 11s 6ms/step - loss: 0.7192 - accuracy: 0.7349 - val_loss: 0.6391 - val_accuracy: 0.7570 - _timestamp: 1654243899.0000 - _runtime: 75.0000\n",
            "Epoch 7/10\n",
            "1875/1875 [==============================] - 11s 6ms/step - loss: 0.6910 - accuracy: 0.7441 - val_loss: 0.6139 - val_accuracy: 0.7686 - _timestamp: 1654243910.0000 - _runtime: 86.0000\n",
            "Epoch 8/10\n",
            "1875/1875 [==============================] - 11s 6ms/step - loss: 0.6699 - accuracy: 0.7513 - val_loss: 0.5978 - val_accuracy: 0.7754 - _timestamp: 1654243921.0000 - _runtime: 97.0000\n",
            "Epoch 9/10\n",
            "1875/1875 [==============================] - 11s 6ms/step - loss: 0.6520 - accuracy: 0.7557 - val_loss: 0.5868 - val_accuracy: 0.7806 - _timestamp: 1654243932.0000 - _runtime: 108.0000\n",
            "Epoch 10/10\n",
            "1875/1875 [==============================] - 11s 6ms/step - loss: 0.6346 - accuracy: 0.7648 - val_loss: 0.5743 - val_accuracy: 0.7820 - _timestamp: 1654243943.0000 - _runtime: 119.0000\n"
          ]
        },
        {
          "output_type": "display_data",
          "data": {
            "text/plain": [
              "<IPython.core.display.HTML object>"
            ],
            "text/html": [
              "Waiting for W&B process to finish... <strong style=\"color:green\">(success).</strong>"
            ]
          },
          "metadata": {}
        },
        {
          "output_type": "display_data",
          "data": {
            "text/plain": [
              "VBox(children=(Label(value='3.897 MB of 3.900 MB uploaded (0.000 MB deduped)\\r'), FloatProgress(value=0.999108…"
            ],
            "application/vnd.jupyter.widget-view+json": {
              "version_major": 2,
              "version_minor": 0,
              "model_id": "8d4eec7257724816ab6217c193249219"
            }
          },
          "metadata": {}
        },
        {
          "output_type": "display_data",
          "data": {
            "text/plain": [
              "<IPython.core.display.HTML object>"
            ],
            "text/html": [
              "<style>\n",
              "    table.wandb td:nth-child(1) { padding: 0 10px; text-align: left ; width: auto;} td:nth-child(2) {text-align: left ; width: 100%}\n",
              "    .wandb-row { display: flex; flex-direction: row; flex-wrap: wrap; justify-content: flex-start; width: 100% }\n",
              "    .wandb-col { display: flex; flex-direction: column; flex-basis: 100%; flex: 1; padding: 10px; }\n",
              "    </style>\n",
              "<div class=\"wandb-row\"><div class=\"wandb-col\"><h3>Run history:</h3><br/><table class=\"wandb\"><tr><td>accuracy</td><td>▁▅▆▇▇▇████</td></tr><tr><td>epoch</td><td>▁▂▃▃▄▅▆▆▇█</td></tr><tr><td>loss</td><td>█▄▃▂▂▂▁▁▁▁</td></tr><tr><td>val_accuracy</td><td>▁▃▄▅▆▆▇███</td></tr><tr><td>val_loss</td><td>█▅▄▃▃▂▂▁▁▁</td></tr></table><br/></div><div class=\"wandb-col\"><h3>Run summary:</h3><br/><table class=\"wandb\"><tr><td>accuracy</td><td>0.7648</td></tr><tr><td>best_epoch</td><td>9</td></tr><tr><td>best_val_loss</td><td>0.57433</td></tr><tr><td>epoch</td><td>9</td></tr><tr><td>loss</td><td>0.63464</td></tr><tr><td>val_accuracy</td><td>0.782</td></tr><tr><td>val_loss</td><td>0.57433</td></tr></table><br/></div></div>"
            ]
          },
          "metadata": {}
        },
        {
          "output_type": "display_data",
          "data": {
            "text/plain": [
              "<IPython.core.display.HTML object>"
            ],
            "text/html": [
              "Synced <strong style=\"color:#cdcd00\">leafy-sweep-50</strong>: <a href=\"https://wandb.ai/amir7d0/fashion_part2/runs/o6opfii5\" target=\"_blank\">https://wandb.ai/amir7d0/fashion_part2/runs/o6opfii5</a><br/>Synced 5 W&B file(s), 361 media file(s), 0 artifact file(s) and 1 other file(s)"
            ]
          },
          "metadata": {}
        },
        {
          "output_type": "display_data",
          "data": {
            "text/plain": [
              "<IPython.core.display.HTML object>"
            ],
            "text/html": [
              "Find logs at: <code>./wandb/run-20220603_081024-o6opfii5/logs</code>"
            ]
          },
          "metadata": {}
        }
      ]
    },
    {
      "cell_type": "code",
      "source": [
        ""
      ],
      "metadata": {
        "id": "j3lBRbnG_ql9"
      },
      "execution_count": null,
      "outputs": []
    },
    {
      "cell_type": "code",
      "source": [
        "def train_best_model():\n",
        "    best_config = {\n",
        "        'epochs': 20,\n",
        "        'batch_size': 32,\n",
        "        'learning_rate': 3e-4,\n",
        "        'optimizer': 'adam',\n",
        "        'dropout': 0.35,\n",
        "    }    \n",
        "    config = SimpleNamespace(**best_config)\n",
        "    \n",
        "    \n",
        "    input = layers.Input(shape=(img_height, img_width, 1))\n",
        "    x = layers.BatchNormalization()(input)\n",
        "    x = layers.Conv2D(64, (3, 3), padding='same', activation='relu')(x)\n",
        "    x = layers.MaxPooling2D(pool_size=(2, 2), strides=(2,2))(x)\n",
        "    x = layers.Dropout(config.dropout)(x)\n",
        "\n",
        "    x = layers.Conv2D(128, (3, 3), padding='same', activation='relu')(x)\n",
        "    x = layers.MaxPooling2D(pool_size=(2, 2), strides=(2,2))(x)\n",
        "    x = layers.Dropout(config.dropout)(x)\n",
        "\n",
        "    x = layers.Conv2D(256, (3, 3), padding='same', activation='relu')(x)\n",
        "    x = layers.BatchNormalization()(x)\n",
        "    x = layers.MaxPooling2D(pool_size=(2, 2))(x)\n",
        "    x = layers.Dropout(config.dropout)(x)\n",
        "\n",
        "    x = layers.Flatten()(x)\n",
        "    x = layers.Dense(256)(x)\n",
        "    x = layers.Activation('relu')(x)\n",
        "    x = layers.Dropout(config.dropout)(x)\n",
        "    output = layers.Dense(10, activation='softmax')(x)\n",
        "\n",
        "    model = Model(input, output, name='fashion_model2')\n",
        "    \n",
        "    \n",
        "    # Define the optimizer\n",
        "    if config.optimizer=='sgd':\n",
        "      optimizer = SGD(lr=config.learning_rate)\n",
        "    elif config.optimizer=='rmsprop':\n",
        "      optimizer = RMSprop(lr=config.learning_rate, decay=1e-5)\n",
        "    elif config.optimizer=='adam':\n",
        "      optimizer = Adam(learning_rate=config.learning_rate, beta_1=0.9, beta_2=0.999, clipnorm=1.0)\n",
        "    elif config.optimizer=='nadam':\n",
        "      optimizer = Nadam(lr=config.learning_rate, beta_1=0.9, beta_2=0.999, clipnorm=1.0)\n",
        "    else:\n",
        "      optimizer = SGD(lr=config.learning_rate)\n",
        "\n",
        "    model.compile(loss=\"categorical_crossentropy\", optimizer=optimizer, metrics=['accuracy'])\n",
        "\n",
        "    model.fit(x_train, y_train, batch_size=config.batch_size,\n",
        "              epochs=config.epochs,\n",
        "              validation_data=(x_val, y_val),\n",
        "            #   callbacks=[WandbCallback(data_type=\"image\", \n",
        "                                    #    validation_data=(x_val, y_val), \n",
        "                                    #    labels=labels,\n",
        "                                    #    )]\n",
        "    )\n",
        "\n",
        "    scores = model.evaluate(x_test, y_test, batch_size=64, verbose=2)\n",
        "    return scores\n",
        "\n",
        "train_best_model()"
      ],
      "metadata": {
        "colab": {
          "base_uri": "https://localhost:8080/"
        },
        "id": "G8Hkv_3Z_ql-",
        "outputId": "23d3d4bf-b162-4272-8f54-caee6ad13809"
      },
      "execution_count": null,
      "outputs": [
        {
          "output_type": "stream",
          "name": "stdout",
          "text": [
            "Epoch 1/20\n",
            "1875/1875 [==============================] - 11s 5ms/step - loss: 0.6304 - accuracy: 0.7705 - val_loss: 0.3889 - val_accuracy: 0.8624\n",
            "Epoch 2/20\n",
            "1875/1875 [==============================] - 10s 5ms/step - loss: 0.3867 - accuracy: 0.8597 - val_loss: 0.3070 - val_accuracy: 0.8974\n",
            "Epoch 3/20\n",
            "1875/1875 [==============================] - 10s 5ms/step - loss: 0.3255 - accuracy: 0.8804 - val_loss: 0.2942 - val_accuracy: 0.8930\n",
            "Epoch 4/20\n",
            "1875/1875 [==============================] - 10s 5ms/step - loss: 0.3010 - accuracy: 0.8902 - val_loss: 0.2744 - val_accuracy: 0.9028\n",
            "Epoch 5/20\n",
            "1875/1875 [==============================] - 10s 5ms/step - loss: 0.2808 - accuracy: 0.8974 - val_loss: 0.2594 - val_accuracy: 0.9068\n",
            "Epoch 6/20\n",
            "1875/1875 [==============================] - 10s 5ms/step - loss: 0.2650 - accuracy: 0.9034 - val_loss: 0.2552 - val_accuracy: 0.9066\n",
            "Epoch 7/20\n",
            "1875/1875 [==============================] - 10s 5ms/step - loss: 0.2548 - accuracy: 0.9076 - val_loss: 0.2509 - val_accuracy: 0.9086\n",
            "Epoch 8/20\n",
            "1875/1875 [==============================] - 10s 5ms/step - loss: 0.2463 - accuracy: 0.9093 - val_loss: 0.2437 - val_accuracy: 0.9140\n",
            "Epoch 9/20\n",
            "1875/1875 [==============================] - 10s 5ms/step - loss: 0.2375 - accuracy: 0.9139 - val_loss: 0.2258 - val_accuracy: 0.9234\n",
            "Epoch 10/20\n",
            "1875/1875 [==============================] - 10s 5ms/step - loss: 0.2321 - accuracy: 0.9156 - val_loss: 0.2362 - val_accuracy: 0.9166\n",
            "Epoch 11/20\n",
            "1875/1875 [==============================] - 10s 5ms/step - loss: 0.2258 - accuracy: 0.9176 - val_loss: 0.2312 - val_accuracy: 0.9174\n",
            "Epoch 12/20\n",
            "1875/1875 [==============================] - 10s 5ms/step - loss: 0.2199 - accuracy: 0.9192 - val_loss: 0.2229 - val_accuracy: 0.9190\n",
            "Epoch 13/20\n",
            "1875/1875 [==============================] - 10s 5ms/step - loss: 0.2145 - accuracy: 0.9218 - val_loss: 0.2202 - val_accuracy: 0.9238\n",
            "Epoch 14/20\n",
            "1875/1875 [==============================] - 10s 5ms/step - loss: 0.2100 - accuracy: 0.9237 - val_loss: 0.2283 - val_accuracy: 0.9240\n",
            "Epoch 15/20\n",
            "1875/1875 [==============================] - 10s 5ms/step - loss: 0.2052 - accuracy: 0.9249 - val_loss: 0.2175 - val_accuracy: 0.9292\n",
            "Epoch 16/20\n",
            "1875/1875 [==============================] - 10s 5ms/step - loss: 0.2040 - accuracy: 0.9246 - val_loss: 0.2258 - val_accuracy: 0.9268\n",
            "Epoch 17/20\n",
            "1875/1875 [==============================] - 10s 5ms/step - loss: 0.1983 - accuracy: 0.9272 - val_loss: 0.2208 - val_accuracy: 0.9284\n",
            "Epoch 18/20\n",
            "1875/1875 [==============================] - 10s 5ms/step - loss: 0.1961 - accuracy: 0.9282 - val_loss: 0.2235 - val_accuracy: 0.9254\n",
            "Epoch 19/20\n",
            "1875/1875 [==============================] - 12s 6ms/step - loss: 0.1927 - accuracy: 0.9280 - val_loss: 0.2152 - val_accuracy: 0.9270\n",
            "Epoch 20/20\n",
            "1875/1875 [==============================] - 11s 6ms/step - loss: 0.1903 - accuracy: 0.9295 - val_loss: 0.2155 - val_accuracy: 0.9272\n",
            "79/79 - 0s - loss: 0.2120 - accuracy: 0.9234 - 286ms/epoch - 4ms/step\n"
          ]
        },
        {
          "output_type": "execute_result",
          "data": {
            "text/plain": [
              "[0.2119612991809845, 0.9233999848365784]"
            ]
          },
          "metadata": {},
          "execution_count": 6
        }
      ]
    },
    {
      "cell_type": "code",
      "source": [
        "# test loss: 0.22, test accuracy: 0.92"
      ],
      "metadata": {
        "id": "2y9ULzNoRLB_"
      },
      "execution_count": null,
      "outputs": []
    },
    {
      "cell_type": "code",
      "source": [
        ""
      ],
      "metadata": {
        "id": "LEah195kRK-z"
      },
      "execution_count": null,
      "outputs": []
    },
    {
      "cell_type": "code",
      "source": [
        ""
      ],
      "metadata": {
        "id": "dJAed_sWRK8s"
      },
      "execution_count": null,
      "outputs": []
    },
    {
      "cell_type": "code",
      "source": [
        ""
      ],
      "metadata": {
        "id": "hjgFzZsWRK6Q"
      },
      "execution_count": null,
      "outputs": []
    },
    {
      "cell_type": "markdown",
      "source": [
        "# Part Two"
      ],
      "metadata": {
        "id": "hkPs4GHBnHlf"
      }
    },
    {
      "cell_type": "code",
      "source": [
        "x_train2 = np.repeat(x_train, 3, -1)\n",
        "x_test2 = np.repeat(x_test, 3, -1)\n",
        "x_val2 = np.repeat(x_val, 3, -1)"
      ],
      "metadata": {
        "id": "SDHMa-SoYSvR"
      },
      "execution_count": null,
      "outputs": []
    },
    {
      "cell_type": "code",
      "metadata": {
        "trusted": true,
        "id": "KrAEXcZ7U2v0"
      },
      "source": [
        "%%capture\n",
        "!pip3 install wandb\n",
        "import wandb\n",
        "from wandb.keras import WandbCallback"
      ],
      "execution_count": null,
      "outputs": []
    },
    {
      "cell_type": "markdown",
      "source": [
        "## 1) finetune"
      ],
      "metadata": {
        "id": "id4N1toXnKII"
      }
    },
    {
      "cell_type": "code",
      "metadata": {
        "id": "24zSn6aeU2v1"
      },
      "source": [
        "sweep_config = {\n",
        "    'method': 'grid',\n",
        "    'metric': {\n",
        "      'name': 'accuracy',\n",
        "      'goal': 'maximize'   \n",
        "    },\n",
        "    'parameters': {\n",
        "        'learning_rate': {\n",
        "            'values': [1e-2, 3e-2, 6e-2, 1e-3, 3e-4]\n",
        "        }\n",
        "    }\n",
        "}"
      ],
      "execution_count": null,
      "outputs": []
    },
    {
      "cell_type": "code",
      "metadata": {
        "colab": {
          "base_uri": "https://localhost:8080/"
        },
        "outputId": "2623dc22-8f9e-499a-9a70-dbcaadbf0816",
        "id": "J6tnlOwJU2v2"
      },
      "source": [
        "sweep_id = wandb.sweep(sweep_config, entity=\"amir7d0\", project=\"fashion_finetuning\")"
      ],
      "execution_count": null,
      "outputs": [
        {
          "output_type": "stream",
          "name": "stdout",
          "text": [
            "Create sweep with ID: qlhzl1gl\n",
            "Sweep URL: https://wandb.ai/amir7d0/fashion_finetuning/sweeps/qlhzl1gl\n"
          ]
        }
      ]
    },
    {
      "cell_type": "code",
      "metadata": {
        "trusted": true,
        "id": "o63I3WdLU2v3"
      },
      "source": [
        "def train():\n",
        "    config_defaults = {\n",
        "        'learning_rate': 1e-3\n",
        "    }\n",
        "    wandb.init(config=config_defaults)\n",
        "    config = wandb.config\n",
        "    \n",
        "    from keras.applications.inception_v3 import InceptionV3\n",
        "    inc_model = InceptionV3(include_top=False, weights='imagenet')\n",
        "\n",
        "    for layer in inc_model.layers:\n",
        "        layer.trainable = True\n",
        "\n",
        "    input = layers.Input(shape=(img_height, img_width, 3))\n",
        "    x = layers.ZeroPadding2D(padding=(160-28)//2+1)(input)\n",
        "    x = inc_model(x)\n",
        "    x = layers.GlobalAveragePooling2D()(x)\n",
        "    x = layers.Dense(512, activation='relu')(x)\n",
        "    x = layers.Dropout(0.2)(x)\n",
        "    output = layers.Dense(10, activation='softmax')(x)\n",
        "\n",
        "    model = Model(inputs=input, outputs=output, name='fashion_finetuning')\n",
        "    \n",
        "    optimizer = Adam(learning_rate=config.learning_rate, beta_1=0.9, beta_2=0.999, clipnorm=1.0)\n",
        "    model.compile(loss=\"categorical_crossentropy\", optimizer=optimizer, metrics=['accuracy'])\n",
        "\n",
        "    model.fit(x_train2, y_train, batch_size=64,\n",
        "              epochs=10,\n",
        "              validation_data=(x_val2, y_val),\n",
        "              callbacks=[WandbCallback(data_type=\"image\", validation_data=(x_val2, y_val), labels=labels)]\n",
        "    )\n",
        "             "
      ],
      "execution_count": null,
      "outputs": []
    },
    {
      "cell_type": "code",
      "metadata": {
        "id": "qmrkyZVGU2v4",
        "colab": {
          "base_uri": "https://localhost:8080/",
          "height": 1000,
          "referenced_widgets": [
            "6e434df155cb41d09e631ca5b766edba",
            "012b09e9a4aa4f48a33d45593752b04e",
            "8e603959cde043608eb8cecf060d2d41",
            "d67dfcdd166b4ecfa9250065c656c858",
            "70b717e6439c408b960bc3c220ae4916",
            "5dcb09f7894f493ab4650ac165355353",
            "d5f4ea337e84434eb495671423211bcb",
            "9b2d7bce2a38499287a7b99630ac84cd",
            "18a6493ff79b4522bf115c8eada83a66",
            "9b0c0c05d7eb40588a49e9dc01855874",
            "b828532010f5445bad1d8b653b2131f4",
            "5a0e9cb6aa6148049084cbba1bc51457",
            "65fb59d3d2fd4986846a5951f35c0f88",
            "a2690ddec14b441da4e963d6ef98a7d3",
            "64667668011b450c9004cc386d4ddb94",
            "f03a0a8791d84508827fee72ca1fe862",
            "383e245d1ea243babe57449dd1c082f5",
            "22959757d2f74bc6922de943da833bac",
            "c0d4e993794046a0be82d9ffa42f7f77",
            "e2b7a28f841c41d5851d4e055a969901",
            "efd88b07174e46b3991bb5f621d3ed5f",
            "f379df71656a43cba83984d1a65ae182",
            "1dda3fa7dd904ac78069291127ceb75d",
            "30cd1c1562d848e7b536e2f1a819dcb5",
            "5c4500f284b54c66880745b74648c706",
            "44e415be566c4166acdbdad433376b3e",
            "91661d8983ce4536aa312f7aad2178c6",
            "e3ec21ef2a2b4cd59d3b7b15247265d9",
            "1fff88697966452498a800566a353fc1",
            "580a49e32fa9456e802f267b03ff4b56",
            "cc4fab4beaf04b4dbe740e3beca603d1",
            "34ab0ab6cd434c4c81d8604ca0c68a5f",
            "743b02da41514953810e751c8cccea91",
            "9f15d79ccc294af98fbe218513ced6ba",
            "91dc90e1322b4b199640aa70b21e9465",
            "97c377122f6341838f1113c75d5f532e",
            "5f46a297c6254b9bac7437f4ccff9ab7",
            "d60d832929a9473bae61caa08221f4d0",
            "3aa98e1eea18426bb50c6ed7940f623d",
            "a07d0d93596041929d578a6092dd0c8c"
          ]
        },
        "outputId": "ba19a270-eff9-43a4-9883-71363ac623cf"
      },
      "source": [
        "wandb.agent(sweep_id, train)"
      ],
      "execution_count": null,
      "outputs": [
        {
          "metadata": {
            "tags": null
          },
          "name": "stderr",
          "output_type": "stream",
          "text": [
            "\u001b[34m\u001b[1mwandb\u001b[0m: Agent Starting Run: ccw6e3yq with config:\n",
            "\u001b[34m\u001b[1mwandb\u001b[0m: \tlearning_rate: 0.01\n"
          ]
        },
        {
          "data": {
            "text/html": [
              "Tracking run with wandb version 0.12.17"
            ],
            "text/plain": [
              "<IPython.core.display.HTML object>"
            ]
          },
          "metadata": {},
          "output_type": "display_data"
        },
        {
          "data": {
            "text/html": [
              "Run data is saved locally in <code>/content/wandb/run-20220602_123652-ccw6e3yq</code>"
            ],
            "text/plain": [
              "<IPython.core.display.HTML object>"
            ]
          },
          "metadata": {},
          "output_type": "display_data"
        },
        {
          "data": {
            "text/html": [
              "Syncing run <strong><a href=\"https://wandb.ai/amir7d0/fashion_finetuning/runs/ccw6e3yq\" target=\"_blank\">smart-sweep-1</a></strong> to <a href=\"https://wandb.ai/amir7d0/fashion_finetuning\" target=\"_blank\">Weights & Biases</a> (<a href=\"https://wandb.me/run\" target=\"_blank\">docs</a>)<br/>Sweep page:  <a href=\"https://wandb.ai/amir7d0/fashion_finetuning/sweeps/qlhzl1gl\" target=\"_blank\">https://wandb.ai/amir7d0/fashion_finetuning/sweeps/qlhzl1gl</a>"
            ],
            "text/plain": [
              "<IPython.core.display.HTML object>"
            ]
          },
          "metadata": {},
          "output_type": "display_data"
        },
        {
          "metadata": {
            "tags": null
          },
          "name": "stdout",
          "output_type": "stream",
          "text": [
            "Epoch 1/10\n",
            "938/938 [==============================] - 240s 244ms/step - loss: 1.1864 - accuracy: 0.5451 - val_loss: 202.7421 - val_accuracy: 0.1414 - _timestamp: 1654173661.0000 - _runtime: 249.0000\n",
            "Epoch 2/10\n",
            "938/938 [==============================] - 226s 241ms/step - loss: 0.7253 - accuracy: 0.7278 - val_loss: 0.7325 - val_accuracy: 0.7198 - _timestamp: 1654173887.0000 - _runtime: 475.0000\n",
            "Epoch 3/10\n",
            "938/938 [==============================] - 224s 239ms/step - loss: 0.5971 - accuracy: 0.7841 - val_loss: 0.7872 - val_accuracy: 0.7498 - _timestamp: 1654174113.0000 - _runtime: 701.0000\n",
            "Epoch 4/10\n",
            "938/938 [==============================] - 223s 238ms/step - loss: 0.5097 - accuracy: 0.8288 - val_loss: 42.5649 - val_accuracy: 0.1008 - _timestamp: 1654174336.0000 - _runtime: 924.0000\n",
            "Epoch 5/10\n",
            "938/938 [==============================] - 225s 240ms/step - loss: 0.4627 - accuracy: 0.8417 - val_loss: 0.7229 - val_accuracy: 0.7744 - _timestamp: 1654174559.0000 - _runtime: 1147.0000\n",
            "Epoch 6/10\n",
            "938/938 [==============================] - 225s 239ms/step - loss: 0.4090 - accuracy: 0.8601 - val_loss: 0.5370 - val_accuracy: 0.8156 - _timestamp: 1654174785.0000 - _runtime: 1373.0000\n",
            "Epoch 7/10\n",
            "938/938 [==============================] - 225s 239ms/step - loss: 0.3771 - accuracy: 0.8708 - val_loss: 0.3755 - val_accuracy: 0.8760 - _timestamp: 1654175009.0000 - _runtime: 1597.0000\n",
            "Epoch 8/10\n",
            "938/938 [==============================] - 223s 238ms/step - loss: 0.3442 - accuracy: 0.8820 - val_loss: 0.9684 - val_accuracy: 0.6592 - _timestamp: 1654175234.0000 - _runtime: 1822.0000\n",
            "Epoch 9/10\n",
            "938/938 [==============================] - 223s 238ms/step - loss: 0.3281 - accuracy: 0.8889 - val_loss: 5.9336 - val_accuracy: 0.8150 - _timestamp: 1654175457.0000 - _runtime: 2045.0000\n",
            "Epoch 10/10\n",
            "938/938 [==============================] - 222s 237ms/step - loss: 0.4074 - accuracy: 0.8751 - val_loss: 0.4569 - val_accuracy: 0.8484 - _timestamp: 1654175679.0000 - _runtime: 2267.0000\n"
          ]
        },
        {
          "data": {
            "text/html": [
              "Waiting for W&B process to finish... <strong style=\"color:green\">(success).</strong>"
            ],
            "text/plain": [
              "<IPython.core.display.HTML object>"
            ]
          },
          "metadata": {},
          "output_type": "display_data"
        },
        {
          "data": {
            "application/vnd.jupyter.widget-view+json": {
              "model_id": "6e434df155cb41d09e631ca5b766edba",
              "version_major": 2,
              "version_minor": 0
            },
            "text/plain": [
              "VBox(children=(Label(value='262.711 MB of 262.711 MB uploaded (0.000 MB deduped)\\r'), FloatProgress(value=1.0,…"
            ]
          },
          "metadata": {},
          "output_type": "display_data"
        },
        {
          "data": {
            "text/html": [
              "<style>\n",
              "    table.wandb td:nth-child(1) { padding: 0 10px; text-align: left ; width: auto;} td:nth-child(2) {text-align: left ; width: 100%}\n",
              "    .wandb-row { display: flex; flex-direction: row; flex-wrap: wrap; justify-content: flex-start; width: 100% }\n",
              "    .wandb-col { display: flex; flex-direction: column; flex-basis: 100%; flex: 1; padding: 10px; }\n",
              "    </style>\n",
              "<div class=\"wandb-row\"><div class=\"wandb-col\"><h3>Run history:</h3><br/><table class=\"wandb\"><tr><td>accuracy</td><td>▁▅▆▇▇▇████</td></tr><tr><td>epoch</td><td>▁▂▃▃▄▅▆▆▇█</td></tr><tr><td>loss</td><td>█▄▃▂▂▂▁▁▁▂</td></tr><tr><td>val_accuracy</td><td>▁▇▇▁▇▇█▆▇█</td></tr><tr><td>val_loss</td><td>█▁▁▂▁▁▁▁▁▁</td></tr></table><br/></div><div class=\"wandb-col\"><h3>Run summary:</h3><br/><table class=\"wandb\"><tr><td>accuracy</td><td>0.87505</td></tr><tr><td>best_epoch</td><td>6</td></tr><tr><td>best_val_loss</td><td>0.37545</td></tr><tr><td>epoch</td><td>9</td></tr><tr><td>loss</td><td>0.4074</td></tr><tr><td>val_accuracy</td><td>0.8484</td></tr><tr><td>val_loss</td><td>0.45692</td></tr></table><br/></div></div>"
            ],
            "text/plain": [
              "<IPython.core.display.HTML object>"
            ]
          },
          "metadata": {},
          "output_type": "display_data"
        },
        {
          "data": {
            "text/html": [
              "Synced <strong style=\"color:#cdcd00\">smart-sweep-1</strong>: <a href=\"https://wandb.ai/amir7d0/fashion_finetuning/runs/ccw6e3yq\" target=\"_blank\">https://wandb.ai/amir7d0/fashion_finetuning/runs/ccw6e3yq</a><br/>Synced 5 W&B file(s), 361 media file(s), 0 artifact file(s) and 1 other file(s)"
            ],
            "text/plain": [
              "<IPython.core.display.HTML object>"
            ]
          },
          "metadata": {},
          "output_type": "display_data"
        },
        {
          "data": {
            "text/html": [
              "Find logs at: <code>./wandb/run-20220602_123652-ccw6e3yq/logs</code>"
            ],
            "text/plain": [
              "<IPython.core.display.HTML object>"
            ]
          },
          "metadata": {},
          "output_type": "display_data"
        },
        {
          "metadata": {
            "tags": null
          },
          "name": "stderr",
          "output_type": "stream",
          "text": [
            "\u001b[34m\u001b[1mwandb\u001b[0m: Agent Starting Run: wum2ctlg with config:\n",
            "\u001b[34m\u001b[1mwandb\u001b[0m: \tlearning_rate: 0.03\n"
          ]
        },
        {
          "data": {
            "text/html": [
              "Tracking run with wandb version 0.12.17"
            ],
            "text/plain": [
              "<IPython.core.display.HTML object>"
            ]
          },
          "metadata": {},
          "output_type": "display_data"
        },
        {
          "data": {
            "text/html": [
              "Run data is saved locally in <code>/content/wandb/run-20220602_131455-wum2ctlg</code>"
            ],
            "text/plain": [
              "<IPython.core.display.HTML object>"
            ]
          },
          "metadata": {},
          "output_type": "display_data"
        },
        {
          "data": {
            "text/html": [
              "Syncing run <strong><a href=\"https://wandb.ai/amir7d0/fashion_finetuning/runs/wum2ctlg\" target=\"_blank\">silvery-sweep-2</a></strong> to <a href=\"https://wandb.ai/amir7d0/fashion_finetuning\" target=\"_blank\">Weights & Biases</a> (<a href=\"https://wandb.me/run\" target=\"_blank\">docs</a>)<br/>Sweep page:  <a href=\"https://wandb.ai/amir7d0/fashion_finetuning/sweeps/qlhzl1gl\" target=\"_blank\">https://wandb.ai/amir7d0/fashion_finetuning/sweeps/qlhzl1gl</a>"
            ],
            "text/plain": [
              "<IPython.core.display.HTML object>"
            ]
          },
          "metadata": {},
          "output_type": "display_data"
        },
        {
          "metadata": {
            "tags": null
          },
          "name": "stdout",
          "output_type": "stream",
          "text": [
            "Epoch 1/10\n",
            "938/938 [==============================] - 232s 236ms/step - loss: 2.3974 - accuracy: 0.0978 - val_loss: 2.3051 - val_accuracy: 0.0956 - _timestamp: 1654175936.0000 - _runtime: 241.0000\n",
            "Epoch 2/10\n",
            "938/938 [==============================] - 215s 229ms/step - loss: 2.3054 - accuracy: 0.1006 - val_loss: 2.3051 - val_accuracy: 0.0962 - _timestamp: 1654176153.0000 - _runtime: 458.0000\n",
            "Epoch 3/10\n",
            "938/938 [==============================] - 217s 231ms/step - loss: 2.3052 - accuracy: 0.1015 - val_loss: 2.3043 - val_accuracy: 0.1008 - _timestamp: 1654176368.0000 - _runtime: 673.0000\n",
            "Epoch 4/10\n",
            "938/938 [==============================] - 217s 231ms/step - loss: 2.3056 - accuracy: 0.1005 - val_loss: 2.3032 - val_accuracy: 0.1044 - _timestamp: 1654176585.0000 - _runtime: 890.0000\n",
            "Epoch 5/10\n",
            "938/938 [==============================] - 215s 229ms/step - loss: 2.3054 - accuracy: 0.1021 - val_loss: 2.3080 - val_accuracy: 0.1016 - _timestamp: 1654176802.0000 - _runtime: 1107.0000\n",
            "Epoch 6/10\n",
            "938/938 [==============================] - 215s 229ms/step - loss: 2.3055 - accuracy: 0.0993 - val_loss: 2.3052 - val_accuracy: 0.1016 - _timestamp: 1654177017.0000 - _runtime: 1322.0000\n",
            "Epoch 7/10\n",
            "938/938 [==============================] - 215s 229ms/step - loss: 2.3054 - accuracy: 0.1004 - val_loss: 2.3043 - val_accuracy: 0.1020 - _timestamp: 1654177232.0000 - _runtime: 1537.0000\n",
            "Epoch 8/10\n",
            "938/938 [==============================] - 215s 229ms/step - loss: 2.3056 - accuracy: 0.0975 - val_loss: 2.3059 - val_accuracy: 0.0956 - _timestamp: 1654177447.0000 - _runtime: 1752.0000\n",
            "Epoch 9/10\n",
            "938/938 [==============================] - 215s 229ms/step - loss: 2.3055 - accuracy: 0.0985 - val_loss: 2.3052 - val_accuracy: 0.1020 - _timestamp: 1654177662.0000 - _runtime: 1967.0000\n",
            "Epoch 10/10\n",
            "938/938 [==============================] - 215s 229ms/step - loss: 2.3057 - accuracy: 0.0975 - val_loss: 2.3066 - val_accuracy: 0.1020 - _timestamp: 1654177876.0000 - _runtime: 2181.0000\n"
          ]
        },
        {
          "data": {
            "text/html": [
              "Waiting for W&B process to finish... <strong style=\"color:green\">(success).</strong>"
            ],
            "text/plain": [
              "<IPython.core.display.HTML object>"
            ]
          },
          "metadata": {},
          "output_type": "display_data"
        },
        {
          "data": {
            "application/vnd.jupyter.widget-view+json": {
              "model_id": "18a6493ff79b4522bf115c8eada83a66",
              "version_major": 2,
              "version_minor": 0
            },
            "text/plain": [
              "VBox(children=(Label(value='262.709 MB of 262.709 MB uploaded (0.000 MB deduped)\\r'), FloatProgress(value=1.0,…"
            ]
          },
          "metadata": {},
          "output_type": "display_data"
        },
        {
          "data": {
            "text/html": [
              "<style>\n",
              "    table.wandb td:nth-child(1) { padding: 0 10px; text-align: left ; width: auto;} td:nth-child(2) {text-align: left ; width: 100%}\n",
              "    .wandb-row { display: flex; flex-direction: row; flex-wrap: wrap; justify-content: flex-start; width: 100% }\n",
              "    .wandb-col { display: flex; flex-direction: column; flex-basis: 100%; flex: 1; padding: 10px; }\n",
              "    </style>\n",
              "<div class=\"wandb-row\"><div class=\"wandb-col\"><h3>Run history:</h3><br/><table class=\"wandb\"><tr><td>accuracy</td><td>▂▆▇▅█▄▅▁▃▁</td></tr><tr><td>epoch</td><td>▁▂▃▃▄▅▆▆▇█</td></tr><tr><td>loss</td><td>█▁▁▁▁▁▁▁▁▁</td></tr><tr><td>val_accuracy</td><td>▁▁▅█▆▆▆▁▆▆</td></tr><tr><td>val_loss</td><td>▄▄▂▁█▄▃▅▄▆</td></tr></table><br/></div><div class=\"wandb-col\"><h3>Run summary:</h3><br/><table class=\"wandb\"><tr><td>accuracy</td><td>0.09747</td></tr><tr><td>best_epoch</td><td>3</td></tr><tr><td>best_val_loss</td><td>2.30324</td></tr><tr><td>epoch</td><td>9</td></tr><tr><td>loss</td><td>2.30572</td></tr><tr><td>val_accuracy</td><td>0.102</td></tr><tr><td>val_loss</td><td>2.30656</td></tr></table><br/></div></div>"
            ],
            "text/plain": [
              "<IPython.core.display.HTML object>"
            ]
          },
          "metadata": {},
          "output_type": "display_data"
        },
        {
          "data": {
            "text/html": [
              "Synced <strong style=\"color:#cdcd00\">silvery-sweep-2</strong>: <a href=\"https://wandb.ai/amir7d0/fashion_finetuning/runs/wum2ctlg\" target=\"_blank\">https://wandb.ai/amir7d0/fashion_finetuning/runs/wum2ctlg</a><br/>Synced 5 W&B file(s), 361 media file(s), 0 artifact file(s) and 1 other file(s)"
            ],
            "text/plain": [
              "<IPython.core.display.HTML object>"
            ]
          },
          "metadata": {},
          "output_type": "display_data"
        },
        {
          "data": {
            "text/html": [
              "Find logs at: <code>./wandb/run-20220602_131455-wum2ctlg/logs</code>"
            ],
            "text/plain": [
              "<IPython.core.display.HTML object>"
            ]
          },
          "metadata": {},
          "output_type": "display_data"
        },
        {
          "metadata": {
            "tags": null
          },
          "name": "stderr",
          "output_type": "stream",
          "text": [
            "\u001b[34m\u001b[1mwandb\u001b[0m: Agent Starting Run: 0nhnc3qk with config:\n",
            "\u001b[34m\u001b[1mwandb\u001b[0m: \tlearning_rate: 0.06\n"
          ]
        },
        {
          "data": {
            "text/html": [
              "Tracking run with wandb version 0.12.17"
            ],
            "text/plain": [
              "<IPython.core.display.HTML object>"
            ]
          },
          "metadata": {},
          "output_type": "display_data"
        },
        {
          "data": {
            "text/html": [
              "Run data is saved locally in <code>/content/wandb/run-20220602_135149-0nhnc3qk</code>"
            ],
            "text/plain": [
              "<IPython.core.display.HTML object>"
            ]
          },
          "metadata": {},
          "output_type": "display_data"
        },
        {
          "data": {
            "text/html": [
              "Syncing run <strong><a href=\"https://wandb.ai/amir7d0/fashion_finetuning/runs/0nhnc3qk\" target=\"_blank\">golden-sweep-3</a></strong> to <a href=\"https://wandb.ai/amir7d0/fashion_finetuning\" target=\"_blank\">Weights & Biases</a> (<a href=\"https://wandb.me/run\" target=\"_blank\">docs</a>)<br/>Sweep page:  <a href=\"https://wandb.ai/amir7d0/fashion_finetuning/sweeps/qlhzl1gl\" target=\"_blank\">https://wandb.ai/amir7d0/fashion_finetuning/sweeps/qlhzl1gl</a>"
            ],
            "text/plain": [
              "<IPython.core.display.HTML object>"
            ]
          },
          "metadata": {},
          "output_type": "display_data"
        },
        {
          "metadata": {
            "tags": null
          },
          "name": "stdout",
          "output_type": "stream",
          "text": [
            "Epoch 1/10\n",
            "938/938 [==============================] - 233s 237ms/step - loss: 2.6688 - accuracy: 0.1017 - val_loss: 2.6332 - val_accuracy: 0.1052 - _timestamp: 1654178151.0000 - _runtime: 242.0000\n",
            "Epoch 2/10\n",
            "938/938 [==============================] - 217s 231ms/step - loss: 2.3084 - accuracy: 0.0988 - val_loss: 2.5830 - val_accuracy: 0.1016 - _timestamp: 1654178367.0000 - _runtime: 458.0000\n",
            "Epoch 3/10\n",
            "938/938 [==============================] - 216s 231ms/step - loss: 2.3079 - accuracy: 0.1006 - val_loss: 2.5309 - val_accuracy: 0.1016 - _timestamp: 1654178584.0000 - _runtime: 675.0000\n",
            "Epoch 4/10\n",
            "938/938 [==============================] - 215s 229ms/step - loss: 2.3080 - accuracy: 0.0987 - val_loss: 2.5542 - val_accuracy: 0.0952 - _timestamp: 1654178801.0000 - _runtime: 892.0000\n",
            "Epoch 5/10\n",
            "938/938 [==============================] - 215s 229ms/step - loss: 2.3080 - accuracy: 0.1005 - val_loss: 2.6106 - val_accuracy: 0.1014 - _timestamp: 1654179016.0000 - _runtime: 1107.0000\n",
            "Epoch 6/10\n",
            "938/938 [==============================] - 215s 229ms/step - loss: 2.3080 - accuracy: 0.0991 - val_loss: 2.5755 - val_accuracy: 0.1016 - _timestamp: 1654179231.0000 - _runtime: 1322.0000\n",
            "Epoch 7/10\n",
            "938/938 [==============================] - 215s 229ms/step - loss: 2.3085 - accuracy: 0.0995 - val_loss: 2.5921 - val_accuracy: 0.0962 - _timestamp: 1654179446.0000 - _runtime: 1537.0000\n",
            "Epoch 8/10\n",
            "938/938 [==============================] - 215s 229ms/step - loss: 2.3080 - accuracy: 0.1014 - val_loss: 2.5794 - val_accuracy: 0.1004 - _timestamp: 1654179661.0000 - _runtime: 1752.0000\n",
            "Epoch 9/10\n",
            "938/938 [==============================] - 215s 229ms/step - loss: 2.3080 - accuracy: 0.0989 - val_loss: 2.6873 - val_accuracy: 0.1054 - _timestamp: 1654179876.0000 - _runtime: 1967.0000\n",
            "Epoch 10/10\n",
            "938/938 [==============================] - 215s 229ms/step - loss: 2.3086 - accuracy: 0.1010 - val_loss: 2.6046 - val_accuracy: 0.0962 - _timestamp: 1654180091.0000 - _runtime: 2182.0000\n"
          ]
        },
        {
          "data": {
            "text/html": [
              "Waiting for W&B process to finish... <strong style=\"color:green\">(success).</strong>"
            ],
            "text/plain": [
              "<IPython.core.display.HTML object>"
            ]
          },
          "metadata": {},
          "output_type": "display_data"
        },
        {
          "data": {
            "application/vnd.jupyter.widget-view+json": {
              "model_id": "383e245d1ea243babe57449dd1c082f5",
              "version_major": 2,
              "version_minor": 0
            },
            "text/plain": [
              "VBox(children=(Label(value='88.036 MB of 88.046 MB uploaded (0.000 MB deduped)\\r'), FloatProgress(value=0.9998…"
            ]
          },
          "metadata": {},
          "output_type": "display_data"
        },
        {
          "data": {
            "text/html": [
              "<style>\n",
              "    table.wandb td:nth-child(1) { padding: 0 10px; text-align: left ; width: auto;} td:nth-child(2) {text-align: left ; width: 100%}\n",
              "    .wandb-row { display: flex; flex-direction: row; flex-wrap: wrap; justify-content: flex-start; width: 100% }\n",
              "    .wandb-col { display: flex; flex-direction: column; flex-basis: 100%; flex: 1; padding: 10px; }\n",
              "    </style>\n",
              "<div class=\"wandb-row\"><div class=\"wandb-col\"><h3>Run history:</h3><br/><table class=\"wandb\"><tr><td>accuracy</td><td>█▁▅▁▅▂▃▇▁▆</td></tr><tr><td>epoch</td><td>▁▂▃▃▄▅▆▆▇█</td></tr><tr><td>loss</td><td>█▁▁▁▁▁▁▁▁▁</td></tr><tr><td>val_accuracy</td><td>█▅▅▁▅▅▂▅█▂</td></tr><tr><td>val_loss</td><td>▆▃▁▂▅▃▄▃█▄</td></tr></table><br/></div><div class=\"wandb-col\"><h3>Run summary:</h3><br/><table class=\"wandb\"><tr><td>accuracy</td><td>0.10095</td></tr><tr><td>best_epoch</td><td>2</td></tr><tr><td>best_val_loss</td><td>2.53088</td></tr><tr><td>epoch</td><td>9</td></tr><tr><td>loss</td><td>2.30863</td></tr><tr><td>val_accuracy</td><td>0.0962</td></tr><tr><td>val_loss</td><td>2.60464</td></tr></table><br/></div></div>"
            ],
            "text/plain": [
              "<IPython.core.display.HTML object>"
            ]
          },
          "metadata": {},
          "output_type": "display_data"
        },
        {
          "data": {
            "text/html": [
              "Synced <strong style=\"color:#cdcd00\">golden-sweep-3</strong>: <a href=\"https://wandb.ai/amir7d0/fashion_finetuning/runs/0nhnc3qk\" target=\"_blank\">https://wandb.ai/amir7d0/fashion_finetuning/runs/0nhnc3qk</a><br/>Synced 5 W&B file(s), 361 media file(s), 0 artifact file(s) and 1 other file(s)"
            ],
            "text/plain": [
              "<IPython.core.display.HTML object>"
            ]
          },
          "metadata": {},
          "output_type": "display_data"
        },
        {
          "data": {
            "text/html": [
              "Find logs at: <code>./wandb/run-20220602_135149-0nhnc3qk/logs</code>"
            ],
            "text/plain": [
              "<IPython.core.display.HTML object>"
            ]
          },
          "metadata": {},
          "output_type": "display_data"
        },
        {
          "metadata": {
            "tags": null
          },
          "name": "stderr",
          "output_type": "stream",
          "text": [
            "\u001b[34m\u001b[1mwandb\u001b[0m: Agent Starting Run: fowpdifh with config:\n",
            "\u001b[34m\u001b[1mwandb\u001b[0m: \tlearning_rate: 0.001\n"
          ]
        },
        {
          "data": {
            "text/html": [
              "Tracking run with wandb version 0.12.17"
            ],
            "text/plain": [
              "<IPython.core.display.HTML object>"
            ]
          },
          "metadata": {},
          "output_type": "display_data"
        },
        {
          "data": {
            "text/html": [
              "Run data is saved locally in <code>/content/wandb/run-20220602_142825-fowpdifh</code>"
            ],
            "text/plain": [
              "<IPython.core.display.HTML object>"
            ]
          },
          "metadata": {},
          "output_type": "display_data"
        },
        {
          "data": {
            "text/html": [
              "Syncing run <strong><a href=\"https://wandb.ai/amir7d0/fashion_finetuning/runs/fowpdifh\" target=\"_blank\">cool-sweep-4</a></strong> to <a href=\"https://wandb.ai/amir7d0/fashion_finetuning\" target=\"_blank\">Weights & Biases</a> (<a href=\"https://wandb.me/run\" target=\"_blank\">docs</a>)<br/>Sweep page:  <a href=\"https://wandb.ai/amir7d0/fashion_finetuning/sweeps/qlhzl1gl\" target=\"_blank\">https://wandb.ai/amir7d0/fashion_finetuning/sweeps/qlhzl1gl</a>"
            ],
            "text/plain": [
              "<IPython.core.display.HTML object>"
            ]
          },
          "metadata": {},
          "output_type": "display_data"
        },
        {
          "metadata": {
            "tags": null
          },
          "name": "stdout",
          "output_type": "stream",
          "text": [
            "Epoch 1/10\n",
            "938/938 [==============================] - 243s 247ms/step - loss: 0.4570 - accuracy: 0.8446 - val_loss: 0.3331 - val_accuracy: 0.8822 - _timestamp: 1654180356.0000 - _runtime: 251.0000\n",
            "Epoch 2/10\n",
            "938/938 [==============================] - 227s 242ms/step - loss: 0.3075 - accuracy: 0.8939 - val_loss: 0.6690 - val_accuracy: 0.8022 - _timestamp: 1654180586.0000 - _runtime: 481.0000\n",
            "Epoch 3/10\n",
            "938/938 [==============================] - 228s 243ms/step - loss: 0.2741 - accuracy: 0.9036 - val_loss: 0.4361 - val_accuracy: 0.8374 - _timestamp: 1654180814.0000 - _runtime: 709.0000\n",
            "Epoch 4/10\n",
            "938/938 [==============================] - 228s 243ms/step - loss: 0.2404 - accuracy: 0.9159 - val_loss: 0.3505 - val_accuracy: 0.8910 - _timestamp: 1654181043.0000 - _runtime: 938.0000\n",
            "Epoch 5/10\n",
            "938/938 [==============================] - 230s 245ms/step - loss: 0.2227 - accuracy: 0.9222 - val_loss: 0.3249 - val_accuracy: 0.9026 - _timestamp: 1654181271.0000 - _runtime: 1166.0000\n",
            "Epoch 6/10\n",
            "938/938 [==============================] - 228s 244ms/step - loss: 0.2228 - accuracy: 0.9229 - val_loss: 1.6315 - val_accuracy: 0.8334 - _timestamp: 1654181501.0000 - _runtime: 1396.0000\n",
            "Epoch 7/10\n",
            "938/938 [==============================] - 230s 245ms/step - loss: 0.1995 - accuracy: 0.9301 - val_loss: 0.2955 - val_accuracy: 0.9102 - _timestamp: 1654181729.0000 - _runtime: 1624.0000\n",
            "Epoch 8/10\n",
            "938/938 [==============================] - 229s 244ms/step - loss: 0.1773 - accuracy: 0.9379 - val_loss: 0.2462 - val_accuracy: 0.9170 - _timestamp: 1654181958.0000 - _runtime: 1853.0000\n",
            "Epoch 9/10\n",
            "938/938 [==============================] - 227s 242ms/step - loss: 0.1645 - accuracy: 0.9415 - val_loss: 0.2867 - val_accuracy: 0.9082 - _timestamp: 1654182187.0000 - _runtime: 2082.0000\n",
            "Epoch 10/10\n",
            "938/938 [==============================] - 229s 244ms/step - loss: 0.1567 - accuracy: 0.9445 - val_loss: 0.2452 - val_accuracy: 0.9164 - _timestamp: 1654182414.0000 - _runtime: 2309.0000\n"
          ]
        },
        {
          "data": {
            "text/html": [
              "Waiting for W&B process to finish... <strong style=\"color:green\">(success).</strong>"
            ],
            "text/plain": [
              "<IPython.core.display.HTML object>"
            ]
          },
          "metadata": {},
          "output_type": "display_data"
        },
        {
          "data": {
            "application/vnd.jupyter.widget-view+json": {
              "model_id": "5c4500f284b54c66880745b74648c706",
              "version_major": 2,
              "version_minor": 0
            },
            "text/plain": [
              "VBox(children=(Label(value='262.710 MB of 262.710 MB uploaded (0.000 MB deduped)\\r'), FloatProgress(value=1.0,…"
            ]
          },
          "metadata": {},
          "output_type": "display_data"
        },
        {
          "data": {
            "text/html": [
              "<style>\n",
              "    table.wandb td:nth-child(1) { padding: 0 10px; text-align: left ; width: auto;} td:nth-child(2) {text-align: left ; width: 100%}\n",
              "    .wandb-row { display: flex; flex-direction: row; flex-wrap: wrap; justify-content: flex-start; width: 100% }\n",
              "    .wandb-col { display: flex; flex-direction: column; flex-basis: 100%; flex: 1; padding: 10px; }\n",
              "    </style>\n",
              "<div class=\"wandb-row\"><div class=\"wandb-col\"><h3>Run history:</h3><br/><table class=\"wandb\"><tr><td>accuracy</td><td>▁▄▅▆▆▆▇███</td></tr><tr><td>epoch</td><td>▁▂▃▃▄▅▆▆▇█</td></tr><tr><td>loss</td><td>█▅▄▃▃▃▂▁▁▁</td></tr><tr><td>val_accuracy</td><td>▆▁▃▆▇▃██▇█</td></tr><tr><td>val_loss</td><td>▁▃▂▂▁█▁▁▁▁</td></tr></table><br/></div><div class=\"wandb-col\"><h3>Run summary:</h3><br/><table class=\"wandb\"><tr><td>accuracy</td><td>0.94453</td></tr><tr><td>best_epoch</td><td>9</td></tr><tr><td>best_val_loss</td><td>0.24523</td></tr><tr><td>epoch</td><td>9</td></tr><tr><td>loss</td><td>0.15669</td></tr><tr><td>val_accuracy</td><td>0.9164</td></tr><tr><td>val_loss</td><td>0.24523</td></tr></table><br/></div></div>"
            ],
            "text/plain": [
              "<IPython.core.display.HTML object>"
            ]
          },
          "metadata": {},
          "output_type": "display_data"
        },
        {
          "data": {
            "text/html": [
              "Synced <strong style=\"color:#cdcd00\">cool-sweep-4</strong>: <a href=\"https://wandb.ai/amir7d0/fashion_finetuning/runs/fowpdifh\" target=\"_blank\">https://wandb.ai/amir7d0/fashion_finetuning/runs/fowpdifh</a><br/>Synced 5 W&B file(s), 361 media file(s), 0 artifact file(s) and 1 other file(s)"
            ],
            "text/plain": [
              "<IPython.core.display.HTML object>"
            ]
          },
          "metadata": {},
          "output_type": "display_data"
        },
        {
          "data": {
            "text/html": [
              "Find logs at: <code>./wandb/run-20220602_142825-fowpdifh/logs</code>"
            ],
            "text/plain": [
              "<IPython.core.display.HTML object>"
            ]
          },
          "metadata": {},
          "output_type": "display_data"
        },
        {
          "metadata": {
            "tags": null
          },
          "name": "stderr",
          "output_type": "stream",
          "text": [
            "\u001b[34m\u001b[1mwandb\u001b[0m: Agent Starting Run: mb2t1be2 with config:\n",
            "\u001b[34m\u001b[1mwandb\u001b[0m: \tlearning_rate: 0.0003\n"
          ]
        },
        {
          "data": {
            "text/html": [
              "Tracking run with wandb version 0.12.17"
            ],
            "text/plain": [
              "<IPython.core.display.HTML object>"
            ]
          },
          "metadata": {},
          "output_type": "display_data"
        },
        {
          "data": {
            "text/html": [
              "Run data is saved locally in <code>/content/wandb/run-20220602_150710-mb2t1be2</code>"
            ],
            "text/plain": [
              "<IPython.core.display.HTML object>"
            ]
          },
          "metadata": {},
          "output_type": "display_data"
        },
        {
          "data": {
            "text/html": [
              "Syncing run <strong><a href=\"https://wandb.ai/amir7d0/fashion_finetuning/runs/mb2t1be2\" target=\"_blank\">splendid-sweep-5</a></strong> to <a href=\"https://wandb.ai/amir7d0/fashion_finetuning\" target=\"_blank\">Weights & Biases</a> (<a href=\"https://wandb.me/run\" target=\"_blank\">docs</a>)<br/>Sweep page:  <a href=\"https://wandb.ai/amir7d0/fashion_finetuning/sweeps/qlhzl1gl\" target=\"_blank\">https://wandb.ai/amir7d0/fashion_finetuning/sweeps/qlhzl1gl</a>"
            ],
            "text/plain": [
              "<IPython.core.display.HTML object>"
            ]
          },
          "metadata": {},
          "output_type": "display_data"
        },
        {
          "output_type": "stream",
          "name": "stdout",
          "text": [
            "Epoch 1/10\n",
            "938/938 [==============================] - 243s 247ms/step - loss: 0.4150 - accuracy: 0.8575 - val_loss: 0.3462 - val_accuracy: 0.8720 - _timestamp: 1654182683.0000 - _runtime: 253.0000\n",
            "Epoch 2/10\n",
            "938/938 [==============================] - 229s 245ms/step - loss: 0.2689 - accuracy: 0.9042 - val_loss: 0.3327 - val_accuracy: 0.8868 - _timestamp: 1654182912.0000 - _runtime: 482.0000\n",
            "Epoch 3/10\n",
            "938/938 [==============================] - 229s 244ms/step - loss: 0.2341 - accuracy: 0.9172 - val_loss: 0.2763 - val_accuracy: 0.9026 - _timestamp: 1654183142.0000 - _runtime: 712.0000\n",
            "Epoch 4/10\n",
            "938/938 [==============================] - 228s 243ms/step - loss: 0.2065 - accuracy: 0.9274 - val_loss: 0.2945 - val_accuracy: 0.9130 - _timestamp: 1654183371.0000 - _runtime: 941.0000\n",
            "Epoch 5/10\n",
            "938/938 [==============================] - 229s 244ms/step - loss: 0.1829 - accuracy: 0.9345 - val_loss: 0.2340 - val_accuracy: 0.9190 - _timestamp: 1654183598.0000 - _runtime: 1168.0000\n",
            "Epoch 6/10\n",
            "938/938 [==============================] - 229s 245ms/step - loss: 0.1648 - accuracy: 0.9413 - val_loss: 0.2197 - val_accuracy: 0.9234 - _timestamp: 1654183827.0000 - _runtime: 1397.0000\n",
            "Epoch 7/10\n",
            "938/938 [==============================] - 228s 243ms/step - loss: 0.1497 - accuracy: 0.9455 - val_loss: 0.2908 - val_accuracy: 0.9016 - _timestamp: 1654184057.0000 - _runtime: 1627.0000\n",
            "Epoch 8/10\n",
            "938/938 [==============================] - 231s 246ms/step - loss: 0.1412 - accuracy: 0.9505 - val_loss: 0.2184 - val_accuracy: 0.9250 - _timestamp: 1654184286.0000 - _runtime: 1856.0000\n",
            "Epoch 9/10\n",
            "938/938 [==============================] - 228s 243ms/step - loss: 0.1209 - accuracy: 0.9565 - val_loss: 0.2229 - val_accuracy: 0.9254 - _timestamp: 1654184516.0000 - _runtime: 2086.0000\n",
            "Epoch 10/10\n",
            "938/938 [==============================] - 228s 243ms/step - loss: 0.1061 - accuracy: 0.9622 - val_loss: 0.2467 - val_accuracy: 0.9214 - _timestamp: 1654184744.0000 - _runtime: 2314.0000\n"
          ]
        },
        {
          "output_type": "display_data",
          "data": {
            "text/plain": [
              "<IPython.core.display.HTML object>"
            ],
            "text/html": [
              "Waiting for W&B process to finish... <strong style=\"color:green\">(success).</strong>"
            ]
          },
          "metadata": {}
        },
        {
          "output_type": "display_data",
          "data": {
            "text/plain": [
              "VBox(children=(Label(value='87.973 MB of 87.975 MB uploaded (0.000 MB deduped)\\r'), FloatProgress(value=0.9999…"
            ],
            "application/vnd.jupyter.widget-view+json": {
              "version_major": 2,
              "version_minor": 0,
              "model_id": "743b02da41514953810e751c8cccea91"
            }
          },
          "metadata": {}
        },
        {
          "output_type": "display_data",
          "data": {
            "text/plain": [
              "<IPython.core.display.HTML object>"
            ],
            "text/html": [
              "<style>\n",
              "    table.wandb td:nth-child(1) { padding: 0 10px; text-align: left ; width: auto;} td:nth-child(2) {text-align: left ; width: 100%}\n",
              "    .wandb-row { display: flex; flex-direction: row; flex-wrap: wrap; justify-content: flex-start; width: 100% }\n",
              "    .wandb-col { display: flex; flex-direction: column; flex-basis: 100%; flex: 1; padding: 10px; }\n",
              "    </style>\n",
              "<div class=\"wandb-row\"><div class=\"wandb-col\"><h3>Run history:</h3><br/><table class=\"wandb\"><tr><td>accuracy</td><td>▁▄▅▆▆▇▇▇██</td></tr><tr><td>epoch</td><td>▁▂▃▃▄▅▆▆▇█</td></tr><tr><td>loss</td><td>█▅▄▃▃▂▂▂▁▁</td></tr><tr><td>val_accuracy</td><td>▁▃▅▆▇█▅██▇</td></tr><tr><td>val_loss</td><td>█▇▄▅▂▁▅▁▁▃</td></tr></table><br/></div><div class=\"wandb-col\"><h3>Run summary:</h3><br/><table class=\"wandb\"><tr><td>accuracy</td><td>0.96223</td></tr><tr><td>best_epoch</td><td>7</td></tr><tr><td>best_val_loss</td><td>0.21843</td></tr><tr><td>epoch</td><td>9</td></tr><tr><td>loss</td><td>0.10615</td></tr><tr><td>val_accuracy</td><td>0.9214</td></tr><tr><td>val_loss</td><td>0.2467</td></tr></table><br/></div></div>"
            ]
          },
          "metadata": {}
        },
        {
          "output_type": "display_data",
          "data": {
            "text/plain": [
              "<IPython.core.display.HTML object>"
            ],
            "text/html": [
              "Synced <strong style=\"color:#cdcd00\">splendid-sweep-5</strong>: <a href=\"https://wandb.ai/amir7d0/fashion_finetuning/runs/mb2t1be2\" target=\"_blank\">https://wandb.ai/amir7d0/fashion_finetuning/runs/mb2t1be2</a><br/>Synced 5 W&B file(s), 361 media file(s), 0 artifact file(s) and 1 other file(s)"
            ]
          },
          "metadata": {}
        },
        {
          "output_type": "display_data",
          "data": {
            "text/plain": [
              "<IPython.core.display.HTML object>"
            ],
            "text/html": [
              "Find logs at: <code>./wandb/run-20220602_150710-mb2t1be2/logs</code>"
            ]
          },
          "metadata": {}
        },
        {
          "output_type": "stream",
          "name": "stderr",
          "text": [
            "\u001b[34m\u001b[1mwandb\u001b[0m: Sweep Agent: Waiting for job.\n",
            "\u001b[34m\u001b[1mwandb\u001b[0m: Sweep Agent: Exiting.\n"
          ]
        }
      ]
    },
    {
      "cell_type": "code",
      "source": [
        "# در نرخ یادگیری 0.0003 مقدار دقت بهتر است پس در ادامه با اجرای تعداد ایپاک بیشتر با همین\n",
        "# تنظیمات، مدل را ارزیابی میکنیم"
      ],
      "metadata": {
        "id": "bajdGHvjQL7C"
      },
      "execution_count": null,
      "outputs": []
    },
    {
      "cell_type": "code",
      "source": [
        "def train_best_model():\n",
        "    best_config = {\n",
        "        'learning_rate': 3e-4\n",
        "    }\n",
        "    config = SimpleNamespace(**best_config)\n",
        "    \n",
        "    from keras.applications.inception_v3 import InceptionV3\n",
        "    inc_model = InceptionV3(include_top=False, weights='imagenet')\n",
        "    \n",
        "    for layer in inc_model.layers:\n",
        "        layer.trainable = True\n",
        "\n",
        "    input = layers.Input(shape=(img_height, img_width, 3))\n",
        "    x = layers.ZeroPadding2D(padding=(160-28)//2+1)(input)\n",
        "    x = inc_model(x)\n",
        "    x = layers.GlobalAveragePooling2D()(x)\n",
        "    x = layers.Dense(512, activation='relu')(x)\n",
        "    x = layers.Dropout(0.2)(x)\n",
        "    output = layers.Dense(10, activation='softmax')(x)\n",
        "\n",
        "    model = Model(inputs=input, outputs=output, name='fashion_finetuning')\n",
        "\n",
        "    optimizer = Adam(learning_rate=config.learning_rate, beta_1=0.9, beta_2=0.999, clipnorm=1.0)\n",
        "    \n",
        "    model.compile(loss=\"categorical_crossentropy\", optimizer=optimizer, metrics=['accuracy'])\n",
        "\n",
        "    model.fit(x_train2, y_train, batch_size=64,\n",
        "              epochs=20,\n",
        "              validation_data=(x_val2, y_val),\n",
        "    )\n",
        "\n",
        "    scores = model.evaluate(x_test2, y_test, batch_size=64, verbose=2)\n",
        "    return scores\n",
        "\n",
        "train_best_model()"
      ],
      "metadata": {
        "id": "zfIeAiWkU2v4",
        "colab": {
          "base_uri": "https://localhost:8080/"
        },
        "outputId": "9d5d709f-3355-40b0-a846-cb8ec0da4650"
      },
      "execution_count": null,
      "outputs": [
        {
          "output_type": "stream",
          "name": "stdout",
          "text": [
            "Downloading data from https://storage.googleapis.com/tensorflow/keras-applications/inception_v3/inception_v3_weights_tf_dim_ordering_tf_kernels_notop.h5\n",
            "87916544/87910968 [==============================] - 1s 0us/step\n",
            "87924736/87910968 [==============================] - 1s 0us/step\n",
            "Epoch 1/20\n",
            "938/938 [==============================] - 262s 252ms/step - loss: 0.3846 - accuracy: 0.8655 - val_loss: 0.3266 - val_accuracy: 0.8862\n",
            "Epoch 2/20\n",
            "938/938 [==============================] - 234s 249ms/step - loss: 0.2569 - accuracy: 0.9089 - val_loss: 0.2856 - val_accuracy: 0.9018\n",
            "Epoch 3/20\n",
            "938/938 [==============================] - 233s 249ms/step - loss: 0.2185 - accuracy: 0.9216 - val_loss: 0.2350 - val_accuracy: 0.9128\n",
            "Epoch 4/20\n",
            "938/938 [==============================] - 233s 249ms/step - loss: 0.1974 - accuracy: 0.9288 - val_loss: 0.2539 - val_accuracy: 0.9132\n",
            "Epoch 5/20\n",
            "938/938 [==============================] - 233s 249ms/step - loss: 0.1808 - accuracy: 0.9346 - val_loss: 0.2713 - val_accuracy: 0.9146\n",
            "Epoch 6/20\n",
            "938/938 [==============================] - 233s 249ms/step - loss: 0.1594 - accuracy: 0.9424 - val_loss: 0.2391 - val_accuracy: 0.9196\n",
            "Epoch 7/20\n",
            "938/938 [==============================] - 233s 249ms/step - loss: 0.1450 - accuracy: 0.9487 - val_loss: 0.3671 - val_accuracy: 0.8852\n",
            "Epoch 8/20\n",
            "938/938 [==============================] - 234s 249ms/step - loss: 0.1293 - accuracy: 0.9535 - val_loss: 0.2413 - val_accuracy: 0.9196\n",
            "Epoch 9/20\n",
            "938/938 [==============================] - 234s 249ms/step - loss: 0.1176 - accuracy: 0.9577 - val_loss: 0.2696 - val_accuracy: 0.9204\n",
            "Epoch 10/20\n",
            "938/938 [==============================] - 233s 249ms/step - loss: 0.1034 - accuracy: 0.9640 - val_loss: 0.2351 - val_accuracy: 0.9294\n",
            "Epoch 11/20\n",
            "938/938 [==============================] - 233s 249ms/step - loss: 0.0890 - accuracy: 0.9682 - val_loss: 0.3075 - val_accuracy: 0.9082\n",
            "Epoch 12/20\n",
            "938/938 [==============================] - 234s 249ms/step - loss: 0.0824 - accuracy: 0.9704 - val_loss: 0.2556 - val_accuracy: 0.9212\n",
            "Epoch 13/20\n",
            "938/938 [==============================] - 234s 249ms/step - loss: 0.0714 - accuracy: 0.9748 - val_loss: 0.2766 - val_accuracy: 0.9186\n",
            "Epoch 14/20\n",
            "938/938 [==============================] - 234s 249ms/step - loss: 0.0681 - accuracy: 0.9764 - val_loss: 0.3009 - val_accuracy: 0.9232\n",
            "Epoch 15/20\n",
            "938/938 [==============================] - 234s 249ms/step - loss: 0.0581 - accuracy: 0.9789 - val_loss: 0.2655 - val_accuracy: 0.9282\n",
            "Epoch 16/20\n",
            "938/938 [==============================] - 233s 249ms/step - loss: 0.0536 - accuracy: 0.9808 - val_loss: 0.4095 - val_accuracy: 0.9086\n",
            "Epoch 17/20\n",
            "938/938 [==============================] - 233s 249ms/step - loss: 0.0499 - accuracy: 0.9824 - val_loss: 0.2861 - val_accuracy: 0.9266\n",
            "Epoch 18/20\n",
            "938/938 [==============================] - 233s 248ms/step - loss: 0.0448 - accuracy: 0.9845 - val_loss: 0.2923 - val_accuracy: 0.9254\n",
            "Epoch 19/20\n",
            "938/938 [==============================] - 233s 249ms/step - loss: 0.0398 - accuracy: 0.9855 - val_loss: 0.3051 - val_accuracy: 0.9300\n",
            "Epoch 20/20\n",
            "938/938 [==============================] - 233s 248ms/step - loss: 0.0385 - accuracy: 0.9865 - val_loss: 0.3226 - val_accuracy: 0.9260\n",
            "79/79 - 5s - loss: 0.3300 - accuracy: 0.9228 - 5s/epoch - 64ms/step\n"
          ]
        },
        {
          "output_type": "execute_result",
          "data": {
            "text/plain": [
              "[0.32998088002204895, 0.9228000044822693]"
            ]
          },
          "metadata": {},
          "execution_count": 4
        }
      ]
    },
    {
      "cell_type": "code",
      "source": [
        "# test loss: 0.329, test accuracy: 0.922"
      ],
      "metadata": {
        "id": "EgZtDMRLM4vA"
      },
      "execution_count": null,
      "outputs": []
    },
    {
      "cell_type": "code",
      "source": [
        ""
      ],
      "metadata": {
        "id": "R3DyD6j0RB2W"
      },
      "execution_count": null,
      "outputs": []
    },
    {
      "cell_type": "markdown",
      "source": [
        "## 2) feature extraction"
      ],
      "metadata": {
        "id": "cfbusgD9o8v1"
      }
    },
    {
      "cell_type": "code",
      "metadata": {
        "id": "t34WlRPQRSdv"
      },
      "source": [
        "sweep_config = {\n",
        "    'method': 'grid',\n",
        "    'metric': {\n",
        "      'name': 'accuracy',\n",
        "      'goal': 'maximize'   \n",
        "    },\n",
        "    'parameters': {\n",
        "        'learning_rate': {\n",
        "            'values': [1e-2, 3e-2, 6e-2, 1e-3, 3e-4]\n",
        "        }\n",
        "    }\n",
        "}"
      ],
      "execution_count": null,
      "outputs": []
    },
    {
      "cell_type": "code",
      "metadata": {
        "colab": {
          "base_uri": "https://localhost:8080/",
          "height": 121
        },
        "outputId": "2f8942e5-90f4-400d-e991-57555af6049a",
        "id": "u4HcJGDgRSd0"
      },
      "source": [
        "sweep_id = wandb.sweep(sweep_config, entity=\"amir7d0\", project=\"fashion_feature_extraction\")"
      ],
      "execution_count": null,
      "outputs": [
        {
          "output_type": "display_data",
          "data": {
            "text/plain": [
              "<IPython.core.display.Javascript object>"
            ],
            "application/javascript": [
              "\n",
              "        window._wandbApiKey = new Promise((resolve, reject) => {\n",
              "            function loadScript(url) {\n",
              "            return new Promise(function(resolve, reject) {\n",
              "                let newScript = document.createElement(\"script\");\n",
              "                newScript.onerror = reject;\n",
              "                newScript.onload = resolve;\n",
              "                document.body.appendChild(newScript);\n",
              "                newScript.src = url;\n",
              "            });\n",
              "            }\n",
              "            loadScript(\"https://cdn.jsdelivr.net/npm/postmate/build/postmate.min.js\").then(() => {\n",
              "            const iframe = document.createElement('iframe')\n",
              "            iframe.style.cssText = \"width:0;height:0;border:none\"\n",
              "            document.body.appendChild(iframe)\n",
              "            const handshake = new Postmate({\n",
              "                container: iframe,\n",
              "                url: 'https://wandb.ai/authorize'\n",
              "            });\n",
              "            const timeout = setTimeout(() => reject(\"Couldn't auto authenticate\"), 5000)\n",
              "            handshake.then(function(child) {\n",
              "                child.on('authorize', data => {\n",
              "                    clearTimeout(timeout)\n",
              "                    resolve(data)\n",
              "                });\n",
              "            });\n",
              "            })\n",
              "        });\n",
              "    "
            ]
          },
          "metadata": {}
        },
        {
          "output_type": "stream",
          "name": "stderr",
          "text": [
            "\u001b[34m\u001b[1mwandb\u001b[0m: You can find your API key in your browser here: https://wandb.ai/authorize\n"
          ]
        },
        {
          "name": "stdout",
          "output_type": "stream",
          "text": [
            "wandb: Paste an API key from your profile and hit enter, or press ctrl+c to quit: ··········\n"
          ]
        },
        {
          "output_type": "stream",
          "name": "stderr",
          "text": [
            "\u001b[34m\u001b[1mwandb\u001b[0m: Appending key for api.wandb.ai to your netrc file: /root/.netrc\n"
          ]
        },
        {
          "output_type": "stream",
          "name": "stdout",
          "text": [
            "Create sweep with ID: gt3ffvv1\n",
            "Sweep URL: https://wandb.ai/amir7d0/fashion_feature_extraction/sweeps/gt3ffvv1\n"
          ]
        }
      ]
    },
    {
      "cell_type": "code",
      "metadata": {
        "trusted": true,
        "id": "DwmO0ixMRSd5"
      },
      "source": [
        "def train_feature():\n",
        "    config_defaults = {\n",
        "        'learning_rate': 1e-3\n",
        "    }\n",
        "\n",
        "    wandb.init(config=config_defaults)\n",
        "    config = wandb.config\n",
        "    \n",
        "    from keras.applications.inception_v3 import InceptionV3\n",
        "    inc_model = InceptionV3(include_top=False, weights='imagenet')\n",
        "\n",
        "    # for layer in inc_model.layers:\n",
        "    #     layer.trainable = False\n",
        "    inc_model.trainable = False\n",
        "\n",
        "    input = layers.Input(shape=(img_height, img_width, 3))\n",
        "    x = layers.ZeroPadding2D(padding=(160-28)//2+1)(input)\n",
        "    x = inc_model(x)\n",
        "    x = layers.GlobalAveragePooling2D()(x)\n",
        "    x = layers.Dense(512, activation='relu')(x)\n",
        "    x = layers.Dropout(0.2)(x)\n",
        "    output = layers.Dense(10, activation='softmax')(x)\n",
        "\n",
        "    model = Model(inputs=input, outputs=output, name='fashion_feature_extraction')\n",
        "\n",
        "    optimizer = Adam(learning_rate=config.learning_rate, beta_1=0.9, beta_2=0.999, clipnorm=1.0)\n",
        "    model.compile(loss=\"categorical_crossentropy\", optimizer=optimizer, metrics=['accuracy'])\n",
        "\n",
        "    model.fit(x_train2, y_train, batch_size=64,\n",
        "              epochs=10,\n",
        "              validation_data=(x_val2, y_val),\n",
        "              callbacks=[WandbCallback(validation_data=(x_val2, y_val))]\n",
        "    )"
      ],
      "execution_count": null,
      "outputs": []
    },
    {
      "cell_type": "code",
      "metadata": {
        "colab": {
          "base_uri": "https://localhost:8080/",
          "height": 1000,
          "referenced_widgets": [
            "72724192c0304d6a8f3eb20ac19de877",
            "150e4b50d6c748dabaad2481ade65541",
            "962ef5e59dbe474c97d5ca91e235e776",
            "307e3b802b124e7f81b7ae9005c09aed",
            "9555e2120f3c433481ae166906949bc8",
            "a5ccdbad0db544b0818c2a9521e854e8",
            "4e51e8eb7c624e9e810c5731969a4e6b",
            "6fef3f8b33564bc8892cb32a1672cf2b",
            "734c2e6bcc06423891721dd52d62c2a0",
            "0d72947edd18450595b02d9ad9353b1a",
            "a328c02b0a584d3683053a73440ed675",
            "30630319a5e840c384d5abf3d161a0b5",
            "6aad1ff9fed340e4bf53b0e63f106b54",
            "31cb53086ed9400ca8df08facd142399",
            "04f44992f3894b07b94e392fff2481d6",
            "df3cf0155ab24d739fb281c4c4722b38",
            "4549b0e63acf4e66a9357e6b8cb93f3c",
            "07c1406a2fbf42fe93400f3135da3ee5",
            "79f3886b7548472183dd026e150cedeb",
            "284e1c5cfba34b4ba8f27f6bb072e486",
            "41472bbf139049d284aa9f6490e1c791",
            "19f014c6b2c940a2a47044e97fd8679a",
            "b0dd5be2c09843cfbe3985e381255750",
            "c062764df61149ef87de4526d9a097ed",
            "5eae3126682a4e758da43fda0df47726",
            "b75408d3a8e44d6dacbaca44ad387372",
            "a59216d410e744bdad65f269f9db23a1",
            "32fc508c1e19425999a43fefcb280d99",
            "4cc09660246843b0a31c50b6dadde351",
            "c54a44514eab40f7ad2872aa723d8e2b",
            "a38161c68659471a9a74e24db8fa8855",
            "a3dae0be82b742ebb57986d483f4689a",
            "310655106aad44e5bfc56b69cd26a1d6",
            "afe0edc4614144c7b7cb9dec75429555",
            "e0072b6f5d5a40b7bdfec7e54dfb2a56",
            "cd01898fe44743348eadfbe568d051c9",
            "d6b6482894764b57bce48ed13f76a321",
            "865d26e40b114e2897df89381cba37dc",
            "4eabd908ce4c4711b0ea206683a8d2f8",
            "6b2b49d56304499fb2e4c918b5ba2c6a"
          ]
        },
        "outputId": "a3efb139-4eaf-41f8-bbf5-3813df5dc814",
        "id": "lh1KhP_sRSd_"
      },
      "source": [
        "wandb.agent(sweep_id, train_feature)"
      ],
      "execution_count": null,
      "outputs": [
        {
          "output_type": "stream",
          "name": "stderr",
          "text": [
            "\u001b[34m\u001b[1mwandb\u001b[0m: Agent Starting Run: 1xfk3vx8 with config:\n",
            "\u001b[34m\u001b[1mwandb\u001b[0m: \tlearning_rate: 0.01\n",
            "\u001b[34m\u001b[1mwandb\u001b[0m: Currently logged in as: \u001b[33mamir7d0\u001b[0m. Use \u001b[1m`wandb login --relogin`\u001b[0m to force relogin\n"
          ]
        },
        {
          "output_type": "display_data",
          "data": {
            "text/plain": [
              "<IPython.core.display.HTML object>"
            ],
            "text/html": [
              "Tracking run with wandb version 0.12.17"
            ]
          },
          "metadata": {}
        },
        {
          "output_type": "display_data",
          "data": {
            "text/plain": [
              "<IPython.core.display.HTML object>"
            ],
            "text/html": [
              "Run data is saved locally in <code>/content/wandb/run-20220602_211719-1xfk3vx8</code>"
            ]
          },
          "metadata": {}
        },
        {
          "output_type": "display_data",
          "data": {
            "text/plain": [
              "<IPython.core.display.HTML object>"
            ],
            "text/html": [
              "Syncing run <strong><a href=\"https://wandb.ai/amir7d0/fashion_feature_extraction/runs/1xfk3vx8\" target=\"_blank\">elated-sweep-1</a></strong> to <a href=\"https://wandb.ai/amir7d0/fashion_feature_extraction\" target=\"_blank\">Weights & Biases</a> (<a href=\"https://wandb.me/run\" target=\"_blank\">docs</a>)<br/>Sweep page:  <a href=\"https://wandb.ai/amir7d0/fashion_feature_extraction/sweeps/gt3ffvv1\" target=\"_blank\">https://wandb.ai/amir7d0/fashion_feature_extraction/sweeps/gt3ffvv1</a>"
            ]
          },
          "metadata": {}
        },
        {
          "output_type": "stream",
          "name": "stdout",
          "text": [
            "Downloading data from https://storage.googleapis.com/tensorflow/keras-applications/inception_v3/inception_v3_weights_tf_dim_ordering_tf_kernels_notop.h5\n",
            "87916544/87910968 [==============================] - 1s 0us/step\n",
            "87924736/87910968 [==============================] - 1s 0us/step\n"
          ]
        },
        {
          "output_type": "stream",
          "name": "stderr",
          "text": [
            "\u001b[34m\u001b[1mwandb\u001b[0m: \u001b[33mWARNING\u001b[0m The save_model argument by default saves the model in the HDF5 format that cannot save custom objects like subclassed models and custom layers. This behavior will be deprecated in a future release in favor of the SavedModel format. Meanwhile, the HDF5 model is saved as W&B files and the SavedModel as W&B Artifacts.\n"
          ]
        },
        {
          "output_type": "stream",
          "name": "stdout",
          "text": [
            "Epoch 1/10\n",
            "938/938 [==============================] - 86s 75ms/step - loss: 0.9331 - accuracy: 0.7106 - val_loss: 0.5637 - val_accuracy: 0.8000 - _timestamp: 1654204739.0000 - _runtime: 100.0000\n",
            "Epoch 2/10\n",
            "938/938 [==============================] - 69s 74ms/step - loss: 0.6936 - accuracy: 0.7481 - val_loss: 0.5865 - val_accuracy: 0.7932 - _timestamp: 1654204809.0000 - _runtime: 170.0000\n",
            "Epoch 3/10\n",
            "938/938 [==============================] - 69s 74ms/step - loss: 0.6534 - accuracy: 0.7640 - val_loss: 0.5673 - val_accuracy: 0.8004 - _timestamp: 1654204878.0000 - _runtime: 239.0000\n",
            "Epoch 4/10\n",
            "938/938 [==============================] - 69s 73ms/step - loss: 0.6682 - accuracy: 0.7549 - val_loss: 0.5655 - val_accuracy: 0.8036 - _timestamp: 1654204947.0000 - _runtime: 308.0000\n",
            "Epoch 5/10\n",
            "938/938 [==============================] - 70s 74ms/step - loss: 0.6532 - accuracy: 0.7606 - val_loss: 0.5275 - val_accuracy: 0.8176 - _timestamp: 1654205016.0000 - _runtime: 377.0000\n",
            "Epoch 6/10\n",
            "938/938 [==============================] - 69s 74ms/step - loss: 0.6279 - accuracy: 0.7724 - val_loss: 0.4877 - val_accuracy: 0.8180 - _timestamp: 1654205085.0000 - _runtime: 446.0000\n",
            "Epoch 7/10\n",
            "938/938 [==============================] - 69s 73ms/step - loss: 0.6097 - accuracy: 0.7778 - val_loss: 0.4952 - val_accuracy: 0.8272 - _timestamp: 1654205154.0000 - _runtime: 515.0000\n",
            "Epoch 8/10\n",
            "938/938 [==============================] - 69s 73ms/step - loss: 0.6024 - accuracy: 0.7788 - val_loss: 0.5069 - val_accuracy: 0.8140 - _timestamp: 1654205223.0000 - _runtime: 584.0000\n",
            "Epoch 9/10\n",
            "938/938 [==============================] - 69s 73ms/step - loss: 0.5984 - accuracy: 0.7797 - val_loss: 0.5074 - val_accuracy: 0.8178 - _timestamp: 1654205292.0000 - _runtime: 653.0000\n",
            "Epoch 10/10\n",
            "938/938 [==============================] - 69s 73ms/step - loss: 0.6177 - accuracy: 0.7753 - val_loss: 0.5817 - val_accuracy: 0.7834 - _timestamp: 1654205360.0000 - _runtime: 721.0000\n"
          ]
        },
        {
          "output_type": "display_data",
          "data": {
            "text/plain": [
              "<IPython.core.display.HTML object>"
            ],
            "text/html": [
              "Waiting for W&B process to finish... <strong style=\"color:green\">(success).</strong>"
            ]
          },
          "metadata": {}
        },
        {
          "output_type": "display_data",
          "data": {
            "text/plain": [
              "VBox(children=(Label(value='4.179 MB of 4.179 MB uploaded (0.000 MB deduped)\\r'), FloatProgress(value=1.0, max…"
            ],
            "application/vnd.jupyter.widget-view+json": {
              "version_major": 2,
              "version_minor": 0,
              "model_id": "72724192c0304d6a8f3eb20ac19de877"
            }
          },
          "metadata": {}
        },
        {
          "output_type": "display_data",
          "data": {
            "text/plain": [
              "<IPython.core.display.HTML object>"
            ],
            "text/html": [
              "<style>\n",
              "    table.wandb td:nth-child(1) { padding: 0 10px; text-align: left ; width: auto;} td:nth-child(2) {text-align: left ; width: 100%}\n",
              "    .wandb-row { display: flex; flex-direction: row; flex-wrap: wrap; justify-content: flex-start; width: 100% }\n",
              "    .wandb-col { display: flex; flex-direction: column; flex-basis: 100%; flex: 1; padding: 10px; }\n",
              "    </style>\n",
              "<div class=\"wandb-row\"><div class=\"wandb-col\"><h3>Run history:</h3><br/><table class=\"wandb\"><tr><td>accuracy</td><td>▁▅▆▅▆▇████</td></tr><tr><td>epoch</td><td>▁▂▃▃▄▅▆▆▇█</td></tr><tr><td>loss</td><td>█▃▂▂▂▂▁▁▁▁</td></tr><tr><td>val_accuracy</td><td>▄▃▄▄▆▇█▆▆▁</td></tr><tr><td>val_loss</td><td>▆█▇▇▄▁▂▂▂█</td></tr></table><br/></div><div class=\"wandb-col\"><h3>Run summary:</h3><br/><table class=\"wandb\"><tr><td>accuracy</td><td>0.77533</td></tr><tr><td>best_epoch</td><td>5</td></tr><tr><td>best_val_loss</td><td>0.48773</td></tr><tr><td>epoch</td><td>9</td></tr><tr><td>loss</td><td>0.61774</td></tr><tr><td>val_accuracy</td><td>0.7834</td></tr><tr><td>val_loss</td><td>0.58166</td></tr></table><br/></div></div>"
            ]
          },
          "metadata": {}
        },
        {
          "output_type": "display_data",
          "data": {
            "text/plain": [
              "<IPython.core.display.HTML object>"
            ],
            "text/html": [
              "Synced <strong style=\"color:#cdcd00\">elated-sweep-1</strong>: <a href=\"https://wandb.ai/amir7d0/fashion_feature_extraction/runs/1xfk3vx8\" target=\"_blank\">https://wandb.ai/amir7d0/fashion_feature_extraction/runs/1xfk3vx8</a><br/>Synced 5 W&B file(s), 1 media file(s), 0 artifact file(s) and 1 other file(s)"
            ]
          },
          "metadata": {}
        },
        {
          "output_type": "display_data",
          "data": {
            "text/plain": [
              "<IPython.core.display.HTML object>"
            ],
            "text/html": [
              "Find logs at: <code>./wandb/run-20220602_211719-1xfk3vx8/logs</code>"
            ]
          },
          "metadata": {}
        },
        {
          "output_type": "stream",
          "name": "stderr",
          "text": [
            "\u001b[34m\u001b[1mwandb\u001b[0m: Agent Starting Run: es8kxthu with config:\n",
            "\u001b[34m\u001b[1mwandb\u001b[0m: \tlearning_rate: 0.03\n"
          ]
        },
        {
          "output_type": "display_data",
          "data": {
            "text/plain": [
              "<IPython.core.display.HTML object>"
            ],
            "text/html": [
              "Tracking run with wandb version 0.12.17"
            ]
          },
          "metadata": {}
        },
        {
          "output_type": "display_data",
          "data": {
            "text/plain": [
              "<IPython.core.display.HTML object>"
            ],
            "text/html": [
              "Run data is saved locally in <code>/content/wandb/run-20220602_213009-es8kxthu</code>"
            ]
          },
          "metadata": {}
        },
        {
          "output_type": "display_data",
          "data": {
            "text/plain": [
              "<IPython.core.display.HTML object>"
            ],
            "text/html": [
              "Syncing run <strong><a href=\"https://wandb.ai/amir7d0/fashion_feature_extraction/runs/es8kxthu\" target=\"_blank\">glowing-sweep-2</a></strong> to <a href=\"https://wandb.ai/amir7d0/fashion_feature_extraction\" target=\"_blank\">Weights & Biases</a> (<a href=\"https://wandb.me/run\" target=\"_blank\">docs</a>)<br/>Sweep page:  <a href=\"https://wandb.ai/amir7d0/fashion_feature_extraction/sweeps/gt3ffvv1\" target=\"_blank\">https://wandb.ai/amir7d0/fashion_feature_extraction/sweeps/gt3ffvv1</a>"
            ]
          },
          "metadata": {}
        },
        {
          "output_type": "stream",
          "name": "stdout",
          "text": [
            "Epoch 1/10\n",
            "938/938 [==============================] - 74s 75ms/step - loss: 2.3516 - accuracy: 0.4625 - val_loss: 1.2018 - val_accuracy: 0.4868 - _timestamp: 1654205490.0000 - _runtime: 81.0000\n",
            "Epoch 2/10\n",
            "938/938 [==============================] - 69s 74ms/step - loss: 1.3940 - accuracy: 0.4652 - val_loss: 1.0849 - val_accuracy: 0.5848 - _timestamp: 1654205559.0000 - _runtime: 150.0000\n",
            "Epoch 3/10\n",
            "938/938 [==============================] - 69s 73ms/step - loss: 1.3998 - accuracy: 0.4611 - val_loss: 0.9976 - val_accuracy: 0.5908 - _timestamp: 1654205628.0000 - _runtime: 219.0000\n",
            "Epoch 4/10\n",
            "938/938 [==============================] - 68s 73ms/step - loss: 1.4147 - accuracy: 0.4538 - val_loss: 1.0538 - val_accuracy: 0.5814 - _timestamp: 1654205697.0000 - _runtime: 288.0000\n",
            "Epoch 5/10\n",
            "938/938 [==============================] - 68s 73ms/step - loss: 1.4006 - accuracy: 0.4618 - val_loss: 1.0888 - val_accuracy: 0.5310 - _timestamp: 1654205766.0000 - _runtime: 357.0000\n",
            "Epoch 6/10\n",
            "938/938 [==============================] - 68s 73ms/step - loss: 1.3883 - accuracy: 0.4671 - val_loss: 1.1222 - val_accuracy: 0.4944 - _timestamp: 1654205834.0000 - _runtime: 425.0000\n",
            "Epoch 7/10\n",
            "938/938 [==============================] - 68s 73ms/step - loss: 1.3758 - accuracy: 0.4717 - val_loss: 1.0355 - val_accuracy: 0.5776 - _timestamp: 1654205902.0000 - _runtime: 493.0000\n",
            "Epoch 8/10\n",
            "938/938 [==============================] - 69s 73ms/step - loss: 1.3952 - accuracy: 0.4642 - val_loss: 1.1680 - val_accuracy: 0.5334 - _timestamp: 1654205971.0000 - _runtime: 562.0000\n",
            "Epoch 9/10\n",
            "938/938 [==============================] - 68s 73ms/step - loss: 1.3949 - accuracy: 0.4665 - val_loss: 1.0275 - val_accuracy: 0.6026 - _timestamp: 1654206039.0000 - _runtime: 630.0000\n",
            "Epoch 10/10\n",
            "938/938 [==============================] - 68s 73ms/step - loss: 1.3839 - accuracy: 0.4675 - val_loss: 1.0532 - val_accuracy: 0.5804 - _timestamp: 1654206108.0000 - _runtime: 699.0000\n"
          ]
        },
        {
          "output_type": "display_data",
          "data": {
            "text/plain": [
              "<IPython.core.display.HTML object>"
            ],
            "text/html": [
              "Waiting for W&B process to finish... <strong style=\"color:green\">(success).</strong>"
            ]
          },
          "metadata": {}
        },
        {
          "output_type": "display_data",
          "data": {
            "text/plain": [
              "VBox(children=(Label(value='95.735 MB of 95.735 MB uploaded (0.000 MB deduped)\\r'), FloatProgress(value=1.0, m…"
            ],
            "application/vnd.jupyter.widget-view+json": {
              "version_major": 2,
              "version_minor": 0,
              "model_id": "734c2e6bcc06423891721dd52d62c2a0"
            }
          },
          "metadata": {}
        },
        {
          "output_type": "display_data",
          "data": {
            "text/plain": [
              "<IPython.core.display.HTML object>"
            ],
            "text/html": [
              "<style>\n",
              "    table.wandb td:nth-child(1) { padding: 0 10px; text-align: left ; width: auto;} td:nth-child(2) {text-align: left ; width: 100%}\n",
              "    .wandb-row { display: flex; flex-direction: row; flex-wrap: wrap; justify-content: flex-start; width: 100% }\n",
              "    .wandb-col { display: flex; flex-direction: column; flex-basis: 100%; flex: 1; padding: 10px; }\n",
              "    </style>\n",
              "<div class=\"wandb-row\"><div class=\"wandb-col\"><h3>Run history:</h3><br/><table class=\"wandb\"><tr><td>accuracy</td><td>▄▅▄▁▄▆█▅▆▆</td></tr><tr><td>epoch</td><td>▁▂▃▃▄▅▆▆▇█</td></tr><tr><td>loss</td><td>█▁▁▁▁▁▁▁▁▁</td></tr><tr><td>val_accuracy</td><td>▁▇▇▇▄▁▆▄█▇</td></tr><tr><td>val_loss</td><td>█▄▁▃▄▅▂▇▂▃</td></tr></table><br/></div><div class=\"wandb-col\"><h3>Run summary:</h3><br/><table class=\"wandb\"><tr><td>accuracy</td><td>0.46752</td></tr><tr><td>best_epoch</td><td>2</td></tr><tr><td>best_val_loss</td><td>0.99756</td></tr><tr><td>epoch</td><td>9</td></tr><tr><td>loss</td><td>1.38391</td></tr><tr><td>val_accuracy</td><td>0.5804</td></tr><tr><td>val_loss</td><td>1.05319</td></tr></table><br/></div></div>"
            ]
          },
          "metadata": {}
        },
        {
          "output_type": "display_data",
          "data": {
            "text/plain": [
              "<IPython.core.display.HTML object>"
            ],
            "text/html": [
              "Synced <strong style=\"color:#cdcd00\">glowing-sweep-2</strong>: <a href=\"https://wandb.ai/amir7d0/fashion_feature_extraction/runs/es8kxthu\" target=\"_blank\">https://wandb.ai/amir7d0/fashion_feature_extraction/runs/es8kxthu</a><br/>Synced 5 W&B file(s), 1 media file(s), 0 artifact file(s) and 1 other file(s)"
            ]
          },
          "metadata": {}
        },
        {
          "output_type": "display_data",
          "data": {
            "text/plain": [
              "<IPython.core.display.HTML object>"
            ],
            "text/html": [
              "Find logs at: <code>./wandb/run-20220602_213009-es8kxthu/logs</code>"
            ]
          },
          "metadata": {}
        },
        {
          "output_type": "stream",
          "name": "stderr",
          "text": [
            "\u001b[34m\u001b[1mwandb\u001b[0m: Agent Starting Run: njw69wgj with config:\n",
            "\u001b[34m\u001b[1mwandb\u001b[0m: \tlearning_rate: 0.06\n"
          ]
        },
        {
          "output_type": "display_data",
          "data": {
            "text/plain": [
              "<IPython.core.display.HTML object>"
            ],
            "text/html": [
              "Tracking run with wandb version 0.12.17"
            ]
          },
          "metadata": {}
        },
        {
          "output_type": "display_data",
          "data": {
            "text/plain": [
              "<IPython.core.display.HTML object>"
            ],
            "text/html": [
              "Run data is saved locally in <code>/content/wandb/run-20220602_214253-njw69wgj</code>"
            ]
          },
          "metadata": {}
        },
        {
          "output_type": "display_data",
          "data": {
            "text/plain": [
              "<IPython.core.display.HTML object>"
            ],
            "text/html": [
              "Syncing run <strong><a href=\"https://wandb.ai/amir7d0/fashion_feature_extraction/runs/njw69wgj\" target=\"_blank\">winter-sweep-3</a></strong> to <a href=\"https://wandb.ai/amir7d0/fashion_feature_extraction\" target=\"_blank\">Weights & Biases</a> (<a href=\"https://wandb.me/run\" target=\"_blank\">docs</a>)<br/>Sweep page:  <a href=\"https://wandb.ai/amir7d0/fashion_feature_extraction/sweeps/gt3ffvv1\" target=\"_blank\">https://wandb.ai/amir7d0/fashion_feature_extraction/sweeps/gt3ffvv1</a>"
            ]
          },
          "metadata": {}
        },
        {
          "output_type": "stream",
          "name": "stdout",
          "text": [
            "Epoch 1/10\n",
            "938/938 [==============================] - 75s 76ms/step - loss: 4.3597 - accuracy: 0.1648 - val_loss: 2.1504 - val_accuracy: 0.1624 - _timestamp: 1654206256.0000 - _runtime: 83.0000\n",
            "Epoch 2/10\n",
            "938/938 [==============================] - 69s 74ms/step - loss: 2.1392 - accuracy: 0.1683 - val_loss: 2.0810 - val_accuracy: 0.1896 - _timestamp: 1654206325.0000 - _runtime: 152.0000\n",
            "Epoch 3/10\n",
            "938/938 [==============================] - 69s 74ms/step - loss: 2.1516 - accuracy: 0.1638 - val_loss: 2.0783 - val_accuracy: 0.1824 - _timestamp: 1654206394.0000 - _runtime: 221.0000\n",
            "Epoch 4/10\n",
            "938/938 [==============================] - 69s 73ms/step - loss: 2.1716 - accuracy: 0.1599 - val_loss: 2.3097 - val_accuracy: 0.0992 - _timestamp: 1654206463.0000 - _runtime: 290.0000\n",
            "Epoch 5/10\n",
            "938/938 [==============================] - 68s 73ms/step - loss: 2.1743 - accuracy: 0.1538 - val_loss: 2.2273 - val_accuracy: 0.1330 - _timestamp: 1654206532.0000 - _runtime: 359.0000\n",
            "Epoch 6/10\n",
            "938/938 [==============================] - 69s 74ms/step - loss: 2.1474 - accuracy: 0.1655 - val_loss: 2.0654 - val_accuracy: 0.1850 - _timestamp: 1654206600.0000 - _runtime: 427.0000\n",
            "Epoch 7/10\n",
            "938/938 [==============================] - 68s 73ms/step - loss: 2.1512 - accuracy: 0.1655 - val_loss: 2.0905 - val_accuracy: 0.1734 - _timestamp: 1654206669.0000 - _runtime: 496.0000\n",
            "Epoch 8/10\n",
            "938/938 [==============================] - 69s 74ms/step - loss: 2.1355 - accuracy: 0.1677 - val_loss: 2.0434 - val_accuracy: 0.1862 - _timestamp: 1654206738.0000 - _runtime: 565.0000\n",
            "Epoch 9/10\n",
            "938/938 [==============================] - 68s 73ms/step - loss: 2.1664 - accuracy: 0.1565 - val_loss: 2.0566 - val_accuracy: 0.1852 - _timestamp: 1654206807.0000 - _runtime: 634.0000\n",
            "Epoch 10/10\n",
            "938/938 [==============================] - 69s 73ms/step - loss: 2.1801 - accuracy: 0.1552 - val_loss: 2.0942 - val_accuracy: 0.1732 - _timestamp: 1654206875.0000 - _runtime: 702.0000\n"
          ]
        },
        {
          "output_type": "display_data",
          "data": {
            "text/plain": [
              "<IPython.core.display.HTML object>"
            ],
            "text/html": [
              "Waiting for W&B process to finish... <strong style=\"color:green\">(success).</strong>"
            ]
          },
          "metadata": {}
        },
        {
          "output_type": "display_data",
          "data": {
            "text/plain": [
              "VBox(children=(Label(value='16.898 MB of 16.898 MB uploaded (0.000 MB deduped)\\r'), FloatProgress(value=1.0, m…"
            ],
            "application/vnd.jupyter.widget-view+json": {
              "version_major": 2,
              "version_minor": 0,
              "model_id": "4549b0e63acf4e66a9357e6b8cb93f3c"
            }
          },
          "metadata": {}
        },
        {
          "output_type": "display_data",
          "data": {
            "text/plain": [
              "<IPython.core.display.HTML object>"
            ],
            "text/html": [
              "<style>\n",
              "    table.wandb td:nth-child(1) { padding: 0 10px; text-align: left ; width: auto;} td:nth-child(2) {text-align: left ; width: 100%}\n",
              "    .wandb-row { display: flex; flex-direction: row; flex-wrap: wrap; justify-content: flex-start; width: 100% }\n",
              "    .wandb-col { display: flex; flex-direction: column; flex-basis: 100%; flex: 1; padding: 10px; }\n",
              "    </style>\n",
              "<div class=\"wandb-row\"><div class=\"wandb-col\"><h3>Run history:</h3><br/><table class=\"wandb\"><tr><td>accuracy</td><td>▆█▆▄▁▇▇█▂▂</td></tr><tr><td>epoch</td><td>▁▂▃▃▄▅▆▆▇█</td></tr><tr><td>loss</td><td>█▁▁▁▁▁▁▁▁▁</td></tr><tr><td>val_accuracy</td><td>▆█▇▁▄█▇██▇</td></tr><tr><td>val_loss</td><td>▄▂▂█▆▂▂▁▁▂</td></tr></table><br/></div><div class=\"wandb-col\"><h3>Run summary:</h3><br/><table class=\"wandb\"><tr><td>accuracy</td><td>0.15523</td></tr><tr><td>best_epoch</td><td>7</td></tr><tr><td>best_val_loss</td><td>2.04343</td></tr><tr><td>epoch</td><td>9</td></tr><tr><td>loss</td><td>2.18012</td></tr><tr><td>val_accuracy</td><td>0.1732</td></tr><tr><td>val_loss</td><td>2.09424</td></tr></table><br/></div></div>"
            ]
          },
          "metadata": {}
        },
        {
          "output_type": "display_data",
          "data": {
            "text/plain": [
              "<IPython.core.display.HTML object>"
            ],
            "text/html": [
              "Synced <strong style=\"color:#cdcd00\">winter-sweep-3</strong>: <a href=\"https://wandb.ai/amir7d0/fashion_feature_extraction/runs/njw69wgj\" target=\"_blank\">https://wandb.ai/amir7d0/fashion_feature_extraction/runs/njw69wgj</a><br/>Synced 5 W&B file(s), 1 media file(s), 0 artifact file(s) and 1 other file(s)"
            ]
          },
          "metadata": {}
        },
        {
          "output_type": "display_data",
          "data": {
            "text/plain": [
              "<IPython.core.display.HTML object>"
            ],
            "text/html": [
              "Find logs at: <code>./wandb/run-20220602_214253-njw69wgj/logs</code>"
            ]
          },
          "metadata": {}
        },
        {
          "output_type": "stream",
          "name": "stderr",
          "text": [
            "\u001b[34m\u001b[1mwandb\u001b[0m: Agent Starting Run: p5tas3mx with config:\n",
            "\u001b[34m\u001b[1mwandb\u001b[0m: \tlearning_rate: 0.001\n"
          ]
        },
        {
          "output_type": "display_data",
          "data": {
            "text/plain": [
              "<IPython.core.display.HTML object>"
            ],
            "text/html": [
              "Tracking run with wandb version 0.12.17"
            ]
          },
          "metadata": {}
        },
        {
          "output_type": "display_data",
          "data": {
            "text/plain": [
              "<IPython.core.display.HTML object>"
            ],
            "text/html": [
              "Run data is saved locally in <code>/content/wandb/run-20220602_215538-p5tas3mx</code>"
            ]
          },
          "metadata": {}
        },
        {
          "output_type": "display_data",
          "data": {
            "text/plain": [
              "<IPython.core.display.HTML object>"
            ],
            "text/html": [
              "Syncing run <strong><a href=\"https://wandb.ai/amir7d0/fashion_feature_extraction/runs/p5tas3mx\" target=\"_blank\">treasured-sweep-4</a></strong> to <a href=\"https://wandb.ai/amir7d0/fashion_feature_extraction\" target=\"_blank\">Weights & Biases</a> (<a href=\"https://wandb.me/run\" target=\"_blank\">docs</a>)<br/>Sweep page:  <a href=\"https://wandb.ai/amir7d0/fashion_feature_extraction/sweeps/gt3ffvv1\" target=\"_blank\">https://wandb.ai/amir7d0/fashion_feature_extraction/sweeps/gt3ffvv1</a>"
            ]
          },
          "metadata": {}
        },
        {
          "output_type": "stream",
          "name": "stdout",
          "text": [
            "Epoch 1/10\n",
            "938/938 [==============================] - 75s 76ms/step - loss: 0.6122 - accuracy: 0.7796 - val_loss: 0.4911 - val_accuracy: 0.8182 - _timestamp: 1654207020.0000 - _runtime: 82.0000\n",
            "Epoch 2/10\n",
            "938/938 [==============================] - 69s 74ms/step - loss: 0.4761 - accuracy: 0.8230 - val_loss: 0.4909 - val_accuracy: 0.8278 - _timestamp: 1654207089.0000 - _runtime: 151.0000\n",
            "Epoch 3/10\n",
            "938/938 [==============================] - 69s 74ms/step - loss: 0.4332 - accuracy: 0.8402 - val_loss: 0.4314 - val_accuracy: 0.8466 - _timestamp: 1654207158.0000 - _runtime: 220.0000\n",
            "Epoch 4/10\n",
            "938/938 [==============================] - 69s 74ms/step - loss: 0.4078 - accuracy: 0.8485 - val_loss: 0.4100 - val_accuracy: 0.8506 - _timestamp: 1654207228.0000 - _runtime: 290.0000\n",
            "Epoch 5/10\n",
            "938/938 [==============================] - 69s 74ms/step - loss: 0.3908 - accuracy: 0.8539 - val_loss: 0.4083 - val_accuracy: 0.8494 - _timestamp: 1654207297.0000 - _runtime: 359.0000\n",
            "Epoch 6/10\n",
            "938/938 [==============================] - 69s 73ms/step - loss: 0.3734 - accuracy: 0.8608 - val_loss: 0.4185 - val_accuracy: 0.8414 - _timestamp: 1654207366.0000 - _runtime: 428.0000\n",
            "Epoch 7/10\n",
            "938/938 [==============================] - 69s 74ms/step - loss: 0.3600 - accuracy: 0.8648 - val_loss: 0.3890 - val_accuracy: 0.8620 - _timestamp: 1654207435.0000 - _runtime: 497.0000\n",
            "Epoch 8/10\n",
            "938/938 [==============================] - 69s 74ms/step - loss: 0.3485 - accuracy: 0.8690 - val_loss: 0.3881 - val_accuracy: 0.8602 - _timestamp: 1654207504.0000 - _runtime: 566.0000\n",
            "Epoch 9/10\n",
            "938/938 [==============================] - 69s 74ms/step - loss: 0.3393 - accuracy: 0.8712 - val_loss: 0.3867 - val_accuracy: 0.8612 - _timestamp: 1654207573.0000 - _runtime: 635.0000\n",
            "Epoch 10/10\n",
            "938/938 [==============================] - 69s 73ms/step - loss: 0.3271 - accuracy: 0.8757 - val_loss: 0.3979 - val_accuracy: 0.8654 - _timestamp: 1654207642.0000 - _runtime: 704.0000\n"
          ]
        },
        {
          "output_type": "display_data",
          "data": {
            "text/plain": [
              "<IPython.core.display.HTML object>"
            ],
            "text/html": [
              "Waiting for W&B process to finish... <strong style=\"color:green\">(success).</strong>"
            ]
          },
          "metadata": {}
        },
        {
          "output_type": "display_data",
          "data": {
            "text/plain": [
              "VBox(children=(Label(value='95.735 MB of 95.735 MB uploaded (0.000 MB deduped)\\r'), FloatProgress(value=1.0, m…"
            ],
            "application/vnd.jupyter.widget-view+json": {
              "version_major": 2,
              "version_minor": 0,
              "model_id": "5eae3126682a4e758da43fda0df47726"
            }
          },
          "metadata": {}
        },
        {
          "output_type": "display_data",
          "data": {
            "text/plain": [
              "<IPython.core.display.HTML object>"
            ],
            "text/html": [
              "<style>\n",
              "    table.wandb td:nth-child(1) { padding: 0 10px; text-align: left ; width: auto;} td:nth-child(2) {text-align: left ; width: 100%}\n",
              "    .wandb-row { display: flex; flex-direction: row; flex-wrap: wrap; justify-content: flex-start; width: 100% }\n",
              "    .wandb-col { display: flex; flex-direction: column; flex-basis: 100%; flex: 1; padding: 10px; }\n",
              "    </style>\n",
              "<div class=\"wandb-row\"><div class=\"wandb-col\"><h3>Run history:</h3><br/><table class=\"wandb\"><tr><td>accuracy</td><td>▁▄▅▆▆▇▇███</td></tr><tr><td>epoch</td><td>▁▂▃▃▄▅▆▆▇█</td></tr><tr><td>loss</td><td>█▅▄▃▃▂▂▂▁▁</td></tr><tr><td>val_accuracy</td><td>▁▂▅▆▆▄▇▇▇█</td></tr><tr><td>val_loss</td><td>██▄▃▂▃▁▁▁▂</td></tr></table><br/></div><div class=\"wandb-col\"><h3>Run summary:</h3><br/><table class=\"wandb\"><tr><td>accuracy</td><td>0.8757</td></tr><tr><td>best_epoch</td><td>8</td></tr><tr><td>best_val_loss</td><td>0.38668</td></tr><tr><td>epoch</td><td>9</td></tr><tr><td>loss</td><td>0.32709</td></tr><tr><td>val_accuracy</td><td>0.8654</td></tr><tr><td>val_loss</td><td>0.3979</td></tr></table><br/></div></div>"
            ]
          },
          "metadata": {}
        },
        {
          "output_type": "display_data",
          "data": {
            "text/plain": [
              "<IPython.core.display.HTML object>"
            ],
            "text/html": [
              "Synced <strong style=\"color:#cdcd00\">treasured-sweep-4</strong>: <a href=\"https://wandb.ai/amir7d0/fashion_feature_extraction/runs/p5tas3mx\" target=\"_blank\">https://wandb.ai/amir7d0/fashion_feature_extraction/runs/p5tas3mx</a><br/>Synced 5 W&B file(s), 1 media file(s), 0 artifact file(s) and 1 other file(s)"
            ]
          },
          "metadata": {}
        },
        {
          "output_type": "display_data",
          "data": {
            "text/plain": [
              "<IPython.core.display.HTML object>"
            ],
            "text/html": [
              "Find logs at: <code>./wandb/run-20220602_215538-p5tas3mx/logs</code>"
            ]
          },
          "metadata": {}
        },
        {
          "output_type": "stream",
          "name": "stderr",
          "text": [
            "\u001b[34m\u001b[1mwandb\u001b[0m: Agent Starting Run: 4vzw7jrj with config:\n",
            "\u001b[34m\u001b[1mwandb\u001b[0m: \tlearning_rate: 0.0003\n"
          ]
        },
        {
          "output_type": "display_data",
          "data": {
            "text/plain": [
              "<IPython.core.display.HTML object>"
            ],
            "text/html": [
              "Tracking run with wandb version 0.12.17"
            ]
          },
          "metadata": {}
        },
        {
          "output_type": "display_data",
          "data": {
            "text/plain": [
              "<IPython.core.display.HTML object>"
            ],
            "text/html": [
              "Run data is saved locally in <code>/content/wandb/run-20220602_220730-4vzw7jrj</code>"
            ]
          },
          "metadata": {}
        },
        {
          "output_type": "display_data",
          "data": {
            "text/plain": [
              "<IPython.core.display.HTML object>"
            ],
            "text/html": [
              "Syncing run <strong><a href=\"https://wandb.ai/amir7d0/fashion_feature_extraction/runs/4vzw7jrj\" target=\"_blank\">helpful-sweep-5</a></strong> to <a href=\"https://wandb.ai/amir7d0/fashion_feature_extraction\" target=\"_blank\">Weights & Biases</a> (<a href=\"https://wandb.me/run\" target=\"_blank\">docs</a>)<br/>Sweep page:  <a href=\"https://wandb.ai/amir7d0/fashion_feature_extraction/sweeps/gt3ffvv1\" target=\"_blank\">https://wandb.ai/amir7d0/fashion_feature_extraction/sweeps/gt3ffvv1</a>"
            ]
          },
          "metadata": {}
        },
        {
          "output_type": "stream",
          "name": "stdout",
          "text": [
            "Epoch 1/10\n",
            "938/938 [==============================] - 75s 76ms/step - loss: 0.6123 - accuracy: 0.7809 - val_loss: 0.5090 - val_accuracy: 0.8152 - _timestamp: 1654207732.0000 - _runtime: 82.0000\n",
            "Epoch 2/10\n",
            "938/938 [==============================] - 69s 74ms/step - loss: 0.4641 - accuracy: 0.8292 - val_loss: 0.4431 - val_accuracy: 0.8384 - _timestamp: 1654207802.0000 - _runtime: 152.0000\n",
            "Epoch 3/10\n",
            "938/938 [==============================] - 69s 74ms/step - loss: 0.4206 - accuracy: 0.8450 - val_loss: 0.4187 - val_accuracy: 0.8534 - _timestamp: 1654207871.0000 - _runtime: 221.0000\n",
            "Epoch 4/10\n",
            "938/938 [==============================] - 69s 74ms/step - loss: 0.3925 - accuracy: 0.8557 - val_loss: 0.4058 - val_accuracy: 0.8542 - _timestamp: 1654207940.0000 - _runtime: 290.0000\n",
            "Epoch 5/10\n",
            "938/938 [==============================] - 69s 73ms/step - loss: 0.3672 - accuracy: 0.8644 - val_loss: 0.4118 - val_accuracy: 0.8528 - _timestamp: 1654208009.0000 - _runtime: 359.0000\n",
            "Epoch 6/10\n",
            "938/938 [==============================] - 69s 74ms/step - loss: 0.3546 - accuracy: 0.8685 - val_loss: 0.4048 - val_accuracy: 0.8544 - _timestamp: 1654208078.0000 - _runtime: 428.0000\n",
            "Epoch 7/10\n",
            "938/938 [==============================] - 69s 74ms/step - loss: 0.3361 - accuracy: 0.8753 - val_loss: 0.4044 - val_accuracy: 0.8538 - _timestamp: 1654208148.0000 - _runtime: 498.0000\n",
            "Epoch 8/10\n",
            "938/938 [==============================] - 69s 74ms/step - loss: 0.3234 - accuracy: 0.8801 - val_loss: 0.3987 - val_accuracy: 0.8582 - _timestamp: 1654208217.0000 - _runtime: 567.0000\n",
            "Epoch 9/10\n",
            "938/938 [==============================] - 70s 75ms/step - loss: 0.3103 - accuracy: 0.8841 - val_loss: 0.3970 - val_accuracy: 0.8576 - _timestamp: 1654208287.0000 - _runtime: 637.0000\n",
            "Epoch 10/10\n",
            "938/938 [==============================] - 72s 76ms/step - loss: 0.2969 - accuracy: 0.8896 - val_loss: 0.3829 - val_accuracy: 0.8642 - _timestamp: 1654208359.0000 - _runtime: 709.0000\n"
          ]
        },
        {
          "output_type": "display_data",
          "data": {
            "text/plain": [
              "<IPython.core.display.HTML object>"
            ],
            "text/html": [
              "Waiting for W&B process to finish... <strong style=\"color:green\">(success).</strong>"
            ]
          },
          "metadata": {}
        },
        {
          "output_type": "display_data",
          "data": {
            "text/plain": [
              "VBox(children=(Label(value='95.735 MB of 95.735 MB uploaded (0.000 MB deduped)\\r'), FloatProgress(value=1.0, m…"
            ],
            "application/vnd.jupyter.widget-view+json": {
              "version_major": 2,
              "version_minor": 0,
              "model_id": "310655106aad44e5bfc56b69cd26a1d6"
            }
          },
          "metadata": {}
        },
        {
          "output_type": "display_data",
          "data": {
            "text/plain": [
              "<IPython.core.display.HTML object>"
            ],
            "text/html": [
              "<style>\n",
              "    table.wandb td:nth-child(1) { padding: 0 10px; text-align: left ; width: auto;} td:nth-child(2) {text-align: left ; width: 100%}\n",
              "    .wandb-row { display: flex; flex-direction: row; flex-wrap: wrap; justify-content: flex-start; width: 100% }\n",
              "    .wandb-col { display: flex; flex-direction: column; flex-basis: 100%; flex: 1; padding: 10px; }\n",
              "    </style>\n",
              "<div class=\"wandb-row\"><div class=\"wandb-col\"><h3>Run history:</h3><br/><table class=\"wandb\"><tr><td>accuracy</td><td>▁▄▅▆▆▇▇▇██</td></tr><tr><td>epoch</td><td>▁▂▃▃▄▅▆▆▇█</td></tr><tr><td>loss</td><td>█▅▄▃▃▂▂▂▁▁</td></tr><tr><td>val_accuracy</td><td>▁▄▆▇▆▇▇▇▇█</td></tr><tr><td>val_loss</td><td>█▄▃▂▃▂▂▂▂▁</td></tr></table><br/></div><div class=\"wandb-col\"><h3>Run summary:</h3><br/><table class=\"wandb\"><tr><td>accuracy</td><td>0.88965</td></tr><tr><td>best_epoch</td><td>9</td></tr><tr><td>best_val_loss</td><td>0.3829</td></tr><tr><td>epoch</td><td>9</td></tr><tr><td>loss</td><td>0.29688</td></tr><tr><td>val_accuracy</td><td>0.8642</td></tr><tr><td>val_loss</td><td>0.3829</td></tr></table><br/></div></div>"
            ]
          },
          "metadata": {}
        },
        {
          "output_type": "display_data",
          "data": {
            "text/plain": [
              "<IPython.core.display.HTML object>"
            ],
            "text/html": [
              "Synced <strong style=\"color:#cdcd00\">helpful-sweep-5</strong>: <a href=\"https://wandb.ai/amir7d0/fashion_feature_extraction/runs/4vzw7jrj\" target=\"_blank\">https://wandb.ai/amir7d0/fashion_feature_extraction/runs/4vzw7jrj</a><br/>Synced 5 W&B file(s), 1 media file(s), 0 artifact file(s) and 1 other file(s)"
            ]
          },
          "metadata": {}
        },
        {
          "output_type": "display_data",
          "data": {
            "text/plain": [
              "<IPython.core.display.HTML object>"
            ],
            "text/html": [
              "Find logs at: <code>./wandb/run-20220602_220730-4vzw7jrj/logs</code>"
            ]
          },
          "metadata": {}
        },
        {
          "output_type": "stream",
          "name": "stderr",
          "text": [
            "\u001b[34m\u001b[1mwandb\u001b[0m: Sweep Agent: Waiting for job.\n",
            "\u001b[34m\u001b[1mwandb\u001b[0m: Sweep Agent: Exiting.\n"
          ]
        }
      ]
    },
    {
      "cell_type": "code",
      "source": [
        "# در نرخ یادگیری 0.0003 مقدار دقت بهتر است پس در ادامه با اجرای تعداد ایپاک بیشتر با همین\n",
        "# تنظیمات، مدل را ارزیابی میکنیم"
      ],
      "metadata": {
        "id": "AGKvi77BRSeD"
      },
      "execution_count": null,
      "outputs": []
    },
    {
      "cell_type": "code",
      "source": [
        "def train_best_model():\n",
        "    best_config = {\n",
        "        'learning_rate': 3e-4,\n",
        "    }    \n",
        "    config = SimpleNamespace(**best_config)\n",
        "    \n",
        "    from keras.applications.inception_v3 import InceptionV3\n",
        "    inc_model = InceptionV3(include_top=False, weights='imagenet')\n",
        "\n",
        "\n",
        "    input = layers.Input(shape=(img_height, img_width, 3))\n",
        "    x = layers.ZeroPadding2D(padding=(160-28)//2+1)(input)\n",
        "    x = inc_model(x)\n",
        "    x = layers.GlobalAveragePooling2D()(x)\n",
        "    x = layers.Dense(512, activation='relu')(x)\n",
        "    x = layers.Dropout(0.2)(x)\n",
        "    output = layers.Dense(10, activation='softmax')(x)\n",
        "\n",
        "    model = Model(inputs=input, outputs=output, name='fashion_finetuning')\n",
        "\n",
        "    for layer in inc_model.layers:\n",
        "        layer.trainable = False\n",
        "    \n",
        "    optimizer = Adam(learning_rate=config.learning_rate, beta_1=0.9, beta_2=0.999, clipnorm=1.0)\n",
        "    \n",
        "    model.compile(loss=\"categorical_crossentropy\", optimizer=optimizer, metrics=['accuracy'])\n",
        "\n",
        "    model.fit(x_train2, y_train, batch_size=64,\n",
        "              epochs=20,\n",
        "              validation_data=(x_val2, y_val)\n",
        "    )\n",
        "\n",
        "    scores = model.evaluate(x_test2, y_test, batch_size=64, verbose=2)  \n",
        "    return scores\n",
        "\n",
        "train_best_model()"
      ],
      "metadata": {
        "colab": {
          "base_uri": "https://localhost:8080/"
        },
        "outputId": "79a54232-1bee-45b0-8cb4-0474a8e68b3c",
        "id": "e0YI8a25RSeE"
      },
      "execution_count": null,
      "outputs": [
        {
          "output_type": "stream",
          "name": "stdout",
          "text": [
            "Epoch 1/20\n",
            "938/938 [==============================] - 74s 74ms/step - loss: 0.6122 - accuracy: 0.7801 - val_loss: 0.4791 - val_accuracy: 0.8262\n",
            "Epoch 2/20\n",
            "938/938 [==============================] - 68s 73ms/step - loss: 0.4620 - accuracy: 0.8312 - val_loss: 0.4432 - val_accuracy: 0.8394\n",
            "Epoch 3/20\n",
            "938/938 [==============================] - 68s 73ms/step - loss: 0.4186 - accuracy: 0.8468 - val_loss: 0.4262 - val_accuracy: 0.8440\n",
            "Epoch 4/20\n",
            "938/938 [==============================] - 68s 73ms/step - loss: 0.3897 - accuracy: 0.8550 - val_loss: 0.4189 - val_accuracy: 0.8488\n",
            "Epoch 5/20\n",
            "938/938 [==============================] - 68s 73ms/step - loss: 0.3692 - accuracy: 0.8633 - val_loss: 0.4046 - val_accuracy: 0.8558\n",
            "Epoch 6/20\n",
            "938/938 [==============================] - 68s 73ms/step - loss: 0.3548 - accuracy: 0.8680 - val_loss: 0.4057 - val_accuracy: 0.8548\n",
            "Epoch 7/20\n",
            "938/938 [==============================] - 68s 73ms/step - loss: 0.3390 - accuracy: 0.8735 - val_loss: 0.3957 - val_accuracy: 0.8574\n",
            "Epoch 8/20\n",
            "938/938 [==============================] - 68s 73ms/step - loss: 0.3234 - accuracy: 0.8785 - val_loss: 0.3957 - val_accuracy: 0.8572\n",
            "Epoch 9/20\n",
            "938/938 [==============================] - 68s 73ms/step - loss: 0.3095 - accuracy: 0.8850 - val_loss: 0.3833 - val_accuracy: 0.8644\n",
            "Epoch 10/20\n",
            "938/938 [==============================] - 68s 73ms/step - loss: 0.2989 - accuracy: 0.8885 - val_loss: 0.4076 - val_accuracy: 0.8566\n",
            "Epoch 11/20\n",
            "938/938 [==============================] - 68s 73ms/step - loss: 0.2902 - accuracy: 0.8920 - val_loss: 0.3852 - val_accuracy: 0.8642\n",
            "Epoch 12/20\n",
            "938/938 [==============================] - 68s 73ms/step - loss: 0.2796 - accuracy: 0.8954 - val_loss: 0.3843 - val_accuracy: 0.8618\n",
            "Epoch 13/20\n",
            "938/938 [==============================] - 68s 73ms/step - loss: 0.2709 - accuracy: 0.8989 - val_loss: 0.3943 - val_accuracy: 0.8670\n",
            "Epoch 14/20\n",
            "938/938 [==============================] - 68s 73ms/step - loss: 0.2617 - accuracy: 0.9019 - val_loss: 0.3805 - val_accuracy: 0.8700\n",
            "Epoch 15/20\n",
            "938/938 [==============================] - 68s 73ms/step - loss: 0.2520 - accuracy: 0.9046 - val_loss: 0.3963 - val_accuracy: 0.8666\n",
            "Epoch 16/20\n",
            "938/938 [==============================] - 68s 73ms/step - loss: 0.2449 - accuracy: 0.9079 - val_loss: 0.3976 - val_accuracy: 0.8684\n",
            "Epoch 17/20\n",
            "938/938 [==============================] - 68s 73ms/step - loss: 0.2378 - accuracy: 0.9107 - val_loss: 0.3977 - val_accuracy: 0.8712\n",
            "Epoch 18/20\n",
            "938/938 [==============================] - 68s 73ms/step - loss: 0.2300 - accuracy: 0.9137 - val_loss: 0.4040 - val_accuracy: 0.8634\n",
            "Epoch 19/20\n",
            "938/938 [==============================] - 68s 73ms/step - loss: 0.2213 - accuracy: 0.9167 - val_loss: 0.3939 - val_accuracy: 0.8692\n",
            "Epoch 20/20\n",
            "938/938 [==============================] - 68s 73ms/step - loss: 0.2158 - accuracy: 0.9194 - val_loss: 0.4103 - val_accuracy: 0.8654\n",
            "79/79 - 5s - loss: 0.4190 - accuracy: 0.8652 - 5s/epoch - 63ms/step\n"
          ]
        },
        {
          "output_type": "execute_result",
          "data": {
            "text/plain": [
              "[0.41897886991500854, 0.8651999831199646]"
            ]
          },
          "metadata": {},
          "execution_count": 9
        }
      ]
    },
    {
      "cell_type": "code",
      "source": [
        "# test loss: 0.418, test accuracy: 0.865"
      ],
      "metadata": {
        "id": "QI-34xXbBRBJ"
      },
      "execution_count": null,
      "outputs": []
    },
    {
      "cell_type": "code",
      "source": [
        ""
      ],
      "metadata": {
        "id": "E9edcvSiQ_1-"
      },
      "execution_count": null,
      "outputs": []
    },
    {
      "cell_type": "code",
      "source": [
        ""
      ],
      "metadata": {
        "id": "3mYHBruFQ_tJ"
      },
      "execution_count": null,
      "outputs": []
    }
  ]
}